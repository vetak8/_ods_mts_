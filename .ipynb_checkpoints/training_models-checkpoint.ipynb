{
 "cells": [
  {
   "cell_type": "code",
   "execution_count": 1,
   "id": "094ff4e4",
   "metadata": {},
   "outputs": [],
   "source": [
    "from sklearn.model_selection import KFold\n",
    "from sklearn.linear_model import LogisticRegression\n",
    "from sklearn.ensemble import RandomForestClassifier\n",
    "from sklearn.metrics import roc_auc_score\n",
    "from scipy.sparse import coo_matrix\n",
    "import pandas as pd\n",
    "import scipy.sparse as sp\n",
    "import numpy as np\n",
    "from tqdm import tqdm\n",
    "\n",
    "import warnings\n",
    "warnings.simplefilter('ignore', FutureWarning)\n",
    "\n",
    "from sklearn.model_selection import train_test_split, cross_val_score\n",
    "from sklearn.model_selection import KFold\n",
    "from sklearn.metrics import accuracy_score\n",
    "\n",
    "import sklearn.metrics as m\n",
    "import matplotlib.pyplot as plt\n",
    "from sklearn.preprocessing import StandardScaler, FunctionTransformer\n",
    "from sklearn.pipeline import Pipeline\n",
    "\n",
    "from catboost import CatBoostClassifier, Pool\n",
    "from lightgbm import LGBMClassifier\n",
    "from xgboost import XGBClassifier\n",
    "import bisect\n",
    "from sklearn.naive_bayes import GaussianNB\n",
    "\n",
    "import warnings\n",
    "warnings.filterwarnings('ignore')"
   ]
  },
  {
   "cell_type": "code",
   "execution_count": 2,
   "id": "e3d87647",
   "metadata": {},
   "outputs": [],
   "source": [
    "def reduce_mem_usage(df):\n",
    "    \n",
    "    \"\"\" iterate through all the columns of a dataframe and modify the data type\n",
    "        to reduce memory usage.\n",
    "    \"\"\"\n",
    "    start_mem = df.memory_usage().sum() / 1024**2\n",
    "    print('Memory usage of dataframe is {:.2f} MB'.format(start_mem))\n",
    "\n",
    "    for col in df.columns:    \n",
    "        \n",
    "        \n",
    "        col_type = df[col].dtype.name\n",
    "\n",
    "        if col_type not in ['object', 'category', 'datetime64[ns]']:\n",
    "                \n",
    "                \n",
    "                \n",
    "            c_min = df[col].min()\n",
    "            c_max = df[col].max()\n",
    "            if str(col_type)[:3] == 'int':\n",
    "                    \n",
    "                if c_min > np.iinfo(np.int8).min and c_max < np.iinfo(np.int8).max:\n",
    "                        \n",
    "                    df[col] = df[col].astype(np.int16)\n",
    "                elif c_min > np.iinfo(np.int16).min and c_max < np.iinfo(np.int16).max:\n",
    "                    df[col] = df[col].astype(np.int16)\n",
    "                elif c_min > np.iinfo(np.int32).min and c_max < np.iinfo(np.int32).max:\n",
    "                    df[col] = df[col].astype(np.int32)\n",
    "                elif c_min > np.iinfo(np.int64).min and c_max < np.iinfo(np.int64).max:\n",
    "                    df[col] = df[col].astype(np.int64)\n",
    "            else:\n",
    "                if c_min > np.finfo(np.float16).min and c_max < np.finfo(np.float16).max:\n",
    "                    df[col] = df[col].astype(np.float16)\n",
    "                elif c_min > np.finfo(np.float32).min and c_max < np.finfo(np.float32).max:\n",
    "                    df[col] = df[col].astype(np.float32)\n",
    "                else:\n",
    "                    df[col] = df[col].astype(np.float64)\n",
    "\n",
    "    end_mem = df.memory_usage().sum() / 1024**2\n",
    "    print('Memory usage after optimization is: {:.2f} MB'.format(end_mem))\n",
    "    print('Decreased by {:.1f}%'.format(100 * (start_mem - end_mem) / start_mem))\n",
    "\n",
    "    return df #= reduce_mem_usage(df)\n",
    "\n",
    "def age_bucket(x):\n",
    "    return bisect.bisect_left([18,25,35,45,55,65], x, lo=1)\n"
   ]
  },
  {
   "cell_type": "code",
   "execution_count": 3,
   "id": "2334ff9b",
   "metadata": {},
   "outputs": [
    {
     "name": "stdout",
     "output_type": "stream",
     "text": [
      "Memory usage of dataframe is 933.15 MB\n",
      "Memory usage after optimization is: 236.89 MB\n",
      "Decreased by 74.6%\n"
     ]
    }
   ],
   "source": [
    "train = reduce_mem_usage(pd.read_csv('E:/mts/train.csv')\\\n",
    ".merge(pd.read_feather('E:/mts/user_emb_host.feather'), how='inner', on='user_id')\\\n",
    ".sort_values(by='user_id'))\n",
    "\n",
    "train.index = train['user_id'] \n",
    "train.drop('user_id', axis=1, inplace=True)"
   ]
  },
  {
   "cell_type": "code",
   "execution_count": 4,
   "id": "9506aa59",
   "metadata": {},
   "outputs": [],
   "source": [
    "train_tf_idf = sp.load_npz('E:/mts/tf_idf_train.npz')\n",
    "train_tf_idf = np.array([train_tf_idf.getrow(i).toarray()[0] for i in range(train_tf_idf.shape[0])])\n",
    "\n",
    "train_tf_idf_1 = sp.load_npz('E:/mts/tf_idf_train_1.npz')\n",
    "train_tf_idf_1 = np.array([train_tf_idf_1.getrow(i).toarray()[0] for i in range(train_tf_idf_1.shape[0])])\n",
    "\n",
    "train_tf_idf_2 = sp.load_npz('E:/mts/tf_idf_train_2.npz')\n",
    "train_tf_idf_2 = np.array([train_tf_idf_2.getrow(i).toarray()[0] for i in range(train_tf_idf_2.shape[0])])\n",
    "\n",
    "train_tf_idf_3 = sp.load_npz('E:/mts/tf_idf_train_3.npz')\n",
    "train_tf_idf_3 = np.array([train_tf_idf_3.getrow(i).toarray()[0] for i in range(train_tf_idf_3.shape[0])])\n",
    "\n",
    "train_tf_idf_4 = sp.load_npz('E:/mts/tf_idf_train_4.npz')\n",
    "train_tf_idf_4 = np.array([train_tf_idf_4.getrow(i).toarray()[0] for i in range(train_tf_idf_4.shape[0])])\n"
   ]
  },
  {
   "cell_type": "code",
   "execution_count": 5,
   "id": "03eeb081",
   "metadata": {},
   "outputs": [],
   "source": [
    "train_tf_idf_date = sp.load_npz('E:/mts/date_tf_idf_train.npz')\n",
    "train_tf_idf_date = np.array([train_tf_idf_date.getrow(i).toarray()[0] for i in range(train_tf_idf_date.shape[0])])"
   ]
  },
  {
   "cell_type": "code",
   "execution_count": 6,
   "id": "7d86c8cb",
   "metadata": {},
   "outputs": [],
   "source": [
    "train_tf_idf = pd.DataFrame(train_tf_idf)\n",
    "train_tf_idf.index = train.index\n",
    "\n",
    "train_tf_idf_1 = pd.DataFrame(train_tf_idf_1)\n",
    "train_tf_idf_1.index = train.index\n",
    "\n",
    "train_tf_idf_2 = pd.DataFrame(train_tf_idf_2)\n",
    "train_tf_idf_2.index = train.index\n",
    "\n",
    "train_tf_idf_3 = pd.DataFrame(train_tf_idf_3)\n",
    "train_tf_idf_3.index = train.index\n",
    "\n",
    "train_tf_idf_4 = pd.DataFrame(train_tf_idf_4)\n",
    "train_tf_idf_4.index = train.index\n",
    "\n",
    "train_tf_idf_date = pd.DataFrame(train_tf_idf_date)\n",
    "train_tf_idf_date.index = train.index"
   ]
  },
  {
   "cell_type": "code",
   "execution_count": 7,
   "id": "b5970070",
   "metadata": {},
   "outputs": [],
   "source": [
    "train = pd.concat([train, train_tf_idf, train_tf_idf_1, train_tf_idf_2, train_tf_idf_3, train_tf_idf_4, train_tf_idf_date], axis=1)\n",
    "del train_tf_idf, train_tf_idf_1, train_tf_idf_2, train_tf_idf_3, train_tf_idf_4, train_tf_idf_date"
   ]
  },
  {
   "cell_type": "code",
   "execution_count": 8,
   "id": "55fd1d5c",
   "metadata": {},
   "outputs": [],
   "source": [
    "train.columns = list(map(str, train.columns))\n",
    "train.columns = [f'{col}_{i}' if train.columns.tolist().count(col) > 1 else col for i, col in enumerate(train.columns)]\n"
   ]
  },
  {
   "cell_type": "code",
   "execution_count": 9,
   "id": "0b8d287a",
   "metadata": {},
   "outputs": [
    {
     "data": {
      "text/html": [
       "<div>\n",
       "<style scoped>\n",
       "    .dataframe tbody tr th:only-of-type {\n",
       "        vertical-align: middle;\n",
       "    }\n",
       "\n",
       "    .dataframe tbody tr th {\n",
       "        vertical-align: top;\n",
       "    }\n",
       "\n",
       "    .dataframe thead th {\n",
       "        text-align: right;\n",
       "    }\n",
       "</style>\n",
       "<table border=\"1\" class=\"dataframe\">\n",
       "  <thead>\n",
       "    <tr style=\"text-align: right;\">\n",
       "      <th></th>\n",
       "      <th>age</th>\n",
       "      <th>is_male</th>\n",
       "      <th>days_first_to_last_visit</th>\n",
       "      <th>first_last_0</th>\n",
       "      <th>first_last_1</th>\n",
       "      <th>first_last_2</th>\n",
       "      <th>first_last_3</th>\n",
       "      <th>first_last_4</th>\n",
       "      <th>first_last_5</th>\n",
       "      <th>mean_using_internet</th>\n",
       "      <th>...</th>\n",
       "      <th>0_4175</th>\n",
       "      <th>1_4176</th>\n",
       "      <th>2_4177</th>\n",
       "      <th>3_4178</th>\n",
       "      <th>4_4179</th>\n",
       "      <th>5_4180</th>\n",
       "      <th>6_4181</th>\n",
       "      <th>7_4182</th>\n",
       "      <th>8_4183</th>\n",
       "      <th>9_4184</th>\n",
       "    </tr>\n",
       "    <tr>\n",
       "      <th>user_id</th>\n",
       "      <th></th>\n",
       "      <th></th>\n",
       "      <th></th>\n",
       "      <th></th>\n",
       "      <th></th>\n",
       "      <th></th>\n",
       "      <th></th>\n",
       "      <th></th>\n",
       "      <th></th>\n",
       "      <th></th>\n",
       "      <th></th>\n",
       "      <th></th>\n",
       "      <th></th>\n",
       "      <th></th>\n",
       "      <th></th>\n",
       "      <th></th>\n",
       "      <th></th>\n",
       "      <th></th>\n",
       "      <th></th>\n",
       "      <th></th>\n",
       "      <th></th>\n",
       "    </tr>\n",
       "  </thead>\n",
       "  <tbody>\n",
       "    <tr>\n",
       "      <th>0</th>\n",
       "      <td>35.0</td>\n",
       "      <td>0.0</td>\n",
       "      <td>18</td>\n",
       "      <td>0</td>\n",
       "      <td>1</td>\n",
       "      <td>0</td>\n",
       "      <td>0</td>\n",
       "      <td>0</td>\n",
       "      <td>0</td>\n",
       "      <td>3.294922</td>\n",
       "      <td>...</td>\n",
       "      <td>0.386656</td>\n",
       "      <td>0.377462</td>\n",
       "      <td>0.363680</td>\n",
       "      <td>0.346869</td>\n",
       "      <td>0.328177</td>\n",
       "      <td>0.307818</td>\n",
       "      <td>0.286075</td>\n",
       "      <td>0.262906</td>\n",
       "      <td>0.238379</td>\n",
       "      <td>0.212613</td>\n",
       "    </tr>\n",
       "    <tr>\n",
       "      <th>1</th>\n",
       "      <td>41.0</td>\n",
       "      <td>0.0</td>\n",
       "      <td>20</td>\n",
       "      <td>0</td>\n",
       "      <td>1</td>\n",
       "      <td>0</td>\n",
       "      <td>0</td>\n",
       "      <td>0</td>\n",
       "      <td>0</td>\n",
       "      <td>3.283203</td>\n",
       "      <td>...</td>\n",
       "      <td>0.371811</td>\n",
       "      <td>0.365659</td>\n",
       "      <td>0.355268</td>\n",
       "      <td>0.342105</td>\n",
       "      <td>0.327265</td>\n",
       "      <td>0.310950</td>\n",
       "      <td>0.293431</td>\n",
       "      <td>0.274661</td>\n",
       "      <td>0.254697</td>\n",
       "      <td>0.233658</td>\n",
       "    </tr>\n",
       "    <tr>\n",
       "      <th>2</th>\n",
       "      <td>25.0</td>\n",
       "      <td>0.0</td>\n",
       "      <td>57</td>\n",
       "      <td>0</td>\n",
       "      <td>0</td>\n",
       "      <td>0</td>\n",
       "      <td>1</td>\n",
       "      <td>0</td>\n",
       "      <td>0</td>\n",
       "      <td>3.330078</td>\n",
       "      <td>...</td>\n",
       "      <td>0.307015</td>\n",
       "      <td>0.313171</td>\n",
       "      <td>0.316554</td>\n",
       "      <td>0.318228</td>\n",
       "      <td>0.319079</td>\n",
       "      <td>0.319236</td>\n",
       "      <td>0.318938</td>\n",
       "      <td>0.318102</td>\n",
       "      <td>0.316753</td>\n",
       "      <td>0.315000</td>\n",
       "    </tr>\n",
       "    <tr>\n",
       "      <th>3</th>\n",
       "      <td>50.0</td>\n",
       "      <td>1.0</td>\n",
       "      <td>16</td>\n",
       "      <td>0</td>\n",
       "      <td>1</td>\n",
       "      <td>0</td>\n",
       "      <td>0</td>\n",
       "      <td>0</td>\n",
       "      <td>0</td>\n",
       "      <td>3.312500</td>\n",
       "      <td>...</td>\n",
       "      <td>0.406636</td>\n",
       "      <td>0.393187</td>\n",
       "      <td>0.374667</td>\n",
       "      <td>0.352767</td>\n",
       "      <td>0.328700</td>\n",
       "      <td>0.302703</td>\n",
       "      <td>0.275070</td>\n",
       "      <td>0.245770</td>\n",
       "      <td>0.214883</td>\n",
       "      <td>0.182530</td>\n",
       "    </tr>\n",
       "    <tr>\n",
       "      <th>4</th>\n",
       "      <td>28.0</td>\n",
       "      <td>0.0</td>\n",
       "      <td>42</td>\n",
       "      <td>0</td>\n",
       "      <td>0</td>\n",
       "      <td>1</td>\n",
       "      <td>0</td>\n",
       "      <td>0</td>\n",
       "      <td>0</td>\n",
       "      <td>3.970703</td>\n",
       "      <td>...</td>\n",
       "      <td>0.365757</td>\n",
       "      <td>0.360819</td>\n",
       "      <td>0.351783</td>\n",
       "      <td>0.340077</td>\n",
       "      <td>0.326778</td>\n",
       "      <td>0.312079</td>\n",
       "      <td>0.296250</td>\n",
       "      <td>0.279238</td>\n",
       "      <td>0.261099</td>\n",
       "      <td>0.241951</td>\n",
       "    </tr>\n",
       "    <tr>\n",
       "      <th>...</th>\n",
       "      <td>...</td>\n",
       "      <td>...</td>\n",
       "      <td>...</td>\n",
       "      <td>...</td>\n",
       "      <td>...</td>\n",
       "      <td>...</td>\n",
       "      <td>...</td>\n",
       "      <td>...</td>\n",
       "      <td>...</td>\n",
       "      <td>...</td>\n",
       "      <td>...</td>\n",
       "      <td>...</td>\n",
       "      <td>...</td>\n",
       "      <td>...</td>\n",
       "      <td>...</td>\n",
       "      <td>...</td>\n",
       "      <td>...</td>\n",
       "      <td>...</td>\n",
       "      <td>...</td>\n",
       "      <td>...</td>\n",
       "      <td>...</td>\n",
       "    </tr>\n",
       "    <tr>\n",
       "      <th>415308</th>\n",
       "      <td>49.0</td>\n",
       "      <td>NaN</td>\n",
       "      <td>0</td>\n",
       "      <td>1</td>\n",
       "      <td>0</td>\n",
       "      <td>0</td>\n",
       "      <td>0</td>\n",
       "      <td>0</td>\n",
       "      <td>0</td>\n",
       "      <td>3.316406</td>\n",
       "      <td>...</td>\n",
       "      <td>0.000000</td>\n",
       "      <td>0.000000</td>\n",
       "      <td>0.000000</td>\n",
       "      <td>0.000000</td>\n",
       "      <td>0.000000</td>\n",
       "      <td>0.000000</td>\n",
       "      <td>0.000000</td>\n",
       "      <td>0.000000</td>\n",
       "      <td>0.000000</td>\n",
       "      <td>0.000000</td>\n",
       "    </tr>\n",
       "    <tr>\n",
       "      <th>415309</th>\n",
       "      <td>31.0</td>\n",
       "      <td>0.0</td>\n",
       "      <td>0</td>\n",
       "      <td>1</td>\n",
       "      <td>0</td>\n",
       "      <td>0</td>\n",
       "      <td>0</td>\n",
       "      <td>0</td>\n",
       "      <td>0</td>\n",
       "      <td>3.316406</td>\n",
       "      <td>...</td>\n",
       "      <td>0.000000</td>\n",
       "      <td>0.000000</td>\n",
       "      <td>0.000000</td>\n",
       "      <td>0.000000</td>\n",
       "      <td>0.000000</td>\n",
       "      <td>0.000000</td>\n",
       "      <td>0.000000</td>\n",
       "      <td>0.000000</td>\n",
       "      <td>0.000000</td>\n",
       "      <td>0.000000</td>\n",
       "    </tr>\n",
       "    <tr>\n",
       "      <th>415311</th>\n",
       "      <td>39.0</td>\n",
       "      <td>0.0</td>\n",
       "      <td>0</td>\n",
       "      <td>1</td>\n",
       "      <td>0</td>\n",
       "      <td>0</td>\n",
       "      <td>0</td>\n",
       "      <td>0</td>\n",
       "      <td>0</td>\n",
       "      <td>3.316406</td>\n",
       "      <td>...</td>\n",
       "      <td>0.000000</td>\n",
       "      <td>0.000000</td>\n",
       "      <td>0.000000</td>\n",
       "      <td>0.000000</td>\n",
       "      <td>0.000000</td>\n",
       "      <td>0.000000</td>\n",
       "      <td>0.000000</td>\n",
       "      <td>0.000000</td>\n",
       "      <td>0.000000</td>\n",
       "      <td>0.000000</td>\n",
       "    </tr>\n",
       "    <tr>\n",
       "      <th>415312</th>\n",
       "      <td>44.0</td>\n",
       "      <td>1.0</td>\n",
       "      <td>0</td>\n",
       "      <td>1</td>\n",
       "      <td>0</td>\n",
       "      <td>0</td>\n",
       "      <td>0</td>\n",
       "      <td>0</td>\n",
       "      <td>0</td>\n",
       "      <td>3.316406</td>\n",
       "      <td>...</td>\n",
       "      <td>0.000000</td>\n",
       "      <td>0.000000</td>\n",
       "      <td>0.000000</td>\n",
       "      <td>0.000000</td>\n",
       "      <td>0.000000</td>\n",
       "      <td>0.000000</td>\n",
       "      <td>0.000000</td>\n",
       "      <td>0.000000</td>\n",
       "      <td>0.000000</td>\n",
       "      <td>0.000000</td>\n",
       "    </tr>\n",
       "    <tr>\n",
       "      <th>415313</th>\n",
       "      <td>62.0</td>\n",
       "      <td>0.0</td>\n",
       "      <td>0</td>\n",
       "      <td>1</td>\n",
       "      <td>0</td>\n",
       "      <td>0</td>\n",
       "      <td>0</td>\n",
       "      <td>0</td>\n",
       "      <td>0</td>\n",
       "      <td>3.316406</td>\n",
       "      <td>...</td>\n",
       "      <td>0.000000</td>\n",
       "      <td>0.000000</td>\n",
       "      <td>0.000000</td>\n",
       "      <td>0.000000</td>\n",
       "      <td>0.000000</td>\n",
       "      <td>0.000000</td>\n",
       "      <td>0.000000</td>\n",
       "      <td>0.000000</td>\n",
       "      <td>0.000000</td>\n",
       "      <td>0.000000</td>\n",
       "    </tr>\n",
       "  </tbody>\n",
       "</table>\n",
       "<p>270000 rows × 4185 columns</p>\n",
       "</div>"
      ],
      "text/plain": [
       "          age  is_male  days_first_to_last_visit  first_last_0  first_last_1  \\\n",
       "user_id                                                                        \n",
       "0        35.0      0.0                        18             0             1   \n",
       "1        41.0      0.0                        20             0             1   \n",
       "2        25.0      0.0                        57             0             0   \n",
       "3        50.0      1.0                        16             0             1   \n",
       "4        28.0      0.0                        42             0             0   \n",
       "...       ...      ...                       ...           ...           ...   \n",
       "415308   49.0      NaN                         0             1             0   \n",
       "415309   31.0      0.0                         0             1             0   \n",
       "415311   39.0      0.0                         0             1             0   \n",
       "415312   44.0      1.0                         0             1             0   \n",
       "415313   62.0      0.0                         0             1             0   \n",
       "\n",
       "         first_last_2  first_last_3  first_last_4  first_last_5  \\\n",
       "user_id                                                           \n",
       "0                   0             0             0             0   \n",
       "1                   0             0             0             0   \n",
       "2                   0             1             0             0   \n",
       "3                   0             0             0             0   \n",
       "4                   1             0             0             0   \n",
       "...               ...           ...           ...           ...   \n",
       "415308              0             0             0             0   \n",
       "415309              0             0             0             0   \n",
       "415311              0             0             0             0   \n",
       "415312              0             0             0             0   \n",
       "415313              0             0             0             0   \n",
       "\n",
       "         mean_using_internet  ...    0_4175    1_4176    2_4177    3_4178  \\\n",
       "user_id                       ...                                           \n",
       "0                   3.294922  ...  0.386656  0.377462  0.363680  0.346869   \n",
       "1                   3.283203  ...  0.371811  0.365659  0.355268  0.342105   \n",
       "2                   3.330078  ...  0.307015  0.313171  0.316554  0.318228   \n",
       "3                   3.312500  ...  0.406636  0.393187  0.374667  0.352767   \n",
       "4                   3.970703  ...  0.365757  0.360819  0.351783  0.340077   \n",
       "...                      ...  ...       ...       ...       ...       ...   \n",
       "415308              3.316406  ...  0.000000  0.000000  0.000000  0.000000   \n",
       "415309              3.316406  ...  0.000000  0.000000  0.000000  0.000000   \n",
       "415311              3.316406  ...  0.000000  0.000000  0.000000  0.000000   \n",
       "415312              3.316406  ...  0.000000  0.000000  0.000000  0.000000   \n",
       "415313              3.316406  ...  0.000000  0.000000  0.000000  0.000000   \n",
       "\n",
       "           4_4179    5_4180    6_4181    7_4182    8_4183    9_4184  \n",
       "user_id                                                              \n",
       "0        0.328177  0.307818  0.286075  0.262906  0.238379  0.212613  \n",
       "1        0.327265  0.310950  0.293431  0.274661  0.254697  0.233658  \n",
       "2        0.319079  0.319236  0.318938  0.318102  0.316753  0.315000  \n",
       "3        0.328700  0.302703  0.275070  0.245770  0.214883  0.182530  \n",
       "4        0.326778  0.312079  0.296250  0.279238  0.261099  0.241951  \n",
       "...           ...       ...       ...       ...       ...       ...  \n",
       "415308   0.000000  0.000000  0.000000  0.000000  0.000000  0.000000  \n",
       "415309   0.000000  0.000000  0.000000  0.000000  0.000000  0.000000  \n",
       "415311   0.000000  0.000000  0.000000  0.000000  0.000000  0.000000  \n",
       "415312   0.000000  0.000000  0.000000  0.000000  0.000000  0.000000  \n",
       "415313   0.000000  0.000000  0.000000  0.000000  0.000000  0.000000  \n",
       "\n",
       "[270000 rows x 4185 columns]"
      ]
     },
     "execution_count": 9,
     "metadata": {},
     "output_type": "execute_result"
    }
   ],
   "source": [
    "train"
   ]
  },
  {
   "cell_type": "code",
   "execution_count": 10,
   "id": "b30b031c",
   "metadata": {},
   "outputs": [
    {
     "ename": "NameError",
     "evalue": "name 'asdasd' is not defined",
     "output_type": "error",
     "traceback": [
      "\u001b[1;31m---------------------------------------------------------------------------\u001b[0m",
      "\u001b[1;31mNameError\u001b[0m                                 Traceback (most recent call last)",
      "Cell \u001b[1;32mIn[10], line 1\u001b[0m\n\u001b[1;32m----> 1\u001b[0m \u001b[43masdasd\u001b[49m\n",
      "\u001b[1;31mNameError\u001b[0m: name 'asdasd' is not defined"
     ]
    }
   ],
   "source": [
    "asdasd"
   ]
  },
  {
   "cell_type": "markdown",
   "id": "a3503ab8",
   "metadata": {},
   "source": [
    "# SEX"
   ]
  },
  {
   "cell_type": "code",
   "execution_count": 10,
   "id": "ccae6413",
   "metadata": {},
   "outputs": [],
   "source": [
    "train_sex = train[train['is_male'] != 'NA'].dropna()\n",
    "train_sex['is_male'] = train_sex['is_male'].astype('int')\n",
    "X_sex = train_sex.drop(['age', 'is_male'], axis = 1)\n",
    "y_sex = train_sex['is_male']\n",
    "\n"
   ]
  },
  {
   "cell_type": "code",
   "execution_count": 11,
   "id": "05ec6548",
   "metadata": {},
   "outputs": [],
   "source": [
    "x_train, x_val, y_train, y_val = train_test_split(\\\n",
    "    X_sex, y_sex, test_size = 0.2, random_state = 350)"
   ]
  },
  {
   "cell_type": "markdown",
   "id": "e01d6a3a",
   "metadata": {},
   "source": [
    "# Фильтранем признаки"
   ]
  },
  {
   "cell_type": "code",
   "execution_count": 12,
   "id": "7690e0d7",
   "metadata": {},
   "outputs": [
    {
     "data": {
      "application/vnd.jupyter.widget-view+json": {
       "model_id": "5a1173ee97d84e0c9ed9a9da194f4996",
       "version_major": 2,
       "version_minor": 0
      },
      "text/plain": [
       "MetricVisualizer(layout=Layout(align_self='stretch', height='500px'))"
      ]
     },
     "metadata": {},
     "output_type": "display_data"
    },
    {
     "name": "stdout",
     "output_type": "stream",
     "text": [
      "GINI по полу 0.702\n",
      "CPU times: total: 3min 22s\n",
      "Wall time: 1min 24s\n"
     ]
    }
   ],
   "source": [
    "%%time\n",
    "\n",
    "clf_sex = CatBoostClassifier(\n",
    "    custom_loss=['AUC', 'Accuracy'],\n",
    "    task_type='GPU', \n",
    "    devices='0:1',\n",
    "    random_seed=350,\n",
    ")\n",
    "clf_sex.fit(\n",
    "    x_train, \n",
    "    y_train,\n",
    "    verbose = False,\n",
    "    plot=True,\n",
    "    eval_set=(x_val, y_val),\n",
    "       )\n",
    "print(f'GINI по полу {2 * m.roc_auc_score(y_val, clf_sex.predict_proba(x_val)[:,1]) - 1:2.3f}')"
   ]
  },
  {
   "cell_type": "code",
   "execution_count": 13,
   "id": "c1885e2d",
   "metadata": {},
   "outputs": [
    {
     "name": "stdout",
     "output_type": "stream",
     "text": [
      "              precision    recall  f1-score   support\n",
      "\n",
      "           0       0.76      0.76      0.76     25779\n",
      "           1       0.77      0.77      0.77     27074\n",
      "\n",
      "    accuracy                           0.76     52853\n",
      "   macro avg       0.76      0.76      0.76     52853\n",
      "weighted avg       0.76      0.76      0.76     52853\n",
      "\n"
     ]
    }
   ],
   "source": [
    "print(m.classification_report(y_val, clf_sex.predict(x_val)))"
   ]
  },
  {
   "cell_type": "code",
   "execution_count": 14,
   "id": "766f2ecd",
   "metadata": {},
   "outputs": [
    {
     "data": {
      "image/png": "[encoded data removed]",
      "text/plain": [
       "<Figure size 4000x1000 with 1 Axes>"
      ]
     },
     "metadata": {},
     "output_type": "display_data"
    }
   ],
   "source": [
    "plt.figure(figsize=(40, 10))\n",
    "plt.bar(train.columns[2:],clf_sex.feature_importances_)\n",
    "plt.xticks(rotation=90);"
   ]
  },
  {
   "cell_type": "code",
   "execution_count": 15,
   "id": "969d3e56",
   "metadata": {},
   "outputs": [
    {
     "name": "stdout",
     "output_type": "stream",
     "text": [
      "Кол-во беспонтовых фичей: 3352\n"
     ]
    }
   ],
   "source": [
    "print(f'Кол-во беспонтовых фичей: {len(np.where(clf_sex.feature_importances_ == 0)[0])}')"
   ]
  },
  {
   "cell_type": "code",
   "execution_count": 16,
   "id": "aa1f2bb4",
   "metadata": {},
   "outputs": [],
   "source": [
    "importance = clf_sex.get_feature_importance(prettified=True)"
   ]
  },
  {
   "cell_type": "code",
   "execution_count": 20,
   "id": "1d453306",
   "metadata": {},
   "outputs": [
    {
     "data": {
      "text/html": [
       "<div>\n",
       "<style scoped>\n",
       "    .dataframe tbody tr th:only-of-type {\n",
       "        vertical-align: middle;\n",
       "    }\n",
       "\n",
       "    .dataframe tbody tr th {\n",
       "        vertical-align: top;\n",
       "    }\n",
       "\n",
       "    .dataframe thead th {\n",
       "        text-align: right;\n",
       "    }\n",
       "</style>\n",
       "<table border=\"1\" class=\"dataframe\">\n",
       "  <thead>\n",
       "    <tr style=\"text-align: right;\">\n",
       "      <th></th>\n",
       "      <th>Feature Id</th>\n",
       "      <th>Importances</th>\n",
       "    </tr>\n",
       "  </thead>\n",
       "  <tbody>\n",
       "    <tr>\n",
       "      <th>0</th>\n",
       "      <td>23_x</td>\n",
       "      <td>9.380806</td>\n",
       "    </tr>\n",
       "    <tr>\n",
       "      <th>1</th>\n",
       "      <td>369_3820</td>\n",
       "      <td>5.188831</td>\n",
       "    </tr>\n",
       "    <tr>\n",
       "      <th>2</th>\n",
       "      <td>647</td>\n",
       "      <td>4.117150</td>\n",
       "    </tr>\n",
       "    <tr>\n",
       "      <th>3</th>\n",
       "      <td>584</td>\n",
       "      <td>3.560249</td>\n",
       "    </tr>\n",
       "    <tr>\n",
       "      <th>4</th>\n",
       "      <td>226_3677</td>\n",
       "      <td>3.055506</td>\n",
       "    </tr>\n",
       "    <tr>\n",
       "      <th>...</th>\n",
       "      <td>...</td>\n",
       "      <td>...</td>\n",
       "    </tr>\n",
       "    <tr>\n",
       "      <th>4178</th>\n",
       "      <td>5_4180</td>\n",
       "      <td>0.000000</td>\n",
       "    </tr>\n",
       "    <tr>\n",
       "      <th>4179</th>\n",
       "      <td>6_4181</td>\n",
       "      <td>0.000000</td>\n",
       "    </tr>\n",
       "    <tr>\n",
       "      <th>4180</th>\n",
       "      <td>7_4182</td>\n",
       "      <td>0.000000</td>\n",
       "    </tr>\n",
       "    <tr>\n",
       "      <th>4181</th>\n",
       "      <td>8_4183</td>\n",
       "      <td>0.000000</td>\n",
       "    </tr>\n",
       "    <tr>\n",
       "      <th>4182</th>\n",
       "      <td>9_4184</td>\n",
       "      <td>0.000000</td>\n",
       "    </tr>\n",
       "  </tbody>\n",
       "</table>\n",
       "<p>4183 rows × 2 columns</p>\n",
       "</div>"
      ],
      "text/plain": [
       "     Feature Id  Importances\n",
       "0          23_x     9.380806\n",
       "1      369_3820     5.188831\n",
       "2           647     4.117150\n",
       "3           584     3.560249\n",
       "4      226_3677     3.055506\n",
       "...         ...          ...\n",
       "4178     5_4180     0.000000\n",
       "4179     6_4181     0.000000\n",
       "4180     7_4182     0.000000\n",
       "4181     8_4183     0.000000\n",
       "4182     9_4184     0.000000\n",
       "\n",
       "[4183 rows x 2 columns]"
      ]
     },
     "execution_count": 20,
     "metadata": {},
     "output_type": "execute_result"
    }
   ],
   "source": [
    "importance"
   ]
  },
  {
   "cell_type": "code",
   "execution_count": 17,
   "id": "73392292",
   "metadata": {},
   "outputs": [],
   "source": [
    "low_importance_features = [row['Feature Id'] for _, row in importance.iterrows() if row['Importances'] == 0]"
   ]
  },
  {
   "cell_type": "code",
   "execution_count": 18,
   "id": "787732f6",
   "metadata": {},
   "outputs": [],
   "source": [
    "X_sex = X_sex.drop(low_importance_features, axis=1)"
   ]
  },
  {
   "cell_type": "code",
   "execution_count": 19,
   "id": "d5d57318",
   "metadata": {},
   "outputs": [
    {
     "ename": "KeyError",
     "evalue": "\"['first_last_0', 'first_last_1', 'first_last_2', 'first_last_3', 'first_last_4', 'first_last_5', '4_x_15', '5_x_16', '9_x_20', '22_x', '26_x', '0_x_61', '1_x_62', '2_x_63', '4_x_65', '5_x_66', '8_x_69', '9_x_70', '15_y_76', '20_y', '26_y', '2_y_93', '3_y_94', '7_y_98', '10_x_101', '15_x_106', '18_x_109', '21_111', '24_114', '27_117', '3_123', '4_124', '11_y_132', '13_y_134', '15_y_136', '18_y_139', 'host_2', 'host_4', 'host_5', 'host_6', 'host_7', 'host_10', 'host_11', 'host_15', 'host_21', 'host_22', 'host_23', 'host_25', 'host_26', 'host_27', 'host_30', 'host_31', 'host_32', 'host_34', 'host_36', 'host_37', 'host_39', 'host_40', 'host_41', 'host_45', 'host_47', 'host_53', 'host_54', 'host_57', 'host_61', 'host_62', 'host_64', 'host_71', 'host_74', 'host_75', 'host_78', 'host_79', 'host_80', 'host_81', 'host_82', 'host_83', 'host_85', 'host_86', 'host_92', 'host_94', 'host_95', 'host_96', 'host_97', 'host_98', 'host_99', 'host_100', 'host_102', 'host_104', 'host_105', 'host_106', 'host_109', 'host_112', 'host_114', 'host_115', 'host_118', 'host_125', 'host_126', 'host_127', 'host_128', 'host_131', 'host_132', 'host_134', 'host_136', 'host_138', 'host_139', 'host_140', 'host_142', 'host_145', 'host_146', 'host_147', 'host_154', 'host_155', 'host_156', 'host_157', 'host_158', 'host_160', 'host_161', 'host_162', 'host_163', 'host_168', 'host_169', 'host_171', 'host_172', 'host_173', 'host_174', 'host_179', 'host_183', 'host_185', 'host_186', 'host_187', 'host_189', 'host_190', 'host_194', 'host_195', 'host_196', 'host_198', 'host_200', 'host_202', 'host_203', 'host_205', 'host_206', 'host_212', 'host_213', 'host_220', 'host_224', 'host_225', 'host_231', 'host_235', 'host_237', 'host_242', 'host_243', 'host_244', 'host_245', 'host_246', 'host_250', 'host_252', 'host_256', 'host_257', 'host_258', 'host_259', 'host_260', 'host_261', 'host_265', 'host_268', 'host_269', 'host_272', 'host_274', 'host_279', 'host_283', 'host_285', 'host_287', 'host_291', 'host_293', 'host_294', 'host_295', 'host_296', 'host_299', '1_452', '2_453', '3_454', '9_460', '10_461', '11_462', '12_463', '13_464', '14_465', '15_466', '16_467', '17_468', '18_469', '19_470', '20_471', '21_472', '22_473', '23_474', '25_476', '26_477', '27_478', '28_479', '29_480', '30_481', '31_482', '32_483', '33_484', '34_485', '35_486', '36_487', '37_488', '38_489', '39_490', '40_491', '41_492', '42_493', '43_494', '44_495', '45_496', '46_497', '47_498', '48_499', '49_500', '50_501', '51_502', '52_503', '53_504', '54_505', '55_506', '56_507', '57_508', '58_509', '59_510', '60_511', '62_513', '63_514', '64_515', '65_516', '66_517', '67_518', '68_519', '69_520', '70_521', '71_522', '72_523', '73_524', '74_525', '75_526', '76_527', '77_528', '78_529', '79_530', '80_531', '81_532', '82_533', '83_534', '84_535', '85_536', '86_537', '87_538', '88_539', '89_540', '90_541', '92_543', '93_544', '94_545', '95_546', '96_547', '97_548', '99_550', '100_551', '102_553', '104_555', '108_559', '109_560', '110_561', '111_562', '112_563', '113_564', '114_565', '115_566', '116_567', '117_568', '118_569', '119_570', '120_571', '121_572', '123_574', '125_576', '126_577', '127_578', '128_579', '129_580', '131_582', '132_583', '133_584', '134_585', '135_586', '136_587', '137_588', '138_589', '139_590', '140_591', '141_592', '143_594', '144_595', '145_596', '146_597', '147_598', '149_600', '150_601', '152_603', '154_605', '155_606', '156_607', '157_608', '158_609', '159_610', '161_612', '162_613', '164_615', '165_616', '166_617', '167_618', '168_619', '169_620', '170_621', '171_622', '172_623', '173_624', '174_625', '175_626', '176_627', '177_628', '178_629', '179_630', '180_631', '181_632', '182_633', '183_634', '184_635', '185_636', '186_637', '187_638', '188_639', '189_640', '190_641', '191_642', '192_643', '193_644', '194_645', '195_646', '196_647', '197_648', '198_649', '199_650', '201_652', '202_653', '203_654', '204_655', '205_656', '206_657', '207_658', '208_659', '209_660', '210_661', '211_662', '212_663', '213_664', '214_665', '215_666', '216_667', '217_668', '218_669', '219_670', '220_671', '221_672', '222_673', '223_674', '224_675', '225_676', '226_677', '227_678', '228_679', '229_680', '230_681', '231_682', '232_683', '234_685', '235_686', '236_687', '237_688', '238_689', '239_690', '240_691', '241_692', '242_693', '243_694', '244_695', '246_697', '247_698', '248_699', '249_700', '250_701', '251_702', '252_703', '253_704', '254_705', '255_706', '256_707', '257_708', '258_709', '259_710', '260_711', '261_712', '262_713', '263_714', '264_715', '265_716', '266_717', '267_718', '271_722', '274_725', '275_726', '276_727', '277_728', '279_730', '281_732', '282_733', '284_735', '285_736', '286_737', '287_738', '288_739', '289_740', '290_741', '291_742', '292_743', '293_744', '294_745', '295_746', '296_747', '297_748', '298_749', '300_751', '301_752', '302_753', '303_754', '304_755', '305_756', '306_757', '307_758', '309_760', '310_761', '311_762', '312_763', '313_764', '314_765', '315_766', '316_767', '317_768', '318_769', '320_771', '321_772', '322_773', '323_774', '324_775', '325_776', '327_778', '328_779', '329_780', '330_781', '331_782', '332_783', '333_784', '334_785', '335_786', '336_787', '337_788', '338_789', '339_790', '342_793', '343_794', '344_795', '345_796', '347_798', '348_799', '349_800', '350_801', '351_802', '353_804', '354_805', '355_806', '356_807', '357_808', '358_809', '360_811', '361_812', '362_813', '363_814', '364_815', '365_816', '366_817', '367_818', '368_819', '369_820', '370_821', '371_822', '372_823', '373_824', '374_825', '375_826', '376_827', '377_828', '378_829', '379_830', '380_831', '381_832', '382_833', '383_834', '384_835', '385_836', '386_837', '387_838', '388_839', '389_840', '391_842', '392_843', '393_844', '394_845', '395_846', '396_847', '397_848', '398_849', '399_850', '400_851', '401_852', '403_854', '405_856', '406_857', '407_858', '408_859', '409_860', '410_861', '411_862', '412_863', '413_864', '414_865', '415_866', '416_867', '417_868', '418_869', '419_870', '420_871', '421_872', '422_873', '423_874', '424_875', '425_876', '426_877', '427_878', '428_879', '429_880', '430_881', '431_882', '433_884', '434_885', '435_886', '436_887', '443_894', '444_895', '445_896', '446_897', '447_898', '448_899', '449_900', '450_901', '451_902', '452_903', '453_904', '454_905', '455_906', '456_907', '457_908', '459_910', '460_911', '461_912', '462_913', '463_914', '464_915', '465_916', '466_917', '467_918', '468_919', '469_920', '470_921', '471_922', '472_923', '473_924', '474_925', '475_926', '476_927', '477_928', '478_929', '479_930', '480_931', '481_932', '482_933', '484_935', '485_936', '486_937', '487_938', '488_939', '489_940', '490_941', '491_942', '492_943', '493_944', '494_945', '495_946', '496_947', '497_948', '498_949', '499_950', '500_951', '501_952', '502_953', '503_954', '504_955', '505_956', '506_957', '507_958', '508_959', '509_960', '510_961', '511_962', '512_963', '513_964', '514_965', '515_966', '516_967', '517_968', '518_969', '519_970', '520_971', '522_973', '523_974', '525_976', '526_977', '528_979', '529_980', '530_981', '531_982', '532_983', '533_984', '534_985', '535_986', '536_987', '537_988', '538_989', '539_990', '540_991', '542_993', '543_994', '544_995', '545_996', '546_997', '547_998', '548_999', '549_1000', '550_1001', '551_1002', '552_1003', '553_1004', '554_1005', '555_1006', '557', '558', '559', '560', '561', '562', '563', '564', '565', '566', '567', '568', '569', '570', '571', '572', '573', '574', '575', '576', '577', '578', '579', '580', '581', '582', '583', '585', '586', '588', '590', '592', '593', '595', '596', '597', '598', '599', '602', '604', '607', '608', '611', '612', '613', '615', '616', '617', '618', '619', '620', '621', '622', '623', '624', '625', '626', '627', '628', '629', '630', '631', '632', '633', '634', '642', '643', '644', '646', '648', '649', '650', '652', '653', '654', '655', '656', '657', '658', '659', '660', '661', '662', '663', '664', '666', '670', '671', '672', '674', '675', '676', '677', '678', '680', '681', '682', '683', '684', '685', '686', '687', '688', '689', '690', '691', '692', '693', '694', '695', '696', '697', '698', '699', '700', '701', '702', '703', '704', '705', '707', '709', '710', '711', '712', '716', '717', '719', '721', '722', '725', '726', '728', '729', '730', '731', '732', '733', '734', '735', '737', '739', '740', '741', '742', '743', '744', '745', '747', '748', '749', '750', '751', '752', '753', '754', '755', '756', '757', '758', '759', '760', '762', '763', '764', '765', '767', '768', '769', '770', '771', '772', '773', '774', '775', '776', '777', '778', '779', '780', '781', '782', '783', '785', '786', '787', '788', '789', '790', '791', '792', '793', '794', '795', '796', '797', '798', '799', '800', '801', '802', '803', '804', '805', '806', '807', '808', '810', '811', '812', '813', '814', '815', '817', '818', '819', '820', '821', '822', '823', '825', '826', '827', '828', '829', '830', '831', '832', '833', '834', '835', '836', '839', '840', '841', '842', '843', '844', '845', '846', '847', '848', '849', '850', '851', '852', '853', '854', '855', '856', '857', '858', '859', '860', '861', '862', '863', '864', '865', '866', '867', '868', '869', '870', '871', '872', '873', '874', '875', '876', '877', '878', '879', '880', '881', '882', '883', '884', '885', '886', '887', '888', '889', '890', '892', '893', '894', '895', '896', '897', '898', '899', '900', '901', '902', '903', '904', '905', '906', '907', '908', '909', '910', '911', '912', '913', '914', '915', '916', '917', '918', '919', '920', '921', '922', '923', '925', '926', '927', '928', '929', '930', '931', '932', '933', '934', '935', '936', '937', '938', '939', '940', '941', '942', '943', '944', '946', '947', '948', '949', '951', '952', '953', '955', '956', '957', '958', '959', '960', '961', '962', '963', '964', '965', '966', '967', '970', '971', '972', '973', '974', '975', '976', '977', '978', '979', '980', '981', '982', '983', '984', '985', '986', '987', '988', '989', '990', '991', '993', '994', '995', '996', '997', '998', '999', '1003', '1004', '1006', '1007', '1008', '1009', '1010', '1011', '1012', '1013', '1014', '1015', '1016', '1017', '1018', '1019', '1020', '1021', '1023', '1024', '1025', '1026', '1027', '1029', '1030', '1031', '1032', '1033', '1034', '1035', '1036', '1037', '1038', '1039', '1040', '1041', '1042', '1043', '1044', '1045', '1046', '1047', '1048', '1049', '1050', '1051', '1052', '1053', '1054', '1055', '1056', '1057', '1059', '1060', '1061', '1062', '1063', '1064', '1065', '1066', '1067', '1068', '1069', '1070', '1072', '1073', '1074', '1075', '1076', '1077', '1078', '1079', '1080', '1081', '1082', '1083', '1084', '1085', '1086', '1087', '1088', '1089', '1091', '1092', '1093', '1094', '1095', '1096', '1097', '1098', '1099', '1100', '1101', '1102', '1103', '1104', '1105', '1106', '1107', '1108', '1110', '1111', '1112', '1114', '1115', '1116', '1117', '1118', '1119', '1120', '1121', '1122', '1123', '1124', '1125', '1126', '1127', '1128', '1129', '1132', '1133', '1134', '1135', '1136', '1138', '1139', '1140', '1141', '1142', '1143', '1144', '1145', '1147', '1148', '1149', '1151', '1152', '1153', '1154', '1155', '1156', '1157', '1158', '1159', '1160', '1161', '1162', '1163', '1164', '1165', '1166', '1167', '1168', '1169', '1170', '1171', '1172', '1173', '1174', '1175', '1176', '1177', '1178', '1180', '1181', '1182', '1183', '1184', '1185', '1186', '1188', '1189', '1190', '1191', '1192', '1193', '1194', '1195', '1196', '1197', '1198', '1199', '1200', '1201', '1202', '1203', '1204', '1205', '1206', '1207', '1210', '1211', '1212', '1213', '1214', '1215', '1216', '1217', '1218', '1219', '1220', '1221', '1222', '1224', '1225', '1229', '1230', '1231', '1232', '1233', '1234', '1235', '1236', '1237', '1238', '1240', '1241', '1243', '1244', '1245', '1247', '1249', '1250', '1251', '1252', '1253', '1255', '1256', '1257', '1258', '1259', '1260', '1261', '1262', '1263', '1264', '1265', '1266', '1267', '1268', '1269', '1270', '1271', '1272', '1274', '1275', '1276', '1278', '1279', '1281', '1282', '1283', '1284', '1285', '1286', '1287', '1290', '1291', '1292', '1293', '1294', '1295', '1296', '1297', '1298', '1299', '1301', '1302', '1303', '1304', '1305', '1306', '1307', '1308', '1309', '1310', '1311', '1312', '1313', '1316', '1317', '1318', '1319', '1320', '1321', '1322', '1325', '1326', '1327', '1328', '1330', '1331', '1332', '1333', '1334', '1335', '1336', '1337', '1338', '1339', '1340', '1341', '1342', '1343', '1344', '1345', '1346', '1347', '1348', '1349', '1350', '1351', '1352', '1353', '1354', '1355', '1358', '1360', '1361', '1362', '1363', '1364', '1365', '1366', '1367', '1368', '1369', '1370', '1371', '1372', '1373', '1374', '1375', '1376', '1377', '1378', '1380', '1383', '1384', '1385', '1386', '1387', '1388', '1389', '1390', '1391', '1392', '1395', '1397', '1398', '1399', '1401', '1405', '1407', '1408', '1409', '1410', '1412', '1413', '1414', '1415', '1416', '1418', '1419', '1420', '1422', '1424', '1426', '1427', '1428', '1429', '1430', '1431', '1432', '1433', '1434', '1435', '1436', '1437', '1438', '1439', '1440', '1441', '1442', '1443', '1444', '1445', '1446', '1447', '1448', '1449', '1450', '1451', '1452', '1453', '1456', '1457', '1458', '1459', '1461', '1462', '1463', '1464', '1465', '1466', '1468', '1469', '1470', '1471', '1472', '1473', '1474', '1475', '1476', '1477', '1478', '1479', '1480', '1481', '1482', '1483', '1484', '1485', '1486', '1487', '1488', '1490', '1491', '1494', '1495', '1496', '1497', '1498', '1499', '1500', '1501', '1502', '1503', '1504', '1505', '1506', '1507', '1508', '1509', '1510', '1511', '1512', '1513', '1514', '1516', '1517', '1518', '1519', '1520', '1521', '1522', '1523', '1524', '1525', '1527', '1528', '1529', '1530', '1531', '1532', '1533', '1534', '1535', '1537', '1538', '1539', '1540', '1541', '1542', '1543', '1544', '1545', '1546', '1547', '1548', '1549', '1550', '1551', '1552', '1553', '1554', '1555', '1556', '1557', '1558', '1559', '1560', '1561', '1562', '1563', '1564', '1565', '1566', '1568', '1569', '1570', '1572', '1573', '1576', '1577', '1578', '1579', '1580', '1581', '1584', '1586', '1587', '1588', '1590', '1591', '1592', '1594', '1597', '1598', '1599', '1600', '1602', '1603', '1604', '1605', '1608', '1609', '1610', '1612', '1613', '1614', '1616', '1617', '1618', '1619', '1621', '1622', '1623', '1624', '1625', '1626', '1627', '1628', '1629', '1631', '1632', '1633', '1634', '1635', '1636', '1637', '1638', '1639', '1640', '1641', '1642', '1643', '1644', '1645', '1646', '1647', '1648', '1650', '1651', '1652', '1653', '1654', '1655', '1656', '1657', '1658', '1659', '1660', '1662', '1663', '1664', '1665', '1666', '1668', '1669', '1670', '1671', '1672', '1673', '1674', '1675', '1676', '1678', '1679', '1680', '1684', '1685', '1686', '1687', '1688', '1689', '1690', '1693', '1694', '1695', '1696', '1697', '1698', '1699', '1700', '1701', '1702', '1703', '1704', '1705', '1706', '1707', '1708', '1709', '1710', '1711', '1712', '1713', '1714', '1715', '1716', '1717', '1718', '1719', '1720', '1721', '1722', '1723', '1724', '1725', '1726', '1727', '1728', '1729', '1730', '1731', '1732', '1734', '1735', '1736', '1737', '1738', '1739', '1741', '1742', '1743', '1744', '1745', '1746', '1747', '1748', '1749', '1750', '1751', '1752', '1753', '1754', '1755', '1756', '1757', '1758', '1759', '1760', '1761', '1762', '1763', '1765', '1766', '1767', '1768', '1769', '1770', '1776', '1777', '1778', '1779', '1780', '1781', '1782', '1783', '1784', '1785', '1786', '1787', '1788', '1789', '1790', '1791', '1792', '1793', '1794', '1795', '1796', '1798', '1799', '1800', '1801', '1802', '1803', '1804', '1805', '1806', '1808', '1810', '1811', '1812', '1813', '1814', '1815', '1816', '1817', '1818', '1819', '1821', '1823', '1824', '1825', '1826', '1827', '1831', '1832', '1833', '1835', '1836', '1837', '1838', '1839', '1840', '1841', '1842', '1843', '1844', '1845', '1846', '1847', '1848', '1849', '1850', '1851', '1852', '1853', '1854', '1855', '1858', '1859', '1860', '1861', '1862', '1864', '1867', '1868', '1869', '1870', '1871', '1872', '1873', '1874', '1875', '1876', '1877', '1881', '1883', '1887', '1888', '1889', '1890', '1891', '1892', '1893', '1894', '1895', '1896', '1897', '1898', '1899', '1900', '1901', '1902', '1903', '1905', '1906', '1907', '1908', '1909', '1910', '1911', '1912', '1913', '1914', '1915', '1916', '1917', '1918', '1919', '1921', '1922', '1923', '1924', '1925', '1926', '1927', '1928', '1929', '1930', '1931', '1932', '1934', '1935', '1936', '1937', '1938', '1941', '1944', '1946', '1947', '1948', '1949', '1950', '1951', '1952', '1953', '1954', '1955', '1956', '1957', '1958', '1959', '1960', '1961', '1962', '1963', '1964', '1965', '1966', '1967', '1968', '1969', '1970', '1971', '1972', '1973', '1974', '1975', '1976', '1977', '1978', '1979', '1980', '1981', '1983', '1985', '1987', '1988', '1989', '1990', '1991', '1992', '1994', '1995', '1996', '1997', '2000', '2001', '2002', '2003', '2004', '2005', '2006', '2007', '2008', '2009', '2010', '2011', '2012', '2014', '2015', '2016', '2017', '2018', '2019', '2020', '2022', '2023', '2024', '2025', '2026', '2027', '2028', '2029', '2030', '2031', '2032', '2033', '2034', '2035', '2036', '2037', '2038', '2039', '2040', '2041', '2042', '2043', '2044', '2045', '2046', '2047', '2048', '2049', '2050', '2051', '2052', '2053', '2054', '2055', '2056', '2057', '2058', '2059', '2060', '2061', '2062', '2063', '2064', '2065', '2066', '2067', '2068', '2069', '2070', '2071', '2072', '2073', '2074', '2075', '2076', '2077', '2078', '2079', '2080', '2081', '2082', '2083', '2084', '2085', '2086', '2087', '2088', '2089', '2090', '2091', '2095', '2096', '2097', '2099', '2100', '2101', '2102', '2104', '2105', '2106', '2107', '2108', '2109', '2110', '2111', '2112', '2113', '2114', '2115', '2116', '2117', '2118', '2119', '2120', '2121', '2122', '2123', '2124', '2125', '2126', '2127', '2128', '2129', '2130', '2131', '2132', '2134', '2135', '2136', '2137', '2139', '2140', '2141', '2142', '2143', '2144', '2145', '2146', '2147', '2148', '2149', '2150', '2151', '2152', '2154', '2155', '2157', '2158', '2159', '2160', '2161', '2162', '2163', '2164', '2165', '2166', '2167', '2168', '2169', '2170', '2171', '2172', '2174', '2175', '2176', '2177', '2178', '2179', '2180', '2181', '2182', '2183', '2184', '2185', '2186', '2187', '2188', '2189', '2190', '2192', '2193', '2194', '2195', '2196', '2197', '2198', '2199', '2202', '2203', '2204', '2205', '2206', '2207', '2208', '2209', '2210', '2211', '2212', '2213', '2214', '2215', '2217', '2218', '2219', '2220', '2221', '2223', '2224', '2225', '2226', '2227', '2228', '2229', '2230', '2231', '2232', '2233', '2234', '2235', '2237', '2238', '2239', '2240', '2241', '2242', '2243', '2244', '2245', '2246', '2247', '2248', '2249', '2250', '2251', '2252', '2253', '2254', '2255', '2256', '2257', '2258', '2259', '2260', '2261', '2262', '2263', '2264', '2265', '2266', '2268', '2269', '2270', '2271', '2272', '2273', '2276', '2277', '2278', '2279', '2280', '2281', '2282', '2283', '2284', '2285', '2286', '2287', '2288', '2289', '2291', '2292', '2293', '2294', '2295', '2296', '2297', '2298', '2299', '2300', '2301', '2304', '2305', '2306', '2308', '2309', '2310', '2311', '2312', '2313', '2314', '2315', '2316', '2317', '2318', '2319', '2320', '2321', '2322', '2323', '2324', '2325', '2326', '2327', '2328', '2329', '2330', '2331', '2332', '2333', '2334', '2335', '2336', '2337', '2338', '2339', '2340', '2341', '2342', '2343', '2344', '2345', '2346', '2347', '2348', '2350', '2351', '2352', '2353', '2354', '2355', '2356', '2357', '2358', '2359', '2360', '2361', '2362', '2363', '2364', '2365', '2366', '2368', '2369', '2370', '2371', '2373', '2375', '2376', '2377', '2379', '2380', '2381', '2382', '2384', '2385', '2386', '2387', '2388', '2389', '2390', '2392', '2393', '2394', '2395', '2396', '2397', '2398', '2400', '2401', '2404', '2405', '2406', '2407', '2408', '2409', '2411', '2412', '2413', '2414', '2415', '2416', '2417', '2418', '2419', '2420', '2421', '2422', '2423', '2424', '2425', '2426', '2427', '2428', '2429', '2430', '2432', '2433', '2434', '2435', '2436', '2437', '2438', '2439', '2440', '2441', '2442', '2443', '2444', '2445', '2447', '2448', '2449', '2450', '2454', '2455', '2456', '2459', '2460', '2461', '2463', '2464', '2465', '2466', '2467', '2469', '2470', '2471', '2472', '2473', '2474', '2475', '2476', '2477', '2478', '2480', '2481', '2482', '2483', '2484', '2486', '2487', '2488', '2489', '2490', '2491', '2492', '2493', '2495', '2496', '2497', '2498', '2499', '2500', '2501', '2502', '2503', '2504', '2505', '2506', '2507', '2508', '2509', '2511', '2512', '2513', '2514', '2515', '2516', '2517', '2518', '2519', '2520', '2521', '2522', '2523', '2524', '2525', '2527', '2528', '2529', '2530', '2531', '2532', '2533', '2534', '2535', '2536', '2537', '2538', '2539', '2540', '2541', '2542', '2543', '2544', '2545', '2546', '2547', '2548', '2549', '2551', '2552', '2553', '2554', '2555', '2556', '2557', '2558', '2559', '2560', '2561', '2562', '2563', '2564', '2565', '2566', '2567', '2568', '2569', '2570', '2571', '2572', '2573', '2574', '2575', '2576', '2577', '2579', '2580', '2581', '2582', '2583', '2584', '2585', '2586', '2587', '2588', '2589', '2590', '2591', '2592', '2593', '2594', '2595', '2596', '2597', '2598', '2599', '2600', '2601', '2602', '2603', '2604', '2605', '2606', '2607', '2608', '2610', '2611', '2612', '2613', '2614', '2615', '2616', '2617', '2618', '2620', '2623', '2624', '2626', '2627', '2628', '2630', '2631', '2632', '2633', '2634', '2635', '2636', '2637', '2638', '2639', '2640', '2641', '2642', '2643', '2645', '2646', '2647', '2648', '2649', '2650', '2651', '2652', '2653', '2654', '2655', '2656', '2658', '2659', '2660', '2661', '2662', '2663', '2664', '2665', '2666', '2667', '2668', '2669', '2670', '2671', '2672', '2673', '2674', '2675', '2677', '2678', '2679', '2680', '2681', '2682', '2683', '2684', '2685', '2686', '2687', '2688', '2690', '2691', '2692', '2693', '2694', '2695', '2696', '2697', '2698', '2700', '2701', '2702', '2703', '2704', '2705', '2706', '2707', '2708', '2709', '2710', '2711', '2712', '2713', '2714', '2715', '2716', '2717', '2718', '2719', '2720', '2721', '2722', '2723', '2724', '2725', '2726', '2727', '2728', '2729', '2730', '2731', '2732', '2733', '2734', '2735', '2736', '2737', '2739', '2740', '2742', '2743', '2744', '2745', '2746', '2747', '2748', '2749', '2750', '2751', '2752', '2753', '2754', '2755', '2756', '2757', '2758', '2759', '2760', '2762', '2763', '2764', '2765', '2766', '2767', '2768', '2769', '2770', '2771', '2772', '2774', '2775', '2776', '2777', '2778', '2779', '2781', '2782', '2783', '2784', '2785', '2787', '2788', '2789', '2790', '2791', '2792', '2793', '2794', '2795', '2796', '2797', '2798', '2799', '2801', '2802', '2804', '2805', '2806', '2807', '2808', '2809', '2811', '2812', '2813', '2814', '2815', '2816', '2817', '2818', '2819', '2820', '2821', '2822', '2823', '2824', '2825', '2826', '2827', '2828', '2829', '2830', '2831', '2832', '2833', '2834', '2835', '2836', '2837', '2838', '2839', '2840', '2841', '2842', '2843', '2844', '2845', '2846', '2847', '2848', '2849', '2850', '2851', '2852', '2853', '2854', '2855', '2856', '2857', '2858', '2859', '2860', '2861', '2862', '2863', '2864', '2865', '2866', '2867', '2868', '2869', '2870', '2871', '2872', '2873', '2875', '2876', '2877', '2878', '2879', '2880', '2881', '2882', '2883', '2884', '2885', '2886', '2887', '2888', '2890', '2891', '2892', '2893', '2894', '2895', '2896', '2897', '2898', '2899', '2900', '2901', '2902', '2903', '2904', '2905', '2906', '2907', '2908', '2909', '2910', '2911', '2912', '2913', '2914', '2915', '2916', '2917', '2918', '2919', '2920', '2921', '2922', '2923', '2924', '2925', '2926', '2927', '2928', '2929', '2930', '2932', '2933', '2934', '2935', '2936', '2937', '2938', '2939', '2940', '2941', '2942', '2943', '2944', '2945', '2946', '2947', '2948', '2949', '2950', '2951', '2952', '2953', '2954', '2955', '2956', '2957', '2958', '2959', '2960', '2961', '2962', '2963', '2964', '2965', '2966', '2967', '2968', '2969', '2970', '2971', '2972', '2973', '2976', '2977', '2978', '2979', '2980', '2981', '2982', '2983', '2984', '2986', '2987', '2988', '2989', '2990', '2991', '2992', '2993', '2994', '2995', '2996', '2997', '2998', '0_3451', '1_3452', '2_3453', '3_3454', '4_3455', '6_3457', '7_3458', '8_3459', '9_3460', '10_3461', '11_3462', '12_3463', '13_3464', '14_3465', '15_3466', '16_3467', '17_3468', '18_3469', '19_3470', '22_3473', '23_3474', '24_3475', '25_3476', '26_3477', '31_3482', '32_3483', '34_3485', '35_3486', '36_3487', '37_3488', '38_3489', '39_3490', '40_3491', '42_3493', '43_3494', '44_3495', '46_3497', '47_3498', '48_3499', '50_3501', '51_3502', '52_3503', '53_3504', '54_3505', '55_3506', '56_3507', '57_3508', '58_3509', '59_3510', '60_3511', '61_3512', '63_3514', '64_3515', '66_3517', '67_3518', '68_3519', '69_3520', '70_3521', '71_3522', '72_3523', '73_3524', '74_3525', '75_3526', '76_3527', '77_3528', '78_3529', '79_3530', '81_3532', '83_3534', '86_3537', '87_3538', '88_3539', '89_3540', '90_3541', '93_3544', '94_3545', '96_3547', '97_3548', '98_3549', '99_3550', '100_3551', '101_3552', '102_3553', '103_3554', '104_3555', '105_3556', '106_3557', '107_3558', '108_3559', '109_3560', '110_3561', '112_3563', '115_3566', '117_3568', '118_3569', '120_3571', '122_3573', '123_3574', '125_3576', '126_3577', '128_3579', '129_3580', '130_3581', '131_3582', '132_3583', '135_3586', '136_3587', '137_3588', '139_3590', '140_3591', '141_3592', '144_3595', '146_3597', '147_3598', '148_3599', '150_3601', '151_3602', '152_3603', '156_3607', '159_3610', '161_3612', '162_3613', '163_3614', '164_3615', '166_3617', '167_3618', '168_3619', '169_3620', '170_3621', '171_3622', '172_3623', '173_3624', '174_3625', '176_3627', '177_3628', '178_3629', '179_3630', '181_3632', '182_3633', '183_3634', '184_3635', '185_3636', '186_3637', '187_3638', '188_3639', '189_3640', '190_3641', '191_3642', '192_3643', '193_3644', '194_3645', '195_3646', '196_3647', '197_3648', '198_3649', '199_3650', '200_3651', '201_3652', '202_3653', '204_3655', '205_3656', '206_3657', '209_3660', '211_3662', '212_3663', '213_3664', '214_3665', '215_3666', '216_3667', '217_3668', '218_3669', '220_3671', '221_3672', '222_3673', '223_3674', '224_3675', '225_3676', '227_3678', '228_3679', '229_3680', '233_3684', '234_3685', '235_3686', '236_3687', '237_3688', '238_3689', '239_3690', '240_3691', '241_3692', '242_3693', '244_3695', '245_3696', '247_3698', '248_3699', '250_3701', '251_3702', '252_3703', '254_3705', '255_3706', '256_3707', '257_3708', '258_3709', '259_3710', '260_3711', '261_3712', '262_3713', '263_3714', '264_3715', '265_3716', '266_3717', '267_3718', '268_3719', '269_3720', '270_3721', '271_3722', '275_3726', '277_3728', '278_3729', '282_3733', '283_3734', '290_3741', '291_3742', '292_3743', '293_3744', '294_3745', '295_3746', '296_3747', '297_3748', '298_3749', '299_3750', '300_3751', '302_3753', '305_3756', '306_3757', '307_3758', '308_3759', '309_3760', '310_3761', '311_3762', '312_3763', '313_3764', '314_3765', '315_3766', '317_3768', '318_3769', '319_3770', '320_3771', '321_3772', '322_3773', '323_3774', '324_3775', '325_3776', '327_3778', '328_3779', '329_3780', '330_3781', '332_3783', '333_3784', '334_3785', '335_3786', '336_3787', '337_3788', '338_3789', '339_3790', '340_3791', '342_3793', '346_3797', '347_3798', '348_3799', '349_3800', '350_3801', '351_3802', '352_3803', '354_3805', '355_3806', '357_3808', '358_3809', '359_3810', '361_3812', '362_3813', '363_3814', '364_3815', '365_3816', '366_3817', '367_3818', '368_3819', '370_3821', '372_3823', '373_3824', '374_3825', '375_3826', '376_3827', '377_3828', '378_3829', '379_3830', '380_3831', '381_3832', '382_3833', '383_3834', '384_3835', '385_3836', '386_3837', '387_3838', '388_3839', '389_3840', '390_3841', '392_3843', '394_3845', '396_3847', '397_3848', '400_3851', '402_3853', '403_3854', '404_3855', '405_3856', '407_3858', '409_3860', '410_3861', '411_3862', '412_3863', '413_3864', '414_3865', '418_3869', '419_3870', '421_3872', '422_3873', '423_3874', '424_3875', '425_3876', '426_3877', '427_3878', '428_3879', '429_3880', '430_3881', '431_3882', '433_3884', '435_3886', '438_3889', '439_3890', '440_3891', '441_3892', '442_3893', '443_3894', '444_3895', '447_3898', '448_3899', '449_3900', '450_3901', '451_3902', '453_3904', '454_3905', '455_3906', '456_3907', '457_3908', '459_3910', '461_3912', '462_3913', '463_3914', '465_3916', '466_3917', '467_3918', '468_3919', '469_3920', '470_3921', '471_3922', '472_3923', '473_3924', '474_3925', '475_3926', '476_3927', '477_3928', '478_3929', '480_3931', '482_3933', '483_3934', '484_3935', '485_3936', '486_3937', '487_3938', '488_3939', '489_3940', '490_3941', '491_3942', '492_3943', '493_3944', '495_3946', '497_3948', '500_3951', '501_3952', '502_3953', '503_3954', '504_3955', '505_3956', '507_3958', '508_3959', '509_3960', '510_3961', '511_3962', '512_3963', '514_3965', '515_3966', '516_3967', '517_3968', '519_3970', '520_3971', '521_3972', '522_3973', '523_3974', '524_3975', '525_3976', '526_3977', '527_3978', '528_3979', '529_3980', '530_3981', '531_3982', '532_3983', '533_3984', '534_3985', '535_3986', '536_3987', '537_3988', '538_3989', '539_3990', '540_3991', '543_3994', '544_3995', '545_3996', '546_3997', '548_3999', '549_4000', '550_4001', '551_4002', '552_4003', '553_4004', '554_4005', '555_4006', '556_4007', '1_4009', '5_4013', '7_4015', '8_4016', '13_4021', '15_4023', '20_4028', '28_4036', '30_4038', '31_4039', '33_4041', '34_4042', '35_4043', '36_4044', '37_4045', '39_4047', '41_4049', '42_4050', '43_4051', '44_4052', '47_4055', '50_4058', '52_4060', '53_4061', '61_4069', '62_4070', '63_4071', '72_4080', '74_4082', '77_4085', '78_4086', '79_4087', '81_4089', '82_4090', '83_4091', '85_4093', '86_4094', '87_4095', '88_4096', '90_4098', '91_4099', '92_4100', '94_4102', '95_4103', '97_4105', '98_4106', '99_4107', '100_4108', '101_4109', '102_4110', '104_4112', '105_4113', '106_4114', '107_4115', '109_4117', '111_4119', '112_4120', '9_4132', '10_4133', '16_4139', '18_4141', '19_4142', '20_4143', '28_4151', '32_4155', '36_4159', '37_4160', '3_4178', '4_4179', '5_4180', '6_4181', '7_4182', '8_4183', '9_4184'] not found in axis\"",
     "output_type": "error",
     "traceback": [
      "\u001b[1;31m---------------------------------------------------------------------------\u001b[0m",
      "\u001b[1;31mKeyError\u001b[0m                                  Traceback (most recent call last)",
      "Cell \u001b[1;32mIn[19], line 1\u001b[0m\n\u001b[1;32m----> 1\u001b[0m X_sex \u001b[38;5;241m=\u001b[39m \u001b[43mX_sex\u001b[49m\u001b[38;5;241;43m.\u001b[39;49m\u001b[43mdrop\u001b[49m\u001b[43m(\u001b[49m\u001b[43mlow_importance_features\u001b[49m\u001b[43m,\u001b[49m\u001b[43m \u001b[49m\u001b[43maxis\u001b[49m\u001b[38;5;241;43m=\u001b[39;49m\u001b[38;5;241;43m1\u001b[39;49m\u001b[43m)\u001b[49m\n",
      "File \u001b[1;32mC:\\ProgramData\\Anaconda3\\lib\\site-packages\\pandas\\util\\_decorators.py:331\u001b[0m, in \u001b[0;36mdeprecate_nonkeyword_arguments.<locals>.decorate.<locals>.wrapper\u001b[1;34m(*args, **kwargs)\u001b[0m\n\u001b[0;32m    325\u001b[0m \u001b[38;5;28;01mif\u001b[39;00m \u001b[38;5;28mlen\u001b[39m(args) \u001b[38;5;241m>\u001b[39m num_allow_args:\n\u001b[0;32m    326\u001b[0m     warnings\u001b[38;5;241m.\u001b[39mwarn(\n\u001b[0;32m    327\u001b[0m         msg\u001b[38;5;241m.\u001b[39mformat(arguments\u001b[38;5;241m=\u001b[39m_format_argument_list(allow_args)),\n\u001b[0;32m    328\u001b[0m         \u001b[38;5;167;01mFutureWarning\u001b[39;00m,\n\u001b[0;32m    329\u001b[0m         stacklevel\u001b[38;5;241m=\u001b[39mfind_stack_level(),\n\u001b[0;32m    330\u001b[0m     )\n\u001b[1;32m--> 331\u001b[0m \u001b[38;5;28;01mreturn\u001b[39;00m func(\u001b[38;5;241m*\u001b[39margs, \u001b[38;5;241m*\u001b[39m\u001b[38;5;241m*\u001b[39mkwargs)\n",
      "File \u001b[1;32mC:\\ProgramData\\Anaconda3\\lib\\site-packages\\pandas\\core\\frame.py:5396\u001b[0m, in \u001b[0;36mDataFrame.drop\u001b[1;34m(self, labels, axis, index, columns, level, inplace, errors)\u001b[0m\n\u001b[0;32m   5248\u001b[0m \u001b[38;5;129m@deprecate_nonkeyword_arguments\u001b[39m(version\u001b[38;5;241m=\u001b[39m\u001b[38;5;28;01mNone\u001b[39;00m, allowed_args\u001b[38;5;241m=\u001b[39m[\u001b[38;5;124m\"\u001b[39m\u001b[38;5;124mself\u001b[39m\u001b[38;5;124m\"\u001b[39m, \u001b[38;5;124m\"\u001b[39m\u001b[38;5;124mlabels\u001b[39m\u001b[38;5;124m\"\u001b[39m])\n\u001b[0;32m   5249\u001b[0m \u001b[38;5;28;01mdef\u001b[39;00m \u001b[38;5;21mdrop\u001b[39m(  \u001b[38;5;66;03m# type: ignore[override]\u001b[39;00m\n\u001b[0;32m   5250\u001b[0m     \u001b[38;5;28mself\u001b[39m,\n\u001b[1;32m   (...)\u001b[0m\n\u001b[0;32m   5257\u001b[0m     errors: IgnoreRaise \u001b[38;5;241m=\u001b[39m \u001b[38;5;124m\"\u001b[39m\u001b[38;5;124mraise\u001b[39m\u001b[38;5;124m\"\u001b[39m,\n\u001b[0;32m   5258\u001b[0m ) \u001b[38;5;241m-\u001b[39m\u001b[38;5;241m>\u001b[39m DataFrame \u001b[38;5;241m|\u001b[39m \u001b[38;5;28;01mNone\u001b[39;00m:\n\u001b[0;32m   5259\u001b[0m     \u001b[38;5;124;03m\"\"\"\u001b[39;00m\n\u001b[0;32m   5260\u001b[0m \u001b[38;5;124;03m    Drop specified labels from rows or columns.\u001b[39;00m\n\u001b[0;32m   5261\u001b[0m \n\u001b[1;32m   (...)\u001b[0m\n\u001b[0;32m   5394\u001b[0m \u001b[38;5;124;03m            weight  1.0     0.8\u001b[39;00m\n\u001b[0;32m   5395\u001b[0m \u001b[38;5;124;03m    \"\"\"\u001b[39;00m\n\u001b[1;32m-> 5396\u001b[0m     \u001b[38;5;28;01mreturn\u001b[39;00m \u001b[38;5;28;43msuper\u001b[39;49m\u001b[43m(\u001b[49m\u001b[43m)\u001b[49m\u001b[38;5;241;43m.\u001b[39;49m\u001b[43mdrop\u001b[49m\u001b[43m(\u001b[49m\n\u001b[0;32m   5397\u001b[0m \u001b[43m        \u001b[49m\u001b[43mlabels\u001b[49m\u001b[38;5;241;43m=\u001b[39;49m\u001b[43mlabels\u001b[49m\u001b[43m,\u001b[49m\n\u001b[0;32m   5398\u001b[0m \u001b[43m        \u001b[49m\u001b[43maxis\u001b[49m\u001b[38;5;241;43m=\u001b[39;49m\u001b[43maxis\u001b[49m\u001b[43m,\u001b[49m\n\u001b[0;32m   5399\u001b[0m \u001b[43m        \u001b[49m\u001b[43mindex\u001b[49m\u001b[38;5;241;43m=\u001b[39;49m\u001b[43mindex\u001b[49m\u001b[43m,\u001b[49m\n\u001b[0;32m   5400\u001b[0m \u001b[43m        \u001b[49m\u001b[43mcolumns\u001b[49m\u001b[38;5;241;43m=\u001b[39;49m\u001b[43mcolumns\u001b[49m\u001b[43m,\u001b[49m\n\u001b[0;32m   5401\u001b[0m \u001b[43m        \u001b[49m\u001b[43mlevel\u001b[49m\u001b[38;5;241;43m=\u001b[39;49m\u001b[43mlevel\u001b[49m\u001b[43m,\u001b[49m\n\u001b[0;32m   5402\u001b[0m \u001b[43m        \u001b[49m\u001b[43minplace\u001b[49m\u001b[38;5;241;43m=\u001b[39;49m\u001b[43minplace\u001b[49m\u001b[43m,\u001b[49m\n\u001b[0;32m   5403\u001b[0m \u001b[43m        \u001b[49m\u001b[43merrors\u001b[49m\u001b[38;5;241;43m=\u001b[39;49m\u001b[43merrors\u001b[49m\u001b[43m,\u001b[49m\n\u001b[0;32m   5404\u001b[0m \u001b[43m    \u001b[49m\u001b[43m)\u001b[49m\n",
      "File \u001b[1;32mC:\\ProgramData\\Anaconda3\\lib\\site-packages\\pandas\\util\\_decorators.py:331\u001b[0m, in \u001b[0;36mdeprecate_nonkeyword_arguments.<locals>.decorate.<locals>.wrapper\u001b[1;34m(*args, **kwargs)\u001b[0m\n\u001b[0;32m    325\u001b[0m \u001b[38;5;28;01mif\u001b[39;00m \u001b[38;5;28mlen\u001b[39m(args) \u001b[38;5;241m>\u001b[39m num_allow_args:\n\u001b[0;32m    326\u001b[0m     warnings\u001b[38;5;241m.\u001b[39mwarn(\n\u001b[0;32m    327\u001b[0m         msg\u001b[38;5;241m.\u001b[39mformat(arguments\u001b[38;5;241m=\u001b[39m_format_argument_list(allow_args)),\n\u001b[0;32m    328\u001b[0m         \u001b[38;5;167;01mFutureWarning\u001b[39;00m,\n\u001b[0;32m    329\u001b[0m         stacklevel\u001b[38;5;241m=\u001b[39mfind_stack_level(),\n\u001b[0;32m    330\u001b[0m     )\n\u001b[1;32m--> 331\u001b[0m \u001b[38;5;28;01mreturn\u001b[39;00m func(\u001b[38;5;241m*\u001b[39margs, \u001b[38;5;241m*\u001b[39m\u001b[38;5;241m*\u001b[39mkwargs)\n",
      "File \u001b[1;32mC:\\ProgramData\\Anaconda3\\lib\\site-packages\\pandas\\core\\generic.py:4505\u001b[0m, in \u001b[0;36mNDFrame.drop\u001b[1;34m(self, labels, axis, index, columns, level, inplace, errors)\u001b[0m\n\u001b[0;32m   4503\u001b[0m \u001b[38;5;28;01mfor\u001b[39;00m axis, labels \u001b[38;5;129;01min\u001b[39;00m axes\u001b[38;5;241m.\u001b[39mitems():\n\u001b[0;32m   4504\u001b[0m     \u001b[38;5;28;01mif\u001b[39;00m labels \u001b[38;5;129;01mis\u001b[39;00m \u001b[38;5;129;01mnot\u001b[39;00m \u001b[38;5;28;01mNone\u001b[39;00m:\n\u001b[1;32m-> 4505\u001b[0m         obj \u001b[38;5;241m=\u001b[39m \u001b[43mobj\u001b[49m\u001b[38;5;241;43m.\u001b[39;49m\u001b[43m_drop_axis\u001b[49m\u001b[43m(\u001b[49m\u001b[43mlabels\u001b[49m\u001b[43m,\u001b[49m\u001b[43m \u001b[49m\u001b[43maxis\u001b[49m\u001b[43m,\u001b[49m\u001b[43m \u001b[49m\u001b[43mlevel\u001b[49m\u001b[38;5;241;43m=\u001b[39;49m\u001b[43mlevel\u001b[49m\u001b[43m,\u001b[49m\u001b[43m \u001b[49m\u001b[43merrors\u001b[49m\u001b[38;5;241;43m=\u001b[39;49m\u001b[43merrors\u001b[49m\u001b[43m)\u001b[49m\n\u001b[0;32m   4507\u001b[0m \u001b[38;5;28;01mif\u001b[39;00m inplace:\n\u001b[0;32m   4508\u001b[0m     \u001b[38;5;28mself\u001b[39m\u001b[38;5;241m.\u001b[39m_update_inplace(obj)\n",
      "File \u001b[1;32mC:\\ProgramData\\Anaconda3\\lib\\site-packages\\pandas\\core\\generic.py:4546\u001b[0m, in \u001b[0;36mNDFrame._drop_axis\u001b[1;34m(self, labels, axis, level, errors, only_slice)\u001b[0m\n\u001b[0;32m   4544\u001b[0m         new_axis \u001b[38;5;241m=\u001b[39m axis\u001b[38;5;241m.\u001b[39mdrop(labels, level\u001b[38;5;241m=\u001b[39mlevel, errors\u001b[38;5;241m=\u001b[39merrors)\n\u001b[0;32m   4545\u001b[0m     \u001b[38;5;28;01melse\u001b[39;00m:\n\u001b[1;32m-> 4546\u001b[0m         new_axis \u001b[38;5;241m=\u001b[39m \u001b[43maxis\u001b[49m\u001b[38;5;241;43m.\u001b[39;49m\u001b[43mdrop\u001b[49m\u001b[43m(\u001b[49m\u001b[43mlabels\u001b[49m\u001b[43m,\u001b[49m\u001b[43m \u001b[49m\u001b[43merrors\u001b[49m\u001b[38;5;241;43m=\u001b[39;49m\u001b[43merrors\u001b[49m\u001b[43m)\u001b[49m\n\u001b[0;32m   4547\u001b[0m     indexer \u001b[38;5;241m=\u001b[39m axis\u001b[38;5;241m.\u001b[39mget_indexer(new_axis)\n\u001b[0;32m   4549\u001b[0m \u001b[38;5;66;03m# Case for non-unique axis\u001b[39;00m\n\u001b[0;32m   4550\u001b[0m \u001b[38;5;28;01melse\u001b[39;00m:\n",
      "File \u001b[1;32mC:\\ProgramData\\Anaconda3\\lib\\site-packages\\pandas\\core\\indexes\\base.py:6977\u001b[0m, in \u001b[0;36mIndex.drop\u001b[1;34m(self, labels, errors)\u001b[0m\n\u001b[0;32m   6975\u001b[0m \u001b[38;5;28;01mif\u001b[39;00m mask\u001b[38;5;241m.\u001b[39many():\n\u001b[0;32m   6976\u001b[0m     \u001b[38;5;28;01mif\u001b[39;00m errors \u001b[38;5;241m!=\u001b[39m \u001b[38;5;124m\"\u001b[39m\u001b[38;5;124mignore\u001b[39m\u001b[38;5;124m\"\u001b[39m:\n\u001b[1;32m-> 6977\u001b[0m         \u001b[38;5;28;01mraise\u001b[39;00m \u001b[38;5;167;01mKeyError\u001b[39;00m(\u001b[38;5;124mf\u001b[39m\u001b[38;5;124m\"\u001b[39m\u001b[38;5;132;01m{\u001b[39;00m\u001b[38;5;28mlist\u001b[39m(labels[mask])\u001b[38;5;132;01m}\u001b[39;00m\u001b[38;5;124m not found in axis\u001b[39m\u001b[38;5;124m\"\u001b[39m)\n\u001b[0;32m   6978\u001b[0m     indexer \u001b[38;5;241m=\u001b[39m indexer[\u001b[38;5;241m~\u001b[39mmask]\n\u001b[0;32m   6979\u001b[0m \u001b[38;5;28;01mreturn\u001b[39;00m \u001b[38;5;28mself\u001b[39m\u001b[38;5;241m.\u001b[39mdelete(indexer)\n",
      "\u001b[1;31mKeyError\u001b[0m: \"['first_last_0', 'first_last_1', 'first_last_2', 'first_last_3', 'first_last_4', 'first_last_5', '4_x_15', '5_x_16', '9_x_20', '22_x', '26_x', '0_x_61', '1_x_62', '2_x_63', '4_x_65', '5_x_66', '8_x_69', '9_x_70', '15_y_76', '20_y', '26_y', '2_y_93', '3_y_94', '7_y_98', '10_x_101', '15_x_106', '18_x_109', '21_111', '24_114', '27_117', '3_123', '4_124', '11_y_132', '13_y_134', '15_y_136', '18_y_139', 'host_2', 'host_4', 'host_5', 'host_6', 'host_7', 'host_10', 'host_11', 'host_15', 'host_21', 'host_22', 'host_23', 'host_25', 'host_26', 'host_27', 'host_30', 'host_31', 'host_32', 'host_34', 'host_36', 'host_37', 'host_39', 'host_40', 'host_41', 'host_45', 'host_47', 'host_53', 'host_54', 'host_57', 'host_61', 'host_62', 'host_64', 'host_71', 'host_74', 'host_75', 'host_78', 'host_79', 'host_80', 'host_81', 'host_82', 'host_83', 'host_85', 'host_86', 'host_92', 'host_94', 'host_95', 'host_96', 'host_97', 'host_98', 'host_99', 'host_100', 'host_102', 'host_104', 'host_105', 'host_106', 'host_109', 'host_112', 'host_114', 'host_115', 'host_118', 'host_125', 'host_126', 'host_127', 'host_128', 'host_131', 'host_132', 'host_134', 'host_136', 'host_138', 'host_139', 'host_140', 'host_142', 'host_145', 'host_146', 'host_147', 'host_154', 'host_155', 'host_156', 'host_157', 'host_158', 'host_160', 'host_161', 'host_162', 'host_163', 'host_168', 'host_169', 'host_171', 'host_172', 'host_173', 'host_174', 'host_179', 'host_183', 'host_185', 'host_186', 'host_187', 'host_189', 'host_190', 'host_194', 'host_195', 'host_196', 'host_198', 'host_200', 'host_202', 'host_203', 'host_205', 'host_206', 'host_212', 'host_213', 'host_220', 'host_224', 'host_225', 'host_231', 'host_235', 'host_237', 'host_242', 'host_243', 'host_244', 'host_245', 'host_246', 'host_250', 'host_252', 'host_256', 'host_257', 'host_258', 'host_259', 'host_260', 'host_261', 'host_265', 'host_268', 'host_269', 'host_272', 'host_274', 'host_279', 'host_283', 'host_285', 'host_287', 'host_291', 'host_293', 'host_294', 'host_295', 'host_296', 'host_299', '1_452', '2_453', '3_454', '9_460', '10_461', '11_462', '12_463', '13_464', '14_465', '15_466', '16_467', '17_468', '18_469', '19_470', '20_471', '21_472', '22_473', '23_474', '25_476', '26_477', '27_478', '28_479', '29_480', '30_481', '31_482', '32_483', '33_484', '34_485', '35_486', '36_487', '37_488', '38_489', '39_490', '40_491', '41_492', '42_493', '43_494', '44_495', '45_496', '46_497', '47_498', '48_499', '49_500', '50_501', '51_502', '52_503', '53_504', '54_505', '55_506', '56_507', '57_508', '58_509', '59_510', '60_511', '62_513', '63_514', '64_515', '65_516', '66_517', '67_518', '68_519', '69_520', '70_521', '71_522', '72_523', '73_524', '74_525', '75_526', '76_527', '77_528', '78_529', '79_530', '80_531', '81_532', '82_533', '83_534', '84_535', '85_536', '86_537', '87_538', '88_539', '89_540', '90_541', '92_543', '93_544', '94_545', '95_546', '96_547', '97_548', '99_550', '100_551', '102_553', '104_555', '108_559', '109_560', '110_561', '111_562', '112_563', '113_564', '114_565', '115_566', '116_567', '117_568', '118_569', '119_570', '120_571', '121_572', '123_574', '125_576', '126_577', '127_578', '128_579', '129_580', '131_582', '132_583', '133_584', '134_585', '135_586', '136_587', '137_588', '138_589', '139_590', '140_591', '141_592', '143_594', '144_595', '145_596', '146_597', '147_598', '149_600', '150_601', '152_603', '154_605', '155_606', '156_607', '157_608', '158_609', '159_610', '161_612', '162_613', '164_615', '165_616', '166_617', '167_618', '168_619', '169_620', '170_621', '171_622', '172_623', '173_624', '174_625', '175_626', '176_627', '177_628', '178_629', '179_630', '180_631', '181_632', '182_633', '183_634', '184_635', '185_636', '186_637', '187_638', '188_639', '189_640', '190_641', '191_642', '192_643', '193_644', '194_645', '195_646', '196_647', '197_648', '198_649', '199_650', '201_652', '202_653', '203_654', '204_655', '205_656', '206_657', '207_658', '208_659', '209_660', '210_661', '211_662', '212_663', '213_664', '214_665', '215_666', '216_667', '217_668', '218_669', '219_670', '220_671', '221_672', '222_673', '223_674', '224_675', '225_676', '226_677', '227_678', '228_679', '229_680', '230_681', '231_682', '232_683', '234_685', '235_686', '236_687', '237_688', '238_689', '239_690', '240_691', '241_692', '242_693', '243_694', '244_695', '246_697', '247_698', '248_699', '249_700', '250_701', '251_702', '252_703', '253_704', '254_705', '255_706', '256_707', '257_708', '258_709', '259_710', '260_711', '261_712', '262_713', '263_714', '264_715', '265_716', '266_717', '267_718', '271_722', '274_725', '275_726', '276_727', '277_728', '279_730', '281_732', '282_733', '284_735', '285_736', '286_737', '287_738', '288_739', '289_740', '290_741', '291_742', '292_743', '293_744', '294_745', '295_746', '296_747', '297_748', '298_749', '300_751', '301_752', '302_753', '303_754', '304_755', '305_756', '306_757', '307_758', '309_760', '310_761', '311_762', '312_763', '313_764', '314_765', '315_766', '316_767', '317_768', '318_769', '320_771', '321_772', '322_773', '323_774', '324_775', '325_776', '327_778', '328_779', '329_780', '330_781', '331_782', '332_783', '333_784', '334_785', '335_786', '336_787', '337_788', '338_789', '339_790', '342_793', '343_794', '344_795', '345_796', '347_798', '348_799', '349_800', '350_801', '351_802', '353_804', '354_805', '355_806', '356_807', '357_808', '358_809', '360_811', '361_812', '362_813', '363_814', '364_815', '365_816', '366_817', '367_818', '368_819', '369_820', '370_821', '371_822', '372_823', '373_824', '374_825', '375_826', '376_827', '377_828', '378_829', '379_830', '380_831', '381_832', '382_833', '383_834', '384_835', '385_836', '386_837', '387_838', '388_839', '389_840', '391_842', '392_843', '393_844', '394_845', '395_846', '396_847', '397_848', '398_849', '399_850', '400_851', '401_852', '403_854', '405_856', '406_857', '407_858', '408_859', '409_860', '410_861', '411_862', '412_863', '413_864', '414_865', '415_866', '416_867', '417_868', '418_869', '419_870', '420_871', '421_872', '422_873', '423_874', '424_875', '425_876', '426_877', '427_878', '428_879', '429_880', '430_881', '431_882', '433_884', '434_885', '435_886', '436_887', '443_894', '444_895', '445_896', '446_897', '447_898', '448_899', '449_900', '450_901', '451_902', '452_903', '453_904', '454_905', '455_906', '456_907', '457_908', '459_910', '460_911', '461_912', '462_913', '463_914', '464_915', '465_916', '466_917', '467_918', '468_919', '469_920', '470_921', '471_922', '472_923', '473_924', '474_925', '475_926', '476_927', '477_928', '478_929', '479_930', '480_931', '481_932', '482_933', '484_935', '485_936', '486_937', '487_938', '488_939', '489_940', '490_941', '491_942', '492_943', '493_944', '494_945', '495_946', '496_947', '497_948', '498_949', '499_950', '500_951', '501_952', '502_953', '503_954', '504_955', '505_956', '506_957', '507_958', '508_959', '509_960', '510_961', '511_962', '512_963', '513_964', '514_965', '515_966', '516_967', '517_968', '518_969', '519_970', '520_971', '522_973', '523_974', '525_976', '526_977', '528_979', '529_980', '530_981', '531_982', '532_983', '533_984', '534_985', '535_986', '536_987', '537_988', '538_989', '539_990', '540_991', '542_993', '543_994', '544_995', '545_996', '546_997', '547_998', '548_999', '549_1000', '550_1001', '551_1002', '552_1003', '553_1004', '554_1005', '555_1006', '557', '558', '559', '560', '561', '562', '563', '564', '565', '566', '567', '568', '569', '570', '571', '572', '573', '574', '575', '576', '577', '578', '579', '580', '581', '582', '583', '585', '586', '588', '590', '592', '593', '595', '596', '597', '598', '599', '602', '604', '607', '608', '611', '612', '613', '615', '616', '617', '618', '619', '620', '621', '622', '623', '624', '625', '626', '627', '628', '629', '630', '631', '632', '633', '634', '642', '643', '644', '646', '648', '649', '650', '652', '653', '654', '655', '656', '657', '658', '659', '660', '661', '662', '663', '664', '666', '670', '671', '672', '674', '675', '676', '677', '678', '680', '681', '682', '683', '684', '685', '686', '687', '688', '689', '690', '691', '692', '693', '694', '695', '696', '697', '698', '699', '700', '701', '702', '703', '704', '705', '707', '709', '710', '711', '712', '716', '717', '719', '721', '722', '725', '726', '728', '729', '730', '731', '732', '733', '734', '735', '737', '739', '740', '741', '742', '743', '744', '745', '747', '748', '749', '750', '751', '752', '753', '754', '755', '756', '757', '758', '759', '760', '762', '763', '764', '765', '767', '768', '769', '770', '771', '772', '773', '774', '775', '776', '777', '778', '779', '780', '781', '782', '783', '785', '786', '787', '788', '789', '790', '791', '792', '793', '794', '795', '796', '797', '798', '799', '800', '801', '802', '803', '804', '805', '806', '807', '808', '810', '811', '812', '813', '814', '815', '817', '818', '819', '820', '821', '822', '823', '825', '826', '827', '828', '829', '830', '831', '832', '833', '834', '835', '836', '839', '840', '841', '842', '843', '844', '845', '846', '847', '848', '849', '850', '851', '852', '853', '854', '855', '856', '857', '858', '859', '860', '861', '862', '863', '864', '865', '866', '867', '868', '869', '870', '871', '872', '873', '874', '875', '876', '877', '878', '879', '880', '881', '882', '883', '884', '885', '886', '887', '888', '889', '890', '892', '893', '894', '895', '896', '897', '898', '899', '900', '901', '902', '903', '904', '905', '906', '907', '908', '909', '910', '911', '912', '913', '914', '915', '916', '917', '918', '919', '920', '921', '922', '923', '925', '926', '927', '928', '929', '930', '931', '932', '933', '934', '935', '936', '937', '938', '939', '940', '941', '942', '943', '944', '946', '947', '948', '949', '951', '952', '953', '955', '956', '957', '958', '959', '960', '961', '962', '963', '964', '965', '966', '967', '970', '971', '972', '973', '974', '975', '976', '977', '978', '979', '980', '981', '982', '983', '984', '985', '986', '987', '988', '989', '990', '991', '993', '994', '995', '996', '997', '998', '999', '1003', '1004', '1006', '1007', '1008', '1009', '1010', '1011', '1012', '1013', '1014', '1015', '1016', '1017', '1018', '1019', '1020', '1021', '1023', '1024', '1025', '1026', '1027', '1029', '1030', '1031', '1032', '1033', '1034', '1035', '1036', '1037', '1038', '1039', '1040', '1041', '1042', '1043', '1044', '1045', '1046', '1047', '1048', '1049', '1050', '1051', '1052', '1053', '1054', '1055', '1056', '1057', '1059', '1060', '1061', '1062', '1063', '1064', '1065', '1066', '1067', '1068', '1069', '1070', '1072', '1073', '1074', '1075', '1076', '1077', '1078', '1079', '1080', '1081', '1082', '1083', '1084', '1085', '1086', '1087', '1088', '1089', '1091', '1092', '1093', '1094', '1095', '1096', '1097', '1098', '1099', '1100', '1101', '1102', '1103', '1104', '1105', '1106', '1107', '1108', '1110', '1111', '1112', '1114', '1115', '1116', '1117', '1118', '1119', '1120', '1121', '1122', '1123', '1124', '1125', '1126', '1127', '1128', '1129', '1132', '1133', '1134', '1135', '1136', '1138', '1139', '1140', '1141', '1142', '1143', '1144', '1145', '1147', '1148', '1149', '1151', '1152', '1153', '1154', '1155', '1156', '1157', '1158', '1159', '1160', '1161', '1162', '1163', '1164', '1165', '1166', '1167', '1168', '1169', '1170', '1171', '1172', '1173', '1174', '1175', '1176', '1177', '1178', '1180', '1181', '1182', '1183', '1184', '1185', '1186', '1188', '1189', '1190', '1191', '1192', '1193', '1194', '1195', '1196', '1197', '1198', '1199', '1200', '1201', '1202', '1203', '1204', '1205', '1206', '1207', '1210', '1211', '1212', '1213', '1214', '1215', '1216', '1217', '1218', '1219', '1220', '1221', '1222', '1224', '1225', '1229', '1230', '1231', '1232', '1233', '1234', '1235', '1236', '1237', '1238', '1240', '1241', '1243', '1244', '1245', '1247', '1249', '1250', '1251', '1252', '1253', '1255', '1256', '1257', '1258', '1259', '1260', '1261', '1262', '1263', '1264', '1265', '1266', '1267', '1268', '1269', '1270', '1271', '1272', '1274', '1275', '1276', '1278', '1279', '1281', '1282', '1283', '1284', '1285', '1286', '1287', '1290', '1291', '1292', '1293', '1294', '1295', '1296', '1297', '1298', '1299', '1301', '1302', '1303', '1304', '1305', '1306', '1307', '1308', '1309', '1310', '1311', '1312', '1313', '1316', '1317', '1318', '1319', '1320', '1321', '1322', '1325', '1326', '1327', '1328', '1330', '1331', '1332', '1333', '1334', '1335', '1336', '1337', '1338', '1339', '1340', '1341', '1342', '1343', '1344', '1345', '1346', '1347', '1348', '1349', '1350', '1351', '1352', '1353', '1354', '1355', '1358', '1360', '1361', '1362', '1363', '1364', '1365', '1366', '1367', '1368', '1369', '1370', '1371', '1372', '1373', '1374', '1375', '1376', '1377', '1378', '1380', '1383', '1384', '1385', '1386', '1387', '1388', '1389', '1390', '1391', '1392', '1395', '1397', '1398', '1399', '1401', '1405', '1407', '1408', '1409', '1410', '1412', '1413', '1414', '1415', '1416', '1418', '1419', '1420', '1422', '1424', '1426', '1427', '1428', '1429', '1430', '1431', '1432', '1433', '1434', '1435', '1436', '1437', '1438', '1439', '1440', '1441', '1442', '1443', '1444', '1445', '1446', '1447', '1448', '1449', '1450', '1451', '1452', '1453', '1456', '1457', '1458', '1459', '1461', '1462', '1463', '1464', '1465', '1466', '1468', '1469', '1470', '1471', '1472', '1473', '1474', '1475', '1476', '1477', '1478', '1479', '1480', '1481', '1482', '1483', '1484', '1485', '1486', '1487', '1488', '1490', '1491', '1494', '1495', '1496', '1497', '1498', '1499', '1500', '1501', '1502', '1503', '1504', '1505', '1506', '1507', '1508', '1509', '1510', '1511', '1512', '1513', '1514', '1516', '1517', '1518', '1519', '1520', '1521', '1522', '1523', '1524', '1525', '1527', '1528', '1529', '1530', '1531', '1532', '1533', '1534', '1535', '1537', '1538', '1539', '1540', '1541', '1542', '1543', '1544', '1545', '1546', '1547', '1548', '1549', '1550', '1551', '1552', '1553', '1554', '1555', '1556', '1557', '1558', '1559', '1560', '1561', '1562', '1563', '1564', '1565', '1566', '1568', '1569', '1570', '1572', '1573', '1576', '1577', '1578', '1579', '1580', '1581', '1584', '1586', '1587', '1588', '1590', '1591', '1592', '1594', '1597', '1598', '1599', '1600', '1602', '1603', '1604', '1605', '1608', '1609', '1610', '1612', '1613', '1614', '1616', '1617', '1618', '1619', '1621', '1622', '1623', '1624', '1625', '1626', '1627', '1628', '1629', '1631', '1632', '1633', '1634', '1635', '1636', '1637', '1638', '1639', '1640', '1641', '1642', '1643', '1644', '1645', '1646', '1647', '1648', '1650', '1651', '1652', '1653', '1654', '1655', '1656', '1657', '1658', '1659', '1660', '1662', '1663', '1664', '1665', '1666', '1668', '1669', '1670', '1671', '1672', '1673', '1674', '1675', '1676', '1678', '1679', '1680', '1684', '1685', '1686', '1687', '1688', '1689', '1690', '1693', '1694', '1695', '1696', '1697', '1698', '1699', '1700', '1701', '1702', '1703', '1704', '1705', '1706', '1707', '1708', '1709', '1710', '1711', '1712', '1713', '1714', '1715', '1716', '1717', '1718', '1719', '1720', '1721', '1722', '1723', '1724', '1725', '1726', '1727', '1728', '1729', '1730', '1731', '1732', '1734', '1735', '1736', '1737', '1738', '1739', '1741', '1742', '1743', '1744', '1745', '1746', '1747', '1748', '1749', '1750', '1751', '1752', '1753', '1754', '1755', '1756', '1757', '1758', '1759', '1760', '1761', '1762', '1763', '1765', '1766', '1767', '1768', '1769', '1770', '1776', '1777', '1778', '1779', '1780', '1781', '1782', '1783', '1784', '1785', '1786', '1787', '1788', '1789', '1790', '1791', '1792', '1793', '1794', '1795', '1796', '1798', '1799', '1800', '1801', '1802', '1803', '1804', '1805', '1806', '1808', '1810', '1811', '1812', '1813', '1814', '1815', '1816', '1817', '1818', '1819', '1821', '1823', '1824', '1825', '1826', '1827', '1831', '1832', '1833', '1835', '1836', '1837', '1838', '1839', '1840', '1841', '1842', '1843', '1844', '1845', '1846', '1847', '1848', '1849', '1850', '1851', '1852', '1853', '1854', '1855', '1858', '1859', '1860', '1861', '1862', '1864', '1867', '1868', '1869', '1870', '1871', '1872', '1873', '1874', '1875', '1876', '1877', '1881', '1883', '1887', '1888', '1889', '1890', '1891', '1892', '1893', '1894', '1895', '1896', '1897', '1898', '1899', '1900', '1901', '1902', '1903', '1905', '1906', '1907', '1908', '1909', '1910', '1911', '1912', '1913', '1914', '1915', '1916', '1917', '1918', '1919', '1921', '1922', '1923', '1924', '1925', '1926', '1927', '1928', '1929', '1930', '1931', '1932', '1934', '1935', '1936', '1937', '1938', '1941', '1944', '1946', '1947', '1948', '1949', '1950', '1951', '1952', '1953', '1954', '1955', '1956', '1957', '1958', '1959', '1960', '1961', '1962', '1963', '1964', '1965', '1966', '1967', '1968', '1969', '1970', '1971', '1972', '1973', '1974', '1975', '1976', '1977', '1978', '1979', '1980', '1981', '1983', '1985', '1987', '1988', '1989', '1990', '1991', '1992', '1994', '1995', '1996', '1997', '2000', '2001', '2002', '2003', '2004', '2005', '2006', '2007', '2008', '2009', '2010', '2011', '2012', '2014', '2015', '2016', '2017', '2018', '2019', '2020', '2022', '2023', '2024', '2025', '2026', '2027', '2028', '2029', '2030', '2031', '2032', '2033', '2034', '2035', '2036', '2037', '2038', '2039', '2040', '2041', '2042', '2043', '2044', '2045', '2046', '2047', '2048', '2049', '2050', '2051', '2052', '2053', '2054', '2055', '2056', '2057', '2058', '2059', '2060', '2061', '2062', '2063', '2064', '2065', '2066', '2067', '2068', '2069', '2070', '2071', '2072', '2073', '2074', '2075', '2076', '2077', '2078', '2079', '2080', '2081', '2082', '2083', '2084', '2085', '2086', '2087', '2088', '2089', '2090', '2091', '2095', '2096', '2097', '2099', '2100', '2101', '2102', '2104', '2105', '2106', '2107', '2108', '2109', '2110', '2111', '2112', '2113', '2114', '2115', '2116', '2117', '2118', '2119', '2120', '2121', '2122', '2123', '2124', '2125', '2126', '2127', '2128', '2129', '2130', '2131', '2132', '2134', '2135', '2136', '2137', '2139', '2140', '2141', '2142', '2143', '2144', '2145', '2146', '2147', '2148', '2149', '2150', '2151', '2152', '2154', '2155', '2157', '2158', '2159', '2160', '2161', '2162', '2163', '2164', '2165', '2166', '2167', '2168', '2169', '2170', '2171', '2172', '2174', '2175', '2176', '2177', '2178', '2179', '2180', '2181', '2182', '2183', '2184', '2185', '2186', '2187', '2188', '2189', '2190', '2192', '2193', '2194', '2195', '2196', '2197', '2198', '2199', '2202', '2203', '2204', '2205', '2206', '2207', '2208', '2209', '2210', '2211', '2212', '2213', '2214', '2215', '2217', '2218', '2219', '2220', '2221', '2223', '2224', '2225', '2226', '2227', '2228', '2229', '2230', '2231', '2232', '2233', '2234', '2235', '2237', '2238', '2239', '2240', '2241', '2242', '2243', '2244', '2245', '2246', '2247', '2248', '2249', '2250', '2251', '2252', '2253', '2254', '2255', '2256', '2257', '2258', '2259', '2260', '2261', '2262', '2263', '2264', '2265', '2266', '2268', '2269', '2270', '2271', '2272', '2273', '2276', '2277', '2278', '2279', '2280', '2281', '2282', '2283', '2284', '2285', '2286', '2287', '2288', '2289', '2291', '2292', '2293', '2294', '2295', '2296', '2297', '2298', '2299', '2300', '2301', '2304', '2305', '2306', '2308', '2309', '2310', '2311', '2312', '2313', '2314', '2315', '2316', '2317', '2318', '2319', '2320', '2321', '2322', '2323', '2324', '2325', '2326', '2327', '2328', '2329', '2330', '2331', '2332', '2333', '2334', '2335', '2336', '2337', '2338', '2339', '2340', '2341', '2342', '2343', '2344', '2345', '2346', '2347', '2348', '2350', '2351', '2352', '2353', '2354', '2355', '2356', '2357', '2358', '2359', '2360', '2361', '2362', '2363', '2364', '2365', '2366', '2368', '2369', '2370', '2371', '2373', '2375', '2376', '2377', '2379', '2380', '2381', '2382', '2384', '2385', '2386', '2387', '2388', '2389', '2390', '2392', '2393', '2394', '2395', '2396', '2397', '2398', '2400', '2401', '2404', '2405', '2406', '2407', '2408', '2409', '2411', '2412', '2413', '2414', '2415', '2416', '2417', '2418', '2419', '2420', '2421', '2422', '2423', '2424', '2425', '2426', '2427', '2428', '2429', '2430', '2432', '2433', '2434', '2435', '2436', '2437', '2438', '2439', '2440', '2441', '2442', '2443', '2444', '2445', '2447', '2448', '2449', '2450', '2454', '2455', '2456', '2459', '2460', '2461', '2463', '2464', '2465', '2466', '2467', '2469', '2470', '2471', '2472', '2473', '2474', '2475', '2476', '2477', '2478', '2480', '2481', '2482', '2483', '2484', '2486', '2487', '2488', '2489', '2490', '2491', '2492', '2493', '2495', '2496', '2497', '2498', '2499', '2500', '2501', '2502', '2503', '2504', '2505', '2506', '2507', '2508', '2509', '2511', '2512', '2513', '2514', '2515', '2516', '2517', '2518', '2519', '2520', '2521', '2522', '2523', '2524', '2525', '2527', '2528', '2529', '2530', '2531', '2532', '2533', '2534', '2535', '2536', '2537', '2538', '2539', '2540', '2541', '2542', '2543', '2544', '2545', '2546', '2547', '2548', '2549', '2551', '2552', '2553', '2554', '2555', '2556', '2557', '2558', '2559', '2560', '2561', '2562', '2563', '2564', '2565', '2566', '2567', '2568', '2569', '2570', '2571', '2572', '2573', '2574', '2575', '2576', '2577', '2579', '2580', '2581', '2582', '2583', '2584', '2585', '2586', '2587', '2588', '2589', '2590', '2591', '2592', '2593', '2594', '2595', '2596', '2597', '2598', '2599', '2600', '2601', '2602', '2603', '2604', '2605', '2606', '2607', '2608', '2610', '2611', '2612', '2613', '2614', '2615', '2616', '2617', '2618', '2620', '2623', '2624', '2626', '2627', '2628', '2630', '2631', '2632', '2633', '2634', '2635', '2636', '2637', '2638', '2639', '2640', '2641', '2642', '2643', '2645', '2646', '2647', '2648', '2649', '2650', '2651', '2652', '2653', '2654', '2655', '2656', '2658', '2659', '2660', '2661', '2662', '2663', '2664', '2665', '2666', '2667', '2668', '2669', '2670', '2671', '2672', '2673', '2674', '2675', '2677', '2678', '2679', '2680', '2681', '2682', '2683', '2684', '2685', '2686', '2687', '2688', '2690', '2691', '2692', '2693', '2694', '2695', '2696', '2697', '2698', '2700', '2701', '2702', '2703', '2704', '2705', '2706', '2707', '2708', '2709', '2710', '2711', '2712', '2713', '2714', '2715', '2716', '2717', '2718', '2719', '2720', '2721', '2722', '2723', '2724', '2725', '2726', '2727', '2728', '2729', '2730', '2731', '2732', '2733', '2734', '2735', '2736', '2737', '2739', '2740', '2742', '2743', '2744', '2745', '2746', '2747', '2748', '2749', '2750', '2751', '2752', '2753', '2754', '2755', '2756', '2757', '2758', '2759', '2760', '2762', '2763', '2764', '2765', '2766', '2767', '2768', '2769', '2770', '2771', '2772', '2774', '2775', '2776', '2777', '2778', '2779', '2781', '2782', '2783', '2784', '2785', '2787', '2788', '2789', '2790', '2791', '2792', '2793', '2794', '2795', '2796', '2797', '2798', '2799', '2801', '2802', '2804', '2805', '2806', '2807', '2808', '2809', '2811', '2812', '2813', '2814', '2815', '2816', '2817', '2818', '2819', '2820', '2821', '2822', '2823', '2824', '2825', '2826', '2827', '2828', '2829', '2830', '2831', '2832', '2833', '2834', '2835', '2836', '2837', '2838', '2839', '2840', '2841', '2842', '2843', '2844', '2845', '2846', '2847', '2848', '2849', '2850', '2851', '2852', '2853', '2854', '2855', '2856', '2857', '2858', '2859', '2860', '2861', '2862', '2863', '2864', '2865', '2866', '2867', '2868', '2869', '2870', '2871', '2872', '2873', '2875', '2876', '2877', '2878', '2879', '2880', '2881', '2882', '2883', '2884', '2885', '2886', '2887', '2888', '2890', '2891', '2892', '2893', '2894', '2895', '2896', '2897', '2898', '2899', '2900', '2901', '2902', '2903', '2904', '2905', '2906', '2907', '2908', '2909', '2910', '2911', '2912', '2913', '2914', '2915', '2916', '2917', '2918', '2919', '2920', '2921', '2922', '2923', '2924', '2925', '2926', '2927', '2928', '2929', '2930', '2932', '2933', '2934', '2935', '2936', '2937', '2938', '2939', '2940', '2941', '2942', '2943', '2944', '2945', '2946', '2947', '2948', '2949', '2950', '2951', '2952', '2953', '2954', '2955', '2956', '2957', '2958', '2959', '2960', '2961', '2962', '2963', '2964', '2965', '2966', '2967', '2968', '2969', '2970', '2971', '2972', '2973', '2976', '2977', '2978', '2979', '2980', '2981', '2982', '2983', '2984', '2986', '2987', '2988', '2989', '2990', '2991', '2992', '2993', '2994', '2995', '2996', '2997', '2998', '0_3451', '1_3452', '2_3453', '3_3454', '4_3455', '6_3457', '7_3458', '8_3459', '9_3460', '10_3461', '11_3462', '12_3463', '13_3464', '14_3465', '15_3466', '16_3467', '17_3468', '18_3469', '19_3470', '22_3473', '23_3474', '24_3475', '25_3476', '26_3477', '31_3482', '32_3483', '34_3485', '35_3486', '36_3487', '37_3488', '38_3489', '39_3490', '40_3491', '42_3493', '43_3494', '44_3495', '46_3497', '47_3498', '48_3499', '50_3501', '51_3502', '52_3503', '53_3504', '54_3505', '55_3506', '56_3507', '57_3508', '58_3509', '59_3510', '60_3511', '61_3512', '63_3514', '64_3515', '66_3517', '67_3518', '68_3519', '69_3520', '70_3521', '71_3522', '72_3523', '73_3524', '74_3525', '75_3526', '76_3527', '77_3528', '78_3529', '79_3530', '81_3532', '83_3534', '86_3537', '87_3538', '88_3539', '89_3540', '90_3541', '93_3544', '94_3545', '96_3547', '97_3548', '98_3549', '99_3550', '100_3551', '101_3552', '102_3553', '103_3554', '104_3555', '105_3556', '106_3557', '107_3558', '108_3559', '109_3560', '110_3561', '112_3563', '115_3566', '117_3568', '118_3569', '120_3571', '122_3573', '123_3574', '125_3576', '126_3577', '128_3579', '129_3580', '130_3581', '131_3582', '132_3583', '135_3586', '136_3587', '137_3588', '139_3590', '140_3591', '141_3592', '144_3595', '146_3597', '147_3598', '148_3599', '150_3601', '151_3602', '152_3603', '156_3607', '159_3610', '161_3612', '162_3613', '163_3614', '164_3615', '166_3617', '167_3618', '168_3619', '169_3620', '170_3621', '171_3622', '172_3623', '173_3624', '174_3625', '176_3627', '177_3628', '178_3629', '179_3630', '181_3632', '182_3633', '183_3634', '184_3635', '185_3636', '186_3637', '187_3638', '188_3639', '189_3640', '190_3641', '191_3642', '192_3643', '193_3644', '194_3645', '195_3646', '196_3647', '197_3648', '198_3649', '199_3650', '200_3651', '201_3652', '202_3653', '204_3655', '205_3656', '206_3657', '209_3660', '211_3662', '212_3663', '213_3664', '214_3665', '215_3666', '216_3667', '217_3668', '218_3669', '220_3671', '221_3672', '222_3673', '223_3674', '224_3675', '225_3676', '227_3678', '228_3679', '229_3680', '233_3684', '234_3685', '235_3686', '236_3687', '237_3688', '238_3689', '239_3690', '240_3691', '241_3692', '242_3693', '244_3695', '245_3696', '247_3698', '248_3699', '250_3701', '251_3702', '252_3703', '254_3705', '255_3706', '256_3707', '257_3708', '258_3709', '259_3710', '260_3711', '261_3712', '262_3713', '263_3714', '264_3715', '265_3716', '266_3717', '267_3718', '268_3719', '269_3720', '270_3721', '271_3722', '275_3726', '277_3728', '278_3729', '282_3733', '283_3734', '290_3741', '291_3742', '292_3743', '293_3744', '294_3745', '295_3746', '296_3747', '297_3748', '298_3749', '299_3750', '300_3751', '302_3753', '305_3756', '306_3757', '307_3758', '308_3759', '309_3760', '310_3761', '311_3762', '312_3763', '313_3764', '314_3765', '315_3766', '317_3768', '318_3769', '319_3770', '320_3771', '321_3772', '322_3773', '323_3774', '324_3775', '325_3776', '327_3778', '328_3779', '329_3780', '330_3781', '332_3783', '333_3784', '334_3785', '335_3786', '336_3787', '337_3788', '338_3789', '339_3790', '340_3791', '342_3793', '346_3797', '347_3798', '348_3799', '349_3800', '350_3801', '351_3802', '352_3803', '354_3805', '355_3806', '357_3808', '358_3809', '359_3810', '361_3812', '362_3813', '363_3814', '364_3815', '365_3816', '366_3817', '367_3818', '368_3819', '370_3821', '372_3823', '373_3824', '374_3825', '375_3826', '376_3827', '377_3828', '378_3829', '379_3830', '380_3831', '381_3832', '382_3833', '383_3834', '384_3835', '385_3836', '386_3837', '387_3838', '388_3839', '389_3840', '390_3841', '392_3843', '394_3845', '396_3847', '397_3848', '400_3851', '402_3853', '403_3854', '404_3855', '405_3856', '407_3858', '409_3860', '410_3861', '411_3862', '412_3863', '413_3864', '414_3865', '418_3869', '419_3870', '421_3872', '422_3873', '423_3874', '424_3875', '425_3876', '426_3877', '427_3878', '428_3879', '429_3880', '430_3881', '431_3882', '433_3884', '435_3886', '438_3889', '439_3890', '440_3891', '441_3892', '442_3893', '443_3894', '444_3895', '447_3898', '448_3899', '449_3900', '450_3901', '451_3902', '453_3904', '454_3905', '455_3906', '456_3907', '457_3908', '459_3910', '461_3912', '462_3913', '463_3914', '465_3916', '466_3917', '467_3918', '468_3919', '469_3920', '470_3921', '471_3922', '472_3923', '473_3924', '474_3925', '475_3926', '476_3927', '477_3928', '478_3929', '480_3931', '482_3933', '483_3934', '484_3935', '485_3936', '486_3937', '487_3938', '488_3939', '489_3940', '490_3941', '491_3942', '492_3943', '493_3944', '495_3946', '497_3948', '500_3951', '501_3952', '502_3953', '503_3954', '504_3955', '505_3956', '507_3958', '508_3959', '509_3960', '510_3961', '511_3962', '512_3963', '514_3965', '515_3966', '516_3967', '517_3968', '519_3970', '520_3971', '521_3972', '522_3973', '523_3974', '524_3975', '525_3976', '526_3977', '527_3978', '528_3979', '529_3980', '530_3981', '531_3982', '532_3983', '533_3984', '534_3985', '535_3986', '536_3987', '537_3988', '538_3989', '539_3990', '540_3991', '543_3994', '544_3995', '545_3996', '546_3997', '548_3999', '549_4000', '550_4001', '551_4002', '552_4003', '553_4004', '554_4005', '555_4006', '556_4007', '1_4009', '5_4013', '7_4015', '8_4016', '13_4021', '15_4023', '20_4028', '28_4036', '30_4038', '31_4039', '33_4041', '34_4042', '35_4043', '36_4044', '37_4045', '39_4047', '41_4049', '42_4050', '43_4051', '44_4052', '47_4055', '50_4058', '52_4060', '53_4061', '61_4069', '62_4070', '63_4071', '72_4080', '74_4082', '77_4085', '78_4086', '79_4087', '81_4089', '82_4090', '83_4091', '85_4093', '86_4094', '87_4095', '88_4096', '90_4098', '91_4099', '92_4100', '94_4102', '95_4103', '97_4105', '98_4106', '99_4107', '100_4108', '101_4109', '102_4110', '104_4112', '105_4113', '106_4114', '107_4115', '109_4117', '111_4119', '112_4120', '9_4132', '10_4133', '16_4139', '18_4141', '19_4142', '20_4143', '28_4151', '32_4155', '36_4159', '37_4160', '3_4178', '4_4179', '5_4180', '6_4181', '7_4182', '8_4183', '9_4184'] not found in axis\""
     ]
    }
   ],
   "source": [
    "X_sex = X_sex.drop(low_importance_features, axis=1)"
   ]
  },
  {
   "cell_type": "markdown",
   "id": "08fd2378",
   "metadata": {},
   "source": [
    "# Проверим модели"
   ]
  },
  {
   "cell_type": "code",
   "execution_count": null,
   "id": "d115364b",
   "metadata": {},
   "outputs": [],
   "source": [
    "%%time\n",
    "# Список наименований базовых алгоритмов\n",
    "names = [\n",
    "#         'Логистическая регрессия', \n",
    "#          'Байесовский классификатор',\n",
    "         'Случайный лес',\n",
    "         'Градиентный бустинг XGBoost',\n",
    "         'Градиентный бустинг CatBoost', \n",
    "         'Градиентный бустинг LightGBM'\n",
    "]\n",
    "# Список алгоритмов\n",
    "models = [\n",
    "#         LogisticRegression(),\n",
    "#           GaussianNB(), \n",
    "          RandomForestClassifier(n_jobs=-1, random_state=42), \n",
    "          XGBClassifier(objective='binary:logistic', random_state=42, n_jobs=-1),\n",
    "          CatBoostClassifier(random_state=42, verbose = False, task_type='GPU', devices='0:1',),\n",
    "          LGBMClassifier(random_state=42, n_jobs=-1)\n",
    "]\n",
    "scores = []\n",
    "for model in tqdm(models): # кросс-валидация на каждом алгоритме с подсчетом средней метрики\n",
    "    model.fit(x_train, y_train)\n",
    "    pred = model.predict(x_val)\n",
    "#     scores.append(roc_auc_score(y_val, pred))\n",
    "    scores.append(cross_val_score(model, X_sex, y_sex, cv=4, n_jobs=-1).mean())\n",
    "    print(scores)\n",
    "    del model, pred\n",
    "# Вывод метрик качества рассматриваемых алгоритмов\n",
    "pd.DataFrame({'score': scores}, index=names).sort_values(by='score', ascending=False)"
   ]
  },
  {
   "cell_type": "code",
   "execution_count": null,
   "id": "f60d486b",
   "metadata": {},
   "outputs": [],
   "source": [
    "# report = pd.DataFrame({'score': scores}, index=names).sort_values(by='score', ascending=False)\n",
    "# report.to_csv('./report_clf.csv', index_label=False)"
   ]
  },
  {
   "cell_type": "code",
   "execution_count": null,
   "id": "7f04466c",
   "metadata": {},
   "outputs": [],
   "source": [
    "# %%time\n",
    "# x_train, x_val, y_train, y_val = train_test_split(\\\n",
    "#     X_sex, y_sex, test_size = 0.2, random_state = 350)\n",
    "# clf_sex = CatBoostClassifier(\n",
    "#     iterations=1000,\n",
    "#     task_type='GPU', \n",
    "#     devices='0:1',\n",
    "#     custom_loss=['AUC', 'Accuracy'],\n",
    "#     max_depth=8,\n",
    "#     l2_leaf_reg=2\n",
    "# )\n",
    "# clf_sex.fit(\n",
    "#     x_train, \n",
    "#     y_train,\n",
    "# #     cat_features= CAT_SEX_COLS,\n",
    "#     verbose = False,\n",
    "#     plot=True,\n",
    "#     eval_set=(x_val, y_val),\n",
    "#        )\n",
    "# print(f'GINI по полу {2 * m.roc_auc_score(y_val, clf_sex.predict_proba(x_val)[:,1]) - 1:2.3f}')"
   ]
  },
  {
   "cell_type": "code",
   "execution_count": null,
   "id": "6c1a6a44",
   "metadata": {},
   "outputs": [],
   "source": [
    "print(f'GINI по полу {2 * m.roc_auc_score(y_val, clf_sex.predict_proba(x_val)[:,1]) - 1:2.3f}')"
   ]
  },
  {
   "cell_type": "code",
   "execution_count": null,
   "id": "23678573",
   "metadata": {},
   "outputs": [],
   "source": [
    "print(m.classification_report(y_val, clf_sex.predict(x_val)))"
   ]
  },
  {
   "cell_type": "code",
   "execution_count": null,
   "id": "45e82d6c",
   "metadata": {},
   "outputs": [],
   "source": [
    "plt.figure(figsize=(40, 10))\n",
    "plt.bar(train.columns[2:],clf_sex.feature_importances_)\n",
    "plt.xticks(rotation=90);"
   ]
  },
  {
   "cell_type": "code",
   "execution_count": null,
   "id": "1594bffd",
   "metadata": {},
   "outputs": [],
   "source": []
  },
  {
   "cell_type": "code",
   "execution_count": null,
   "id": "9ad0b2e4",
   "metadata": {},
   "outputs": [],
   "source": []
  },
  {
   "cell_type": "code",
   "execution_count": null,
   "id": "c35efa55",
   "metadata": {},
   "outputs": [],
   "source": []
  },
  {
   "cell_type": "code",
   "execution_count": null,
   "id": "f5ec237d",
   "metadata": {},
   "outputs": [],
   "source": []
  },
  {
   "cell_type": "code",
   "execution_count": null,
   "id": "91872a4d",
   "metadata": {},
   "outputs": [],
   "source": []
  },
  {
   "cell_type": "code",
   "execution_count": null,
   "id": "f65bb135",
   "metadata": {},
   "outputs": [],
   "source": []
  },
  {
   "cell_type": "code",
   "execution_count": null,
   "id": "5a18ec9e",
   "metadata": {},
   "outputs": [],
   "source": []
  },
  {
   "cell_type": "markdown",
   "id": "4618a74b",
   "metadata": {},
   "source": [
    "# AGE"
   ]
  },
  {
   "cell_type": "code",
   "execution_count": 21,
   "id": "3668c8e2",
   "metadata": {},
   "outputs": [],
   "source": [
    "train_age = train[train['age'] != 'NA'].dropna()\n",
    "train_age['age'] = train_age['age'].map(age_bucket).astype('int')\n",
    "X_age = train_age.drop(['age', 'is_male'], axis = 1)\n",
    "y_age = train_age['age']\n"
   ]
  },
  {
   "cell_type": "code",
   "execution_count": 22,
   "id": "f04ecbce",
   "metadata": {},
   "outputs": [
    {
     "data": {
      "application/vnd.jupyter.widget-view+json": {
       "model_id": "371b5cd9a6c442b9b10b977066cfa879",
       "version_major": 2,
       "version_minor": 0
      },
      "text/plain": [
       "MetricVisualizer(layout=Layout(align_self='stretch', height='500px'))"
      ]
     },
     "metadata": {},
     "output_type": "display_data"
    },
    {
     "name": "stderr",
     "output_type": "stream",
     "text": [
      "AUC is not implemented on GPU. Will use CPU for metric computation, this could significantly affect learning time\n"
     ]
    },
    {
     "name": "stdout",
     "output_type": "stream",
     "text": [
      "CPU times: total: 9min 8s\n",
      "Wall time: 4min 2s\n"
     ]
    },
    {
     "data": {
      "text/plain": [
       "<catboost.core.CatBoostClassifier at 0x25deaf07670>"
      ]
     },
     "execution_count": 22,
     "metadata": {},
     "output_type": "execute_result"
    }
   ],
   "source": [
    "%%time\n",
    "x_train, x_val, y_train, y_val = train_test_split(X_age, y_age, test_size = 0.2, random_state = 350)\n",
    "\n",
    "clf_age = CatBoostClassifier(\n",
    "    iterations=1500,\n",
    "    task_type='GPU', \n",
    "    devices='0:1',\n",
    "    custom_loss=['AUC', 'Accuracy'],\n",
    "    l2_leaf_reg=10,\n",
    "    boosting_type='Plain',\n",
    "#     learning_rate=0.001,\n",
    "#     num_trees=200\n",
    "\n",
    "\n",
    ")\n",
    "\n",
    "clf_age.fit(\n",
    "    x_train, \n",
    "    y_train,\n",
    "    verbose = False,\n",
    "    plot=True,\n",
    "    eval_set=(x_val, y_val),\n",
    "       )\n"
   ]
  },
  {
   "cell_type": "code",
   "execution_count": null,
   "id": "c1160e16",
   "metadata": {},
   "outputs": [],
   "source": [
    "# y_age.hist()"
   ]
  },
  {
   "cell_type": "code",
   "execution_count": 24,
   "id": "12ef67c2",
   "metadata": {},
   "outputs": [
    {
     "name": "stdout",
     "output_type": "stream",
     "text": [
      "              precision    recall  f1-score   support\n",
      "\n",
      "       19-25       0.57      0.38      0.46      6348\n",
      "       26-35       0.51      0.64      0.57     17335\n",
      "       36-45       0.41      0.54      0.47     15219\n",
      "       46-55       0.39      0.22      0.28      8255\n",
      "       56-65       0.44      0.21      0.29      4612\n",
      "         66+       0.37      0.01      0.02      1084\n",
      "\n",
      "    accuracy                           0.46     52853\n",
      "   macro avg       0.45      0.33      0.35     52853\n",
      "weighted avg       0.46      0.46      0.45     52853\n",
      "\n"
     ]
    }
   ],
   "source": [
    "predict = clf_age.predict(x_val).reshape(1, -1)[0]\n",
    "print(m.classification_report(y_val.values, predict, \\\n",
    "                            target_names = ['19-25', '26-35','36-45', '46-55', '56-65', '66+']))"
   ]
  },
  {
   "cell_type": "code",
   "execution_count": 25,
   "id": "b636acad",
   "metadata": {},
   "outputs": [
    {
     "data": {
      "image/png": "[encoded data removed]",
      "text/plain": [
       "<Figure size 4000x1000 with 1 Axes>"
      ]
     },
     "metadata": {},
     "output_type": "display_data"
    }
   ],
   "source": [
    "plt.figure(figsize=(40, 10))\n",
    "plt.bar(train.columns[2:],clf_age.feature_importances_)\n",
    "plt.xticks(rotation=90);"
   ]
  },
  {
   "cell_type": "code",
   "execution_count": null,
   "id": "7fda770a",
   "metadata": {},
   "outputs": [],
   "source": [
    "import seaborn as sns"
   ]
  },
  {
   "cell_type": "code",
   "execution_count": null,
   "id": "0756d3d6",
   "metadata": {},
   "outputs": [],
   "source": [
    "sns.pairplot(train[['is_male','0_4166', 'days_first_to_last_visit']], hue = 'is_male');"
   ]
  },
  {
   "cell_type": "code",
   "execution_count": 28,
   "id": "897b6e10",
   "metadata": {},
   "outputs": [
    {
     "name": "stdout",
     "output_type": "stream",
     "text": [
      "Кол-во беспонтовых фичей: 2621\n"
     ]
    }
   ],
   "source": [
    "print(f'Кол-во беспонтовых фичей: {len(np.where(clf_age.feature_importances_ == 0)[0])}')"
   ]
  },
  {
   "cell_type": "code",
   "execution_count": null,
   "id": "b45e8169",
   "metadata": {},
   "outputs": [],
   "source": []
  },
  {
   "cell_type": "code",
   "execution_count": null,
   "id": "6b2ca6c4",
   "metadata": {},
   "outputs": [],
   "source": []
  },
  {
   "cell_type": "code",
   "execution_count": null,
   "id": "2d93bf29",
   "metadata": {},
   "outputs": [],
   "source": []
  },
  {
   "cell_type": "code",
   "execution_count": null,
   "id": "e3ea7128",
   "metadata": {},
   "outputs": [],
   "source": []
  },
  {
   "cell_type": "code",
   "execution_count": null,
   "id": "c81cb4ee",
   "metadata": {},
   "outputs": [],
   "source": []
  },
  {
   "cell_type": "code",
   "execution_count": null,
   "id": "c6dd1994",
   "metadata": {},
   "outputs": [],
   "source": []
  },
  {
   "cell_type": "code",
   "execution_count": null,
   "id": "d07c5637",
   "metadata": {},
   "outputs": [],
   "source": []
  },
  {
   "cell_type": "code",
   "execution_count": null,
   "id": "cd23883d",
   "metadata": {},
   "outputs": [],
   "source": []
  },
  {
   "cell_type": "code",
   "execution_count": null,
   "id": "29c0d949",
   "metadata": {},
   "outputs": [],
   "source": []
  },
  {
   "cell_type": "code",
   "execution_count": null,
   "id": "f4365710",
   "metadata": {},
   "outputs": [],
   "source": []
  },
  {
   "cell_type": "code",
   "execution_count": null,
   "id": "c09a88ff",
   "metadata": {},
   "outputs": [],
   "source": []
  },
  {
   "cell_type": "code",
   "execution_count": null,
   "id": "dfe8b2df",
   "metadata": {},
   "outputs": [],
   "source": []
  },
  {
   "cell_type": "code",
   "execution_count": null,
   "id": "7bb714d9",
   "metadata": {},
   "outputs": [],
   "source": []
  },
  {
   "cell_type": "code",
   "execution_count": null,
   "id": "37722740",
   "metadata": {},
   "outputs": [],
   "source": []
  },
  {
   "cell_type": "code",
   "execution_count": null,
   "id": "02202d12",
   "metadata": {},
   "outputs": [],
   "source": []
  },
  {
   "cell_type": "code",
   "execution_count": null,
   "id": "578b65a0",
   "metadata": {},
   "outputs": [],
   "source": []
  },
  {
   "cell_type": "code",
   "execution_count": null,
   "id": "74922c33",
   "metadata": {},
   "outputs": [],
   "source": []
  },
  {
   "cell_type": "code",
   "execution_count": null,
   "id": "aeb32bb9",
   "metadata": {},
   "outputs": [],
   "source": []
  },
  {
   "cell_type": "code",
   "execution_count": null,
   "id": "bd401c63",
   "metadata": {},
   "outputs": [],
   "source": []
  },
  {
   "cell_type": "code",
   "execution_count": null,
   "id": "20c18683",
   "metadata": {},
   "outputs": [],
   "source": []
  },
  {
   "cell_type": "code",
   "execution_count": null,
   "id": "00127fe8",
   "metadata": {},
   "outputs": [],
   "source": []
  },
  {
   "cell_type": "code",
   "execution_count": null,
   "id": "928704f1",
   "metadata": {},
   "outputs": [],
   "source": []
  },
  {
   "cell_type": "code",
   "execution_count": null,
   "id": "59e95306",
   "metadata": {},
   "outputs": [],
   "source": []
  },
  {
   "cell_type": "code",
   "execution_count": null,
   "id": "16682379",
   "metadata": {},
   "outputs": [],
   "source": []
  },
  {
   "cell_type": "code",
   "execution_count": null,
   "id": "e8dd33f1",
   "metadata": {},
   "outputs": [],
   "source": []
  },
  {
   "cell_type": "code",
   "execution_count": null,
   "id": "d58aa5e2",
   "metadata": {},
   "outputs": [],
   "source": []
  },
  {
   "cell_type": "code",
   "execution_count": null,
   "id": "6b9ea738",
   "metadata": {},
   "outputs": [],
   "source": []
  },
  {
   "cell_type": "code",
   "execution_count": null,
   "id": "f9a6af7d",
   "metadata": {},
   "outputs": [],
   "source": []
  },
  {
   "cell_type": "code",
   "execution_count": null,
   "id": "2b743199",
   "metadata": {},
   "outputs": [],
   "source": []
  },
  {
   "cell_type": "code",
   "execution_count": null,
   "id": "eb201a98",
   "metadata": {},
   "outputs": [],
   "source": []
  },
  {
   "cell_type": "code",
   "execution_count": null,
   "id": "3a336ac5",
   "metadata": {},
   "outputs": [],
   "source": []
  },
  {
   "cell_type": "code",
   "execution_count": null,
   "id": "39ead2e5",
   "metadata": {},
   "outputs": [],
   "source": []
  },
  {
   "cell_type": "code",
   "execution_count": null,
   "id": "39f520eb",
   "metadata": {},
   "outputs": [],
   "source": []
  },
  {
   "cell_type": "code",
   "execution_count": null,
   "id": "566c6f56",
   "metadata": {},
   "outputs": [],
   "source": []
  },
  {
   "cell_type": "code",
   "execution_count": null,
   "id": "4d161711",
   "metadata": {},
   "outputs": [],
   "source": []
  },
  {
   "cell_type": "code",
   "execution_count": null,
   "id": "95f40e85",
   "metadata": {},
   "outputs": [],
   "source": []
  },
  {
   "cell_type": "code",
   "execution_count": null,
   "id": "339a7341",
   "metadata": {},
   "outputs": [],
   "source": []
  }
 ],
 "metadata": {
  "kernelspec": {
   "display_name": "Python 3 (ipykernel)",
   "language": "python",
   "name": "python3"
  },
  "language_info": {
   "codemirror_mode": {
    "name": "ipython",
    "version": 3
   },
   "file_extension": ".py",
   "mimetype": "text/x-python",
   "name": "python",
   "nbconvert_exporter": "python",
   "pygments_lexer": "ipython3",
   "version": "3.9.7"
  }
 },
 "nbformat": 4,
 "nbformat_minor": 5
}
