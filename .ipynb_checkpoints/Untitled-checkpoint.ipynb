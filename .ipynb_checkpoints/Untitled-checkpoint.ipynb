{
 "cells": [
  {
   "cell_type": "code",
   "execution_count": 1,
   "id": "512d4693",
   "metadata": {},
   "outputs": [],
   "source": [
    "import sys\n",
    "import os\n",
    "import warnings\n",
    "os.environ['OPENBLAS_NUM_THREADS'] = '1'\n",
    "warnings.filterwarnings('ignore')"
   ]
  },
  {
   "cell_type": "code",
   "execution_count": 2,
   "id": "6b6e550e",
   "metadata": {},
   "outputs": [],
   "source": [
    "import tqdm\n",
    "import pickle \n",
    "import random"
   ]
  },
  {
   "cell_type": "code",
   "execution_count": 3,
   "id": "6689c884",
   "metadata": {},
   "outputs": [],
   "source": [
    "import pandas as pd\n",
    "import numpy as np\n",
    "import time\n",
    "import pyarrow.parquet as pq\n",
    "import pyarrow as pa\n",
    "import scipy\n",
    "import implicit\n",
    "import bisect\n",
    "import sklearn.metrics as m\n",
    "from catboost import CatBoostClassifier, CatBoostRegressor, Pool\n",
    "from sklearn.model_selection import train_test_split\n",
    "from sklearn.calibration import calibration_curve, CalibratedClassifierCV\n",
    "from sklearn.preprocessing import LabelEncoder"
   ]
  },
  {
   "cell_type": "code",
   "execution_count": 4,
   "id": "380b20da",
   "metadata": {},
   "outputs": [],
   "source": [
    "# LOCAL_DATA_PATH = ''\n",
    "# SPLIT_SEED = 42\n",
    "# DATA_FILE = 'competition_data_final_pqt'\n",
    "# TARGET_FILE = 'public_train.pqt'\n",
    "# SUBMISSION_FILE = 'submit.pqt'"
   ]
  },
  {
   "cell_type": "code",
   "execution_count": 5,
   "id": "232b0c30",
   "metadata": {},
   "outputs": [],
   "source": [
    "# DIRECTORY = \"E:/mts/competition_data_final_pqt\""
   ]
  },
  {
   "cell_type": "code",
   "execution_count": 6,
   "id": "ed8208d0",
   "metadata": {},
   "outputs": [],
   "source": [
    "# files = [DIRECTORY + '/' + os.path.join(f) for f in os.listdir(DIRECTORY) if f.endswith('.parquet')]"
   ]
  },
  {
   "cell_type": "code",
   "execution_count": 7,
   "id": "2fce8ccd",
   "metadata": {},
   "outputs": [],
   "source": [
    "# dfs = [pd.read_parquet(p, engine='pyarrow') for p in parquets[:]]\n",
    "# df = pd.concat(dfs, ignore_index=True)\n",
    "# df.to_csv('E:/mts/total.csv', index=False)"
   ]
  },
  {
   "cell_type": "code",
   "execution_count": 8,
   "id": "43eba82a",
   "metadata": {},
   "outputs": [],
   "source": [
    "OBJ_COLS = [\n",
    "            'region_name', \n",
    "            'city_name', \n",
    "            'cpe_manufacturer_name',\n",
    "            'cpe_model_name',\n",
    "            'url_host',\n",
    "            'cpe_type_cd',\n",
    "            'cpe_model_os_type', \n",
    "#             'price', \n",
    "#             'date',\n",
    "            'part_of_day', \n",
    "#             'request_cnt',\n",
    "#             'user_id'\n",
    "           ]\n",
    "\n",
    "DIGIT_COLS = [\n",
    "            'price', \n",
    "            'date',\n",
    "            'request_cnt',\n",
    "            'user_id'\n",
    "            ]"
   ]
  },
  {
   "cell_type": "code",
   "execution_count": 9,
   "id": "0a5c1386",
   "metadata": {},
   "outputs": [],
   "source": [
    "parts = pd.read_csv('E:/mts/total.csv', chunksize=100, iterator=True, low_memory=True, engine='python')"
   ]
  },
  {
   "cell_type": "code",
   "execution_count": 10,
   "id": "6125ba4d",
   "metadata": {},
   "outputs": [],
   "source": [
    "temp  = next(iter(parts))"
   ]
  },
  {
   "cell_type": "code",
   "execution_count": 11,
   "id": "19ddf4a0",
   "metadata": {},
   "outputs": [
    {
     "data": {
      "text/html": [
       "<div>\n",
       "<style scoped>\n",
       "    .dataframe tbody tr th:only-of-type {\n",
       "        vertical-align: middle;\n",
       "    }\n",
       "\n",
       "    .dataframe tbody tr th {\n",
       "        vertical-align: top;\n",
       "    }\n",
       "\n",
       "    .dataframe thead th {\n",
       "        text-align: right;\n",
       "    }\n",
       "</style>\n",
       "<table border=\"1\" class=\"dataframe\">\n",
       "  <thead>\n",
       "    <tr style=\"text-align: right;\">\n",
       "      <th></th>\n",
       "      <th>region_name</th>\n",
       "      <th>city_name</th>\n",
       "      <th>cpe_manufacturer_name</th>\n",
       "      <th>cpe_model_name</th>\n",
       "      <th>url_host</th>\n",
       "      <th>cpe_type_cd</th>\n",
       "      <th>cpe_model_os_type</th>\n",
       "      <th>price</th>\n",
       "      <th>date</th>\n",
       "      <th>part_of_day</th>\n",
       "      <th>request_cnt</th>\n",
       "      <th>user_id</th>\n",
       "    </tr>\n",
       "  </thead>\n",
       "  <tbody>\n",
       "    <tr>\n",
       "      <th>0</th>\n",
       "      <td>Краснодарский край</td>\n",
       "      <td>Краснодар</td>\n",
       "      <td>Apple</td>\n",
       "      <td>iPhone 7</td>\n",
       "      <td>ad.adriver.ru</td>\n",
       "      <td>smartphone</td>\n",
       "      <td>iOS</td>\n",
       "      <td>20368.0</td>\n",
       "      <td>2022-06-15</td>\n",
       "      <td>morning</td>\n",
       "      <td>1</td>\n",
       "      <td>45098</td>\n",
       "    </tr>\n",
       "    <tr>\n",
       "      <th>1</th>\n",
       "      <td>Краснодарский край</td>\n",
       "      <td>Краснодар</td>\n",
       "      <td>Apple</td>\n",
       "      <td>iPhone 7</td>\n",
       "      <td>apple.com</td>\n",
       "      <td>smartphone</td>\n",
       "      <td>iOS</td>\n",
       "      <td>20368.0</td>\n",
       "      <td>2022-06-19</td>\n",
       "      <td>morning</td>\n",
       "      <td>1</td>\n",
       "      <td>45098</td>\n",
       "    </tr>\n",
       "    <tr>\n",
       "      <th>2</th>\n",
       "      <td>Краснодарский край</td>\n",
       "      <td>Краснодар</td>\n",
       "      <td>Apple</td>\n",
       "      <td>iPhone 7</td>\n",
       "      <td>avatars.mds.yandex.net</td>\n",
       "      <td>smartphone</td>\n",
       "      <td>iOS</td>\n",
       "      <td>20368.0</td>\n",
       "      <td>2022-06-12</td>\n",
       "      <td>day</td>\n",
       "      <td>1</td>\n",
       "      <td>45098</td>\n",
       "    </tr>\n",
       "  </tbody>\n",
       "</table>\n",
       "</div>"
      ],
      "text/plain": [
       "          region_name  city_name cpe_manufacturer_name cpe_model_name  \\\n",
       "0  Краснодарский край  Краснодар                 Apple       iPhone 7   \n",
       "1  Краснодарский край  Краснодар                 Apple       iPhone 7   \n",
       "2  Краснодарский край  Краснодар                 Apple       iPhone 7   \n",
       "\n",
       "                 url_host cpe_type_cd cpe_model_os_type    price        date  \\\n",
       "0           ad.adriver.ru  smartphone               iOS  20368.0  2022-06-15   \n",
       "1               apple.com  smartphone               iOS  20368.0  2022-06-19   \n",
       "2  avatars.mds.yandex.net  smartphone               iOS  20368.0  2022-06-12   \n",
       "\n",
       "  part_of_day  request_cnt  user_id  \n",
       "0     morning            1    45098  \n",
       "1     morning            1    45098  \n",
       "2         day            1    45098  "
      ]
     },
     "execution_count": 11,
     "metadata": {},
     "output_type": "execute_result"
    }
   ],
   "source": [
    "temp[:3]"
   ]
  },
  {
   "cell_type": "code",
   "execution_count": 12,
   "id": "cc7fef7d",
   "metadata": {},
   "outputs": [
    {
     "name": "stdout",
     "output_type": "stream",
     "text": [
      "Couldn't find program: 'false'\n"
     ]
    }
   ],
   "source": [
    "%%script false\n",
    "### Сбор уникальных значений столбцов в словарь для преобразования датасета ###\n",
    "\n",
    "# Wall time: 8min 34s\n",
    "\n",
    "%%time\n",
    "unique_obj_dict = {}\n",
    "i = 0\n",
    "for chunk in pd.read_csv('E:/mts/total.csv', chunksize=100000000, iterator=True, low_memory=True):\n",
    "        i += 1\n",
    "        print(f'chunk_{i}')\n",
    "        for col in OBJ_COLS:\n",
    "            print(f'col_{col}')\n",
    "            if col not in unique_obj_dict:\n",
    "                unique_obj_dict[col] = set(chunk[col])\n",
    "            else:\n",
    "                unique_obj_dict[col] = unique_obj_dict[col].union(set(chunk[col]))"
   ]
  },
  {
   "cell_type": "code",
   "execution_count": 13,
   "id": "ba4199ba",
   "metadata": {},
   "outputs": [],
   "source": [
    "# with open ('E:/mts/unique_values_dict.pkl', 'wb') as f:\n",
    "#     pickle.dump(unique_obj_dict, f)"
   ]
  },
  {
   "cell_type": "code",
   "execution_count": 14,
   "id": "3c4d77c9",
   "metadata": {},
   "outputs": [],
   "source": [
    "with open ('E:/mts/unique_values_dict.pkl', 'rb') as f:\n",
    "    unique_obj_dict = pickle.load(f)"
   ]
  },
  {
   "cell_type": "code",
   "execution_count": 15,
   "id": "4e596020",
   "metadata": {},
   "outputs": [],
   "source": [
    "\n",
    "for d in unique_obj_dict:\n",
    "    unique_obj_dict[d] = dict(zip(unique_obj_dict[d], range(len(unique_obj_dict[d]))))"
   ]
  },
  {
   "cell_type": "code",
   "execution_count": 16,
   "id": "21c39f2b",
   "metadata": {},
   "outputs": [],
   "source": [
    "def reduce_mem_usage(df):\n",
    "    \n",
    "    \"\"\" iterate through all the columns of a dataframe and modify the data type\n",
    "        to reduce memory usage.\n",
    "    \"\"\"\n",
    "    start_mem = df.memory_usage().sum() / 1024**2\n",
    "    print('Memory usage of dataframe is {:.2f} MB'.format(start_mem))\n",
    "\n",
    "    for col in df.columns:    \n",
    "        \n",
    "        \n",
    "        col_type = df[col].dtype.name\n",
    "\n",
    "        if col_type not in ['object', 'category', 'datetime64[ns, UTC]']:\n",
    "                \n",
    "                \n",
    "                \n",
    "            c_min = df[col].min()\n",
    "            c_max = df[col].max()\n",
    "            if str(col_type)[:3] == 'int':\n",
    "                    \n",
    "                if c_min > np.iinfo(np.int8).min and c_max < np.iinfo(np.int8).max:\n",
    "                        \n",
    "                    df[col] = df[col].astype(np.int16)\n",
    "                elif c_min > np.iinfo(np.int16).min and c_max < np.iinfo(np.int16).max:\n",
    "                    df[col] = df[col].astype(np.int16)\n",
    "                elif c_min > np.iinfo(np.int32).min and c_max < np.iinfo(np.int32).max:\n",
    "                    df[col] = df[col].astype(np.int32)\n",
    "                elif c_min > np.iinfo(np.int64).min and c_max < np.iinfo(np.int64).max:\n",
    "                    df[col] = df[col].astype(np.int64)\n",
    "            else:\n",
    "                if c_min > np.finfo(np.float16).min and c_max < np.finfo(np.float16).max:\n",
    "                    df[col] = df[col].astype(np.float16)\n",
    "                elif c_min > np.finfo(np.float32).min and c_max < np.finfo(np.float32).max:\n",
    "                    df[col] = df[col].astype(np.float32)\n",
    "                else:\n",
    "                    df[col] = df[col].astype(np.float64)\n",
    "\n",
    "    end_mem = df.memory_usage().sum() / 1024**2\n",
    "    print('Memory usage after optimization is: {:.2f} MB'.format(end_mem))\n",
    "    print('Decreased by {:.1f}%'.format(100 * (start_mem - end_mem) / start_mem))\n",
    "\n",
    "    return df #= reduce_mem_usage(df)\n",
    "\n",
    "\n",
    "\n",
    "def get_maped_df():\n",
    "    df_result = None\n",
    "    i = 0\n",
    "    for chunk in pd.read_csv('E:/mts/total.csv', chunksize=100000000, iterator=True, low_memory=True):\n",
    "        i += 1\n",
    "        print(f'chunk_{i}')\n",
    "        df_temp = pd.DataFrame([])\n",
    "        for col in OBJ_COLS:\n",
    "            df_temp[col] = chunk[col].map(unique_obj_dict[col])\n",
    "            \n",
    "        for col in DIGIT_COLS:\n",
    "            df_temp[col] = chunk[col]\n",
    "            \n",
    "        if df_result is None:\n",
    "            df_result = df_temp\n",
    "        else:\n",
    "            df_result = pd.concat([df_result, df_temp], axis=0)\n",
    "        \n",
    "    return reduce_mem_usage(df_result)"
   ]
  },
  {
   "cell_type": "code",
   "execution_count": 17,
   "id": "8e5bb00a",
   "metadata": {},
   "outputs": [
    {
     "name": "stdout",
     "output_type": "stream",
     "text": [
      "Couldn't find program: 'false'\n"
     ]
    }
   ],
   "source": [
    "%%script false\n",
    "%%time\n",
    "maped_df = get_maped_df()\n",
    "maped_df.to_feather('E:/mts/mapped_inted_df.feather')\n",
    "\n",
    "\n",
    "# Memory usage of dataframe is 29562.33 MB\n",
    "# Memory usage after optimization is: 11085.87 MB\n",
    "# Decreased by 62.5%\n",
    "# CPU times: total: 10min 41s\n",
    "# Wall time: 11min 22s"
   ]
  },
  {
   "cell_type": "code",
   "execution_count": 18,
   "id": "e1cc8103",
   "metadata": {},
   "outputs": [],
   "source": [
    "%%script false\n",
    "%%time\n",
    "df = pd.read_feather('E:/mts/mapped_inted_df.feather')"
   ]
  },
  {
   "cell_type": "code",
   "execution_count": 19,
   "id": "4b9e095a",
   "metadata": {},
   "outputs": [
    {
     "name": "stdout",
     "output_type": "stream",
     "text": [
      "Couldn't find program: 'false'\n"
     ]
    }
   ],
   "source": [
    "%%script false\n",
    "\n",
    "subset = df.iloc[random.choices(range(len(df)), k=int(0.05 * len(df)))]\n",
    "subset = subset.reset_index(drop=True)\n",
    "subset.to_feather('E:/mts/random_df_0.05.feather') # Работаем с 5% от всего датасета"
   ]
  },
  {
   "cell_type": "markdown",
   "id": "0eaef756",
   "metadata": {},
   "source": [
    "Мысли\n",
    "\n",
    "- убрать признак региона\n",
    "- убрать cpe_manufacturer_name"
   ]
  },
  {
   "cell_type": "code",
   "execution_count": 20,
   "id": "55c19c51",
   "metadata": {},
   "outputs": [],
   "source": [
    "df_crop = pd.read_feather('E:/mts/random_df_0.05.feather')"
   ]
  },
  {
   "cell_type": "code",
   "execution_count": 21,
   "id": "8301a91f",
   "metadata": {
    "scrolled": false
   },
   "outputs": [
    {
     "data": {
      "image/png": "[encoded data removed]",
      "text/plain": [
       "<Figure size 2000x1000 with 12 Axes>"
      ]
     },
     "metadata": {},
     "output_type": "display_data"
    }
   ],
   "source": [
    "df_crop.hist(figsize=(20, 10));"
   ]
  },
  {
   "cell_type": "markdown",
   "id": "d5c2e0a7",
   "metadata": {},
   "source": [
    "Распределения на полном датасете и урезанном одинаковые.\n",
    "\n",
    "Проверять гипотезы будем урезанном для удобства."
   ]
  },
  {
   "cell_type": "code",
   "execution_count": 45,
   "id": "beef4c91",
   "metadata": {},
   "outputs": [],
   "source": [
    "public_train = pd.read_parquet('E:/mts/public_train.pqt')\n",
    "id_to_submit = pd.read_parquet('E:/mts/submit_2.pqt')"
   ]
  },
  {
   "cell_type": "code",
   "execution_count": 20,
   "id": "98195d2d",
   "metadata": {},
   "outputs": [
    {
     "data": {
      "text/html": [
       "<div>\n",
       "<style scoped>\n",
       "    .dataframe tbody tr th:only-of-type {\n",
       "        vertical-align: middle;\n",
       "    }\n",
       "\n",
       "    .dataframe tbody tr th {\n",
       "        vertical-align: top;\n",
       "    }\n",
       "\n",
       "    .dataframe thead th {\n",
       "        text-align: right;\n",
       "    }\n",
       "</style>\n",
       "<table border=\"1\" class=\"dataframe\">\n",
       "  <thead>\n",
       "    <tr style=\"text-align: right;\">\n",
       "      <th></th>\n",
       "      <th>region_name</th>\n",
       "      <th>city_name</th>\n",
       "      <th>cpe_manufacturer_name</th>\n",
       "      <th>cpe_model_name</th>\n",
       "      <th>url_host</th>\n",
       "      <th>cpe_type_cd</th>\n",
       "      <th>cpe_model_os_type</th>\n",
       "      <th>part_of_day</th>\n",
       "      <th>price</th>\n",
       "      <th>date</th>\n",
       "      <th>request_cnt</th>\n",
       "      <th>user_id</th>\n",
       "    </tr>\n",
       "  </thead>\n",
       "  <tbody>\n",
       "    <tr>\n",
       "      <th>0</th>\n",
       "      <td>17</td>\n",
       "      <td>888</td>\n",
       "      <td>19</td>\n",
       "      <td>294</td>\n",
       "      <td>173826</td>\n",
       "      <td>1</td>\n",
       "      <td>2</td>\n",
       "      <td>2</td>\n",
       "      <td>20368.0</td>\n",
       "      <td>2022-06-15</td>\n",
       "      <td>1</td>\n",
       "      <td>45098</td>\n",
       "    </tr>\n",
       "    <tr>\n",
       "      <th>1</th>\n",
       "      <td>17</td>\n",
       "      <td>888</td>\n",
       "      <td>19</td>\n",
       "      <td>294</td>\n",
       "      <td>197241</td>\n",
       "      <td>1</td>\n",
       "      <td>2</td>\n",
       "      <td>2</td>\n",
       "      <td>20368.0</td>\n",
       "      <td>2022-06-19</td>\n",
       "      <td>1</td>\n",
       "      <td>45098</td>\n",
       "    </tr>\n",
       "    <tr>\n",
       "      <th>2</th>\n",
       "      <td>17</td>\n",
       "      <td>888</td>\n",
       "      <td>19</td>\n",
       "      <td>294</td>\n",
       "      <td>129494</td>\n",
       "      <td>1</td>\n",
       "      <td>2</td>\n",
       "      <td>1</td>\n",
       "      <td>20368.0</td>\n",
       "      <td>2022-06-12</td>\n",
       "      <td>1</td>\n",
       "      <td>45098</td>\n",
       "    </tr>\n",
       "    <tr>\n",
       "      <th>3</th>\n",
       "      <td>17</td>\n",
       "      <td>888</td>\n",
       "      <td>19</td>\n",
       "      <td>294</td>\n",
       "      <td>178373</td>\n",
       "      <td>1</td>\n",
       "      <td>2</td>\n",
       "      <td>1</td>\n",
       "      <td>20368.0</td>\n",
       "      <td>2022-05-16</td>\n",
       "      <td>1</td>\n",
       "      <td>45098</td>\n",
       "    </tr>\n",
       "    <tr>\n",
       "      <th>4</th>\n",
       "      <td>17</td>\n",
       "      <td>888</td>\n",
       "      <td>19</td>\n",
       "      <td>294</td>\n",
       "      <td>178373</td>\n",
       "      <td>1</td>\n",
       "      <td>2</td>\n",
       "      <td>1</td>\n",
       "      <td>20368.0</td>\n",
       "      <td>2022-05-30</td>\n",
       "      <td>1</td>\n",
       "      <td>45098</td>\n",
       "    </tr>\n",
       "    <tr>\n",
       "      <th>...</th>\n",
       "      <td>...</td>\n",
       "      <td>...</td>\n",
       "      <td>...</td>\n",
       "      <td>...</td>\n",
       "      <td>...</td>\n",
       "      <td>...</td>\n",
       "      <td>...</td>\n",
       "      <td>...</td>\n",
       "      <td>...</td>\n",
       "      <td>...</td>\n",
       "      <td>...</td>\n",
       "      <td>...</td>\n",
       "    </tr>\n",
       "    <tr>\n",
       "      <th>322899430</th>\n",
       "      <td>48</td>\n",
       "      <td>402</td>\n",
       "      <td>5</td>\n",
       "      <td>467</td>\n",
       "      <td>129494</td>\n",
       "      <td>1</td>\n",
       "      <td>0</td>\n",
       "      <td>2</td>\n",
       "      <td>16376.0</td>\n",
       "      <td>2021-07-12</td>\n",
       "      <td>1</td>\n",
       "      <td>300964</td>\n",
       "    </tr>\n",
       "    <tr>\n",
       "      <th>322899431</th>\n",
       "      <td>48</td>\n",
       "      <td>402</td>\n",
       "      <td>5</td>\n",
       "      <td>467</td>\n",
       "      <td>178373</td>\n",
       "      <td>1</td>\n",
       "      <td>0</td>\n",
       "      <td>3</td>\n",
       "      <td>16376.0</td>\n",
       "      <td>2021-06-20</td>\n",
       "      <td>1</td>\n",
       "      <td>300964</td>\n",
       "    </tr>\n",
       "    <tr>\n",
       "      <th>322899432</th>\n",
       "      <td>48</td>\n",
       "      <td>402</td>\n",
       "      <td>5</td>\n",
       "      <td>467</td>\n",
       "      <td>14814</td>\n",
       "      <td>1</td>\n",
       "      <td>0</td>\n",
       "      <td>1</td>\n",
       "      <td>16376.0</td>\n",
       "      <td>2021-08-05</td>\n",
       "      <td>1</td>\n",
       "      <td>300964</td>\n",
       "    </tr>\n",
       "    <tr>\n",
       "      <th>322899433</th>\n",
       "      <td>48</td>\n",
       "      <td>402</td>\n",
       "      <td>5</td>\n",
       "      <td>467</td>\n",
       "      <td>48867</td>\n",
       "      <td>1</td>\n",
       "      <td>0</td>\n",
       "      <td>3</td>\n",
       "      <td>16376.0</td>\n",
       "      <td>2021-07-19</td>\n",
       "      <td>1</td>\n",
       "      <td>300964</td>\n",
       "    </tr>\n",
       "    <tr>\n",
       "      <th>322899434</th>\n",
       "      <td>48</td>\n",
       "      <td>402</td>\n",
       "      <td>5</td>\n",
       "      <td>467</td>\n",
       "      <td>30867</td>\n",
       "      <td>1</td>\n",
       "      <td>0</td>\n",
       "      <td>0</td>\n",
       "      <td>16376.0</td>\n",
       "      <td>2021-08-09</td>\n",
       "      <td>1</td>\n",
       "      <td>300964</td>\n",
       "    </tr>\n",
       "  </tbody>\n",
       "</table>\n",
       "<p>322899435 rows × 12 columns</p>\n",
       "</div>"
      ],
      "text/plain": [
       "           region_name  city_name  cpe_manufacturer_name  cpe_model_name  \\\n",
       "0                   17        888                     19             294   \n",
       "1                   17        888                     19             294   \n",
       "2                   17        888                     19             294   \n",
       "3                   17        888                     19             294   \n",
       "4                   17        888                     19             294   \n",
       "...                ...        ...                    ...             ...   \n",
       "322899430           48        402                      5             467   \n",
       "322899431           48        402                      5             467   \n",
       "322899432           48        402                      5             467   \n",
       "322899433           48        402                      5             467   \n",
       "322899434           48        402                      5             467   \n",
       "\n",
       "           url_host  cpe_type_cd  cpe_model_os_type  part_of_day    price  \\\n",
       "0            173826            1                  2            2  20368.0   \n",
       "1            197241            1                  2            2  20368.0   \n",
       "2            129494            1                  2            1  20368.0   \n",
       "3            178373            1                  2            1  20368.0   \n",
       "4            178373            1                  2            1  20368.0   \n",
       "...             ...          ...                ...          ...      ...   \n",
       "322899430    129494            1                  0            2  16376.0   \n",
       "322899431    178373            1                  0            3  16376.0   \n",
       "322899432     14814            1                  0            1  16376.0   \n",
       "322899433     48867            1                  0            3  16376.0   \n",
       "322899434     30867            1                  0            0  16376.0   \n",
       "\n",
       "                 date  request_cnt  user_id  \n",
       "0          2022-06-15            1    45098  \n",
       "1          2022-06-19            1    45098  \n",
       "2          2022-06-12            1    45098  \n",
       "3          2022-05-16            1    45098  \n",
       "4          2022-05-30            1    45098  \n",
       "...               ...          ...      ...  \n",
       "322899430  2021-07-12            1   300964  \n",
       "322899431  2021-06-20            1   300964  \n",
       "322899432  2021-08-05            1   300964  \n",
       "322899433  2021-07-19            1   300964  \n",
       "322899434  2021-08-09            1   300964  \n",
       "\n",
       "[322899435 rows x 12 columns]"
      ]
     },
     "execution_count": 20,
     "metadata": {},
     "output_type": "execute_result"
    }
   ],
   "source": [
    "df"
   ]
  },
  {
   "cell_type": "code",
   "execution_count": null,
   "id": "9d081055",
   "metadata": {},
   "outputs": [],
   "source": []
  },
  {
   "cell_type": "code",
   "execution_count": null,
   "id": "f436f3ae",
   "metadata": {},
   "outputs": [],
   "source": []
  },
  {
   "cell_type": "code",
   "execution_count": 42,
   "id": "2d37ae26",
   "metadata": {},
   "outputs": [],
   "source": [
    "# df_crop[['price', 'date']].groupby(['date']).sum().plot(subplots=True, figsize=(20, 10))"
   ]
  },
  {
   "cell_type": "code",
   "execution_count": 43,
   "id": "9bae65dc",
   "metadata": {},
   "outputs": [],
   "source": [
    "# df_crop[df_crop['price'] < 100][['price', 'date']].groupby(['date']).sum().plot(figsize=(20, 10))"
   ]
  },
  {
   "cell_type": "code",
   "execution_count": null,
   "id": "35673779",
   "metadata": {},
   "outputs": [],
   "source": []
  }
 ],
 "metadata": {
  "kernelspec": {
   "display_name": "Python 3 (ipykernel)",
   "language": "python",
   "name": "python3"
  },
  "language_info": {
   "codemirror_mode": {
    "name": "ipython",
    "version": 3
   },
   "file_extension": ".py",
   "mimetype": "text/x-python",
   "name": "python",
   "nbconvert_exporter": "python",
   "pygments_lexer": "ipython3",
   "version": "3.9.7"
  }
 },
 "nbformat": 4,
 "nbformat_minor": 5
}
