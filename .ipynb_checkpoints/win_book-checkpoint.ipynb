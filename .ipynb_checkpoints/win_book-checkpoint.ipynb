{
 "cells": [
  {
   "cell_type": "code",
   "execution_count": 1,
   "id": "69ba9882",
   "metadata": {},
   "outputs": [
    {
     "data": {
      "application/javascript": [
       "// Шоткат для перемещения к исполняемой\n",
       "Jupyter.keyboard_manager.command_shortcuts.add_shortcut('Alt-I', {\n",
       "    help : 'Go to Running cell',\n",
       "    help_index : 'zz',\n",
       "    handler : function (event) {\n",
       "        setTimeout(function() {\n",
       "            // Find running cell and click the first one\n",
       "            if ($('.running').length > 0) {\n",
       "                //alert(\"found running cell\");\n",
       "                $('.running')[0].scrollIntoView();\n",
       "            }}, 250);\n",
       "        return false;\n",
       "    }\n",
       "});\n"
      ],
      "text/plain": [
       "<IPython.core.display.Javascript object>"
      ]
     },
     "metadata": {},
     "output_type": "display_data"
    }
   ],
   "source": [
    "%%javascript\n",
    "// Шоткат для перемещения к исполняемой\n",
    "Jupyter.keyboard_manager.command_shortcuts.add_shortcut('Alt-I', {\n",
    "    help : 'Go to Running cell',\n",
    "    help_index : 'zz',\n",
    "    handler : function (event) {\n",
    "        setTimeout(function() {\n",
    "            // Find running cell and click the first one\n",
    "            if ($('.running').length > 0) {\n",
    "                //alert(\"found running cell\");\n",
    "                $('.running')[0].scrollIntoView();\n",
    "            }}, 250);\n",
    "        return false;\n",
    "    }\n",
    "});"
   ]
  },
  {
   "cell_type": "code",
   "execution_count": 2,
   "id": "96db58a1",
   "metadata": {},
   "outputs": [],
   "source": [
    "import sys\n",
    "import os\n",
    "import warnings\n",
    "os.environ['OPENBLAS_NUM_THREADS'] = '1'\n",
    "os.environ['DASK_TEMP_DIR'] = 'Z:/temp_data'\n",
    "warnings.filterwarnings('ignore')"
   ]
  },
  {
   "cell_type": "code",
   "execution_count": 3,
   "id": "34e7fa3a",
   "metadata": {},
   "outputs": [
    {
     "name": "stdout",
     "output_type": "stream",
     "text": [
      "INFO: Pandarallel will run on 6 workers.\n",
      "INFO: Pandarallel will use standard multiprocessing data transfer (pipe) to transfer data between the main process and workers.\n",
      "\n",
      "WARNING: You are on Windows. If you detect any issue with pandarallel, be sure you checked out the Troubleshooting page:\n",
      "https://nalepae.github.io/pandarallel/troubleshooting/\n"
     ]
    }
   ],
   "source": [
    "# импортируем библиотеку pandarallel и инициализируем её\n",
    "from pandarallel import pandarallel\n",
    "pandarallel.initialize(progress_bar=True, nb_workers=6)"
   ]
  },
  {
   "cell_type": "code",
   "execution_count": 4,
   "id": "ae090120",
   "metadata": {},
   "outputs": [],
   "source": [
    "import tqdm\n",
    "import pickle \n",
    "import random\n",
    "import seaborn as sns\n",
    "import matplotlib.pyplot as plt\n",
    "from fuzzywuzzy import fuzz\n",
    "import idna"
   ]
  },
  {
   "cell_type": "code",
   "execution_count": 5,
   "id": "0550109e",
   "metadata": {},
   "outputs": [],
   "source": [
    "import pandas as pd\n",
    "import numpy as np\n",
    "import time\n",
    "import pyarrow.parquet as pq\n",
    "import pyarrow.feather as pf\n",
    "import pyarrow as pa\n",
    "import scipy\n",
    "import implicit\n",
    "import bisect\n",
    "import sklearn.metrics as m\n",
    "from catboost import CatBoostClassifier, CatBoostRegressor, Pool\n",
    "from sklearn.model_selection import train_test_split\n",
    "from sklearn.calibration import calibration_curve, CalibratedClassifierCV\n",
    "from sklearn.preprocessing import LabelEncoder, StandardScaler"
   ]
  },
  {
   "cell_type": "code",
   "execution_count": 6,
   "id": "0d5e91a5",
   "metadata": {},
   "outputs": [],
   "source": [
    "OBJ_COLS = [\n",
    "            'region_name', \n",
    "            'city_name', \n",
    "            'cpe_manufacturer_name',\n",
    "            'cpe_model_name',\n",
    "            'url_host',\n",
    "            'cpe_type_cd',\n",
    "            'cpe_model_os_type', \n",
    "#             'price', \n",
    "#             'date',\n",
    "            'part_of_day', \n",
    "#             'request_cnt',\n",
    "#             'user_id'\n",
    "           ]\n",
    "\n",
    "DIGIT_COLS = [\n",
    "            'price', \n",
    "            'date',\n",
    "            'request_cnt',\n",
    "            'user_id'\n",
    "            ]"
   ]
  },
  {
   "cell_type": "code",
   "execution_count": 7,
   "id": "1e79a1e3",
   "metadata": {},
   "outputs": [],
   "source": [
    "def fix_urls(url):\n",
    "    import idna\n",
    "    if '.turbopages.org' in url:\n",
    "            url = url.replace('.turbopages.org', '').replace('--', '_').replace('-', '.')\n",
    "    try:\n",
    "        url = idna.decode(url)\n",
    "        \n",
    "    except idna.IDNAError:\n",
    "        \n",
    "        pass\n",
    "        \n",
    "    return url"
   ]
  },
  {
   "cell_type": "code",
   "execution_count": 8,
   "id": "fcf503b3",
   "metadata": {},
   "outputs": [],
   "source": [
    "targets = pd.read_parquet('E:/mts/public_train.pqt', engine='pyarrow')\n",
    "id_to_submit = pd.read_parquet('E:/mts/submit_2.pqt')\n",
    "\n",
    "with open ('E:/mts/unique_values_dict.pkl', 'rb') as f:\n",
    "    unique_obj_dict = pickle.load(f)  \n",
    "# unique_obj_dict['url_host'] = {fix_urls(key): value for key, value in unique_obj_dict['url_host'].items()}"
   ]
  },
  {
   "cell_type": "code",
   "execution_count": 9,
   "id": "b59e152e",
   "metadata": {},
   "outputs": [],
   "source": [
    "# value_to_find = 30\n",
    "\n",
    "# # Поиск ключа, соответствующего заданному значению\n",
    "# for key, value in unique_obj_dict['url_host'].items():\n",
    "#     if value == value_to_find:\n",
    "#         print(f'Key found: {key}')\n",
    "#         break\n",
    "# else:\n",
    "#     print('Key not found')"
   ]
  },
  {
   "cell_type": "code",
   "execution_count": 10,
   "id": "8a82b3d3",
   "metadata": {},
   "outputs": [],
   "source": [
    "def reduce_mem_usage(df):\n",
    "    \n",
    "    \"\"\" iterate through all the columns of a dataframe and modify the data type\n",
    "        to reduce memory usage.\n",
    "    \"\"\"\n",
    "    start_mem = df.memory_usage().sum() / 1024**2\n",
    "    print('Memory usage of dataframe is {:.2f} MB'.format(start_mem))\n",
    "\n",
    "    for col in df.columns:    \n",
    "        \n",
    "        \n",
    "        col_type = df[col].dtype.name\n",
    "\n",
    "        if col_type not in ['object', 'category', 'datetime64[ns]']:\n",
    "                \n",
    "                \n",
    "                \n",
    "            c_min = df[col].min()\n",
    "            c_max = df[col].max()\n",
    "            if str(col_type)[:3] == 'int':\n",
    "                    \n",
    "                if c_min > np.iinfo(np.int8).min and c_max < np.iinfo(np.int8).max:\n",
    "                        \n",
    "                    df[col] = df[col].astype(np.int16)\n",
    "                elif c_min > np.iinfo(np.int16).min and c_max < np.iinfo(np.int16).max:\n",
    "                    df[col] = df[col].astype(np.int16)\n",
    "                elif c_min > np.iinfo(np.int32).min and c_max < np.iinfo(np.int32).max:\n",
    "                    df[col] = df[col].astype(np.int32)\n",
    "                elif c_min > np.iinfo(np.int64).min and c_max < np.iinfo(np.int64).max:\n",
    "                    df[col] = df[col].astype(np.int64)\n",
    "            else:\n",
    "                if c_min > np.finfo(np.float16).min and c_max < np.finfo(np.float16).max:\n",
    "                    df[col] = df[col].astype(np.float16)\n",
    "                elif c_min > np.finfo(np.float32).min and c_max < np.finfo(np.float32).max:\n",
    "                    df[col] = df[col].astype(np.float32)\n",
    "                else:\n",
    "                    df[col] = df[col].astype(np.float64)\n",
    "\n",
    "    end_mem = df.memory_usage().sum() / 1024**2\n",
    "    print('Memory usage after optimization is: {:.2f} MB'.format(end_mem))\n",
    "    print('Decreased by {:.1f}%'.format(100 * (start_mem - end_mem) / start_mem))\n",
    "\n",
    "    return df #= reduce_mem_usage(df)\n",
    "\n",
    "\n",
    "\n",
    "def get_maped_df():\n",
    "    \n",
    "    df_result = pd.DataFrame([])\n",
    "\n",
    "    for col in OBJ_COLS:\n",
    "        print(col)\n",
    "        df_result[col] = df[col].map(unique_obj_dict[col])\n",
    "        \n",
    "    for col in DIGIT_COLS:\n",
    "        print(col)\n",
    "        df_result[col] = df[col]\n",
    "        \n",
    "    return reduce_mem_usage(df_result)\n",
    "\n",
    "\n",
    "# def match_region(x):\n",
    "#     from fuzzywuzzy import fuzz\n",
    "#     import pickle \n",
    "\n",
    "#     with open ('E:/mts/unique_values_dict.pkl', 'rb') as f:\n",
    "#         unique_obj_dict = pickle.load(f)  \n",
    "\n",
    "#     max_ratio = 0\n",
    "#     max_reg = x\n",
    "#     for region in unique_obj_dict['region_name'].keys():\n",
    "#         ratio = fuzz.ratio(x, region)\n",
    "#         if ratio > max_ratio:\n",
    "#             max_ratio = ratio\n",
    "#             max_reg = region\n",
    "#     return unique_obj_dict['region_name'][max_reg]\n",
    "\n",
    "\n",
    "\n",
    "\n",
    "def round_by(num, base=1):\n",
    "    temp = num // base * base\n",
    "    return temp + base\n",
    "\n",
    "def age_bucket(x):\n",
    "    return bisect.bisect_left([18,25,35,45,55,65], x, lo=1)"
   ]
  },
  {
   "cell_type": "code",
   "execution_count": 11,
   "id": "25b609fe",
   "metadata": {},
   "outputs": [],
   "source": [
    "def get_region_stat():\n",
    "    \n",
    "    \n",
    "    dict_for_reg = {\n",
    "        'Адыгея': 'Республика Адыгея',\n",
    "         'Алтайский край': 'Алтайский край',\n",
    "         'Амурская область': 'Амурская область',\n",
    "         'Архангельская область': 'Архангельская область',\n",
    "         'Астраханская область': 'Астраханская область',\n",
    "         'Башкортостан': 'Республика Башкортостан',\n",
    "         'Белгородская область': 'Белгородская область',\n",
    "         'Брянская область': 'Брянская область',\n",
    "         'Бурятия': None,\n",
    "         'Владимирская область': 'Владимирская область',\n",
    "         'Волгоградская область': 'Волгоградская область',\n",
    "         'Вологодская область': 'Вологодская область',\n",
    "         'Воронежская область': 'Воронежская область',\n",
    "         'Дагестан': 'Республика Дагестан',\n",
    "         'Еврейская автономная область': 'Еврейская АО',\n",
    "         'Забайкальский край': None,\n",
    "         'Ивановская область': 'Ивановская область',\n",
    "         'Ингушетия': 'Республика Ингушетия',\n",
    "         'Иркутская область': 'Иркутская область',\n",
    "         'Кабардино-Балкария': 'Кабардино-Балкарская Республика',\n",
    "         'Калининградская область': 'Калининградская область',\n",
    "         'Калмыкия': 'Республика Калмыкия',\n",
    "         'Калужская область': 'Калужская область',\n",
    "         'Камчатский край': 'Камчатский край',\n",
    "         'Карачаево-Черкесия': 'Карачаево-Черкесская Республика',\n",
    "         'Карелия': 'Республика Карелия',\n",
    "         'Кемеровская область': 'Кемеровская область - Кузбасс',\n",
    "         'Кировская область': 'Кировская область',\n",
    "         'Костромская область': 'Костромская область',\n",
    "         'Краснодарский край': 'Краснодарский край',\n",
    "         'Красноярский край': 'Красноярский край',\n",
    "         'Крым': None,\n",
    "         'Курганская область': 'Курганская область',\n",
    "         'Курская область': 'Курская область',\n",
    "         'Ленинградская область': 'Ленинградская область',\n",
    "         'Липецкая область': 'Липецкая область',\n",
    "         'Магаданская область': 'Магаданская область',\n",
    "         'Марий Эл': 'Республика Марий Эл',\n",
    "         'Мордовия': 'Республика Мордовия',\n",
    "         'Москва': 'Москва',\n",
    "         'Московская область': 'Московская область',\n",
    "         'Мурманская область': 'Мурманская область',\n",
    "         'Ненецкий автономный округ': 'Ненецкий АО',\n",
    "         'Нижегородская область': 'Нижегородская область',\n",
    "         'Новгородская область': 'Новгородская область',\n",
    "         'Новосибирская область': 'Новосибирская область',\n",
    "         'Омская область': 'Омская область',\n",
    "         'Оренбургская область': 'Оренбургская область',\n",
    "         'Орловская область': 'Орловская область',\n",
    "         'Пензенская область': 'Пензенская область',\n",
    "         'Пермский край': 'Пермский край',\n",
    "         'Приморский край': 'Приморский край',\n",
    "         'Псковская область': 'Псковская область',\n",
    "         'Республика Алтай': 'Республика Алтай',\n",
    "         'Республика Коми': 'Республика Коми',\n",
    "         'Республика Тыва': 'Республика Тыва',\n",
    "         'Ростовская область': 'Ростовская область',\n",
    "         'Рязанская область': 'Рязанская область',\n",
    "         'Самарская область': 'Самарская область',\n",
    "         'Санкт-Петербург': 'Санкт-Петербург',\n",
    "         'Саратовская область': 'Саратовская область',\n",
    "         'Сахалинская область': 'Сахалинская область',\n",
    "         'Свердловская область': 'Свердловская область',\n",
    "         'Севастополь': None,\n",
    "         'Северная Осетия': 'Республика Северная Осетия — Алания',\n",
    "         'Смоленская область': 'Смоленская область',\n",
    "         'Ставропольский край': 'Ставропольский край',\n",
    "         'Тамбовская область': 'Тамбовская область',\n",
    "         'Татарстан': 'Республика Татарстан',\n",
    "         'Тверская область': 'Тверская область',\n",
    "         'Томская область': 'Томская область',\n",
    "         'Тульская область': 'Тульская область',\n",
    "         'Тюменская область': 'Тюменская область',\n",
    "         'Удмуртия': 'Удмуртская Республика',\n",
    "         'Ульяновская область': 'Ульяновская область',\n",
    "         'Хабаровский край': 'Хабаровский край',\n",
    "         'Хакасия': 'Республика Хакасия',\n",
    "         'Ханты-Мансийский автономный округ': 'Ханты-Мансийский АО — Югра',\n",
    "         'Челябинская область': 'Челябинская область',\n",
    "         'Чечня': 'Чеченская Республика',\n",
    "         'Чувашия': 'Чувашская Республика',\n",
    "         'Чукотский автономный округ': 'Чукотский АО',\n",
    "         'Якутия': 'Республика Саха (Якутия)',\n",
    "         'Ямало-Ненецкий автономный округ': 'Ямало-Ненецкий АО',\n",
    "         'Ярославская область': 'Ярославская область'\n",
    "                   }\n",
    "    \n",
    "    \n",
    "    \n",
    "    with open ('E:/mts/unique_values_dict.pkl', 'rb') as f:\n",
    "        unique_obj_dict = pickle.load(f)  \n",
    " \n",
    "    \n",
    "    olds = pd.read_csv('E:/mts/side_data/Доля_пожилых.csv', header=None, names=['region_name', 'olds_in_region']).loc[2017]\n",
    "    olds['region_name'] = olds.region_name.map(dict_for_reg).map(unique_obj_dict['region_name'])\n",
    "    olds = olds.reset_index(drop=True)\n",
    "\n",
    "    mens_in_region = pd.read_csv('E:/mts/side_data/Процент_мужчин.csv', header=None, names=['region_name', 'mens_in_region'])\n",
    "    mens_in_region['region_name'] = mens_in_region.region_name.map(dict_for_reg).map(unique_obj_dict['region_name'])\n",
    "    mens_in_region = mens_in_region.reset_index(drop=True)\n",
    "\n",
    "    mean_age = pd.read_csv('E:/mts/side_data/Средний_возраст.csv', header=None, names=['region_name', 'mean_age_in_region'])\n",
    "    mean_age['region_name'] = mean_age.region_name.map(dict_for_reg).map(unique_obj_dict['region_name'])\n",
    "    mean_age = mean_age.reset_index(drop=True)\n",
    "\n",
    "    population_region = pd.read_csv('E:/mts/side_data/Численность_населения.csv', header=None, names=['region_name', 'population_in_region']).loc[2019]\n",
    "    population_region['region_name'] = population_region.region_name.map(dict_for_reg).map(unique_obj_dict['region_name'])\n",
    "    population_region = population_region.reset_index(drop=True)\n",
    "\n",
    "\n",
    "\n",
    "\n",
    "    region_statistic = pd.concat(\n",
    "        [\n",
    "         olds,\n",
    "         mens_in_region['mens_in_region'],\n",
    "         mean_age['mean_age_in_region'], \n",
    "         population_region['population_in_region']\n",
    "        ], \n",
    "        axis=1)    \n",
    "\n",
    "    region_statistic['olds_in_region'] = round((region_statistic['olds_in_region'] / 100) * region_statistic['population_in_region']).astype('int')\n",
    "    region_statistic['mens_in_region'] = round((region_statistic['mens_in_region'] / 100) * region_statistic['population_in_region']).astype('int')\n",
    "    region_statistic['mean_age_in_region'] = round(region_statistic['mean_age_in_region']).astype('int')\n",
    "    region_statistic = region_statistic.drop('population_in_region', axis=1)\n",
    "\n",
    "    scaler = StandardScaler()\n",
    "    region_statistic[['olds_in_region', 'mens_in_region', 'mean_age_in_region']] = scaler.fit_transform(region_statistic[['olds_in_region', 'mens_in_region', 'mean_age_in_region']])\n",
    "\n",
    "\n",
    "    return region_statistic"
   ]
  },
  {
   "cell_type": "code",
   "execution_count": 12,
   "id": "498a27d3",
   "metadata": {},
   "outputs": [],
   "source": [
    "# with open ('E:/mts/unique_values_dict.pkl', 'rb') as f:\n",
    "#         unique_obj_dict = pickle.load(f)  \n",
    "# a = get_region_stat()"
   ]
  },
  {
   "cell_type": "code",
   "execution_count": 13,
   "id": "f740dd80",
   "metadata": {},
   "outputs": [],
   "source": [
    "SPLIT_SEED = 555"
   ]
  },
  {
   "cell_type": "code",
   "execution_count": 14,
   "id": "6b043d01",
   "metadata": {},
   "outputs": [
    {
     "name": "stdout",
     "output_type": "stream",
     "text": [
      "Couldn't find program: 'false'\n"
     ]
    }
   ],
   "source": [
    "%%script false\n",
    "\n",
    "DIRECTORY = \"E:/mts/competition_data_final_pqt\"\n",
    "\n",
    "print('Кладем паркет')\n",
    "files = [DIRECTORY + '/' + os.path.join(f) for f in os.listdir(DIRECTORY) if f.endswith('.parquet')]\n",
    "dfs = [pd.read_parquet(p, engine='pyarrow') for p in files[:]]\n",
    "df = pd.concat(dfs, ignore_index=True)\n",
    "df['date'] = df['date'].map(pd.Timestamp)\n",
    "\n",
    "print('Собираем уникальные значения')\n",
    "unique_obj_dict = {}\n",
    "\n",
    "for col in OBJ_COLS:\n",
    "    print(f'col_{col}')\n",
    "    unique_obj_dict[col] = set(df[col].values)\n",
    "    \n",
    "for d in unique_obj_dict:\n",
    "    unique_obj_dict[d] = dict(zip(unique_obj_dict[d], range(len(unique_obj_dict[d]))))\n",
    "\n",
    "    \n",
    "with open ('E:/mts/unique_values_dict.pkl', 'wb') as f:\n",
    "    pickle.dump(unique_obj_dict, f)\n",
    "\n",
    "with open ('E:/mts/unique_values_dict.pkl', 'rb') as f:\n",
    "    unique_obj_dict = pickle.load(f)  \n",
    "\n",
    "print('Меняем типы данных')\n",
    "df = get_maped_df()\n",
    "    \n",
    "print('Причесываем датафрейм')\n",
    "\n",
    "df = df.reset_index()\n",
    "df = df.drop('index', axis=1)\n",
    "df.to_feather('E:/mts/total.feather')"
   ]
  },
  {
   "cell_type": "code",
   "execution_count": 15,
   "id": "133337d2",
   "metadata": {},
   "outputs": [],
   "source": [
    "# Поправил косяки с urls\n",
    "\n",
    "# df = pd.read_feather('E:/mts/total.feather')\n",
    "# rev_dict = {value: key for key, value in unique_obj_dict['url_host'].items()}\n",
    "# df['url_host'] = df['url_host'].map(rev_dict).parallel_map(fix_urls)\n",
    "\n",
    "# df = df.reset_index()\n",
    "# df = df.drop('index', axis=1)\n",
    "# df.to_feather('E:/mts/total.feather')"
   ]
  },
  {
   "cell_type": "code",
   "execution_count": 16,
   "id": "18b25fab",
   "metadata": {},
   "outputs": [
    {
     "name": "stdout",
     "output_type": "stream",
     "text": [
      "CPU times: total: 2min 57s\n",
      "Wall time: 2min 46s\n"
     ]
    }
   ],
   "source": [
    "%%time\n",
    "df = pd.read_feather('E:/mts/total.feather')\n",
    "\n"
   ]
  },
  {
   "cell_type": "code",
   "execution_count": 17,
   "id": "b027e498",
   "metadata": {},
   "outputs": [
    {
     "data": {
      "application/vnd.jupyter.widget-view+json": {
       "model_id": "859c5d633ace4b719b8b0e611807c8cb",
       "version_major": 2,
       "version_minor": 0
      },
      "text/plain": [
       "VBox(children=(HBox(children=(IntProgress(value=0, description='0.00%', max=53816573), Label(value='0 / 538165…"
      ]
     },
     "metadata": {},
     "output_type": "display_data"
    },
    {
     "name": "stdout",
     "output_type": "stream",
     "text": [
      "Memory usage of dataframe is 34489.38 MB\n",
      "Memory usage after optimization is: 20324.10 MB\n",
      "Decreased by 41.1%\n"
     ]
    }
   ],
   "source": [
    "median_price = round(df['price'].median())\n",
    "df['price'] = df['price'].fillna(median_price).parallel_apply(round_by, base=1000)\n",
    "\n",
    "\n",
    "region_popularity = df.groupby('region_name')['request_cnt'].sum()\n",
    "df['region_popularity'] = df['region_name'].map(region_popularity)\n",
    "\n",
    "city_popularity = df.groupby('city_name')['request_cnt'].sum()\n",
    "df['city_popularity'] = df['city_name'].map(city_popularity)\n",
    "\n",
    "df['city_region_popularity'] = df['city_popularity'] / df['region_popularity']\n",
    "# df['city_region_popularity_mul'] = df['city_popularity'] * df['region_popularity']\n",
    "\n",
    "# df = df.drop(['region_popularity', 'city_popularity'], axis=1)\n",
    "\n",
    "\n",
    "df['day_of_year'] = df['date'].dt.day_of_year\n",
    "df['year'] = df['date'].dt.year\n",
    "\n",
    "df['day'] = df['date'].dt.day\n",
    "df['month'] = df['date'].dt.month\n",
    "df['day_of_week'] = df['date'].dt.day_of_week\n",
    "\n",
    "threshold = 3\n",
    "df['close_to_march8'] = ((df['month'] == 3) & (abs(df['day'] - 8) <= threshold)).astype(int)\n",
    "df['close_to_feb23'] = ((df['month'] == 2) & (abs(df['day'] - 23) <= threshold)).astype(int)\n",
    "df['close_to_valentine'] = ((df['month'] == 2) & (abs(df['day'] - 14) <= threshold)).astype(int)\n",
    "\n",
    "df['is_weekend'] = (df['day_of_week'] > 5).astype(int)\n",
    "df['is_friday'] = (df['day_of_week'] == 4).astype(int)\n",
    "\n",
    "df = df.drop(['day', 'month'], axis=1)\n",
    "\n",
    "df = reduce_mem_usage(df)"
   ]
  },
  {
   "cell_type": "markdown",
   "id": "403edd55",
   "metadata": {},
   "source": [
    "# _______________"
   ]
  },
  {
   "cell_type": "code",
   "execution_count": 18,
   "id": "8fa942dc",
   "metadata": {},
   "outputs": [
    {
     "data": {
      "text/html": [
       "<div>\n",
       "<style scoped>\n",
       "    .dataframe tbody tr th:only-of-type {\n",
       "        vertical-align: middle;\n",
       "    }\n",
       "\n",
       "    .dataframe tbody tr th {\n",
       "        vertical-align: top;\n",
       "    }\n",
       "\n",
       "    .dataframe thead th {\n",
       "        text-align: right;\n",
       "    }\n",
       "</style>\n",
       "<table border=\"1\" class=\"dataframe\">\n",
       "  <thead>\n",
       "    <tr style=\"text-align: right;\">\n",
       "      <th></th>\n",
       "      <th>region_name</th>\n",
       "      <th>city_name</th>\n",
       "      <th>cpe_manufacturer_name</th>\n",
       "      <th>cpe_model_name</th>\n",
       "      <th>url_host</th>\n",
       "      <th>cpe_type_cd</th>\n",
       "      <th>cpe_model_os_type</th>\n",
       "      <th>part_of_day</th>\n",
       "      <th>price</th>\n",
       "      <th>date</th>\n",
       "      <th>...</th>\n",
       "      <th>city_popularity</th>\n",
       "      <th>city_region_popularity</th>\n",
       "      <th>day_of_year</th>\n",
       "      <th>year</th>\n",
       "      <th>day_of_week</th>\n",
       "      <th>close_to_march8</th>\n",
       "      <th>close_to_feb23</th>\n",
       "      <th>close_to_valentine</th>\n",
       "      <th>is_weekend</th>\n",
       "      <th>is_monday</th>\n",
       "    </tr>\n",
       "  </thead>\n",
       "  <tbody>\n",
       "    <tr>\n",
       "      <th>0</th>\n",
       "      <td>27</td>\n",
       "      <td>673</td>\n",
       "      <td>4</td>\n",
       "      <td>347</td>\n",
       "      <td>ad.adriver.ru</td>\n",
       "      <td>3</td>\n",
       "      <td>2</td>\n",
       "      <td>1</td>\n",
       "      <td>21000.0</td>\n",
       "      <td>2022-06-15</td>\n",
       "      <td>...</td>\n",
       "      <td>16437151</td>\n",
       "      <td>0.344971</td>\n",
       "      <td>166</td>\n",
       "      <td>2022</td>\n",
       "      <td>2</td>\n",
       "      <td>0</td>\n",
       "      <td>0</td>\n",
       "      <td>0</td>\n",
       "      <td>0</td>\n",
       "      <td>0</td>\n",
       "    </tr>\n",
       "    <tr>\n",
       "      <th>1</th>\n",
       "      <td>27</td>\n",
       "      <td>673</td>\n",
       "      <td>4</td>\n",
       "      <td>347</td>\n",
       "      <td>apple.com</td>\n",
       "      <td>3</td>\n",
       "      <td>2</td>\n",
       "      <td>1</td>\n",
       "      <td>21000.0</td>\n",
       "      <td>2022-06-19</td>\n",
       "      <td>...</td>\n",
       "      <td>16437151</td>\n",
       "      <td>0.344971</td>\n",
       "      <td>170</td>\n",
       "      <td>2022</td>\n",
       "      <td>6</td>\n",
       "      <td>0</td>\n",
       "      <td>0</td>\n",
       "      <td>0</td>\n",
       "      <td>1</td>\n",
       "      <td>0</td>\n",
       "    </tr>\n",
       "    <tr>\n",
       "      <th>2</th>\n",
       "      <td>27</td>\n",
       "      <td>673</td>\n",
       "      <td>4</td>\n",
       "      <td>347</td>\n",
       "      <td>avatars.mds.yandex.net</td>\n",
       "      <td>3</td>\n",
       "      <td>2</td>\n",
       "      <td>3</td>\n",
       "      <td>21000.0</td>\n",
       "      <td>2022-06-12</td>\n",
       "      <td>...</td>\n",
       "      <td>16437151</td>\n",
       "      <td>0.344971</td>\n",
       "      <td>163</td>\n",
       "      <td>2022</td>\n",
       "      <td>6</td>\n",
       "      <td>0</td>\n",
       "      <td>0</td>\n",
       "      <td>0</td>\n",
       "      <td>1</td>\n",
       "      <td>0</td>\n",
       "    </tr>\n",
       "    <tr>\n",
       "      <th>3</th>\n",
       "      <td>27</td>\n",
       "      <td>673</td>\n",
       "      <td>4</td>\n",
       "      <td>347</td>\n",
       "      <td>googleads.g.doubleclick.net</td>\n",
       "      <td>3</td>\n",
       "      <td>2</td>\n",
       "      <td>3</td>\n",
       "      <td>21000.0</td>\n",
       "      <td>2022-05-16</td>\n",
       "      <td>...</td>\n",
       "      <td>16437151</td>\n",
       "      <td>0.344971</td>\n",
       "      <td>136</td>\n",
       "      <td>2022</td>\n",
       "      <td>0</td>\n",
       "      <td>0</td>\n",
       "      <td>0</td>\n",
       "      <td>0</td>\n",
       "      <td>0</td>\n",
       "      <td>0</td>\n",
       "    </tr>\n",
       "    <tr>\n",
       "      <th>4</th>\n",
       "      <td>27</td>\n",
       "      <td>673</td>\n",
       "      <td>4</td>\n",
       "      <td>347</td>\n",
       "      <td>googleads.g.doubleclick.net</td>\n",
       "      <td>3</td>\n",
       "      <td>2</td>\n",
       "      <td>3</td>\n",
       "      <td>21000.0</td>\n",
       "      <td>2022-05-30</td>\n",
       "      <td>...</td>\n",
       "      <td>16437151</td>\n",
       "      <td>0.344971</td>\n",
       "      <td>150</td>\n",
       "      <td>2022</td>\n",
       "      <td>0</td>\n",
       "      <td>0</td>\n",
       "      <td>0</td>\n",
       "      <td>0</td>\n",
       "      <td>0</td>\n",
       "      <td>0</td>\n",
       "    </tr>\n",
       "    <tr>\n",
       "      <th>...</th>\n",
       "      <td>...</td>\n",
       "      <td>...</td>\n",
       "      <td>...</td>\n",
       "      <td>...</td>\n",
       "      <td>...</td>\n",
       "      <td>...</td>\n",
       "      <td>...</td>\n",
       "      <td>...</td>\n",
       "      <td>...</td>\n",
       "      <td>...</td>\n",
       "      <td>...</td>\n",
       "      <td>...</td>\n",
       "      <td>...</td>\n",
       "      <td>...</td>\n",
       "      <td>...</td>\n",
       "      <td>...</td>\n",
       "      <td>...</td>\n",
       "      <td>...</td>\n",
       "      <td>...</td>\n",
       "      <td>...</td>\n",
       "      <td>...</td>\n",
       "    </tr>\n",
       "    <tr>\n",
       "      <th>322899430</th>\n",
       "      <td>0</td>\n",
       "      <td>363</td>\n",
       "      <td>26</td>\n",
       "      <td>521</td>\n",
       "      <td>avatars.mds.yandex.net</td>\n",
       "      <td>3</td>\n",
       "      <td>0</td>\n",
       "      <td>1</td>\n",
       "      <td>17000.0</td>\n",
       "      <td>2021-07-12</td>\n",
       "      <td>...</td>\n",
       "      <td>576698</td>\n",
       "      <td>0.237427</td>\n",
       "      <td>193</td>\n",
       "      <td>2021</td>\n",
       "      <td>0</td>\n",
       "      <td>0</td>\n",
       "      <td>0</td>\n",
       "      <td>0</td>\n",
       "      <td>0</td>\n",
       "      <td>0</td>\n",
       "    </tr>\n",
       "    <tr>\n",
       "      <th>322899431</th>\n",
       "      <td>0</td>\n",
       "      <td>363</td>\n",
       "      <td>26</td>\n",
       "      <td>521</td>\n",
       "      <td>googleads.g.doubleclick.net</td>\n",
       "      <td>3</td>\n",
       "      <td>0</td>\n",
       "      <td>2</td>\n",
       "      <td>17000.0</td>\n",
       "      <td>2021-06-20</td>\n",
       "      <td>...</td>\n",
       "      <td>576698</td>\n",
       "      <td>0.237427</td>\n",
       "      <td>171</td>\n",
       "      <td>2021</td>\n",
       "      <td>6</td>\n",
       "      <td>0</td>\n",
       "      <td>0</td>\n",
       "      <td>0</td>\n",
       "      <td>1</td>\n",
       "      <td>0</td>\n",
       "    </tr>\n",
       "    <tr>\n",
       "      <th>322899432</th>\n",
       "      <td>0</td>\n",
       "      <td>363</td>\n",
       "      <td>26</td>\n",
       "      <td>521</td>\n",
       "      <td>online.sberbank.ru</td>\n",
       "      <td>3</td>\n",
       "      <td>0</td>\n",
       "      <td>3</td>\n",
       "      <td>17000.0</td>\n",
       "      <td>2021-08-05</td>\n",
       "      <td>...</td>\n",
       "      <td>576698</td>\n",
       "      <td>0.237427</td>\n",
       "      <td>217</td>\n",
       "      <td>2021</td>\n",
       "      <td>3</td>\n",
       "      <td>0</td>\n",
       "      <td>0</td>\n",
       "      <td>0</td>\n",
       "      <td>0</td>\n",
       "      <td>0</td>\n",
       "    </tr>\n",
       "    <tr>\n",
       "      <th>322899433</th>\n",
       "      <td>0</td>\n",
       "      <td>363</td>\n",
       "      <td>26</td>\n",
       "      <td>521</td>\n",
       "      <td>s0.2mdn.net</td>\n",
       "      <td>3</td>\n",
       "      <td>0</td>\n",
       "      <td>2</td>\n",
       "      <td>17000.0</td>\n",
       "      <td>2021-07-19</td>\n",
       "      <td>...</td>\n",
       "      <td>576698</td>\n",
       "      <td>0.237427</td>\n",
       "      <td>200</td>\n",
       "      <td>2021</td>\n",
       "      <td>0</td>\n",
       "      <td>0</td>\n",
       "      <td>0</td>\n",
       "      <td>0</td>\n",
       "      <td>0</td>\n",
       "      <td>0</td>\n",
       "    </tr>\n",
       "    <tr>\n",
       "      <th>322899434</th>\n",
       "      <td>0</td>\n",
       "      <td>363</td>\n",
       "      <td>26</td>\n",
       "      <td>521</td>\n",
       "      <td>zen.yandex.ru</td>\n",
       "      <td>3</td>\n",
       "      <td>0</td>\n",
       "      <td>0</td>\n",
       "      <td>17000.0</td>\n",
       "      <td>2021-08-09</td>\n",
       "      <td>...</td>\n",
       "      <td>576698</td>\n",
       "      <td>0.237427</td>\n",
       "      <td>221</td>\n",
       "      <td>2021</td>\n",
       "      <td>0</td>\n",
       "      <td>0</td>\n",
       "      <td>0</td>\n",
       "      <td>0</td>\n",
       "      <td>0</td>\n",
       "      <td>0</td>\n",
       "    </tr>\n",
       "  </tbody>\n",
       "</table>\n",
       "<p>322899435 rows × 23 columns</p>\n",
       "</div>"
      ],
      "text/plain": [
       "           region_name  city_name  cpe_manufacturer_name  cpe_model_name  \\\n",
       "0                   27        673                      4             347   \n",
       "1                   27        673                      4             347   \n",
       "2                   27        673                      4             347   \n",
       "3                   27        673                      4             347   \n",
       "4                   27        673                      4             347   \n",
       "...                ...        ...                    ...             ...   \n",
       "322899430            0        363                     26             521   \n",
       "322899431            0        363                     26             521   \n",
       "322899432            0        363                     26             521   \n",
       "322899433            0        363                     26             521   \n",
       "322899434            0        363                     26             521   \n",
       "\n",
       "                              url_host  cpe_type_cd  cpe_model_os_type  \\\n",
       "0                        ad.adriver.ru            3                  2   \n",
       "1                            apple.com            3                  2   \n",
       "2               avatars.mds.yandex.net            3                  2   \n",
       "3          googleads.g.doubleclick.net            3                  2   \n",
       "4          googleads.g.doubleclick.net            3                  2   \n",
       "...                                ...          ...                ...   \n",
       "322899430       avatars.mds.yandex.net            3                  0   \n",
       "322899431  googleads.g.doubleclick.net            3                  0   \n",
       "322899432           online.sberbank.ru            3                  0   \n",
       "322899433                  s0.2mdn.net            3                  0   \n",
       "322899434                zen.yandex.ru            3                  0   \n",
       "\n",
       "           part_of_day    price       date  ...  city_popularity  \\\n",
       "0                    1  21000.0 2022-06-15  ...         16437151   \n",
       "1                    1  21000.0 2022-06-19  ...         16437151   \n",
       "2                    3  21000.0 2022-06-12  ...         16437151   \n",
       "3                    3  21000.0 2022-05-16  ...         16437151   \n",
       "4                    3  21000.0 2022-05-30  ...         16437151   \n",
       "...                ...      ...        ...  ...              ...   \n",
       "322899430            1  17000.0 2021-07-12  ...           576698   \n",
       "322899431            2  17000.0 2021-06-20  ...           576698   \n",
       "322899432            3  17000.0 2021-08-05  ...           576698   \n",
       "322899433            2  17000.0 2021-07-19  ...           576698   \n",
       "322899434            0  17000.0 2021-08-09  ...           576698   \n",
       "\n",
       "           city_region_popularity  day_of_year  year  day_of_week  \\\n",
       "0                        0.344971          166  2022            2   \n",
       "1                        0.344971          170  2022            6   \n",
       "2                        0.344971          163  2022            6   \n",
       "3                        0.344971          136  2022            0   \n",
       "4                        0.344971          150  2022            0   \n",
       "...                           ...          ...   ...          ...   \n",
       "322899430                0.237427          193  2021            0   \n",
       "322899431                0.237427          171  2021            6   \n",
       "322899432                0.237427          217  2021            3   \n",
       "322899433                0.237427          200  2021            0   \n",
       "322899434                0.237427          221  2021            0   \n",
       "\n",
       "           close_to_march8  close_to_feb23  close_to_valentine  is_weekend  \\\n",
       "0                        0               0                   0           0   \n",
       "1                        0               0                   0           1   \n",
       "2                        0               0                   0           1   \n",
       "3                        0               0                   0           0   \n",
       "4                        0               0                   0           0   \n",
       "...                    ...             ...                 ...         ...   \n",
       "322899430                0               0                   0           0   \n",
       "322899431                0               0                   0           1   \n",
       "322899432                0               0                   0           0   \n",
       "322899433                0               0                   0           0   \n",
       "322899434                0               0                   0           0   \n",
       "\n",
       "           is_monday  \n",
       "0                  0  \n",
       "1                  0  \n",
       "2                  0  \n",
       "3                  0  \n",
       "4                  0  \n",
       "...              ...  \n",
       "322899430          0  \n",
       "322899431          0  \n",
       "322899432          0  \n",
       "322899433          0  \n",
       "322899434          0  \n",
       "\n",
       "[322899435 rows x 23 columns]"
      ]
     },
     "execution_count": 18,
     "metadata": {},
     "output_type": "execute_result"
    }
   ],
   "source": [
    "df"
   ]
  },
  {
   "cell_type": "code",
   "execution_count": null,
   "id": "de684fa4",
   "metadata": {},
   "outputs": [],
   "source": [
    "targets = pd.read_parquet('E:/mts/public_train.pqt', engine='pyarrow')"
   ]
  },
  {
   "cell_type": "markdown",
   "id": "cf2aa97a",
   "metadata": {},
   "source": [
    "# _________________"
   ]
  },
  {
   "cell_type": "markdown",
   "id": "d954d95a",
   "metadata": {},
   "source": [
    "# _________________"
   ]
  },
  {
   "cell_type": "code",
   "execution_count": null,
   "id": "2ec48b87",
   "metadata": {},
   "outputs": [],
   "source": [
    "targets"
   ]
  },
  {
   "cell_type": "markdown",
   "id": "9d7913f1",
   "metadata": {},
   "source": [
    "# Date "
   ]
  },
  {
   "cell_type": "markdown",
   "id": "4c1e1471",
   "metadata": {},
   "source": [
    "# Время между первым и последним посещением  сети"
   ]
  },
  {
   "cell_type": "code",
   "execution_count": null,
   "id": "b0ea25fd",
   "metadata": {},
   "outputs": [],
   "source": [
    "agg_time_between_first_last_visit = (df[['user_id', 'date']].\\\n",
    "    groupby('user_id').max() - df[['user_id', 'date']].groupby('user_id').min()).\\\n",
    "    rename(columns={'date': 'days_first_to_last_visit'})\n",
    "agg_time_between_first_last_visit['days_first_to_last_visit'] = agg_time_between_first_last_visit['days_first_to_last_visit'].\\\n",
    "                                                                        apply(lambda x: x.days)\n",
    "\n",
    "train = targets.merge(agg_time_between_first_last_visit.reset_index(), how='inner', on='user_id')"
   ]
  },
  {
   "cell_type": "code",
   "execution_count": null,
   "id": "cc485716",
   "metadata": {},
   "outputs": [],
   "source": [
    "plt.figure(figsize=(30, 20))\n",
    "agg_time_between_first_last_visit['days_first_to_last_visit'].value_counts().plot(kind='bar')\n",
    "plt.xticks(rotation=90);"
   ]
  },
  {
   "cell_type": "code",
   "execution_count": null,
   "id": "227792b8",
   "metadata": {},
   "outputs": [],
   "source": [
    "def days_first_to_last_visit_bucket(x):\n",
    "    return bisect.bisect_left([0,20,50,75,90], x, lo=0)"
   ]
  },
  {
   "cell_type": "code",
   "execution_count": null,
   "id": "b05b8eab",
   "metadata": {},
   "outputs": [],
   "source": [
    "agg_time_between_first_last_visit['days_first_to_last_visit'] = agg_time_between_first_last_visit.days_first_to_last_visit.map(days_first_to_last_visit_bucket)\n",
    "agg_time_between_first_last_visit = pd.get_dummies(agg_time_between_first_last_visit['days_first_to_last_visit'], prefix='first_last')"
   ]
  },
  {
   "cell_type": "code",
   "execution_count": null,
   "id": "31790176",
   "metadata": {},
   "outputs": [],
   "source": [
    "train = train.merge(agg_time_between_first_last_visit, how='inner', on = 'user_id')"
   ]
  },
  {
   "cell_type": "code",
   "execution_count": null,
   "id": "d7f7269d",
   "metadata": {},
   "outputs": [],
   "source": [
    "print(f\"Процент пропусков таргета по полу {(len(targets[targets['is_male'] == 'NA']) / len(targets)) * 100}\")"
   ]
  },
  {
   "cell_type": "markdown",
   "id": "b96a9eec",
   "metadata": {},
   "source": [
    "# Среднее время пребывания в сети"
   ]
  },
  {
   "cell_type": "code",
   "execution_count": null,
   "id": "9c9407f6",
   "metadata": {},
   "outputs": [],
   "source": [
    "def mean_time_using_internet(data):\n",
    "    \n",
    "    import pandas as pd\n",
    "    \n",
    "    data = data.sort_values(by='date')\n",
    "    intervals = data['date'].diff()\n",
    "    using_internet = intervals[intervals > pd.Timedelta(0)]\n",
    "    return round(using_internet.mean() / pd.Timedelta(hours=1), 2)\n",
    "\n"
   ]
  },
  {
   "cell_type": "code",
   "execution_count": null,
   "id": "afa821db",
   "metadata": {
    "scrolled": true
   },
   "outputs": [],
   "source": [
    "%%script false\n",
    "mean_using_internet = df.groupby('user_id').parallel_apply(mean_time_using_internet)\n",
    "mean_using_internet.fillna(0, inplace=True)\n",
    "pd.DataFrame(mean_using_internet).rename({0: 'mean_using_internet'}, axis=1).to_csv('E:/mts/mean_using_internet.csv')"
   ]
  },
  {
   "cell_type": "code",
   "execution_count": null,
   "id": "6cfa6e66",
   "metadata": {},
   "outputs": [],
   "source": [
    "mean_using_internet = pd.read_csv('E:/mts/mean_using_internet.csv')"
   ]
  },
  {
   "cell_type": "code",
   "execution_count": null,
   "id": "0f8e0d9a",
   "metadata": {},
   "outputs": [],
   "source": [
    "median_use_int = round(mean_using_internet.mean_using_internet.median(), 2)"
   ]
  },
  {
   "cell_type": "code",
   "execution_count": null,
   "id": "20116ee4",
   "metadata": {},
   "outputs": [],
   "source": [
    "mean_using_internet['mean_using_internet'] = np.log(mean_using_internet.mean_using_internet.apply(lambda x: median_use_int if x == 0 else x))"
   ]
  },
  {
   "cell_type": "code",
   "execution_count": null,
   "id": "c910b6dc",
   "metadata": {},
   "outputs": [],
   "source": [
    "mean_using_internet"
   ]
  },
  {
   "cell_type": "code",
   "execution_count": null,
   "id": "1d220e42",
   "metadata": {},
   "outputs": [],
   "source": [
    "train = train.merge(mean_using_internet, how='inner', on = 'user_id')"
   ]
  },
  {
   "cell_type": "markdown",
   "id": "3da33130",
   "metadata": {},
   "source": [
    "# Количество посещений интеренета по времени суток"
   ]
  },
  {
   "cell_type": "code",
   "execution_count": null,
   "id": "5e213868",
   "metadata": {},
   "outputs": [],
   "source": [
    "data_agg_user_time_per_part_of_day = pd.DataFrame(df[['user_id', 'part_of_day', 'year', 'day_of_year']]\\\n",
    "                                                  .groupby(['user_id', 'year', 'part_of_day'])['day_of_year'].max()\\\n",
    "                                                    - df[['user_id', 'part_of_day', 'year', 'day_of_year']]\\\n",
    "                                                  .groupby(['user_id', 'year', 'part_of_day'])['day_of_year'].min())\n",
    "data_agg_user_time_per_part_of_day = data_agg_user_time_per_part_of_day.reset_index()"
   ]
  },
  {
   "cell_type": "code",
   "execution_count": null,
   "id": "734afa5a",
   "metadata": {
    "scrolled": true
   },
   "outputs": [],
   "source": [
    "pivot_agg_sum_days_per_part_of_days = data_agg_user_time_per_part_of_day\\\n",
    "    .pivot_table(index=['user_id', 'part_of_day'], columns='year', values='day_of_year', aggfunc='mean')\n",
    "\n",
    "pivot_agg_sum_days_per_part_of_days.fillna(0, inplace=True)\n",
    "\n",
    "pivot_agg_sum_days_per_part_of_days['sum_usertime_per_part_day'] = pivot_agg_sum_days_per_part_of_days[2021]\\\n",
    "                                                                    + pivot_agg_sum_days_per_part_of_days[2022]\n",
    "\n",
    "pivot_agg_sum_days_per_part_of_days.drop([2021, 2022], axis=1, inplace=True)\n",
    "pivot_agg_sum_days_per_part_of_days.reset_index(inplace=True)"
   ]
  },
  {
   "cell_type": "code",
   "execution_count": null,
   "id": "f6877136",
   "metadata": {},
   "outputs": [],
   "source": [
    "values = pivot_agg_sum_days_per_part_of_days['sum_usertime_per_part_day'].values\n",
    "\n",
    "rows = pivot_agg_sum_days_per_part_of_days['user_id']\n",
    "\n",
    "cols = pivot_agg_sum_days_per_part_of_days['part_of_day']\n",
    "\n",
    "mat = scipy.sparse.coo_matrix((values, (rows, cols)), shape=(rows.max() + 1, cols.max() + 1))\n",
    "\n",
    "als = implicit.approximate_als.FaissAlternatingLeastSquares(nlist=4, factors = 10, iterations = 30, use_gpu = False, \\\n",
    "       calculate_training_loss = False, regularization = 0.1)\n",
    "\n",
    "als.fit(mat)\n",
    "\n",
    "u_factors = als.model.user_factors \n",
    "d_factors = als.model.item_factors\n",
    "\n",
    "user_embs_usertime_per_part_day = pd.DataFrame(u_factors)\n",
    "user_embs_usertime_per_part_day['user_id'] = user_embs_usertime_per_part_day.index\n",
    "user_embs_usertime_per_part_day.columns = list(map(str, user_embs_usertime_per_part_day.columns))\n",
    "\n",
    "\n",
    "train = train.merge(user_embs_usertime_per_part_day, how='inner', on = 'user_id')"
   ]
  },
  {
   "cell_type": "code",
   "execution_count": null,
   "id": "782c40d6",
   "metadata": {},
   "outputs": [],
   "source": [
    "train"
   ]
  },
  {
   "cell_type": "markdown",
   "id": "91105718",
   "metadata": {},
   "source": [
    "# _____________"
   ]
  },
  {
   "cell_type": "markdown",
   "id": "12cea3d7",
   "metadata": {},
   "source": [
    "### Сумма посещений по сайтам"
   ]
  },
  {
   "cell_type": "code",
   "execution_count": null,
   "id": "b553e079",
   "metadata": {},
   "outputs": [],
   "source": [
    "data_agg_request = df[['user_id', 'url_host', 'request_cnt']].\\\n",
    "    groupby(['user_id', 'url_host']).agg({'request_cnt': 'sum'}).\\\n",
    "    rename(columns={'request_cnt': 'request_cnt_sum'})"
   ]
  },
  {
   "cell_type": "code",
   "execution_count": null,
   "id": "c179e4d3",
   "metadata": {},
   "outputs": [],
   "source": [
    "data_agg_request"
   ]
  },
  {
   "cell_type": "code",
   "execution_count": null,
   "id": "c5c673ed",
   "metadata": {},
   "outputs": [],
   "source": [
    "url_set = set(data_agg_request.index.get_level_values(1))\n",
    "url_dict = {url: idurl for url, idurl in zip(url_set, range(len(url_set)))}"
   ]
  },
  {
   "cell_type": "code",
   "execution_count": null,
   "id": "1ab67f39",
   "metadata": {},
   "outputs": [],
   "source": [
    "values = np.array(data_agg_request['request_cnt_sum'])\n",
    "\n",
    "rows = np.array(data_agg_request.index.get_level_values(0))\n",
    "\n",
    "cols = np.array(data_agg_request.index.get_level_values(1).map(url_dict))\n",
    "\n",
    "mat = scipy.sparse.coo_matrix((values, (rows, cols)), shape=(rows.max() + 1, cols.max() + 1))\n",
    "\n",
    "als = implicit.approximate_als.FaissAlternatingLeastSquares(nlist=200, factors = 40, iterations = 40, use_gpu = False, \\\n",
    "       calculate_training_loss = False, regularization = 0.1)\n",
    "\n",
    "als.fit(mat)\n",
    "\n",
    "u_factors = als.model.user_factors \n",
    "d_factors = als.model.item_factors\n",
    "\n",
    "user_embs_url_request_cnt_sum = pd.DataFrame(u_factors)\n",
    "user_embs_url_request_cnt_sum['user_id'] = user_embs_url_request_cnt_sum.index\n",
    "user_embs_url_request_cnt_sum.columns = list(map(str, user_embs_url_request_cnt_sum.columns))\n"
   ]
  },
  {
   "cell_type": "code",
   "execution_count": null,
   "id": "a8000f08",
   "metadata": {},
   "outputs": [],
   "source": [
    "train = train.merge(user_embs_url_request_cnt_sum, how='inner', on = 'user_id')"
   ]
  },
  {
   "cell_type": "markdown",
   "id": "91f2b38c",
   "metadata": {},
   "source": [
    "# _________"
   ]
  },
  {
   "cell_type": "markdown",
   "id": "71405df3",
   "metadata": {},
   "source": [
    "# ТУТ ПОДУМАТЬ \n",
    "## НАПРИМЕР ПО КУЧКАМ ДОМЕНЫ СОБРАТЬ И ПОСМОТРЕТЬ ТЕМАТИЧЕСКИЕ"
   ]
  },
  {
   "cell_type": "markdown",
   "id": "c1cde2dd",
   "metadata": {},
   "source": [
    "# Top Level Domain"
   ]
  },
  {
   "cell_type": "code",
   "execution_count": null,
   "id": "21e052a5",
   "metadata": {},
   "outputs": [],
   "source": [
    "df['tld'] = df['url_host'].apply(lambda x: x.strip().split('.')[-1])"
   ]
  },
  {
   "cell_type": "code",
   "execution_count": null,
   "id": "207dc327",
   "metadata": {},
   "outputs": [],
   "source": [
    "data_agg_tld = df[['user_id', 'tld', 'request_cnt']].groupby(['user_id', 'tld'], as_index=False)\\\n",
    "                                        .agg({'request_cnt': 'sum'})\\\n",
    "                                        .rename(columns={'request_cnt': 'requests_count_per_domain'})\n",
    "\n"
   ]
  },
  {
   "cell_type": "code",
   "execution_count": null,
   "id": "5cb8a7f6",
   "metadata": {},
   "outputs": [],
   "source": [
    "data_agg_tld"
   ]
  },
  {
   "cell_type": "code",
   "execution_count": null,
   "id": "cc1836b9",
   "metadata": {},
   "outputs": [],
   "source": [
    "tld_set = set(data_agg_tld['tld'])\n",
    "tld_dict = {tld: idtld for tld, idtld in zip(tld_set, range(len(tld_set)))}"
   ]
  },
  {
   "cell_type": "code",
   "execution_count": null,
   "id": "f52689b4",
   "metadata": {},
   "outputs": [],
   "source": [
    "values = np.array(data_agg_tld['requests_count_per_domain'])\n",
    "\n",
    "rows = np.array(data_agg_tld['user_id'])\n",
    "\n",
    "cols = np.array(data_agg_tld['tld'].map(tld_dict))\n",
    "\n",
    "mat = scipy.sparse.coo_matrix((values, (rows, cols)), shape=(rows.max() + 1, cols.max() + 1))\n",
    "\n",
    "als = implicit.approximate_als.FaissAlternatingLeastSquares(factors = 30, iterations = 40, use_gpu = False, \\\n",
    "       calculate_training_loss = False, regularization = 0.1)\n",
    "\n",
    "als.fit(mat)\n",
    "\n",
    "u_factors = als.model.user_factors \n",
    "d_factors = als.model.item_factors\n",
    "\n",
    "user_embs_tld_request_cnt_sum = pd.DataFrame(u_factors)\n",
    "user_embs_tld_request_cnt_sum['user_id'] = user_embs_tld_request_cnt_sum.index\n",
    "user_embs_tld_request_cnt_sum.columns = list(map(str, user_embs_tld_request_cnt_sum.columns))\n"
   ]
  },
  {
   "cell_type": "code",
   "execution_count": null,
   "id": "57fefac5",
   "metadata": {},
   "outputs": [],
   "source": [
    "train = train.merge(user_embs_tld_request_cnt_sum, how='inner', on = 'user_id')"
   ]
  },
  {
   "cell_type": "code",
   "execution_count": null,
   "id": "dc00e55e",
   "metadata": {},
   "outputs": [],
   "source": [
    "train"
   ]
  },
  {
   "cell_type": "markdown",
   "id": "befaf46e",
   "metadata": {},
   "source": [
    "# ________"
   ]
  },
  {
   "cell_type": "markdown",
   "id": "47c4d880",
   "metadata": {},
   "source": [
    "### Сумма посещений по устройствам"
   ]
  },
  {
   "cell_type": "code",
   "execution_count": null,
   "id": "c7f3e386",
   "metadata": {},
   "outputs": [],
   "source": [
    "data_agg_request_modelname = df[['user_id', 'cpe_model_name', 'request_cnt']].\\\n",
    "    groupby(['user_id', 'cpe_model_name']).agg({'request_cnt': 'sum'}).\\\n",
    "    rename(columns={'request_cnt': 'cpe_request_cnt_sum'})"
   ]
  },
  {
   "cell_type": "code",
   "execution_count": null,
   "id": "24131f7b",
   "metadata": {},
   "outputs": [],
   "source": [
    "data_agg_request_modelname"
   ]
  },
  {
   "cell_type": "code",
   "execution_count": null,
   "id": "216f5c27",
   "metadata": {},
   "outputs": [],
   "source": [
    "values = np.array(data_agg_request_modelname['cpe_request_cnt_sum'])\n",
    "\n",
    "rows = np.array(data_agg_request_modelname.index.get_level_values(0))\n",
    "\n",
    "cols = np.array(data_agg_request_modelname.index.get_level_values(1))\n",
    "\n",
    "mat = scipy.sparse.coo_matrix((values, (rows, cols)), shape=(rows.max() + 1, cols.max() + 1))\n",
    "\n",
    "als = implicit.approximate_als.FaissAlternatingLeastSquares(factors = 30, iterations = 30, use_gpu = False, \\\n",
    "       calculate_training_loss = False, regularization = 0.1)\n",
    "\n",
    "als.fit(mat)\n",
    "\n",
    "u_factors = als.model.user_factors \n",
    "d_factors = als.model.item_factors\n",
    "\n",
    "user_embs_cpe_request_cnt_sum = pd.DataFrame(u_factors)\n",
    "user_embs_cpe_request_cnt_sum['user_id'] = user_embs_cpe_request_cnt_sum.index\n",
    "user_embs_cpe_request_cnt_sum.columns = list(map(str, user_embs_cpe_request_cnt_sum.columns))\n"
   ]
  },
  {
   "cell_type": "code",
   "execution_count": null,
   "id": "1c8f0596",
   "metadata": {},
   "outputs": [],
   "source": [
    "train = train.merge(user_embs_cpe_request_cnt_sum, how='inner', on = 'user_id')"
   ]
  },
  {
   "cell_type": "markdown",
   "id": "6debf7f9",
   "metadata": {},
   "source": [
    "### Активность в зависимости от времени суток"
   ]
  },
  {
   "cell_type": "code",
   "execution_count": null,
   "id": "2fe7832f",
   "metadata": {},
   "outputs": [],
   "source": [
    "data_agg_part_of_day = df[['user_id', 'part_of_day', 'request_cnt']].\\\n",
    "    groupby(['user_id', 'part_of_day'], as_index=False).\\\n",
    "    agg(part_of_day_request_cnt = ('request_cnt', 'sum'))"
   ]
  },
  {
   "cell_type": "code",
   "execution_count": null,
   "id": "f991b61e",
   "metadata": {},
   "outputs": [],
   "source": [
    "data_agg_part_of_day"
   ]
  },
  {
   "cell_type": "code",
   "execution_count": null,
   "id": "e36a2b61",
   "metadata": {},
   "outputs": [],
   "source": [
    "# data_agg_part_of_day = data_agg_part_of_day[['user_id', 'part_of_day_count']].groupby('user_id', as_index=False).median()"
   ]
  },
  {
   "cell_type": "code",
   "execution_count": null,
   "id": "aba1a3e4",
   "metadata": {},
   "outputs": [],
   "source": [
    "values = np.array(data_agg_part_of_day['part_of_day_request_cnt'])\n",
    "rows = np.array(data_agg_part_of_day['user_id'])\n",
    "cols = np.array(data_agg_part_of_day['part_of_day'])\n",
    "mat = scipy.sparse.coo_matrix((values, (rows, cols)), shape=(rows.max() + 1, cols.max() + 1))\n",
    "als = implicit.approximate_als.FaissAlternatingLeastSquares(nlist=4, factors = 20, iterations = 30, use_gpu = False, \\\n",
    "       calculate_training_loss = False, regularization = 0.1)\n",
    "als.fit(mat)\n",
    "\n",
    "u_factors = als.model.user_factors \n",
    "d_factors = als.model.item_factors\n",
    "\n",
    "user_embs_part_of_day_request_sum = pd.DataFrame(u_factors)\n",
    "user_embs_part_of_day_request_sum['user_id'] = user_embs_part_of_day_request_sum.index\n",
    "user_embs_part_of_day_request_sum.columns = list(map(str, user_embs_part_of_day_request_sum.columns))\n",
    "\n",
    "\n"
   ]
  },
  {
   "cell_type": "code",
   "execution_count": null,
   "id": "5251a2b9",
   "metadata": {},
   "outputs": [],
   "source": [
    "train = pd.merge(train, user_embs_part_of_day_request_sum, how='inner', on='user_id')"
   ]
  },
  {
   "cell_type": "markdown",
   "id": "510c6311",
   "metadata": {},
   "source": [
    "# Через dumm"
   ]
  },
  {
   "cell_type": "code",
   "execution_count": null,
   "id": "aaa7cac5",
   "metadata": {},
   "outputs": [],
   "source": [
    "data_agg_part_of_day_dumm = pd.concat([df['user_id'], pd.get_dummies(df['part_of_day'])], axis=1).groupby('user_id').sum()\n",
    "data_agg_part_of_day_dumm.columns = ['morn', 'midday', 'evening', 'night']"
   ]
  },
  {
   "cell_type": "code",
   "execution_count": null,
   "id": "47bf2f50",
   "metadata": {},
   "outputs": [],
   "source": []
  },
  {
   "cell_type": "code",
   "execution_count": null,
   "id": "e5568f1e",
   "metadata": {},
   "outputs": [],
   "source": [
    "train = pd.merge(train, data_agg_part_of_day_dumm, how='inner', on='user_id')"
   ]
  },
  {
   "cell_type": "markdown",
   "id": "96448f9b",
   "metadata": {},
   "source": [
    "### Региональная статистика"
   ]
  },
  {
   "cell_type": "markdown",
   "id": "df726ca4",
   "metadata": {},
   "source": [
    "провернуть через ембеддинги"
   ]
  },
  {
   "cell_type": "code",
   "execution_count": null,
   "id": "3e0584e5",
   "metadata": {},
   "outputs": [],
   "source": [
    "data_agg_region = df[['user_id',\n",
    "                      'region_name',\n",
    "                      'region_popularity',\n",
    "                      'city_popularity', \n",
    "                      'city_region_popularity',\n",
    "                      'price', ]].merge(get_region_stat(), how='inner', on='region_name').\\\n",
    "                    groupby(['user_id'], as_index=False).agg({\n",
    "                                                            'price': 'mean',\n",
    "                                                            'olds_in_region': 'mean',\n",
    "                                                            'mens_in_region': 'mean',\n",
    "                                                            'city_popularity': 'mean',\n",
    "                                                            'region_popularity': 'mean', \n",
    "                                                            'city_region_popularity': 'mean',\n",
    "                                                            'mean_age_in_region': 'mean'\n",
    "                                                            }).rename(columns={'price': 'mean_price'})\n",
    "\n",
    "# train = train.merge(data_agg_region, how='inner', on='user_id')"
   ]
  },
  {
   "cell_type": "code",
   "execution_count": null,
   "id": "5f53b056",
   "metadata": {},
   "outputs": [],
   "source": []
  },
  {
   "cell_type": "code",
   "execution_count": null,
   "id": "5c1c1b8a",
   "metadata": {},
   "outputs": [],
   "source": [
    "train = train.merge(data_agg_region, how='inner', on='user_id')"
   ]
  },
  {
   "cell_type": "code",
   "execution_count": null,
   "id": "b8418b2a",
   "metadata": {},
   "outputs": [],
   "source": [
    "train"
   ]
  },
  {
   "cell_type": "markdown",
   "id": "157991c8",
   "metadata": {},
   "source": [
    "# _________"
   ]
  },
  {
   "cell_type": "code",
   "execution_count": null,
   "id": "1ce17554",
   "metadata": {},
   "outputs": [],
   "source": [
    "df"
   ]
  },
  {
   "cell_type": "code",
   "execution_count": null,
   "id": "4c6d3257",
   "metadata": {},
   "outputs": [],
   "source": [
    "df['close_to_march8']\n",
    "df['close_to_feb23']\n",
    "df['close_to_valentine'] \n",
    "\n",
    "df['is_weekend']\n",
    "df['is_monday'] "
   ]
  },
  {
   "cell_type": "code",
   "execution_count": null,
   "id": "ab53b078",
   "metadata": {},
   "outputs": [],
   "source": [
    "holidays_agg_data = df[['user_id', 'close_to_march8', 'close_to_feb23', 'close_to_valentine', 'is_weekend', 'is_monday']].\\\n",
    "    groupby(['user_id'], as_index=False).\\\n",
    "    agg(count_womens_days = ('close_to_march8', 'sum'),\n",
    "        count_mens_days = ('close_to_feb23', 'sum'),\n",
    "        count_valentines_days = ('close_to_valentine', 'sum'),\n",
    "        count_weekends = ('is_weekend', 'sum'),\n",
    "        count_fridays = ('is_monday', 'sum')\n",
    "        \n",
    "       )\n",
    "\n",
    "\n",
    "holidays_agg_data['count_womens_days_bin'] = holidays_agg_data['count_womens_days'].apply(lambda x: 1 if x != 0 else 0)\n",
    "holidays_agg_data['count_mens_days_bin'] = holidays_agg_data['count_mens_days'].apply(lambda x: 1 if x != 0 else 0)\n",
    "holidays_agg_data['count_valentines_days_bin'] = holidays_agg_data['count_valentines_days'].apply(lambda x: 1 if x != 0 else 0)\n",
    "holidays_agg_data['count_weekends_bin'] = holidays_agg_data['count_weekends'].apply(lambda x: 1 if x == 0 else 1)\n",
    "holidays_agg_data['count_fridays_bin'] = holidays_agg_data['count_fridays'].apply(lambda x: 1 if x == 0 else 1)\n",
    "\n",
    "holidays_agg_data['count_weekends_sum'] = holidays_agg_data['count_weekends']\n",
    "holidays_agg_data['count_womens_days_sum'] = holidays_agg_data['count_womens_days']\n",
    "holidays_agg_data['count_mens_days_sum'] = holidays_agg_data['count_mens_days']\n",
    "holidays_agg_data['count_valentines_days_sum'] = holidays_agg_data['count_valentines_days']\n",
    "holidays_agg_data['count_fridays_sum'] = holidays_agg_data['count_fridays']\n",
    "\n",
    "\n"
   ]
  },
  {
   "cell_type": "markdown",
   "id": "5c458b46",
   "metadata": {},
   "source": [
    "# проверить"
   ]
  },
  {
   "cell_type": "markdown",
   "id": "2454a503",
   "metadata": {},
   "source": [
    "придумать бинарные фичи по признакам день матери день отца"
   ]
  },
  {
   "cell_type": "code",
   "execution_count": null,
   "id": "651041b7",
   "metadata": {},
   "outputs": [],
   "source": [
    "# train = train.merge(holidays_agg_data, how='inner', on='user_id')"
   ]
  },
  {
   "cell_type": "markdown",
   "id": "0b21d2a2",
   "metadata": {},
   "source": [
    "# _________"
   ]
  },
  {
   "cell_type": "code",
   "execution_count": null,
   "id": "bf544339",
   "metadata": {},
   "outputs": [],
   "source": [
    "CAT_SEX_COLS = [\n",
    "    'is_less_median_days',\n",
    "    'is_0_days',\n",
    "    'is_116_days',\n",
    "    'is_more_75_days',\n",
    "    \n",
    "    \n",
    "]"
   ]
  },
  {
   "cell_type": "code",
   "execution_count": null,
   "id": "1744b6dd",
   "metadata": {},
   "outputs": [],
   "source": [
    "train.columns = [f'{col}_{i}' if train.columns.tolist().count(col) > 1 else col for i, col in enumerate(train.columns)]\n"
   ]
  },
  {
   "cell_type": "code",
   "execution_count": null,
   "id": "7310f121",
   "metadata": {},
   "outputs": [],
   "source": [
    "train.to_csv('E:/mts/train.csv', index=False)"
   ]
  },
  {
   "cell_type": "markdown",
   "id": "ccc31b72",
   "metadata": {},
   "source": [
    "# SEX"
   ]
  },
  {
   "cell_type": "code",
   "execution_count": null,
   "id": "3804daa3",
   "metadata": {},
   "outputs": [],
   "source": [
    "asasdasdasd"
   ]
  },
  {
   "cell_type": "code",
   "execution_count": null,
   "id": "b18c155b",
   "metadata": {},
   "outputs": [],
   "source": [
    "train_sex = train[train['is_male'] != 'NA'].dropna()\n",
    "train_sex['is_male'] = train_sex['is_male'].astype('int')\n",
    "X_sex = train_sex.drop(['user_id', 'age', 'is_male'], axis = 1)\n",
    "y_sex = train_sex['is_male']\n",
    "\n"
   ]
  },
  {
   "cell_type": "code",
   "execution_count": null,
   "id": "c499f93f",
   "metadata": {},
   "outputs": [],
   "source": [
    "%%time\n",
    "x_train, x_val, y_train, y_val = train_test_split(\\\n",
    "    X_sex, y_sex, test_size = 0.1, random_state = SPLIT_SEED)\n",
    "clf_sex = CatBoostClassifier(\n",
    "    iterations=1500,\n",
    "    task_type='GPU', \n",
    "    devices='0:1',\n",
    "    custom_loss=['AUC', 'Accuracy']\n",
    ")\n",
    "clf_sex.fit(\n",
    "    x_train, \n",
    "    y_train,\n",
    "#     cat_features= CAT_SEX_COLS,\n",
    "    verbose = False,\n",
    "    plot=True,\n",
    "    eval_set=(x_val, y_val),\n",
    "       )\n",
    "print(f'GINI по полу {2 * m.roc_auc_score(y_val, clf_sex.predict_proba(x_val)[:,1]) - 1:2.3f}')"
   ]
  },
  {
   "cell_type": "code",
   "execution_count": null,
   "id": "32b3129e",
   "metadata": {},
   "outputs": [],
   "source": [
    "print(m.classification_report(y_val, clf_sex.predict(x_val)))"
   ]
  },
  {
   "cell_type": "code",
   "execution_count": null,
   "id": "327ac827",
   "metadata": {},
   "outputs": [],
   "source": [
    "plt.figure(figsize=(20, 10))\n",
    "plt.bar(train.columns[3:],clf_sex.feature_importances_)\n",
    "plt.xticks(rotation=90);"
   ]
  },
  {
   "cell_type": "code",
   "execution_count": null,
   "id": "66c78d58",
   "metadata": {},
   "outputs": [],
   "source": [
    "asdasdasd"
   ]
  },
  {
   "cell_type": "code",
   "execution_count": null,
   "id": "b70190d2",
   "metadata": {},
   "outputs": [],
   "source": [
    "# to_merge = [\n",
    "#     agg_time_between_first_last_visit, \n",
    "#     user_embs_url_request_cnt_sum, \n",
    "#     user_embs_cpe_request_cnt_sum,\n",
    "#     data_agg_part_of_day_dumm, \n",
    "#     data_agg_region, \n",
    "#     holidays_agg_data\n",
    "# ]"
   ]
  },
  {
   "cell_type": "code",
   "execution_count": null,
   "id": "54bb1748",
   "metadata": {},
   "outputs": [],
   "source": [
    "id_to_submit.merge(agg_time_between_first_last_visit, how='inner', on='user_id').\\\n",
    "                                                merge(user_embs_url_request_cnt_sum, how='inner', on='user_id').\\\n",
    "                                                merge(user_embs_cpe_request_cnt_sum, how='inner', on='user_id').\\\n",
    "                                                merge(data_agg_part_of_day_dumm, how='inner', on='user_id').\\\n",
    "                                                merge(holidays_agg_data, how='inner', on='user_id')"
   ]
  },
  {
   "cell_type": "code",
   "execution_count": null,
   "id": "f6da14b0",
   "metadata": {},
   "outputs": [],
   "source": [
    "clf_sex.fit(X_sex, y_sex, verbose = False)\n",
    "id_to_submit['is_male'] = clf_sex.predict_proba((id_to_submit.merge(agg_time_between_first_last_visit, how='inner', on='user_id').\\\n",
    "                                                merge(user_embs_url_request_cnt_sum, how='inner', on='user_id').\\\n",
    "                                                merge(user_embs_cpe_request_cnt_sum, how='inner', on='user_id').\\\n",
    "                                                merge(data_agg_part_of_day_dumm, how='inner', on='user_id').\\\n",
    "                                                merge(holidays_agg_data, how='inner', on='user_id')).drop(['user_id'], axis=1))[:,1]"
   ]
  },
  {
   "cell_type": "markdown",
   "id": "0ba50587",
   "metadata": {},
   "source": [
    "# Age"
   ]
  },
  {
   "cell_type": "code",
   "execution_count": null,
   "id": "6b63c755",
   "metadata": {},
   "outputs": [],
   "source": [
    "train_age"
   ]
  },
  {
   "cell_type": "code",
   "execution_count": null,
   "id": "e2d825d6",
   "metadata": {},
   "outputs": [],
   "source": [
    "train_age = train[train['age'] != 'NA'].dropna()\n",
    "train_age['age'] = train_age['age'].map(age_bucket).astype('int')\n",
    "X_age = train_age.drop(['user_id', 'age', 'is_male'], axis = 1)\n",
    "y_age = train_age['age']\n"
   ]
  },
  {
   "cell_type": "code",
   "execution_count": null,
   "id": "bfe096d5",
   "metadata": {},
   "outputs": [],
   "source": [
    "y_age.hist()"
   ]
  },
  {
   "cell_type": "code",
   "execution_count": null,
   "id": "93b13179",
   "metadata": {},
   "outputs": [],
   "source": [
    "%%time\n",
    "x_train, x_val, y_train, y_val = train_test_split(X_age, y_age, test_size = 0.33, random_state = SPLIT_SEED)\n",
    "\n",
    "clf_age = CatBoostClassifier(\n",
    "    task_type='GPU', \n",
    "    devices='0:1',\n",
    "    custom_loss=['AUC', 'Accuracy']\n",
    ")\n",
    "\n",
    "clf_age.fit(\n",
    "    x_train, \n",
    "    y_train,\n",
    "    verbose = False,\n",
    "    plot=True,\n",
    "    eval_set=(x_val, y_val),\n",
    "       )\n",
    "# print(f'GINI по полу {2 * m.roc_auc_score(y_test, clf.predict_proba(x_test)[:,1]) - 1:2.3f}')"
   ]
  },
  {
   "cell_type": "code",
   "execution_count": null,
   "id": "90868e6e",
   "metadata": {},
   "outputs": [],
   "source": [
    "predict = clf_age.predict(x_val).reshape(1, -1)[0]"
   ]
  },
  {
   "cell_type": "code",
   "execution_count": null,
   "id": "0e2d2eba",
   "metadata": {},
   "outputs": [],
   "source": [
    "plt.hist(predict)"
   ]
  },
  {
   "cell_type": "code",
   "execution_count": null,
   "id": "7a3279e5",
   "metadata": {},
   "outputs": [],
   "source": [
    "plt.hist(y_val.values)"
   ]
  },
  {
   "cell_type": "code",
   "execution_count": null,
   "id": "dfdfcd88",
   "metadata": {},
   "outputs": [],
   "source": [
    "print(m.classification_report(y_val.values, predict, \\\n",
    "                            target_names = ['19-25', '26-35','36-45', '46-55', '56-65', '66+']))"
   ]
  },
  {
   "cell_type": "code",
   "execution_count": null,
   "id": "59ddc015",
   "metadata": {},
   "outputs": [],
   "source": [
    "clf_age.fit(X_age, y_age, verbose = False)\n",
    "id_to_submit['age'] = clf_age.predict((id_to_submit.merge(agg_time_between_first_last_visit, how='inner', on='user_id').\\\n",
    "                                                merge(user_embs_url_request_cnt_sum, how='inner', on='user_id').\\\n",
    "                                                merge(user_embs_cpe_request_cnt_sum, how='inner', on='user_id').\\\n",
    "                                                merge(data_agg_part_of_day_dumm, how='inner', on='user_id').\\\n",
    "                                                merge(holidays_agg_data, how='inner', on='user_id')).drop(['user_id'], axis=1))\n",
    "\n",
    "\n"
   ]
  },
  {
   "cell_type": "code",
   "execution_count": null,
   "id": "34233613",
   "metadata": {},
   "outputs": [],
   "source": [
    "id_to_submit.to_csv('E:/mts/subs/submission_0.csv', index = False)"
   ]
  },
  {
   "cell_type": "code",
   "execution_count": null,
   "id": "a3f05a07",
   "metadata": {},
   "outputs": [],
   "source": [
    "pd.read_csv('E:/mts/subs/submission_0.csv')"
   ]
  },
  {
   "cell_type": "code",
   "execution_count": null,
   "id": "44d2f3ab",
   "metadata": {},
   "outputs": [],
   "source": []
  },
  {
   "cell_type": "code",
   "execution_count": null,
   "id": "03969bbd",
   "metadata": {},
   "outputs": [],
   "source": []
  },
  {
   "cell_type": "code",
   "execution_count": null,
   "id": "cf775caa",
   "metadata": {},
   "outputs": [],
   "source": [
    "\n",
    "\n",
    "a = pd.read_feather('E:/mts/scrap/embs.feather')"
   ]
  },
  {
   "cell_type": "code",
   "execution_count": null,
   "id": "f27541eb",
   "metadata": {},
   "outputs": [],
   "source": [
    "a.set_index('url_host', inplace=True)"
   ]
  },
  {
   "cell_type": "code",
   "execution_count": null,
   "id": "7a580167",
   "metadata": {},
   "outputs": [],
   "source": [
    "a"
   ]
  },
  {
   "cell_type": "code",
   "execution_count": null,
   "id": "05122e92",
   "metadata": {},
   "outputs": [],
   "source": [
    "my_dict = {index: np.array(row) for index, row in a.iterrows()}"
   ]
  },
  {
   "cell_type": "code",
   "execution_count": null,
   "id": "208a70c4",
   "metadata": {},
   "outputs": [],
   "source": [
    "my_dict['last-frontier.ru']"
   ]
  },
  {
   "cell_type": "code",
   "execution_count": null,
   "id": "52c8fa0b",
   "metadata": {},
   "outputs": [],
   "source": [
    "for i in a:\n",
    "    print(i)"
   ]
  },
  {
   "cell_type": "code",
   "execution_count": null,
   "id": "e0f55dd1",
   "metadata": {},
   "outputs": [],
   "source": [
    "a.drop('url_host', axis=1).values"
   ]
  },
  {
   "cell_type": "code",
   "execution_count": null,
   "id": "12568324",
   "metadata": {},
   "outputs": [],
   "source": []
  },
  {
   "cell_type": "code",
   "execution_count": null,
   "id": "7fb18ded",
   "metadata": {},
   "outputs": [],
   "source": []
  },
  {
   "cell_type": "code",
   "execution_count": null,
   "id": "8e3805e4",
   "metadata": {},
   "outputs": [],
   "source": []
  },
  {
   "cell_type": "code",
   "execution_count": null,
   "id": "3cbfb6d4",
   "metadata": {},
   "outputs": [],
   "source": [
    "import pandas as pd\n",
    "import numpy as np\n",
    "import torch\n",
    "import torch.nn as nn\n",
    "from torch.utils.data import DataLoader, Dataset\n",
    "from sklearn.preprocessing import QuantileTransformer\n",
    "\n",
    "# Load data\n",
    "data = pd.read_csv('data.csv')\n",
    "\n",
    "# Define target column and feature columns\n",
    "target_col = 'target'\n",
    "feature_cols = [col for col in data.columns if col != target_col]\n",
    "\n",
    "# Preprocess data using GaussRankScaler\n",
    "scaler = QuantileTransformer(output_distribution='normal')\n",
    "data[feature_cols] = scaler.fit_transform(data[feature_cols])\n",
    "\n",
    "# Define PyTorch dataset and dataloader\n",
    "class TabularDataset(Dataset):\n",
    "    def __init__(self, data, target_col):\n",
    "        self.features = data.drop(columns=[target_col]).values\n",
    "        self.targets = data[target_col].values\n",
    "        \n",
    "    def __len__(self):\n",
    "        return len(self.features)\n",
    "    \n",
    "    def __getitem__(self, idx):\n",
    "        return torch.FloatTensor(self.features[idx]), torch.FloatTensor([self.targets[idx]])\n",
    "    \n",
    "batch_size = 64\n",
    "dataset = TabularDataset(data, target_col)\n",
    "dataloader = DataLoader(dataset, batch_size=batch_size, shuffle=True)\n",
    "\n",
    "# Define model architecture\n",
    "class TabularModel(nn.Module):\n",
    "    def __init__(self, input_dim, hidden_dim, output_dim):\n",
    "        super().__init__()\n",
    "        self.hidden1 = nn.Linear(input_dim, hidden_dim)\n",
    "        self.relu1 = nn.ReLU()\n",
    "        self.hidden2 = nn.Linear(hidden_dim, hidden_dim)\n",
    "        self.relu2 = nn.ReLU()\n",
    "        self.output = nn.Linear(hidden_dim, output_dim)\n",
    "        self.sigmoid = nn.Sigmoid()\n",
    "        \n",
    "    def forward(self, x):\n",
    "        x = self.hidden1(x)\n",
    "        x = self.relu1(x)\n",
    "        x = self.hidden2(x)\n",
    "        x = self.relu2(x)\n",
    "        x = self.output(x)\n",
    "        x = self.sigmoid(x)\n",
    "        return x\n",
    "\n",
    "input_dim = len(feature_cols)\n",
    "hidden_dim = 32\n",
    "output_dim = 1\n",
    "model = TabularModel(input_dim, hidden_dim, output_dim)\n",
    "\n",
    "# Train model\n",
    "learning_rate = 0.01\n",
    "optimizer = torch.optim.Adam(model.parameters(), lr=learning_rate)\n",
    "criterion = nn.MSELoss()\n",
    "\n",
    "num_epochs = 10\n",
    "for epoch in range(num_epochs):\n",
    "    running_loss = 0.0\n",
    "    for i, (inputs, labels) in enumerate(dataloader):\n",
    "        optimizer.zero_grad()\n",
    "        outputs = model(inputs)\n",
    "        loss = criterion(outputs, labels)\n",
    "        loss.backward()\n",
    "        optimizer.step()\n",
    "        running_loss += loss.item()\n",
    "    print('Epoch %d, loss: %.3f' % (epoch + 1, running_loss / len(dataloader)))\n",
    "\n",
    "# Get embeddings for entire dataset\n",
    "model.eval()\n",
    "if torch.cuda.is_available():\n",
    "    model = model.cpu()\n",
    "embeddings = []\n",
    "with torch.no_grad():\n",
    "    for i, inputs in enumerate(data[feature_cols].values):\n",
    "        if torch.cuda.is_available():\n",
    "            inputs = torch.FloatTensor(inputs).cuda()\n",
    "        else:\n",
    "            inputs = torch.FloatTensor(inputs)\n",
    "        outputs = model(inputs.unsqueeze(0))\n",
    "        embeddings.append(outputs.cpu().numpy()[0][0])\n",
    "embeddings = np.array(embeddings)\n",
    "\n",
    "print('Embeddings shape:', embeddings.shape)\n"
   ]
  }
 ],
 "metadata": {
  "kernelspec": {
   "display_name": "Python 3 (ipykernel)",
   "language": "python",
   "name": "python3"
  },
  "language_info": {
   "codemirror_mode": {
    "name": "ipython",
    "version": 3
   },
   "file_extension": ".py",
   "mimetype": "text/x-python",
   "name": "python",
   "nbconvert_exporter": "python",
   "pygments_lexer": "ipython3",
   "version": "3.9.7"
  }
 },
 "nbformat": 4,
 "nbformat_minor": 5
}
