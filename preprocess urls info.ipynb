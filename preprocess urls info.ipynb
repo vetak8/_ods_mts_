{
 "cells": [
  {
   "cell_type": "code",
   "execution_count": 1,
   "id": "3aedc0e3",
   "metadata": {},
   "outputs": [],
   "source": [
    "import pandas as pd\n",
    "import nltk\n",
    "import tqdm\n",
    "from nltk.tokenize import word_tokenize, sent_tokenize\n",
    "from razdel import tokenize, sentenize\n",
    "from navec import Navec\n",
    "from sklearn.feature_extraction.text import CountVectorizer\n",
    "import numpy as np\n",
    "from slovnet.model.emb import NavecEmbedding\n",
    "from sklearn.feature_extraction.text import TfidfVectorizer\n",
    "import re\n",
    "import cupy as cp\n",
    "import pickle \n",
    "import scipy.sparse as sp"
   ]
  },
  {
   "cell_type": "code",
   "execution_count": 2,
   "id": "ee19937a",
   "metadata": {},
   "outputs": [],
   "source": [
    "import warnings\n",
    "warnings.filterwarnings('ignore')"
   ]
  },
  {
   "cell_type": "code",
   "execution_count": 3,
   "id": "1b29d4db",
   "metadata": {},
   "outputs": [],
   "source": [
    "from navec import Navec\n",
    "from natasha import Segmenter, NewsEmbedding, NewsMorphTagger, NewsSyntaxParser, MorphVocab, Doc "
   ]
  },
  {
   "cell_type": "code",
   "execution_count": 4,
   "id": "49940474",
   "metadata": {},
   "outputs": [
    {
     "name": "stdout",
     "output_type": "stream",
     "text": [
      "INFO: Pandarallel will run on 6 workers.\n",
      "INFO: Pandarallel will use standard multiprocessing data transfer (pipe) to transfer data between the main process and workers.\n",
      "\n",
      "WARNING: You are on Windows. If you detect any issue with pandarallel, be sure you checked out the Troubleshooting page:\n",
      "https://nalepae.github.io/pandarallel/troubleshooting/\n"
     ]
    }
   ],
   "source": [
    "# импортируем библиотеку pandarallel и инициализируем её\n",
    "from pandarallel import pandarallel\n",
    "pandarallel.initialize(progress_bar=True, nb_workers=6)"
   ]
  },
  {
   "cell_type": "code",
   "execution_count": 5,
   "id": "9b4e6595",
   "metadata": {},
   "outputs": [],
   "source": [
    "\n",
    "navec = Navec.load('E:/mts/navec_hudlit_v1_12B_500K_300d_100q.tar')\n",
    "\n",
    "\n",
    "# morph_vocab = MorphVocab()\n",
    "\n",
    "# segmenter = Segmenter()\n",
    "# emb = NewsEmbedding()\n",
    "# morph_tagger = NewsMorphTagger(emb)\n",
    "# syntax_parser = NewsSyntaxParser(emb)\n"
   ]
  },
  {
   "cell_type": "code",
   "execution_count": 6,
   "id": "622323d3",
   "metadata": {},
   "outputs": [],
   "source": [
    "df = pd.read_csv(\"E:/mts/scrap/urls_info_0.csv\")\n",
    "df['url_info'] = df['url_info'].fillna(' ')"
   ]
  },
  {
   "cell_type": "code",
   "execution_count": 7,
   "id": "cf80c8b4",
   "metadata": {},
   "outputs": [],
   "source": [
    "def get_emb(text):\n",
    "    \n",
    "    from navec import Navec\n",
    "    from natasha import Segmenter, NewsEmbedding, NewsMorphTagger, NewsSyntaxParser, MorphVocab, Doc \n",
    "    import numpy as np\n",
    "    from navec import Navec\n",
    "    \n",
    "    navec = Navec.load('E:/mts/navec_hudlit_v1_12B_500K_300d_100q.tar')\n",
    "    \n",
    "    morph_vocab = MorphVocab()\n",
    "\n",
    "    segmenter = Segmenter()\n",
    "    emb = NewsEmbedding()\n",
    "    morph_tagger = NewsMorphTagger(emb)\n",
    "    syntax_parser = NewsSyntaxParser(emb)  \n",
    "    \n",
    "    if text == ' ':\n",
    "        return np.zeros((1, 300))[0]\n",
    "    \n",
    "    \n",
    "    doc = Doc(text)\n",
    "    doc.segment(segmenter)\n",
    "    doc.tag_morph(morph_tagger)\n",
    "    doc.parse_syntax(syntax_parser)\n",
    "    \n",
    "    for token in doc.tokens:\n",
    "        token.lemmatize(morph_vocab)\n",
    "        \n",
    "    lemantized_text = [token.lemma for token in doc.tokens]\n",
    "    \n",
    "    lenght = len(lemantized_text)\n",
    "    emb = np.zeros((1, 300))\n",
    "    for lemma in lemantized_text:\n",
    "        \n",
    "        try:\n",
    "            emb += navec[lemma]\n",
    "        except:\n",
    "            pass\n",
    "            \n",
    "    emb = np.mean(emb, axis=0)\n",
    "    \n",
    "    \n",
    "    return emb\n",
    "    "
   ]
  },
  {
   "cell_type": "code",
   "execution_count": 8,
   "id": "e80a0dac",
   "metadata": {},
   "outputs": [
    {
     "name": "stdout",
     "output_type": "stream",
     "text": [
      "Couldn't find program: 'false'\n"
     ]
    }
   ],
   "source": [
    "%%script false\n",
    "%%time\n",
    "embs = df['url_info'].parallel_apply(get_emb)\n",
    "\n",
    "\n",
    "df_embs = pd.concat([df['url_host'], pd.DataFrame(embs.to_list())], axis=1)\n",
    "df_embs.columns = list(map(str, df_embs.columns))\n",
    "df_embs.reset_index(inplace=True)\n",
    "df_embs.drop(['index'], axis=1, inplace=True)\n",
    "df_embs.to_feather('E:/mts/scrap/embs.feather')"
   ]
  },
  {
   "cell_type": "code",
   "execution_count": 9,
   "id": "a3d54e52",
   "metadata": {},
   "outputs": [
    {
     "name": "stdout",
     "output_type": "stream",
     "text": [
      "Couldn't find program: 'false'\n"
     ]
    }
   ],
   "source": [
    "%%script false\n",
    "%%time\n",
    "df_for_urls = pd.read_feather('E:/mts/total.feather')[['user_id', 'url_host']].groupby('user_id')['url_host'].apply(list).apply(np.array)\n",
    "\n",
    "df_embs = pd.read_feather('E:/mts/scrap/embs.feather')\n",
    "df_embs.set_index('url_host', inplace=True)\n",
    "dict_url_emb = {index: np.array(row) for index, row in df_embs.iterrows()}"
   ]
  },
  {
   "cell_type": "code",
   "execution_count": 10,
   "id": "5514b5b8",
   "metadata": {},
   "outputs": [],
   "source": [
    "def get_one_emb(lst):\n",
    "    \n",
    "    import numpy as np\n",
    "    \n",
    "    \n",
    "    res = np.zeros((1, 300))[0]\n",
    "    count = 0\n",
    "    for url in lst:\n",
    "        try:\n",
    "            matches = dict_url_emb[url] #url_embs[url_embs['url_host'] == url].drop('url_host', axis=1).astype('float').values\n",
    "        except:\n",
    "            count -= 1\n",
    "            continue\n",
    "        res += np.round(matches, 5) # add the embedding to the result (excluding the first column)\n",
    "        count += 1\n",
    "    if count == 0: # no embeddings added to the result\n",
    "        return None\n",
    "    return np.round(res / count, 5)\n"
   ]
  },
  {
   "cell_type": "code",
   "execution_count": 11,
   "id": "0aac2774",
   "metadata": {},
   "outputs": [
    {
     "name": "stdout",
     "output_type": "stream",
     "text": [
      "Couldn't find program: 'false'\n"
     ]
    }
   ],
   "source": [
    "%%script false\n",
    "%%time \n",
    "# one embedding of all visited sites for each user\n",
    "emb_all_sites = df_for_urls.apply(get_one_emb)\n",
    "emb_all_sites = pd.DataFrame(emb_all_sites)"
   ]
  },
  {
   "cell_type": "code",
   "execution_count": 12,
   "id": "bf6f6778",
   "metadata": {
    "scrolled": true
   },
   "outputs": [
    {
     "name": "stdout",
     "output_type": "stream",
     "text": [
      "Couldn't find program: 'false'\n"
     ]
    }
   ],
   "source": [
    "%%script false\n",
    "emb_all_sites = emb_all_sites.join(emb_all_sites['url_host'].apply(pd.Series).add_prefix('host_'))\n",
    "emb_all_sites = emb_all_sites.drop('url_host', axis=1)\n",
    "emb_all_sites.reset_index(inplace=True)\n",
    "emb_all_sites.to_feather('E:/mts/user_emb_host.feather')"
   ]
  },
  {
   "cell_type": "code",
   "execution_count": 13,
   "id": "bc121259",
   "metadata": {
    "scrolled": true
   },
   "outputs": [],
   "source": [
    "# pd.read_feather('E:/mts/user_emb_host.feather')"
   ]
  },
  {
   "cell_type": "markdown",
   "id": "c9454c52",
   "metadata": {},
   "source": [
    "# сделать TF-IDF для названий сайтов, fit на обучающей transform на предсказываемых\n",
    "\n",
    "# параметр колво посещенных сайтов на количество посещений всех сайтов"
   ]
  },
  {
   "cell_type": "code",
   "execution_count": 14,
   "id": "3389f9ce",
   "metadata": {},
   "outputs": [],
   "source": [
    "# df_for_urls = pd.read_feather('E:/mts/total.feather')[['user_id', 'url_host']].groupby('user_id')['url_host'].apply(list).apply(np.array)\n",
    "# df_for_urls = {idx: ', '.join(df_for_urls[idx])  for idx in df_for_urls.index}"
   ]
  },
  {
   "cell_type": "code",
   "execution_count": 15,
   "id": "5ff6e215",
   "metadata": {},
   "outputs": [
    {
     "name": "stdout",
     "output_type": "stream",
     "text": [
      "Couldn't find program: 'false'\n"
     ]
    }
   ],
   "source": [
    "%%script false\n",
    "\n",
    "df_for_urls = pd.read_feather('E:/mts/total.feather')[['user_id', 'url_host','request_cnt', 'date']]\n",
    "df_for_urls = df_for_urls.sort_values(by='date')"
   ]
  },
  {
   "cell_type": "code",
   "execution_count": 16,
   "id": "98e82dd8",
   "metadata": {},
   "outputs": [
    {
     "name": "stdout",
     "output_type": "stream",
     "text": [
      "Couldn't find program: 'false'\n"
     ]
    }
   ],
   "source": [
    "%%script false\n",
    "\n",
    "# Оформляем историю каждого пользователя во времени по количеству посещений каждого сайта\n",
    "user_data = {}\n",
    "for _, d in tqdm.tqdm(df_for_urls.iterrows(), total = len(df_for_urls)):\n",
    "    if d['user_id'] not in user_data:\n",
    "        user_data[d['user_id']] = []\n",
    "    for i in range(d['request_cnt']):\n",
    "        user_data[d['user_id']].append(d['url_host'])\n",
    "\n",
    "# print(user_data)"
   ]
  },
  {
   "cell_type": "code",
   "execution_count": 17,
   "id": "9c4b82aa",
   "metadata": {},
   "outputs": [
    {
     "name": "stdout",
     "output_type": "stream",
     "text": [
      "Couldn't find program: 'false'\n"
     ]
    }
   ],
   "source": [
    "%%script false\n",
    "user_data = dict(sorted(user_data.items()))\n",
    "\n",
    "with open ('E:/mts/dict_user_ordered_urls_visit.pkl', 'wb') as f:\n",
    "    pickle.dump(user_data, f)"
   ]
  },
  {
   "cell_type": "code",
   "execution_count": 18,
   "id": "638dd79a",
   "metadata": {},
   "outputs": [],
   "source": [
    "# %%script false\n",
    "with open ('E:/mts/dict_user_ordered_urls_visit.pkl', 'rb') as f:\n",
    "    user_data = pickle.load(f)  \n",
    "    \n",
    "user_data = {idx: ', '.join(user_data[idx])  for idx in user_data.keys()}\n",
    "\n",
    "test_users = pd.read_parquet('E:/mts/submit_2.pqt')['user_id'].values\n",
    "train_users = pd.read_parquet('E:/mts/public_train.pqt')['user_id'].values\n",
    "\n",
    "\n",
    "train_tf_idf_users = {k: v for k, v in user_data.items() if k  in train_users}\n",
    "test_tf_idf_users = {k: v for k, v in user_data.items() if k  in test_users}"
   ]
  },
  {
   "cell_type": "code",
   "execution_count": 19,
   "id": "55c1d015",
   "metadata": {},
   "outputs": [],
   "source": [
    "del user_data, test_users, train_users"
   ]
  },
  {
   "cell_type": "code",
   "execution_count": 20,
   "id": "b0f76ccb",
   "metadata": {},
   "outputs": [],
   "source": [
    "# %%script false\n",
    "pattern = r'\\b(?:[a-z0-9](?:[a-z0-9\\-]{0,61}[a-z0-9])?\\.)+(?:[a-z]{2,6}\\.?|[a-z0-9\\-]{2,}\\.?)\\S*\\b'\n",
    "vectorizer = TfidfVectorizer(token_pattern=pattern, dtype=cp.float32, ngram_range=(1, 5), max_df=0.2, min_df=0, max_features=3000)\n",
    "matrix_train = vectorizer.fit_transform(train_tf_idf_users.values())\n",
    "matrix_test = vectorizer.transform(test_tf_idf_users.values())\n",
    "\n",
    "\n",
    "sp.save_npz('E:/mts/tf_idf_train.npz', matrix_train)\n",
    "sp.save_npz('E:/mts/tf_idf_test.npz', matrix_test)"
   ]
  },
  {
   "cell_type": "code",
   "execution_count": 21,
   "id": "9e2c42f8",
   "metadata": {},
   "outputs": [],
   "source": [
    "# %%script false\n",
    "pattern = r'\\b(?:[a-z0-9](?:[a-z0-9\\-]{0,61}[a-z0-9])?\\.)+(?:[a-z]{2,6}\\.?|[a-z0-9\\-]{2,}\\.?)\\S*\\b'\n",
    "vectorizer = TfidfVectorizer(token_pattern=pattern, dtype=cp.float32, ngram_range=(1, 5), max_df=0.4, min_df=0.2, max_features=3000)\n",
    "matrix_train = vectorizer.fit_transform(train_tf_idf_users.values())\n",
    "matrix_test = vectorizer.transform(test_tf_idf_users.values())\n",
    "\n",
    "\n",
    "sp.save_npz('E:/mts/tf_idf_train_1.npz', matrix_train)\n",
    "sp.save_npz('E:/mts/tf_idf_test_1.npz', matrix_test)"
   ]
  },
  {
   "cell_type": "code",
   "execution_count": 22,
   "id": "2bb77945",
   "metadata": {},
   "outputs": [],
   "source": [
    "# %%script false\n",
    "pattern = r'\\b(?:[a-z0-9](?:[a-z0-9\\-]{0,61}[a-z0-9])?\\.)+(?:[a-z]{2,6}\\.?|[a-z0-9\\-]{2,}\\.?)\\S*\\b'\n",
    "vectorizer = TfidfVectorizer(token_pattern=pattern, dtype=cp.float32, ngram_range=(1, 5), max_df=0.6, min_df=0.4, max_features=3000)\n",
    "matrix_train = vectorizer.fit_transform(train_tf_idf_users.values())\n",
    "matrix_test = vectorizer.transform(test_tf_idf_users.values())\n",
    "\n",
    "\n",
    "sp.save_npz('E:/mts/tf_idf_train_2.npz', matrix_train)\n",
    "sp.save_npz('E:/mts/tf_idf_test_2.npz', matrix_test)"
   ]
  },
  {
   "cell_type": "code",
   "execution_count": 23,
   "id": "187277f3",
   "metadata": {},
   "outputs": [],
   "source": [
    "# %%script false\n",
    "pattern = r'\\b(?:[a-z0-9](?:[a-z0-9\\-]{0,61}[a-z0-9])?\\.)+(?:[a-z]{2,6}\\.?|[a-z0-9\\-]{2,}\\.?)\\S*\\b'\n",
    "vectorizer = TfidfVectorizer(token_pattern=pattern, dtype=cp.float32, ngram_range=(1, 5), max_df=0.8, min_df=0.6, max_features=3000)\n",
    "matrix_train = vectorizer.fit_transform(train_tf_idf_users.values())\n",
    "matrix_test = vectorizer.transform(test_tf_idf_users.values())\n",
    "\n",
    "\n",
    "sp.save_npz('E:/mts/tf_idf_train_3.npz', matrix_train)\n",
    "sp.save_npz('E:/mts/tf_idf_test_3.npz', matrix_test)"
   ]
  },
  {
   "cell_type": "code",
   "execution_count": 24,
   "id": "c4ee07a6",
   "metadata": {},
   "outputs": [],
   "source": [
    "# %%script false\n",
    "pattern = r'\\b(?:[a-z0-9](?:[a-z0-9\\-]{0,61}[a-z0-9])?\\.)+(?:[a-z]{2,6}\\.?|[a-z0-9\\-]{2,}\\.?)\\S*\\b'\n",
    "vectorizer = TfidfVectorizer(token_pattern=pattern, dtype=cp.float32, ngram_range=(1, 5), min_df=0.8, max_features=3000)\n",
    "matrix_train = vectorizer.fit_transform(train_tf_idf_users.values())\n",
    "matrix_test = vectorizer.transform(test_tf_idf_users.values())\n",
    "\n",
    "\n",
    "sp.save_npz('E:/mts/tf_idf_train_4.npz', matrix_train)\n",
    "sp.save_npz('E:/mts/tf_idf_test_4.npz', matrix_test)"
   ]
  },
  {
   "cell_type": "markdown",
   "id": "60d5ee24",
   "metadata": {},
   "source": [
    "#  присобачить tf idf к таргету\n",
    "# добавить среднее время непоявления/ появления в сети\n",
    "# добавить tf idf по датам\n",
    "# если будет ништяк, то поделать и по другим признакам типа устройств"
   ]
  },
  {
   "cell_type": "code",
   "execution_count": 25,
   "id": "89c10033",
   "metadata": {},
   "outputs": [],
   "source": [
    "# [agg_time_between_first_last_visit,\n",
    "#  mean_using_internet,\n",
    "#  user_embs_usertime_per_part_day,\n",
    "#  user_embs_url_request_cnt_sum,\n",
    "#  user_embs_tld_request_cnt_sum,\n",
    "#  user_embs_cpe_request_cnt_sumб\n",
    "#  user_embs_part_of_day_request_sum,\n",
    "#  data_agg_part_of_day_dumm,\n",
    "#  data_agg_region\n",
    "# ]"
   ]
  },
  {
   "cell_type": "markdown",
   "id": "b49e4d72",
   "metadata": {},
   "source": [
    "# Tf-IDF по уникальным датам"
   ]
  },
  {
   "cell_type": "code",
   "execution_count": 26,
   "id": "d583a127",
   "metadata": {},
   "outputs": [
    {
     "name": "stdout",
     "output_type": "stream",
     "text": [
      "Couldn't find program: 'false'\n"
     ]
    }
   ],
   "source": [
    "%%script false\n",
    "\n",
    "df_for_days = pd.read_feather('E:/mts/total.feather')[['user_id', 'date']]\n",
    "df_for_days = df_for_days.sort_values(by='date')\n",
    "df_for_days['date'] = df_for_days['date'].dt.day_of_year.map(str)\n",
    "\n",
    "\n",
    "df_for_days = dict(df_for_days.groupby('user_id')['date'].unique().apply(lambda x: ', '.join(x)))"
   ]
  },
  {
   "cell_type": "code",
   "execution_count": 27,
   "id": "84a42c22",
   "metadata": {},
   "outputs": [
    {
     "name": "stdout",
     "output_type": "stream",
     "text": [
      "Couldn't find program: 'false'\n"
     ]
    }
   ],
   "source": [
    "%%script false\n",
    "with open ('E:/mts/dict_user_ordered_date_visit.pkl', 'wb') as f:\n",
    "    pickle.dump(df_for_days, f)"
   ]
  },
  {
   "cell_type": "code",
   "execution_count": 28,
   "id": "d976edee",
   "metadata": {},
   "outputs": [],
   "source": [
    "with open ('E:/mts/dict_user_ordered_date_visit.pkl', 'rb') as f:\n",
    "    date_data = pickle.load(f)"
   ]
  },
  {
   "cell_type": "code",
   "execution_count": 29,
   "id": "2604613f",
   "metadata": {},
   "outputs": [
    {
     "name": "stdout",
     "output_type": "stream",
     "text": [
      "Couldn't find program: 'false'\n"
     ]
    }
   ],
   "source": [
    "%%script false\n",
    "\n",
    "test_users = pd.read_parquet('E:/mts/submit_2.pqt')['user_id'].values\n",
    "train_users = pd.read_parquet('E:/mts/public_train.pqt')['user_id'].values\n",
    "\n",
    "\n",
    "train_tf_idf_date = {k: v for k, v in date_data.items() if k  in train_users}\n",
    "test_tf_idf_date = {k: v for k, v in date_data.items() if k  in test_users}"
   ]
  },
  {
   "cell_type": "code",
   "execution_count": 30,
   "id": "6e8907c8",
   "metadata": {},
   "outputs": [
    {
     "name": "stdout",
     "output_type": "stream",
     "text": [
      "Couldn't find program: 'false'\n"
     ]
    }
   ],
   "source": [
    "%%script false\n",
    "pattern = r'\\s*,\\s*'\n",
    "vectorizer = TfidfVectorizer(token_pattern=pattern, dtype=cp.float32, ngram_range=(1, 10), max_features=1000)\n",
    "matrix_train = vectorizer.fit_transform(train_tf_idf_date.values())\n",
    "matrix_test = vectorizer.transform(test_tf_idf_date.values())\n",
    "\n",
    "\n",
    "sp.save_npz('E:/mts/date_tf_idf_train.npz', matrix_train)\n",
    "sp.save_npz('E:/mts/date_tf_idf_test.npz', matrix_test)"
   ]
  },
  {
   "cell_type": "code",
   "execution_count": null,
   "id": "84965d04",
   "metadata": {},
   "outputs": [],
   "source": []
  },
  {
   "cell_type": "code",
   "execution_count": null,
   "id": "1d046551",
   "metadata": {},
   "outputs": [],
   "source": []
  },
  {
   "cell_type": "code",
   "execution_count": null,
   "id": "37633e47",
   "metadata": {},
   "outputs": [],
   "source": []
  },
  {
   "cell_type": "code",
   "execution_count": null,
   "id": "9f9cfa88",
   "metadata": {},
   "outputs": [],
   "source": []
  },
  {
   "cell_type": "code",
   "execution_count": null,
   "id": "5d60bd89",
   "metadata": {},
   "outputs": [],
   "source": []
  }
 ],
 "metadata": {
  "kernelspec": {
   "display_name": "Python 3 (ipykernel)",
   "language": "python",
   "name": "python3"
  },
  "language_info": {
   "codemirror_mode": {
    "name": "ipython",
    "version": 3
   },
   "file_extension": ".py",
   "mimetype": "text/x-python",
   "name": "python",
   "nbconvert_exporter": "python",
   "pygments_lexer": "ipython3",
   "version": "3.9.13"
  }
 },
 "nbformat": 4,
 "nbformat_minor": 5
}
