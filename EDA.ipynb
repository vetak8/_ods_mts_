{
 "cells": [
  {
   "cell_type": "code",
   "execution_count": 1,
   "id": "9eb34cbb",
   "metadata": {},
   "outputs": [
    {
     "name": "stdout",
     "output_type": "stream",
     "text": [
      "Collecting faiss-cpu\n",
      "  Downloading faiss_cpu-1.7.3-cp39-cp39-win_amd64.whl (10.4 MB)\n",
      "     ---------------------------------------- 10.4/10.4 MB 4.4 MB/s eta 0:00:00\n",
      "Installing collected packages: faiss-cpu\n",
      "Successfully installed faiss-cpu-1.7.3\n"
     ]
    }
   ],
   "source": [
    "!pip install faiss-cpu --no-cache"
   ]
  },
  {
   "cell_type": "code",
   "execution_count": 2,
   "id": "9f0d7ee2",
   "metadata": {},
   "outputs": [],
   "source": [
    "import sys\n",
    "import os\n",
    "import warnings\n",
    "os.environ['OPENBLAS_NUM_THREADS'] = '1'\n",
    "os.environ['DASK_TEMP_DIR'] = 'Z:/temp_data'\n",
    "warnings.filterwarnings('ignore')\n",
    "\n",
    "import tqdm\n",
    "import pickle \n",
    "import random\n",
    "import seaborn as sns\n",
    "import matplotlib.pyplot as plt\n",
    "from fuzzywuzzy import fuzz\n",
    "\n",
    "import pandas as pd\n",
    "import numpy as np\n",
    "import time\n",
    "import pyarrow.parquet as pq\n",
    "import pyarrow as pa\n",
    "import scipy\n",
    "import implicit\n",
    "import bisect\n",
    "import sklearn.metrics as m\n",
    "from catboost import CatBoostClassifier, CatBoostRegressor, Pool\n",
    "from sklearn.model_selection import train_test_split\n",
    "from sklearn.calibration import calibration_curve, CalibratedClassifierCV\n",
    "from sklearn.preprocessing import LabelEncoder"
   ]
  },
  {
   "cell_type": "code",
   "execution_count": 2,
   "id": "00f1062d",
   "metadata": {},
   "outputs": [],
   "source": [
    "def reduce_mem_usage(df):\n",
    "    \n",
    "    \"\"\" iterate through all the columns of a dataframe and modify the data type\n",
    "        to reduce memory usage.\n",
    "    \"\"\"\n",
    "    start_mem = df.memory_usage().sum() / 1024**2\n",
    "    print('Memory usage of dataframe is {:.2f} MB'.format(start_mem))\n",
    "\n",
    "    for col in df.columns:    \n",
    "        \n",
    "        \n",
    "        col_type = df[col].dtype.name\n",
    "\n",
    "        if col_type not in ['object', 'category', 'datetime64[ns]']:\n",
    "                \n",
    "                \n",
    "                \n",
    "            c_min = df[col].min()\n",
    "            c_max = df[col].max()\n",
    "            if str(col_type)[:3] == 'int':\n",
    "                    \n",
    "                if c_min > np.iinfo(np.int8).min and c_max < np.iinfo(np.int8).max:\n",
    "                        \n",
    "                    df[col] = df[col].astype(np.int16)\n",
    "                elif c_min > np.iinfo(np.int16).min and c_max < np.iinfo(np.int16).max:\n",
    "                    df[col] = df[col].astype(np.int16)\n",
    "                elif c_min > np.iinfo(np.int32).min and c_max < np.iinfo(np.int32).max:\n",
    "                    df[col] = df[col].astype(np.int32)\n",
    "                elif c_min > np.iinfo(np.int64).min and c_max < np.iinfo(np.int64).max:\n",
    "                    df[col] = df[col].astype(np.int64)\n",
    "            else:\n",
    "                if c_min > np.finfo(np.float16).min and c_max < np.finfo(np.float16).max:\n",
    "                    df[col] = df[col].astype(np.float16)\n",
    "                elif c_min > np.finfo(np.float32).min and c_max < np.finfo(np.float32).max:\n",
    "                    df[col] = df[col].astype(np.float32)\n",
    "                else:\n",
    "                    df[col] = df[col].astype(np.float64)\n",
    "\n",
    "    end_mem = df.memory_usage().sum() / 1024**2\n",
    "    print('Memory usage after optimization is: {:.2f} MB'.format(end_mem))\n",
    "    print('Decreased by {:.1f}%'.format(100 * (start_mem - end_mem) / start_mem))\n",
    "\n",
    "    return df #= reduce_mem_usage(df)"
   ]
  },
  {
   "cell_type": "code",
   "execution_count": 3,
   "id": "efc2d385",
   "metadata": {},
   "outputs": [],
   "source": [
    "public_train = pd.read_parquet('E:/mts/public_train.pqt')\n",
    "id_to_submit = pd.read_parquet('E:/mts/submit_2.pqt')"
   ]
  },
  {
   "cell_type": "code",
   "execution_count": 4,
   "id": "48c4bfe0",
   "metadata": {},
   "outputs": [],
   "source": [
    "# df = pd.read_feather('E:/mts/mapped_inted_df.feather')\n",
    "# df = df.merge(public_train, how='outer', on='user_id')\n",
    "# train = df[~df['age'].isna()]\n",
    "# train = train.reset_index()\n",
    "# train.to_feather('E:/mts/train_age.feather')\n",
    "\n",
    "# test = df[df['age'].isna()]\n",
    "# test = test.reset_index()\n",
    "# test.to_feather('E:/mts/test_age.feather')\n"
   ]
  },
  {
   "cell_type": "code",
   "execution_count": 8,
   "id": "860d800a",
   "metadata": {},
   "outputs": [
    {
     "name": "stdout",
     "output_type": "stream",
     "text": [
      "Memory usage of dataframe is 9244.52 MB\n",
      "Memory usage after optimization is: 9244.52 MB\n",
      "Decreased by 0.0%\n"
     ]
    }
   ],
   "source": [
    "train = pd.read_feather('E:/mts/train_age.feather')\n",
    "train = train.drop(['index'], axis=1)\n",
    "train = reduce_mem_usage(train)"
   ]
  },
  {
   "cell_type": "markdown",
   "id": "2bfb80f6",
   "metadata": {},
   "source": [
    "# region_name"
   ]
  },
  {
   "cell_type": "code",
   "execution_count": 9,
   "id": "f3e01658",
   "metadata": {},
   "outputs": [
    {
     "data": {
      "text/plain": [
       "22    29874927\n",
       "17    17421057\n",
       "28    13439269\n",
       "69    13173150\n",
       "30    10599680\n",
       "        ...   \n",
       "56       57669\n",
       "50       55790\n",
       "79       13284\n",
       "62        6293\n",
       "12           6\n",
       "Name: region_name, Length: 81, dtype: int64"
      ]
     },
     "execution_count": 9,
     "metadata": {},
     "output_type": "execute_result"
    }
   ],
   "source": [
    "train.region_name.value_counts()"
   ]
  },
  {
   "cell_type": "code",
   "execution_count": 10,
   "id": "83d66904",
   "metadata": {},
   "outputs": [
    {
     "data": {
      "text/plain": [
       "<AxesSubplot: >"
      ]
     },
     "execution_count": 10,
     "metadata": {},
     "output_type": "execute_result"
    },
    {
     "data": {
      "image/png": "[encoded data removed]",
      "text/plain": [
       "<Figure size 640x480 with 1 Axes>"
      ]
     },
     "metadata": {},
     "output_type": "display_data"
    }
   ],
   "source": [
    "train.region_name.hist(bins=85)"
   ]
  },
  {
   "cell_type": "markdown",
   "id": "00249169",
   "metadata": {},
   "source": [
    "# city_name"
   ]
  },
  {
   "cell_type": "code",
   "execution_count": 11,
   "id": "c66f2f4c",
   "metadata": {},
   "outputs": [
    {
     "data": {
      "text/plain": [
       "600    29874927\n",
       "729    13173150\n",
       "888     6013173\n",
       "343     5912065\n",
       "556     5239213\n",
       "         ...   \n",
       "325          13\n",
       "163          11\n",
       "504           7\n",
       "628           6\n",
       "534           1\n",
       "Name: city_name, Length: 985, dtype: int64"
      ]
     },
     "execution_count": 11,
     "metadata": {},
     "output_type": "execute_result"
    }
   ],
   "source": [
    "train.city_name.value_counts()"
   ]
  },
  {
   "cell_type": "code",
   "execution_count": 19,
   "id": "c0cbcd41",
   "metadata": {},
   "outputs": [
    {
     "data": {
      "text/plain": [
       "<AxesSubplot: >"
      ]
     },
     "execution_count": 19,
     "metadata": {},
     "output_type": "execute_result"
    },
    {
     "data": {
      "image/png": "[encoded data removed]",
      "text/plain": [
       "<Figure size 640x480 with 1 Axes>"
      ]
     },
     "metadata": {},
     "output_type": "display_data"
    }
   ],
   "source": [
    "train.city_name.hist(bins=100)"
   ]
  },
  {
   "cell_type": "markdown",
   "id": "6ab81ccd",
   "metadata": {},
   "source": [
    "# cpe_manufacturer_name"
   ]
  },
  {
   "cell_type": "code",
   "execution_count": 13,
   "id": "68252d65",
   "metadata": {},
   "outputs": [
    {
     "data": {
      "text/plain": [
       "19    81492716\n",
       "5     52601647\n",
       "17    40221008\n",
       "20    30760990\n",
       "30     1172574\n",
       "4      1069541\n",
       "33      828104\n",
       "35      813635\n",
       "25      345056\n",
       "14      288841\n",
       "29      220843\n",
       "32      183406\n",
       "0       163634\n",
       "34      135026\n",
       "28      111869\n",
       "16       52341\n",
       "9        50973\n",
       "1        45205\n",
       "36       33409\n",
       "23       28379\n",
       "31       21370\n",
       "27       20726\n",
       "26       12382\n",
       "6         8477\n",
       "3         7514\n",
       "18        5568\n",
       "22        5326\n",
       "11        5083\n",
       "13        4937\n",
       "10        4775\n",
       "21        3560\n",
       "2         3390\n",
       "15        3353\n",
       "7         1410\n",
       "12        1287\n",
       "8         1094\n",
       "24         560\n",
       "Name: cpe_manufacturer_name, dtype: int64"
      ]
     },
     "execution_count": 13,
     "metadata": {},
     "output_type": "execute_result"
    }
   ],
   "source": [
    "train.cpe_manufacturer_name.value_counts()"
   ]
  },
  {
   "cell_type": "code",
   "execution_count": 14,
   "id": "bd8d9439",
   "metadata": {},
   "outputs": [
    {
     "data": {
      "image/png": "[encoded data removed]",
      "text/plain": [
       "<Figure size 640x480 with 1 Axes>"
      ]
     },
     "metadata": {},
     "output_type": "display_data"
    }
   ],
   "source": [
    "train.cpe_manufacturer_name.hist(bins=37);"
   ]
  },
  {
   "cell_type": "markdown",
   "id": "7cdac011",
   "metadata": {},
   "source": [
    "# cpe_model_name"
   ]
  },
  {
   "cell_type": "code",
   "execution_count": 20,
   "id": "d5dabc08",
   "metadata": {},
   "outputs": [
    {
     "data": {
      "text/plain": [
       "416    19160505\n",
       "432    10287977\n",
       "294     7774306\n",
       "246     6777404\n",
       "559     5839472\n",
       "         ...   \n",
       "349         110\n",
       "119          25\n",
       "309          23\n",
       "227          22\n",
       "545          19\n",
       "Name: cpe_model_name, Length: 599, dtype: int64"
      ]
     },
     "execution_count": 20,
     "metadata": {},
     "output_type": "execute_result"
    }
   ],
   "source": [
    "train.cpe_model_name.value_counts()"
   ]
  },
  {
   "cell_type": "code",
   "execution_count": 21,
   "id": "3fd8d835",
   "metadata": {},
   "outputs": [
    {
     "data": {
      "image/png": "[encoded data removed]",
      "text/plain": [
       "<Figure size 640x480 with 1 Axes>"
      ]
     },
     "metadata": {},
     "output_type": "display_data"
    }
   ],
   "source": [
    "train.cpe_model_name.hist(bins=37);"
   ]
  },
  {
   "cell_type": "markdown",
   "id": "19278c58",
   "metadata": {},
   "source": [
    "# url_host"
   ]
  },
  {
   "cell_type": "code",
   "execution_count": 17,
   "id": "0dda3519",
   "metadata": {},
   "outputs": [
    {
     "data": {
      "text/plain": [
       "178373    14369088\n",
       "196012    12413011\n",
       "69529     11044928\n",
       "57361     10898540\n",
       "129494    10586504\n",
       "            ...   \n",
       "11729            1\n",
       "76451            1\n",
       "169426           1\n",
       "158154           1\n",
       "20989            1\n",
       "Name: url_host, Length: 172054, dtype: int64"
      ]
     },
     "execution_count": 17,
     "metadata": {},
     "output_type": "execute_result"
    }
   ],
   "source": [
    "train.url_host.value_counts()"
   ]
  },
  {
   "cell_type": "code",
   "execution_count": 18,
   "id": "526d9d9c",
   "metadata": {},
   "outputs": [
    {
     "data": {
      "image/png": "[encoded data removed]",
      "text/plain": [
       "<Figure size 640x480 with 1 Axes>"
      ]
     },
     "metadata": {},
     "output_type": "display_data"
    }
   ],
   "source": [
    "train.url_host.hist();"
   ]
  },
  {
   "cell_type": "markdown",
   "id": "b90d8bea",
   "metadata": {},
   "source": [
    "# cpe_type_cd"
   ]
  },
  {
   "cell_type": "code",
   "execution_count": 22,
   "id": "7fdaed04",
   "metadata": {},
   "outputs": [
    {
     "data": {
      "text/plain": [
       "1    210656245\n",
       "2        36044\n",
       "0        20531\n",
       "3        17189\n",
       "Name: cpe_type_cd, dtype: int64"
      ]
     },
     "execution_count": 22,
     "metadata": {},
     "output_type": "execute_result"
    }
   ],
   "source": [
    "train.cpe_type_cd.value_counts()"
   ]
  },
  {
   "cell_type": "code",
   "execution_count": 23,
   "id": "7e2e40e7",
   "metadata": {},
   "outputs": [
    {
     "data": {
      "image/png": "[encoded data removed]",
      "text/plain": [
       "<Figure size 640x480 with 1 Axes>"
      ]
     },
     "metadata": {},
     "output_type": "display_data"
    }
   ],
   "source": [
    "train.cpe_type_cd.hist(bins=37);"
   ]
  },
  {
   "cell_type": "code",
   "execution_count": 24,
   "id": "e9002b33",
   "metadata": {},
   "outputs": [
    {
     "data": {
      "text/html": [
       "<div>\n",
       "<style scoped>\n",
       "    .dataframe tbody tr th:only-of-type {\n",
       "        vertical-align: middle;\n",
       "    }\n",
       "\n",
       "    .dataframe tbody tr th {\n",
       "        vertical-align: top;\n",
       "    }\n",
       "\n",
       "    .dataframe thead th {\n",
       "        text-align: right;\n",
       "    }\n",
       "</style>\n",
       "<table border=\"1\" class=\"dataframe\">\n",
       "  <thead>\n",
       "    <tr style=\"text-align: right;\">\n",
       "      <th></th>\n",
       "      <th>region_name</th>\n",
       "      <th>city_name</th>\n",
       "      <th>cpe_manufacturer_name</th>\n",
       "      <th>cpe_model_name</th>\n",
       "      <th>url_host</th>\n",
       "      <th>cpe_type_cd</th>\n",
       "      <th>cpe_model_os_type</th>\n",
       "      <th>part_of_day</th>\n",
       "      <th>price</th>\n",
       "      <th>date</th>\n",
       "      <th>request_cnt</th>\n",
       "      <th>user_id</th>\n",
       "      <th>age</th>\n",
       "      <th>is_male</th>\n",
       "    </tr>\n",
       "  </thead>\n",
       "  <tbody>\n",
       "    <tr>\n",
       "      <th>0</th>\n",
       "      <td>69</td>\n",
       "      <td>729</td>\n",
       "      <td>5</td>\n",
       "      <td>88</td>\n",
       "      <td>21359</td>\n",
       "      <td>1</td>\n",
       "      <td>0</td>\n",
       "      <td>0</td>\n",
       "      <td>75000.0</td>\n",
       "      <td>2021-09-26</td>\n",
       "      <td>1</td>\n",
       "      <td>79395</td>\n",
       "      <td>35.0</td>\n",
       "      <td>1</td>\n",
       "    </tr>\n",
       "    <tr>\n",
       "      <th>1</th>\n",
       "      <td>69</td>\n",
       "      <td>729</td>\n",
       "      <td>5</td>\n",
       "      <td>88</td>\n",
       "      <td>69529</td>\n",
       "      <td>1</td>\n",
       "      <td>0</td>\n",
       "      <td>1</td>\n",
       "      <td>75000.0</td>\n",
       "      <td>2021-08-21</td>\n",
       "      <td>3</td>\n",
       "      <td>79395</td>\n",
       "      <td>35.0</td>\n",
       "      <td>1</td>\n",
       "    </tr>\n",
       "    <tr>\n",
       "      <th>2</th>\n",
       "      <td>69</td>\n",
       "      <td>729</td>\n",
       "      <td>5</td>\n",
       "      <td>88</td>\n",
       "      <td>164131</td>\n",
       "      <td>1</td>\n",
       "      <td>0</td>\n",
       "      <td>1</td>\n",
       "      <td>75000.0</td>\n",
       "      <td>2021-08-20</td>\n",
       "      <td>3</td>\n",
       "      <td>79395</td>\n",
       "      <td>35.0</td>\n",
       "      <td>1</td>\n",
       "    </tr>\n",
       "    <tr>\n",
       "      <th>3</th>\n",
       "      <td>29</td>\n",
       "      <td>917</td>\n",
       "      <td>5</td>\n",
       "      <td>88</td>\n",
       "      <td>164131</td>\n",
       "      <td>1</td>\n",
       "      <td>0</td>\n",
       "      <td>3</td>\n",
       "      <td>75000.0</td>\n",
       "      <td>2021-09-09</td>\n",
       "      <td>2</td>\n",
       "      <td>79395</td>\n",
       "      <td>35.0</td>\n",
       "      <td>1</td>\n",
       "    </tr>\n",
       "    <tr>\n",
       "      <th>4</th>\n",
       "      <td>69</td>\n",
       "      <td>729</td>\n",
       "      <td>5</td>\n",
       "      <td>88</td>\n",
       "      <td>37191</td>\n",
       "      <td>1</td>\n",
       "      <td>0</td>\n",
       "      <td>1</td>\n",
       "      <td>75000.0</td>\n",
       "      <td>2021-08-30</td>\n",
       "      <td>1</td>\n",
       "      <td>79395</td>\n",
       "      <td>35.0</td>\n",
       "      <td>1</td>\n",
       "    </tr>\n",
       "    <tr>\n",
       "      <th>...</th>\n",
       "      <td>...</td>\n",
       "      <td>...</td>\n",
       "      <td>...</td>\n",
       "      <td>...</td>\n",
       "      <td>...</td>\n",
       "      <td>...</td>\n",
       "      <td>...</td>\n",
       "      <td>...</td>\n",
       "      <td>...</td>\n",
       "      <td>...</td>\n",
       "      <td>...</td>\n",
       "      <td>...</td>\n",
       "      <td>...</td>\n",
       "      <td>...</td>\n",
       "    </tr>\n",
       "    <tr>\n",
       "      <th>210730004</th>\n",
       "      <td>48</td>\n",
       "      <td>402</td>\n",
       "      <td>5</td>\n",
       "      <td>467</td>\n",
       "      <td>129494</td>\n",
       "      <td>1</td>\n",
       "      <td>0</td>\n",
       "      <td>2</td>\n",
       "      <td>20000.0</td>\n",
       "      <td>2021-07-12</td>\n",
       "      <td>1</td>\n",
       "      <td>300964</td>\n",
       "      <td>57.0</td>\n",
       "      <td>0</td>\n",
       "    </tr>\n",
       "    <tr>\n",
       "      <th>210730005</th>\n",
       "      <td>48</td>\n",
       "      <td>402</td>\n",
       "      <td>5</td>\n",
       "      <td>467</td>\n",
       "      <td>178373</td>\n",
       "      <td>1</td>\n",
       "      <td>0</td>\n",
       "      <td>3</td>\n",
       "      <td>20000.0</td>\n",
       "      <td>2021-06-20</td>\n",
       "      <td>1</td>\n",
       "      <td>300964</td>\n",
       "      <td>57.0</td>\n",
       "      <td>0</td>\n",
       "    </tr>\n",
       "    <tr>\n",
       "      <th>210730006</th>\n",
       "      <td>48</td>\n",
       "      <td>402</td>\n",
       "      <td>5</td>\n",
       "      <td>467</td>\n",
       "      <td>14814</td>\n",
       "      <td>1</td>\n",
       "      <td>0</td>\n",
       "      <td>1</td>\n",
       "      <td>20000.0</td>\n",
       "      <td>2021-08-05</td>\n",
       "      <td>1</td>\n",
       "      <td>300964</td>\n",
       "      <td>57.0</td>\n",
       "      <td>0</td>\n",
       "    </tr>\n",
       "    <tr>\n",
       "      <th>210730007</th>\n",
       "      <td>48</td>\n",
       "      <td>402</td>\n",
       "      <td>5</td>\n",
       "      <td>467</td>\n",
       "      <td>48867</td>\n",
       "      <td>1</td>\n",
       "      <td>0</td>\n",
       "      <td>3</td>\n",
       "      <td>20000.0</td>\n",
       "      <td>2021-07-19</td>\n",
       "      <td>1</td>\n",
       "      <td>300964</td>\n",
       "      <td>57.0</td>\n",
       "      <td>0</td>\n",
       "    </tr>\n",
       "    <tr>\n",
       "      <th>210730008</th>\n",
       "      <td>48</td>\n",
       "      <td>402</td>\n",
       "      <td>5</td>\n",
       "      <td>467</td>\n",
       "      <td>30867</td>\n",
       "      <td>1</td>\n",
       "      <td>0</td>\n",
       "      <td>0</td>\n",
       "      <td>20000.0</td>\n",
       "      <td>2021-08-09</td>\n",
       "      <td>1</td>\n",
       "      <td>300964</td>\n",
       "      <td>57.0</td>\n",
       "      <td>0</td>\n",
       "    </tr>\n",
       "  </tbody>\n",
       "</table>\n",
       "<p>210730009 rows × 14 columns</p>\n",
       "</div>"
      ],
      "text/plain": [
       "           region_name  city_name  cpe_manufacturer_name  cpe_model_name  \\\n",
       "0                   69        729                      5              88   \n",
       "1                   69        729                      5              88   \n",
       "2                   69        729                      5              88   \n",
       "3                   29        917                      5              88   \n",
       "4                   69        729                      5              88   \n",
       "...                ...        ...                    ...             ...   \n",
       "210730004           48        402                      5             467   \n",
       "210730005           48        402                      5             467   \n",
       "210730006           48        402                      5             467   \n",
       "210730007           48        402                      5             467   \n",
       "210730008           48        402                      5             467   \n",
       "\n",
       "           url_host  cpe_type_cd  cpe_model_os_type  part_of_day    price  \\\n",
       "0             21359            1                  0            0  75000.0   \n",
       "1             69529            1                  0            1  75000.0   \n",
       "2            164131            1                  0            1  75000.0   \n",
       "3            164131            1                  0            3  75000.0   \n",
       "4             37191            1                  0            1  75000.0   \n",
       "...             ...          ...                ...          ...      ...   \n",
       "210730004    129494            1                  0            2  20000.0   \n",
       "210730005    178373            1                  0            3  20000.0   \n",
       "210730006     14814            1                  0            1  20000.0   \n",
       "210730007     48867            1                  0            3  20000.0   \n",
       "210730008     30867            1                  0            0  20000.0   \n",
       "\n",
       "                date  request_cnt  user_id   age is_male  \n",
       "0         2021-09-26            1    79395  35.0       1  \n",
       "1         2021-08-21            3    79395  35.0       1  \n",
       "2         2021-08-20            3    79395  35.0       1  \n",
       "3         2021-09-09            2    79395  35.0       1  \n",
       "4         2021-08-30            1    79395  35.0       1  \n",
       "...              ...          ...      ...   ...     ...  \n",
       "210730004 2021-07-12            1   300964  57.0       0  \n",
       "210730005 2021-06-20            1   300964  57.0       0  \n",
       "210730006 2021-08-05            1   300964  57.0       0  \n",
       "210730007 2021-07-19            1   300964  57.0       0  \n",
       "210730008 2021-08-09            1   300964  57.0       0  \n",
       "\n",
       "[210730009 rows x 14 columns]"
      ]
     },
     "execution_count": 24,
     "metadata": {},
     "output_type": "execute_result"
    }
   ],
   "source": [
    "train"
   ]
  },
  {
   "cell_type": "markdown",
   "id": "1f761563",
   "metadata": {},
   "source": [
    "# cpe_model_os_type"
   ]
  },
  {
   "cell_type": "code",
   "execution_count": 25,
   "id": "8e047ec1",
   "metadata": {},
   "outputs": [
    {
     "data": {
      "text/plain": [
       "0    129237293\n",
       "2     80061244\n",
       "1      1431472\n",
       "Name: cpe_model_os_type, dtype: int64"
      ]
     },
     "execution_count": 25,
     "metadata": {},
     "output_type": "execute_result"
    }
   ],
   "source": [
    "train.cpe_model_os_type.value_counts()"
   ]
  },
  {
   "cell_type": "code",
   "execution_count": 26,
   "id": "3b76e3fe",
   "metadata": {},
   "outputs": [
    {
     "data": {
      "text/plain": [
       "<AxesSubplot: >"
      ]
     },
     "execution_count": 26,
     "metadata": {},
     "output_type": "execute_result"
    },
    {
     "data": {
      "image/png": "[encoded data removed]",
      "text/plain": [
       "<Figure size 640x480 with 1 Axes>"
      ]
     },
     "metadata": {},
     "output_type": "display_data"
    }
   ],
   "source": [
    "train.cpe_model_os_type.hist()"
   ]
  },
  {
   "cell_type": "markdown",
   "id": "a693a3dd",
   "metadata": {},
   "source": [
    "# part_of_day"
   ]
  },
  {
   "cell_type": "code",
   "execution_count": 27,
   "id": "d4ee1b41",
   "metadata": {},
   "outputs": [
    {
     "data": {
      "text/plain": [
       "1    70023248\n",
       "3    62827774\n",
       "2    55570501\n",
       "0    22308486\n",
       "Name: part_of_day, dtype: int64"
      ]
     },
     "execution_count": 27,
     "metadata": {},
     "output_type": "execute_result"
    }
   ],
   "source": [
    "train.part_of_day.value_counts()"
   ]
  },
  {
   "cell_type": "code",
   "execution_count": 28,
   "id": "5403a0a6",
   "metadata": {},
   "outputs": [
    {
     "data": {
      "text/plain": [
       "<AxesSubplot: >"
      ]
     },
     "execution_count": 28,
     "metadata": {},
     "output_type": "execute_result"
    },
    {
     "data": {
      "image/png": "[encoded data removed]",
      "text/plain": [
       "<Figure size 640x480 with 1 Axes>"
      ]
     },
     "metadata": {},
     "output_type": "display_data"
    }
   ],
   "source": [
    "train.part_of_day.hist()"
   ]
  },
  {
   "cell_type": "markdown",
   "id": "083bc839",
   "metadata": {},
   "source": [
    "# price"
   ]
  },
  {
   "cell_type": "code",
   "execution_count": 30,
   "id": "145f757e",
   "metadata": {},
   "outputs": [],
   "source": [
    "def round_by_5000(num):\n",
    "    base = 5000\n",
    "    temp = num // base * base\n",
    "    return temp + base"
   ]
  },
  {
   "cell_type": "code",
   "execution_count": 31,
   "id": "206518d6",
   "metadata": {},
   "outputs": [],
   "source": [
    "train['price'] = train['price'].map(round_by_5000)"
   ]
  },
  {
   "cell_type": "code",
   "execution_count": 32,
   "id": "21a70473",
   "metadata": {},
   "outputs": [
    {
     "data": {
      "text/plain": [
       "20000.0     34026338\n",
       "25000.0     30926657\n",
       "15000.0     22066443\n",
       "30000.0     19856861\n",
       "65000.0     13861438\n",
       "35000.0     12321337\n",
       "55000.0     11524028\n",
       "70000.0      8667433\n",
       "60000.0      7695371\n",
       "40000.0      7177116\n",
       "50000.0      6034788\n",
       "10000.0      5636143\n",
       "45000.0      5444880\n",
       "75000.0      3459922\n",
       "90000.0      2905916\n",
       "105000.0     2120897\n",
       "80000.0      1911296\n",
       "100000.0     1764689\n",
       "110000.0     1758388\n",
       "95000.0      1714333\n",
       "120000.0     1630811\n",
       "85000.0      1497490\n",
       "125000.0     1393787\n",
       "115000.0      947737\n",
       "130000.0       56679\n",
       "135000.0       12654\n",
       "145000.0       10358\n",
       "140000.0        9783\n",
       "150000.0        5731\n",
       "170000.0        5293\n",
       "190000.0        4764\n",
       "165000.0        4372\n",
       "200000.0        3137\n",
       "205000.0        3115\n",
       "160000.0        2267\n",
       "180000.0        1487\n",
       "185000.0         230\n",
       "155000.0         168\n",
       "175000.0          68\n",
       "Name: price, dtype: int64"
      ]
     },
     "execution_count": 32,
     "metadata": {},
     "output_type": "execute_result"
    }
   ],
   "source": [
    "train.price.value_counts()"
   ]
  },
  {
   "cell_type": "code",
   "execution_count": 33,
   "id": "a81d8b81",
   "metadata": {},
   "outputs": [
    {
     "data": {
      "text/plain": [
       "<AxesSubplot: >"
      ]
     },
     "execution_count": 33,
     "metadata": {},
     "output_type": "execute_result"
    },
    {
     "data": {
      "image/png": "[encoded data removed]",
      "text/plain": [
       "<Figure size 640x480 with 1 Axes>"
      ]
     },
     "metadata": {},
     "output_type": "display_data"
    }
   ],
   "source": [
    "train.price.hist()"
   ]
  },
  {
   "cell_type": "markdown",
   "id": "56156c66",
   "metadata": {},
   "source": [
    "# date"
   ]
  },
  {
   "cell_type": "code",
   "execution_count": 41,
   "id": "d1b01567",
   "metadata": {},
   "outputs": [
    {
     "data": {
      "text/plain": [
       "(array([18809., 18871., 18932., 18993., 19052., 19113., 19174., 19236.,\n",
       "        19297.]),\n",
       " [Text(18809.0, 0, '2021-07'),\n",
       "  Text(18871.0, 0, '2021-09'),\n",
       "  Text(18932.0, 0, '2021-11'),\n",
       "  Text(18993.0, 0, '2022-01'),\n",
       "  Text(19052.0, 0, '2022-03'),\n",
       "  Text(19113.0, 0, '2022-05'),\n",
       "  Text(19174.0, 0, '2022-07'),\n",
       "  Text(19236.0, 0, '2022-09'),\n",
       "  Text(19297.0, 0, '2022-11')])"
      ]
     },
     "execution_count": 41,
     "metadata": {},
     "output_type": "execute_result"
    },
    {
     "data": {
      "image/png": "[encoded data removed]",
      "text/plain": [
       "<Figure size 640x480 with 1 Axes>"
      ]
     },
     "metadata": {},
     "output_type": "display_data"
    }
   ],
   "source": [
    "train['date'].hist(bins=20)\n",
    "plt.xticks(rotation=90)"
   ]
  },
  {
   "cell_type": "code",
   "execution_count": 42,
   "id": "74dea16a",
   "metadata": {},
   "outputs": [
    {
     "data": {
      "text/html": [
       "<div>\n",
       "<style scoped>\n",
       "    .dataframe tbody tr th:only-of-type {\n",
       "        vertical-align: middle;\n",
       "    }\n",
       "\n",
       "    .dataframe tbody tr th {\n",
       "        vertical-align: top;\n",
       "    }\n",
       "\n",
       "    .dataframe thead th {\n",
       "        text-align: right;\n",
       "    }\n",
       "</style>\n",
       "<table border=\"1\" class=\"dataframe\">\n",
       "  <thead>\n",
       "    <tr style=\"text-align: right;\">\n",
       "      <th></th>\n",
       "      <th>region_name</th>\n",
       "      <th>city_name</th>\n",
       "      <th>cpe_manufacturer_name</th>\n",
       "      <th>cpe_model_name</th>\n",
       "      <th>url_host</th>\n",
       "      <th>cpe_type_cd</th>\n",
       "      <th>cpe_model_os_type</th>\n",
       "      <th>part_of_day</th>\n",
       "      <th>price</th>\n",
       "      <th>date</th>\n",
       "      <th>request_cnt</th>\n",
       "      <th>user_id</th>\n",
       "      <th>age</th>\n",
       "      <th>is_male</th>\n",
       "    </tr>\n",
       "  </thead>\n",
       "  <tbody>\n",
       "    <tr>\n",
       "      <th>0</th>\n",
       "      <td>69</td>\n",
       "      <td>729</td>\n",
       "      <td>5</td>\n",
       "      <td>88</td>\n",
       "      <td>21359</td>\n",
       "      <td>1</td>\n",
       "      <td>0</td>\n",
       "      <td>0</td>\n",
       "      <td>80000.0</td>\n",
       "      <td>2021-09-26</td>\n",
       "      <td>1</td>\n",
       "      <td>79395</td>\n",
       "      <td>35.0</td>\n",
       "      <td>1</td>\n",
       "    </tr>\n",
       "    <tr>\n",
       "      <th>1</th>\n",
       "      <td>69</td>\n",
       "      <td>729</td>\n",
       "      <td>5</td>\n",
       "      <td>88</td>\n",
       "      <td>69529</td>\n",
       "      <td>1</td>\n",
       "      <td>0</td>\n",
       "      <td>1</td>\n",
       "      <td>80000.0</td>\n",
       "      <td>2021-08-21</td>\n",
       "      <td>3</td>\n",
       "      <td>79395</td>\n",
       "      <td>35.0</td>\n",
       "      <td>1</td>\n",
       "    </tr>\n",
       "    <tr>\n",
       "      <th>2</th>\n",
       "      <td>69</td>\n",
       "      <td>729</td>\n",
       "      <td>5</td>\n",
       "      <td>88</td>\n",
       "      <td>164131</td>\n",
       "      <td>1</td>\n",
       "      <td>0</td>\n",
       "      <td>1</td>\n",
       "      <td>80000.0</td>\n",
       "      <td>2021-08-20</td>\n",
       "      <td>3</td>\n",
       "      <td>79395</td>\n",
       "      <td>35.0</td>\n",
       "      <td>1</td>\n",
       "    </tr>\n",
       "    <tr>\n",
       "      <th>3</th>\n",
       "      <td>29</td>\n",
       "      <td>917</td>\n",
       "      <td>5</td>\n",
       "      <td>88</td>\n",
       "      <td>164131</td>\n",
       "      <td>1</td>\n",
       "      <td>0</td>\n",
       "      <td>3</td>\n",
       "      <td>80000.0</td>\n",
       "      <td>2021-09-09</td>\n",
       "      <td>2</td>\n",
       "      <td>79395</td>\n",
       "      <td>35.0</td>\n",
       "      <td>1</td>\n",
       "    </tr>\n",
       "    <tr>\n",
       "      <th>4</th>\n",
       "      <td>69</td>\n",
       "      <td>729</td>\n",
       "      <td>5</td>\n",
       "      <td>88</td>\n",
       "      <td>37191</td>\n",
       "      <td>1</td>\n",
       "      <td>0</td>\n",
       "      <td>1</td>\n",
       "      <td>80000.0</td>\n",
       "      <td>2021-08-30</td>\n",
       "      <td>1</td>\n",
       "      <td>79395</td>\n",
       "      <td>35.0</td>\n",
       "      <td>1</td>\n",
       "    </tr>\n",
       "    <tr>\n",
       "      <th>...</th>\n",
       "      <td>...</td>\n",
       "      <td>...</td>\n",
       "      <td>...</td>\n",
       "      <td>...</td>\n",
       "      <td>...</td>\n",
       "      <td>...</td>\n",
       "      <td>...</td>\n",
       "      <td>...</td>\n",
       "      <td>...</td>\n",
       "      <td>...</td>\n",
       "      <td>...</td>\n",
       "      <td>...</td>\n",
       "      <td>...</td>\n",
       "      <td>...</td>\n",
       "    </tr>\n",
       "    <tr>\n",
       "      <th>210730004</th>\n",
       "      <td>48</td>\n",
       "      <td>402</td>\n",
       "      <td>5</td>\n",
       "      <td>467</td>\n",
       "      <td>129494</td>\n",
       "      <td>1</td>\n",
       "      <td>0</td>\n",
       "      <td>2</td>\n",
       "      <td>25000.0</td>\n",
       "      <td>2021-07-12</td>\n",
       "      <td>1</td>\n",
       "      <td>300964</td>\n",
       "      <td>57.0</td>\n",
       "      <td>0</td>\n",
       "    </tr>\n",
       "    <tr>\n",
       "      <th>210730005</th>\n",
       "      <td>48</td>\n",
       "      <td>402</td>\n",
       "      <td>5</td>\n",
       "      <td>467</td>\n",
       "      <td>178373</td>\n",
       "      <td>1</td>\n",
       "      <td>0</td>\n",
       "      <td>3</td>\n",
       "      <td>25000.0</td>\n",
       "      <td>2021-06-20</td>\n",
       "      <td>1</td>\n",
       "      <td>300964</td>\n",
       "      <td>57.0</td>\n",
       "      <td>0</td>\n",
       "    </tr>\n",
       "    <tr>\n",
       "      <th>210730006</th>\n",
       "      <td>48</td>\n",
       "      <td>402</td>\n",
       "      <td>5</td>\n",
       "      <td>467</td>\n",
       "      <td>14814</td>\n",
       "      <td>1</td>\n",
       "      <td>0</td>\n",
       "      <td>1</td>\n",
       "      <td>25000.0</td>\n",
       "      <td>2021-08-05</td>\n",
       "      <td>1</td>\n",
       "      <td>300964</td>\n",
       "      <td>57.0</td>\n",
       "      <td>0</td>\n",
       "    </tr>\n",
       "    <tr>\n",
       "      <th>210730007</th>\n",
       "      <td>48</td>\n",
       "      <td>402</td>\n",
       "      <td>5</td>\n",
       "      <td>467</td>\n",
       "      <td>48867</td>\n",
       "      <td>1</td>\n",
       "      <td>0</td>\n",
       "      <td>3</td>\n",
       "      <td>25000.0</td>\n",
       "      <td>2021-07-19</td>\n",
       "      <td>1</td>\n",
       "      <td>300964</td>\n",
       "      <td>57.0</td>\n",
       "      <td>0</td>\n",
       "    </tr>\n",
       "    <tr>\n",
       "      <th>210730008</th>\n",
       "      <td>48</td>\n",
       "      <td>402</td>\n",
       "      <td>5</td>\n",
       "      <td>467</td>\n",
       "      <td>30867</td>\n",
       "      <td>1</td>\n",
       "      <td>0</td>\n",
       "      <td>0</td>\n",
       "      <td>25000.0</td>\n",
       "      <td>2021-08-09</td>\n",
       "      <td>1</td>\n",
       "      <td>300964</td>\n",
       "      <td>57.0</td>\n",
       "      <td>0</td>\n",
       "    </tr>\n",
       "  </tbody>\n",
       "</table>\n",
       "<p>210730009 rows × 14 columns</p>\n",
       "</div>"
      ],
      "text/plain": [
       "           region_name  city_name  cpe_manufacturer_name  cpe_model_name  \\\n",
       "0                   69        729                      5              88   \n",
       "1                   69        729                      5              88   \n",
       "2                   69        729                      5              88   \n",
       "3                   29        917                      5              88   \n",
       "4                   69        729                      5              88   \n",
       "...                ...        ...                    ...             ...   \n",
       "210730004           48        402                      5             467   \n",
       "210730005           48        402                      5             467   \n",
       "210730006           48        402                      5             467   \n",
       "210730007           48        402                      5             467   \n",
       "210730008           48        402                      5             467   \n",
       "\n",
       "           url_host  cpe_type_cd  cpe_model_os_type  part_of_day    price  \\\n",
       "0             21359            1                  0            0  80000.0   \n",
       "1             69529            1                  0            1  80000.0   \n",
       "2            164131            1                  0            1  80000.0   \n",
       "3            164131            1                  0            3  80000.0   \n",
       "4             37191            1                  0            1  80000.0   \n",
       "...             ...          ...                ...          ...      ...   \n",
       "210730004    129494            1                  0            2  25000.0   \n",
       "210730005    178373            1                  0            3  25000.0   \n",
       "210730006     14814            1                  0            1  25000.0   \n",
       "210730007     48867            1                  0            3  25000.0   \n",
       "210730008     30867            1                  0            0  25000.0   \n",
       "\n",
       "                date  request_cnt  user_id   age is_male  \n",
       "0         2021-09-26            1    79395  35.0       1  \n",
       "1         2021-08-21            3    79395  35.0       1  \n",
       "2         2021-08-20            3    79395  35.0       1  \n",
       "3         2021-09-09            2    79395  35.0       1  \n",
       "4         2021-08-30            1    79395  35.0       1  \n",
       "...              ...          ...      ...   ...     ...  \n",
       "210730004 2021-07-12            1   300964  57.0       0  \n",
       "210730005 2021-06-20            1   300964  57.0       0  \n",
       "210730006 2021-08-05            1   300964  57.0       0  \n",
       "210730007 2021-07-19            1   300964  57.0       0  \n",
       "210730008 2021-08-09            1   300964  57.0       0  \n",
       "\n",
       "[210730009 rows x 14 columns]"
      ]
     },
     "execution_count": 42,
     "metadata": {},
     "output_type": "execute_result"
    }
   ],
   "source": [
    "train"
   ]
  },
  {
   "cell_type": "code",
   "execution_count": 43,
   "id": "d6bce898",
   "metadata": {},
   "outputs": [
    {
     "ename": "MemoryError",
     "evalue": "Unable to allocate 1.57 GiB for an array with shape (210730009,) and data type int64",
     "output_type": "error",
     "traceback": [
      "\u001b[1;31m---------------------------------------------------------------------------\u001b[0m",
      "\u001b[1;31mMemoryError\u001b[0m                               Traceback (most recent call last)",
      "Cell \u001b[1;32mIn[43], line 1\u001b[0m\n\u001b[1;32m----> 1\u001b[0m train[\u001b[38;5;124m'\u001b[39m\u001b[38;5;124mweek\u001b[39m\u001b[38;5;124m'\u001b[39m] \u001b[38;5;241m=\u001b[39m \u001b[43mtrain\u001b[49m\u001b[43m[\u001b[49m\u001b[38;5;124;43m'\u001b[39;49m\u001b[38;5;124;43mdate\u001b[39;49m\u001b[38;5;124;43m'\u001b[39;49m\u001b[43m]\u001b[49m\u001b[38;5;241;43m.\u001b[39;49m\u001b[43mapply\u001b[49m\u001b[43m(\u001b[49m\u001b[38;5;28;43;01mlambda\u001b[39;49;00m\u001b[43m \u001b[49m\u001b[43mx\u001b[49m\u001b[43m:\u001b[49m\u001b[43m \u001b[49m\u001b[43mx\u001b[49m\u001b[38;5;241;43m.\u001b[39;49m\u001b[43mweek\u001b[49m\u001b[43m)\u001b[49m\n",
      "File \u001b[1;32mC:\\ProgramData\\Anaconda3\\lib\\site-packages\\pandas\\core\\series.py:4771\u001b[0m, in \u001b[0;36mSeries.apply\u001b[1;34m(self, func, convert_dtype, args, **kwargs)\u001b[0m\n\u001b[0;32m   4661\u001b[0m \u001b[38;5;28;01mdef\u001b[39;00m \u001b[38;5;21mapply\u001b[39m(\n\u001b[0;32m   4662\u001b[0m     \u001b[38;5;28mself\u001b[39m,\n\u001b[0;32m   4663\u001b[0m     func: AggFuncType,\n\u001b[1;32m   (...)\u001b[0m\n\u001b[0;32m   4666\u001b[0m     \u001b[38;5;241m*\u001b[39m\u001b[38;5;241m*\u001b[39mkwargs,\n\u001b[0;32m   4667\u001b[0m ) \u001b[38;5;241m-\u001b[39m\u001b[38;5;241m>\u001b[39m DataFrame \u001b[38;5;241m|\u001b[39m Series:\n\u001b[0;32m   4668\u001b[0m     \u001b[38;5;124;03m\"\"\"\u001b[39;00m\n\u001b[0;32m   4669\u001b[0m \u001b[38;5;124;03m    Invoke function on values of Series.\u001b[39;00m\n\u001b[0;32m   4670\u001b[0m \n\u001b[1;32m   (...)\u001b[0m\n\u001b[0;32m   4769\u001b[0m \u001b[38;5;124;03m    dtype: float64\u001b[39;00m\n\u001b[0;32m   4770\u001b[0m \u001b[38;5;124;03m    \"\"\"\u001b[39;00m\n\u001b[1;32m-> 4771\u001b[0m     \u001b[38;5;28;01mreturn\u001b[39;00m \u001b[43mSeriesApply\u001b[49m\u001b[43m(\u001b[49m\u001b[38;5;28;43mself\u001b[39;49m\u001b[43m,\u001b[49m\u001b[43m \u001b[49m\u001b[43mfunc\u001b[49m\u001b[43m,\u001b[49m\u001b[43m \u001b[49m\u001b[43mconvert_dtype\u001b[49m\u001b[43m,\u001b[49m\u001b[43m \u001b[49m\u001b[43margs\u001b[49m\u001b[43m,\u001b[49m\u001b[43m \u001b[49m\u001b[43mkwargs\u001b[49m\u001b[43m)\u001b[49m\u001b[38;5;241;43m.\u001b[39;49m\u001b[43mapply\u001b[49m\u001b[43m(\u001b[49m\u001b[43m)\u001b[49m\n",
      "File \u001b[1;32mC:\\ProgramData\\Anaconda3\\lib\\site-packages\\pandas\\core\\apply.py:1105\u001b[0m, in \u001b[0;36mSeriesApply.apply\u001b[1;34m(self)\u001b[0m\n\u001b[0;32m   1102\u001b[0m     \u001b[38;5;28;01mreturn\u001b[39;00m \u001b[38;5;28mself\u001b[39m\u001b[38;5;241m.\u001b[39mapply_str()\n\u001b[0;32m   1104\u001b[0m \u001b[38;5;66;03m# self.f is Callable\u001b[39;00m\n\u001b[1;32m-> 1105\u001b[0m \u001b[38;5;28;01mreturn\u001b[39;00m \u001b[38;5;28;43mself\u001b[39;49m\u001b[38;5;241;43m.\u001b[39;49m\u001b[43mapply_standard\u001b[49m\u001b[43m(\u001b[49m\u001b[43m)\u001b[49m\n",
      "File \u001b[1;32mC:\\ProgramData\\Anaconda3\\lib\\site-packages\\pandas\\core\\apply.py:1156\u001b[0m, in \u001b[0;36mSeriesApply.apply_standard\u001b[1;34m(self)\u001b[0m\n\u001b[0;32m   1154\u001b[0m     \u001b[38;5;28;01melse\u001b[39;00m:\n\u001b[0;32m   1155\u001b[0m         values \u001b[38;5;241m=\u001b[39m obj\u001b[38;5;241m.\u001b[39mastype(\u001b[38;5;28mobject\u001b[39m)\u001b[38;5;241m.\u001b[39m_values\n\u001b[1;32m-> 1156\u001b[0m         mapped \u001b[38;5;241m=\u001b[39m \u001b[43mlib\u001b[49m\u001b[38;5;241;43m.\u001b[39;49m\u001b[43mmap_infer\u001b[49m\u001b[43m(\u001b[49m\n\u001b[0;32m   1157\u001b[0m \u001b[43m            \u001b[49m\u001b[43mvalues\u001b[49m\u001b[43m,\u001b[49m\n\u001b[0;32m   1158\u001b[0m \u001b[43m            \u001b[49m\u001b[43mf\u001b[49m\u001b[43m,\u001b[49m\n\u001b[0;32m   1159\u001b[0m \u001b[43m            \u001b[49m\u001b[43mconvert\u001b[49m\u001b[38;5;241;43m=\u001b[39;49m\u001b[38;5;28;43mself\u001b[39;49m\u001b[38;5;241;43m.\u001b[39;49m\u001b[43mconvert_dtype\u001b[49m\u001b[43m,\u001b[49m\n\u001b[0;32m   1160\u001b[0m \u001b[43m        \u001b[49m\u001b[43m)\u001b[49m\n\u001b[0;32m   1162\u001b[0m \u001b[38;5;28;01mif\u001b[39;00m \u001b[38;5;28mlen\u001b[39m(mapped) \u001b[38;5;129;01mand\u001b[39;00m \u001b[38;5;28misinstance\u001b[39m(mapped[\u001b[38;5;241m0\u001b[39m], ABCSeries):\n\u001b[0;32m   1163\u001b[0m     \u001b[38;5;66;03m# GH#43986 Need to do list(mapped) in order to get treated as nested\u001b[39;00m\n\u001b[0;32m   1164\u001b[0m     \u001b[38;5;66;03m#  See also GH#25959 regarding EA support\u001b[39;00m\n\u001b[0;32m   1165\u001b[0m     \u001b[38;5;28;01mreturn\u001b[39;00m obj\u001b[38;5;241m.\u001b[39m_constructor_expanddim(\u001b[38;5;28mlist\u001b[39m(mapped), index\u001b[38;5;241m=\u001b[39mobj\u001b[38;5;241m.\u001b[39mindex)\n",
      "File \u001b[1;32mC:\\ProgramData\\Anaconda3\\lib\\site-packages\\pandas\\_libs\\lib.pyx:2927\u001b[0m, in \u001b[0;36mpandas._libs.lib.map_infer\u001b[1;34m()\u001b[0m\n",
      "File \u001b[1;32mC:\\ProgramData\\Anaconda3\\lib\\site-packages\\pandas\\_libs\\lib.pyx:2506\u001b[0m, in \u001b[0;36mpandas._libs.lib.maybe_convert_objects\u001b[1;34m()\u001b[0m\n",
      "\u001b[1;31mMemoryError\u001b[0m: Unable to allocate 1.57 GiB for an array with shape (210730009,) and data type int64"
     ]
    }
   ],
   "source": [
    "train['week'] = train['date'].apply(lambda x: x.week)"
   ]
  },
  {
   "cell_type": "code",
   "execution_count": null,
   "id": "9713fadd",
   "metadata": {},
   "outputs": [],
   "source": []
  },
  {
   "cell_type": "code",
   "execution_count": null,
   "id": "c9b6ae79",
   "metadata": {},
   "outputs": [],
   "source": []
  },
  {
   "cell_type": "code",
   "execution_count": null,
   "id": "2aab8609",
   "metadata": {},
   "outputs": [],
   "source": []
  },
  {
   "cell_type": "code",
   "execution_count": null,
   "id": "7f43d2ef",
   "metadata": {},
   "outputs": [],
   "source": []
  },
  {
   "cell_type": "code",
   "execution_count": null,
   "id": "f9adbe85",
   "metadata": {},
   "outputs": [],
   "source": []
  },
  {
   "cell_type": "code",
   "execution_count": null,
   "id": "a4d35771",
   "metadata": {},
   "outputs": [],
   "source": []
  }
 ],
 "metadata": {
  "kernelspec": {
   "display_name": "Python 3 (ipykernel)",
   "language": "python",
   "name": "python3"
  },
  "language_info": {
   "codemirror_mode": {
    "name": "ipython",
    "version": 3
   },
   "file_extension": ".py",
   "mimetype": "text/x-python",
   "name": "python",
   "nbconvert_exporter": "python",
   "pygments_lexer": "ipython3",
   "version": "3.9.13"
  }
 },
 "nbformat": 4,
 "nbformat_minor": 5
}
