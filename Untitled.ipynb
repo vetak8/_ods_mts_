{
 "cells": [
  {
   "cell_type": "code",
   "execution_count": 1,
   "id": "512d4693",
   "metadata": {},
   "outputs": [],
   "source": [
    "import sys\n",
    "import os\n",
    "import warnings\n",
    "os.environ['OPENBLAS_NUM_THREADS'] = '1'\n",
    "warnings.filterwarnings('ignore')"
   ]
  },
  {
   "cell_type": "code",
<<<<<<< Updated upstream
   "execution_count": 71,
=======
   "execution_count": 2,
>>>>>>> Stashed changes
   "id": "6b6e550e",
   "metadata": {},
   "outputs": [],
   "source": [
    "import tqdm\n",
    "import pickle \n",
    "import random\n",
    "import seaborn as sns\n",
    "import matplotlib.pyplot as plt"
   ]
  },
  {
   "cell_type": "code",
   "execution_count": 3,
   "id": "6689c884",
   "metadata": {},
   "outputs": [],
   "source": [
    "import pandas as pd\n",
    "import numpy as np\n",
    "import time\n",
    "import pyarrow.parquet as pq\n",
    "import pyarrow as pa\n",
    "import scipy\n",
    "import implicit\n",
    "import bisect\n",
    "import sklearn.metrics as m\n",
    "from catboost import CatBoostClassifier, CatBoostRegressor, Pool\n",
    "from sklearn.model_selection import train_test_split\n",
    "from sklearn.calibration import calibration_curve, CalibratedClassifierCV\n",
    "from sklearn.preprocessing import LabelEncoder"
   ]
  },
  {
   "cell_type": "code",
   "execution_count": 4,
   "id": "2c71df45",
   "metadata": {},
   "outputs": [
    {
     "data": {
      "application/javascript": [
       "// Шоткат для перемещения к исполняемой\n",
       "Jupyter.keyboard_manager.command_shortcuts.add_shortcut('Alt-I', {\n",
       "    help : 'Go to Running cell',\n",
       "    help_index : 'zz',\n",
       "    handler : function (event) {\n",
       "        setTimeout(function() {\n",
       "            // Find running cell and click the first one\n",
       "            if ($('.running').length > 0) {\n",
       "                //alert(\"found running cell\");\n",
       "                $('.running')[0].scrollIntoView();\n",
       "            }}, 250);\n",
       "        return false;\n",
       "    }\n",
       "});\n"
      ],
      "text/plain": [
       "<IPython.core.display.Javascript object>"
      ]
     },
     "metadata": {},
     "output_type": "display_data"
    }
   ],
   "source": [
    "%%javascript\n",
    "// Шоткат для перемещения к исполняемой\n",
    "Jupyter.keyboard_manager.command_shortcuts.add_shortcut('Alt-I', {\n",
    "    help : 'Go to Running cell',\n",
    "    help_index : 'zz',\n",
    "    handler : function (event) {\n",
    "        setTimeout(function() {\n",
    "            // Find running cell and click the first one\n",
    "            if ($('.running').length > 0) {\n",
    "                //alert(\"found running cell\");\n",
    "                $('.running')[0].scrollIntoView();\n",
    "            }}, 250);\n",
    "        return false;\n",
    "    }\n",
    "});"
   ]
  },
  {
   "cell_type": "code",
   "execution_count": 5,
   "id": "380b20da",
   "metadata": {},
   "outputs": [],
   "source": [
    "# LOCAL_DATA_PATH = ''\n",
    "SPLIT_SEED = 42\n",
    "# DATA_FILE = 'competition_data_final_pqt'\n",
    "# TARGET_FILE = 'public_train.pqt'\n",
    "# SUBMISSION_FILE = 'submit.pqt'"
   ]
  },
  {
   "cell_type": "code",
   "execution_count": 6,
   "id": "232b0c30",
   "metadata": {},
   "outputs": [],
   "source": [
    "# DIRECTORY = \"E:/mts/competition_data_final_pqt\""
   ]
  },
  {
   "cell_type": "code",
   "execution_count": 7,
   "id": "ed8208d0",
   "metadata": {},
   "outputs": [],
   "source": [
    "# files = [DIRECTORY + '/' + os.path.join(f) for f in os.listdir(DIRECTORY) if f.endswith('.parquet')]"
   ]
  },
  {
   "cell_type": "code",
   "execution_count": 8,
   "id": "2fce8ccd",
   "metadata": {},
   "outputs": [],
   "source": [
    "# dfs = [pd.read_parquet(p, engine='pyarrow') for p in parquets[:]]\n",
    "# df = pd.concat(dfs, ignore_index=True)\n",
    "# df.to_csv('E:/mts/total.csv', index=False)"
   ]
  },
  {
   "cell_type": "code",
   "execution_count": 7,
   "id": "43eba82a",
   "metadata": {},
   "outputs": [],
   "source": [
    "OBJ_COLS = [\n",
    "            'region_name', \n",
    "            'city_name', \n",
    "            'cpe_manufacturer_name',\n",
    "            'cpe_model_name',\n",
    "            'url_host',\n",
    "            'cpe_type_cd',\n",
    "            'cpe_model_os_type', \n",
    "#             'price', \n",
    "#             'date',\n",
    "            'part_of_day', \n",
    "#             'request_cnt',\n",
    "#             'user_id'\n",
    "           ]\n",
    "\n",
    "DIGIT_COLS = [\n",
    "            'price', \n",
    "#             'date',\n",
    "            'request_cnt',\n",
    "#             'user_id'\n",
    "            ]"
   ]
  },
  {
   "cell_type": "code",
<<<<<<< Updated upstream
   "execution_count": 10,
   "id": "0a5c1386",
   "metadata": {},
   "outputs": [],
   "source": [
    "parts = pd.read_csv('E:/mts/total.csv', chunksize=100, iterator=True, low_memory=True, engine='python')"
   ]
  },
  {
   "cell_type": "code",
   "execution_count": 11,
   "id": "6125ba4d",
   "metadata": {},
   "outputs": [],
   "source": [
    "temp  = next(iter(parts))"
   ]
  },
  {
   "cell_type": "code",
   "execution_count": 12,
   "id": "19ddf4a0",
   "metadata": {},
   "outputs": [
    {
     "data": {
      "text/html": [
       "<div>\n",
       "<style scoped>\n",
       "    .dataframe tbody tr th:only-of-type {\n",
       "        vertical-align: middle;\n",
       "    }\n",
       "\n",
       "    .dataframe tbody tr th {\n",
       "        vertical-align: top;\n",
       "    }\n",
       "\n",
       "    .dataframe thead th {\n",
       "        text-align: right;\n",
       "    }\n",
       "</style>\n",
       "<table border=\"1\" class=\"dataframe\">\n",
       "  <thead>\n",
       "    <tr style=\"text-align: right;\">\n",
       "      <th></th>\n",
       "      <th>region_name</th>\n",
       "      <th>city_name</th>\n",
       "      <th>cpe_manufacturer_name</th>\n",
       "      <th>cpe_model_name</th>\n",
       "      <th>url_host</th>\n",
       "      <th>cpe_type_cd</th>\n",
       "      <th>cpe_model_os_type</th>\n",
       "      <th>price</th>\n",
       "      <th>date</th>\n",
       "      <th>part_of_day</th>\n",
       "      <th>request_cnt</th>\n",
       "      <th>user_id</th>\n",
       "    </tr>\n",
       "  </thead>\n",
       "  <tbody>\n",
       "    <tr>\n",
       "      <th>0</th>\n",
       "      <td>Краснодарский край</td>\n",
       "      <td>Краснодар</td>\n",
       "      <td>Apple</td>\n",
       "      <td>iPhone 7</td>\n",
       "      <td>ad.adriver.ru</td>\n",
       "      <td>smartphone</td>\n",
       "      <td>iOS</td>\n",
       "      <td>20368.0</td>\n",
       "      <td>2022-06-15</td>\n",
       "      <td>morning</td>\n",
       "      <td>1</td>\n",
       "      <td>45098</td>\n",
       "    </tr>\n",
       "    <tr>\n",
       "      <th>1</th>\n",
       "      <td>Краснодарский край</td>\n",
       "      <td>Краснодар</td>\n",
       "      <td>Apple</td>\n",
       "      <td>iPhone 7</td>\n",
       "      <td>apple.com</td>\n",
       "      <td>smartphone</td>\n",
       "      <td>iOS</td>\n",
       "      <td>20368.0</td>\n",
       "      <td>2022-06-19</td>\n",
       "      <td>morning</td>\n",
       "      <td>1</td>\n",
       "      <td>45098</td>\n",
       "    </tr>\n",
       "    <tr>\n",
       "      <th>2</th>\n",
       "      <td>Краснодарский край</td>\n",
       "      <td>Краснодар</td>\n",
       "      <td>Apple</td>\n",
       "      <td>iPhone 7</td>\n",
       "      <td>avatars.mds.yandex.net</td>\n",
       "      <td>smartphone</td>\n",
       "      <td>iOS</td>\n",
       "      <td>20368.0</td>\n",
       "      <td>2022-06-12</td>\n",
       "      <td>day</td>\n",
       "      <td>1</td>\n",
       "      <td>45098</td>\n",
       "    </tr>\n",
       "  </tbody>\n",
       "</table>\n",
       "</div>"
      ],
      "text/plain": [
       "          region_name  city_name cpe_manufacturer_name cpe_model_name  \\\n",
       "0  Краснодарский край  Краснодар                 Apple       iPhone 7   \n",
       "1  Краснодарский край  Краснодар                 Apple       iPhone 7   \n",
       "2  Краснодарский край  Краснодар                 Apple       iPhone 7   \n",
       "\n",
       "                 url_host cpe_type_cd cpe_model_os_type    price        date  \\\n",
       "0           ad.adriver.ru  smartphone               iOS  20368.0  2022-06-15   \n",
       "1               apple.com  smartphone               iOS  20368.0  2022-06-19   \n",
       "2  avatars.mds.yandex.net  smartphone               iOS  20368.0  2022-06-12   \n",
       "\n",
       "  part_of_day  request_cnt  user_id  \n",
       "0     morning            1    45098  \n",
       "1     morning            1    45098  \n",
       "2         day            1    45098  "
      ]
     },
     "execution_count": 12,
     "metadata": {},
     "output_type": "execute_result"
    }
   ],
   "source": [
    "temp[:3]"
   ]
  },
  {
   "cell_type": "code",
   "execution_count": 13,
=======
   "execution_count": 8,
>>>>>>> Stashed changes
   "id": "cc7fef7d",
   "metadata": {},
   "outputs": [
    {
     "name": "stdout",
     "output_type": "stream",
     "text": [
      "Couldn't find program: 'false'\n"
     ]
    }
   ],
   "source": [
    "%%script false\n",
    "### Сбор уникальных значений столбцов в словарь для преобразования датасета ###\n",
    "\n",
    "# Wall time: 8min 34s\n",
    "\n",
    "%%time\n",
    "unique_obj_dict = {}\n",
    "i = 0\n",
    "for chunk in pd.read_csv('E:/mts/total.csv', chunksize=100000000, iterator=True, low_memory=True):\n",
    "        i += 1\n",
    "        print(f'chunk_{i}')\n",
    "        for col in OBJ_COLS:\n",
    "            print(f'col_{col}')\n",
    "            if col not in unique_obj_dict:\n",
    "                unique_obj_dict[col] = set(chunk[col])\n",
    "            else:\n",
    "                unique_obj_dict[col] = unique_obj_dict[col].union(set(chunk[col]))"
   ]
  },
  {
   "cell_type": "code",
   "execution_count": 9,
   "id": "ba4199ba",
   "metadata": {},
   "outputs": [],
   "source": [
    "# with open ('E:/mts/unique_values_dict.pkl', 'wb') as f:\n",
    "#     pickle.dump(unique_obj_dict, f)"
   ]
  },
  {
   "cell_type": "code",
<<<<<<< Updated upstream
   "execution_count": 15,
=======
   "execution_count": 10,
>>>>>>> Stashed changes
   "id": "3c4d77c9",
   "metadata": {},
   "outputs": [],
   "source": [
    "with open ('E:/mts/unique_values_dict.pkl', 'rb') as f:\n",
    "    unique_obj_dict = pickle.load(f)"
   ]
  },
  {
   "cell_type": "code",
   "execution_count": 16,
   "id": "4e596020",
   "metadata": {},
   "outputs": [],
   "source": [
    "\n",
    "for d in unique_obj_dict:\n",
    "    unique_obj_dict[d] = dict(zip(unique_obj_dict[d], range(len(unique_obj_dict[d]))))"
   ]
  },
  {
<<<<<<< Updated upstream
=======
   "cell_type": "markdown",
   "id": "84882872",
   "metadata": {},
   "source": [
    "# Используем статистику по регионам России"
   ]
  },
  {
   "cell_type": "code",
   "execution_count": 11,
   "id": "58674e06",
   "metadata": {},
   "outputs": [],
   "source": [
    "def match_region(x):\n",
    "    max_ratio = 0\n",
    "    max_reg = x\n",
    "    for region in unique_obj_dict['region_name'].keys():\n",
    "        ratio = fuzz.ratio(x, region)\n",
    "        if ratio > max_ratio:\n",
    "            max_ratio = ratio\n",
    "            max_reg = region\n",
    "    return unique_obj_dict['region_name'][max_reg]"
   ]
  },
  {
   "cell_type": "code",
   "execution_count": 12,
   "id": "e3d1da79",
   "metadata": {},
   "outputs": [
    {
     "name": "stdout",
     "output_type": "stream",
     "text": [
      "Couldn't find program: 'false'\n"
     ]
    }
   ],
   "source": [
    "%%script false\n",
    "median_salary = pd.read_csv('E:/mts/side_data/Зарплаты__медианная.csv', header=None, names=['region_name', 'median_salary_in_region']).loc[2021]\n",
    "median_salary['region_name'] = median_salary.region_name.apply(match_region)\n",
    "median_salary = median_salary.reset_index(drop=True)\n",
    "\n",
    "olds = pd.read_csv('E:/mts/side_data/Доля_пожилых.csv', header=None, names=['region_name', 'olds_in_region']).loc[2017]\n",
    "olds['region_name'] = olds.region_name.apply(match_region)\n",
    "olds = olds.reset_index(drop=True)\n",
    "\n",
    "mens_in_region = pd.read_csv('E:/mts/side_data/Процент_мужчин.csv', header=None, names=['region_name', 'mens_in_region'])\n",
    "mens_in_region['region_name'] = mens_in_region.region_name.apply(match_region)\n",
    "mens_in_region = mens_in_region.reset_index(drop=True)\n",
    "\n",
    "mean_age = pd.read_csv('E:/mts/side_data/Средний_возраст.csv', header=None, names=['region_name', 'mens_in_region'])\n",
    "mean_age['region_name'] = mean_age.region_name.apply(match_region)\n",
    "mean_age = mean_age.reset_index(drop=True)\n",
    "\n",
    "population_region = pd.read_csv('E:/mts/side_data/Численность_населения.csv', header=None, names=['region_name', 'population_in_region']).loc[2019]\n",
    "population_region['region_name'] = population_region.region_name.apply(match_region)\n",
    "population_region = population_region.reset_index(drop=True)\n",
    "\n",
    "\n",
    "\n",
    "# tabels_to_merge = [median_salary,olds, mens_in_region, mean_age, population_region]\n",
    "\n",
    "\n",
    "\n",
    "region_statistic = pd.concat(\n",
    "    [median_salary,\n",
    "     olds['olds_in_region'],\n",
    "     mens_in_region['mens_in_region'],\n",
    "     mean_age['mens_in_region'], \n",
    "     population_region['population_in_region']\n",
    "    ], \n",
    "    axis=1)\n",
    "\n",
    "region_statistic.to_csv('E:/mts/region_side_statistic.csv', index=False)"
   ]
  },
  {
   "cell_type": "code",
   "execution_count": 13,
   "id": "c6cb4cde",
   "metadata": {},
   "outputs": [],
   "source": [
    "region_statistic = pd.read_csv('E:/mts/region_side_statistic.csv')"
   ]
  },
  {
>>>>>>> Stashed changes
   "cell_type": "code",
   "execution_count": 14,
   "id": "21c39f2b",
   "metadata": {},
   "outputs": [],
   "source": [
    "def reduce_mem_usage(df):\n",
    "    \n",
    "    \"\"\" iterate through all the columns of a dataframe and modify the data type\n",
    "        to reduce memory usage.\n",
    "    \"\"\"\n",
    "    start_mem = df.memory_usage().sum() / 1024**2\n",
    "    print('Memory usage of dataframe is {:.2f} MB'.format(start_mem))\n",
    "\n",
    "    for col in df.columns:    \n",
    "        \n",
    "        \n",
    "        col_type = df[col].dtype.name\n",
    "\n",
    "        if col_type not in ['object', 'category', 'datetime64[ns, UTC]']:\n",
    "                \n",
    "                \n",
    "                \n",
    "            c_min = df[col].min()\n",
    "            c_max = df[col].max()\n",
    "            if str(col_type)[:3] == 'int':\n",
    "                    \n",
    "                if c_min > np.iinfo(np.int8).min and c_max < np.iinfo(np.int8).max:\n",
    "                        \n",
    "                    df[col] = df[col].astype(np.int16)\n",
    "                elif c_min > np.iinfo(np.int16).min and c_max < np.iinfo(np.int16).max:\n",
    "                    df[col] = df[col].astype(np.int16)\n",
    "                elif c_min > np.iinfo(np.int32).min and c_max < np.iinfo(np.int32).max:\n",
    "                    df[col] = df[col].astype(np.int32)\n",
    "                elif c_min > np.iinfo(np.int64).min and c_max < np.iinfo(np.int64).max:\n",
    "                    df[col] = df[col].astype(np.int64)\n",
    "            else:\n",
    "                if c_min > np.finfo(np.float16).min and c_max < np.finfo(np.float16).max:\n",
    "                    df[col] = df[col].astype(np.float16)\n",
    "                elif c_min > np.finfo(np.float32).min and c_max < np.finfo(np.float32).max:\n",
    "                    df[col] = df[col].astype(np.float32)\n",
    "                else:\n",
    "                    df[col] = df[col].astype(np.float64)\n",
    "\n",
    "    end_mem = df.memory_usage().sum() / 1024**2\n",
    "    print('Memory usage after optimization is: {:.2f} MB'.format(end_mem))\n",
    "    print('Decreased by {:.1f}%'.format(100 * (start_mem - end_mem) / start_mem))\n",
    "\n",
    "    return df #= reduce_mem_usage(df)\n",
    "\n",
    "\n",
    "\n",
    "def get_maped_df():\n",
    "    df_result = None\n",
    "    i = 0\n",
    "    for chunk in pd.read_csv('E:/mts/total.csv', chunksize=100000000, iterator=True, low_memory=True):\n",
    "        i += 1\n",
    "        print(f'chunk_{i}')\n",
    "        df_temp = pd.DataFrame([])\n",
    "        for col in OBJ_COLS:\n",
    "            df_temp[col] = chunk[col].map(unique_obj_dict[col])\n",
    "            \n",
    "        for col in DIGIT_COLS:\n",
    "            df_temp[col] = chunk[col]\n",
    "            \n",
    "        if df_result is None:\n",
    "            df_result = df_temp\n",
    "        else:\n",
    "            df_result = pd.concat([df_result, df_temp], axis=0)\n",
    "        \n",
    "    return reduce_mem_usage(df_result)\n",
    "\n",
    "\n",
    "def age_bucket(x):\n",
    "    return bisect.bisect_left([18,25,35,45,55,65], x)"
   ]
  },
  {
   "cell_type": "code",
   "execution_count": 15,
   "id": "8e5bb00a",
   "metadata": {},
   "outputs": [
    {
     "name": "stdout",
     "output_type": "stream",
     "text": [
      "Couldn't find program: 'false'\n"
     ]
    }
   ],
   "source": [
    "%%script false\n",
    "%%time\n",
    "maped_df = get_maped_df()\n",
    "maped_df.to_feather('E:/mts/mapped_inted_df.feather')\n",
    "\n",
    "\n",
    "# Memory usage of dataframe is 29562.33 MB\n",
    "# Memory usage after optimization is: 11085.87 MB\n",
    "# Decreased by 62.5%\n",
    "# CPU times: total: 10min 41s\n",
    "# Wall time: 11min 22s"
   ]
  },
  {
   "cell_type": "code",
   "execution_count": 16,
   "id": "3a2e86c6",
   "metadata": {},
   "outputs": [],
   "source": [
    "public_train = pd.read_parquet('E:/mts/public_train.pqt')\n",
    "id_to_submit = pd.read_parquet('E:/mts/submit_2.pqt')"
   ]
  },
  {
   "cell_type": "code",
   "execution_count": 20,
   "id": "e1cc8103",
   "metadata": {},
   "outputs": [
    {
     "name": "stdout",
     "output_type": "stream",
     "text": [
      "Couldn't find program: 'false'\n"
     ]
    }
   ],
   "source": [
    "%%script false\n",
    "%%time\n",
    "df = pd.read_feather('E:/mts/mapped_inted_df.feather')\n",
    "df = df.merge(public_train, how='outer', on='user_id')\n",
    "df = df[df['age'] >= 18]"
   ]
  },
  {
   "cell_type": "code",
   "execution_count": 21,
   "id": "4b9e095a",
   "metadata": {},
   "outputs": [
    {
     "name": "stdout",
     "output_type": "stream",
     "text": [
      "Couldn't find program: 'false'\n"
     ]
    }
   ],
   "source": [
    "%%script false\n",
    "\n",
    "subset = df.iloc[random.choices(range(len(df)), k=int(0.05 * len(df)))]\n",
    "subset = subset.reset_index(drop=True)\n",
    "subset.to_feather('E:/mts/random_df_0.05.feather') # Работаем с 5% от всего датасета"
   ]
  },
  {
   "cell_type": "markdown",
   "id": "0eaef756",
   "metadata": {},
   "source": [
    "Мысли\n",
    "\n",
    "- убрать признак региона (или убрать по очереди и поверить качество)\n",
    "- убрать cpe_manufacturer_name\n",
    "- заменить цену устройства категорями \n",
    "- проверить с одних ли устройств выходят на связь\n",
    "- проверить с устройств скольких производителей выходят на связь\n",
    "- добавить сумму стоимости устройств с которых пользователь выходит на связь\n",
    "- проверить из одних ли регионов выходят на связь\n",
    "- проверить из одних ли городов одного региона выходят на связь \n",
    "- добавить сумму стоимости устройств с которых пользователь выходит на связь\n",
    "\n",
    "- взять данные о городах с сайта РФ\n",
    "\n",
    "    --средний возраст\n",
    "    \n",
    "    -- расстояние до Москвы\n"
   ]
  },
  {
   "cell_type": "code",
   "execution_count": 22,
   "id": "55c19c51",
   "metadata": {},
   "outputs": [],
   "source": [
    "df_crop = pd.read_feather('E:/mts/random_df_0.05.feather')"
   ]
  },
  {
   "cell_type": "markdown",
   "id": "d5c2e0a7",
   "metadata": {},
   "source": [
    "Распределения на полном датасете и урезанном одинаковые.\n",
    "\n",
    "Проверять гипотезы будем урезанном для удобства."
   ]
  },
  {
   "cell_type": "code",
<<<<<<< Updated upstream
   "execution_count": 117,
   "id": "3776091a",
   "metadata": {},
   "outputs": [
    {
     "data": {
      "text/html": [
       "<div>\n",
       "<style scoped>\n",
       "    .dataframe tbody tr th:only-of-type {\n",
       "        vertical-align: middle;\n",
       "    }\n",
       "\n",
       "    .dataframe tbody tr th {\n",
       "        vertical-align: top;\n",
       "    }\n",
       "\n",
       "    .dataframe thead th {\n",
       "        text-align: right;\n",
       "    }\n",
       "</style>\n",
       "<table border=\"1\" class=\"dataframe\">\n",
       "  <thead>\n",
       "    <tr style=\"text-align: right;\">\n",
       "      <th></th>\n",
       "      <th>region</th>\n",
       "      <th>age</th>\n",
       "    </tr>\n",
       "  </thead>\n",
       "  <tbody>\n",
       "    <tr>\n",
       "      <th>NaN</th>\n",
       "      <td>Адыгея</td>\n",
       "      <td>39.46</td>\n",
       "    </tr>\n",
       "    <tr>\n",
       "      <th>NaN</th>\n",
       "      <td>Алтайский край</td>\n",
       "      <td>40.08</td>\n",
       "    </tr>\n",
       "    <tr>\n",
       "      <th>NaN</th>\n",
       "      <td>Амурская область</td>\n",
       "      <td>37.90</td>\n",
       "    </tr>\n",
       "    <tr>\n",
       "      <th>NaN</th>\n",
       "      <td>Архангельская область</td>\n",
       "      <td>40.15</td>\n",
       "    </tr>\n",
       "    <tr>\n",
       "      <th>NaN</th>\n",
       "      <td>Астраханская область</td>\n",
       "      <td>38.52</td>\n",
       "    </tr>\n",
       "    <tr>\n",
       "      <th>...</th>\n",
       "      <td>...</td>\n",
       "      <td>...</td>\n",
       "    </tr>\n",
       "    <tr>\n",
       "      <th>NaN</th>\n",
       "      <td>Чувашия</td>\n",
       "      <td>39.50</td>\n",
       "    </tr>\n",
       "    <tr>\n",
       "      <th>NaN</th>\n",
       "      <td>Чукотский автономный округ</td>\n",
       "      <td>34.85</td>\n",
       "    </tr>\n",
       "    <tr>\n",
       "      <th>NaN</th>\n",
       "      <td>Якутия</td>\n",
       "      <td>34.11</td>\n",
       "    </tr>\n",
       "    <tr>\n",
       "      <th>NaN</th>\n",
       "      <td>Ямало-Ненецкий автономный округ</td>\n",
       "      <td>33.33</td>\n",
       "    </tr>\n",
       "    <tr>\n",
       "      <th>NaN</th>\n",
       "      <td>Ярославская область</td>\n",
       "      <td>41.47</td>\n",
       "    </tr>\n",
       "  </tbody>\n",
       "</table>\n",
       "<p>85 rows × 2 columns</p>\n",
       "</div>"
      ],
      "text/plain": [
       "                              region    age\n",
       "NaN                           Адыгея  39.46\n",
       "NaN                   Алтайский край  40.08\n",
       "NaN                 Амурская область  37.90\n",
       "NaN            Архангельская область  40.15\n",
       "NaN             Астраханская область  38.52\n",
       "..                               ...    ...\n",
       "NaN                          Чувашия  39.50\n",
       "NaN       Чукотский автономный округ  34.85\n",
       "NaN                           Якутия  34.11\n",
       "NaN  Ямало-Ненецкий автономный округ  33.33\n",
       "NaN              Ярославская область  41.47\n",
       "\n",
       "[85 rows x 2 columns]"
      ]
     },
     "execution_count": 117,
     "metadata": {},
     "output_type": "execute_result"
    }
   ],
   "source": [
    "pd.read_csv('E:/mts/Средний_возраст.csv', header=None, names=['region', 'age'])"
   ]
  },
  {
   "cell_type": "code",
   "execution_count": 127,
   "id": "160ee6e4",
   "metadata": {},
   "outputs": [
    {
     "data": {
      "text/plain": [
       "91.0"
      ]
     },
     "execution_count": 127,
     "metadata": {},
     "output_type": "execute_result"
    }
   ],
   "source": [
    "df_crop.age.max()"
   ]
  },
  {
   "cell_type": "code",
   "execution_count": 52,
   "id": "ccb7b771",
   "metadata": {},
   "outputs": [],
   "source": [
    "x = pd.read_parquet('E:/mts/competition_data_final_pqt/part-00000-aba60f69-2b63-4cc1-95ca-542598094698-c000.snappy.parquet')"
   ]
  },
  {
   "cell_type": "code",
   "execution_count": 122,
   "id": "1d2821cb",
   "metadata": {},
   "outputs": [
    {
     "data": {
      "text/plain": [
       "80"
      ]
     },
     "execution_count": 122,
     "metadata": {},
     "output_type": "execute_result"
    }
   ],
   "source": [
    "len(set(x.region_name))"
   ]
  },
  {
   "cell_type": "code",
   "execution_count": 124,
   "id": "a5026cbd",
   "metadata": {},
=======
   "execution_count": 287,
   "id": "ed42834b",
   "metadata": {
    "scrolled": false
   },
>>>>>>> Stashed changes
   "outputs": [
    {
     "data": {
      "text/html": [
       "<div>\n",
       "<style scoped>\n",
       "    .dataframe tbody tr th:only-of-type {\n",
       "        vertical-align: middle;\n",
       "    }\n",
       "\n",
       "    .dataframe tbody tr th {\n",
       "        vertical-align: top;\n",
       "    }\n",
       "\n",
       "    .dataframe thead th {\n",
       "        text-align: right;\n",
       "    }\n",
       "</style>\n",
       "<table border=\"1\" class=\"dataframe\">\n",
       "  <thead>\n",
       "    <tr style=\"text-align: right;\">\n",
       "      <th></th>\n",
       "      <th>region_name</th>\n",
       "      <th>city_name</th>\n",
       "      <th>cpe_manufacturer_name</th>\n",
       "      <th>cpe_model_name</th>\n",
       "      <th>url_host</th>\n",
       "      <th>cpe_type_cd</th>\n",
       "      <th>cpe_model_os_type</th>\n",
       "      <th>price</th>\n",
       "      <th>date</th>\n",
       "      <th>part_of_day</th>\n",
       "      <th>request_cnt</th>\n",
       "      <th>user_id</th>\n",
       "      <th>mean_age</th>\n",
       "    </tr>\n",
       "  </thead>\n",
       "  <tbody>\n",
       "    <tr>\n",
       "      <th>0</th>\n",
       "      <td>Краснодарский край</td>\n",
       "      <td>Краснодар</td>\n",
       "      <td>Apple</td>\n",
       "      <td>iPhone 7</td>\n",
       "      <td>ad.adriver.ru</td>\n",
       "      <td>smartphone</td>\n",
       "      <td>iOS</td>\n",
       "      <td>20368.0</td>\n",
       "      <td>2022-06-15</td>\n",
       "      <td>morning</td>\n",
       "      <td>1</td>\n",
       "      <td>45098</td>\n",
       "      <td>39.97</td>\n",
       "    </tr>\n",
       "    <tr>\n",
       "      <th>1</th>\n",
       "      <td>Краснодарский край</td>\n",
       "      <td>Краснодар</td>\n",
       "      <td>Apple</td>\n",
       "      <td>iPhone 7</td>\n",
       "      <td>apple.com</td>\n",
       "      <td>smartphone</td>\n",
       "      <td>iOS</td>\n",
       "      <td>20368.0</td>\n",
       "      <td>2022-06-19</td>\n",
       "      <td>morning</td>\n",
       "      <td>1</td>\n",
       "      <td>45098</td>\n",
       "      <td>39.97</td>\n",
       "    </tr>\n",
       "    <tr>\n",
       "      <th>2</th>\n",
       "      <td>Краснодарский край</td>\n",
       "      <td>Краснодар</td>\n",
       "      <td>Apple</td>\n",
       "      <td>iPhone 7</td>\n",
       "      <td>avatars.mds.yandex.net</td>\n",
       "      <td>smartphone</td>\n",
       "      <td>iOS</td>\n",
       "      <td>20368.0</td>\n",
       "      <td>2022-06-12</td>\n",
       "      <td>day</td>\n",
       "      <td>1</td>\n",
       "      <td>45098</td>\n",
       "      <td>39.97</td>\n",
       "    </tr>\n",
       "    <tr>\n",
       "      <th>3</th>\n",
       "      <td>Краснодарский край</td>\n",
       "      <td>Краснодар</td>\n",
       "      <td>Apple</td>\n",
       "      <td>iPhone 7</td>\n",
       "      <td>googleads.g.doubleclick.net</td>\n",
       "      <td>smartphone</td>\n",
       "      <td>iOS</td>\n",
       "      <td>20368.0</td>\n",
       "      <td>2022-05-16</td>\n",
       "      <td>day</td>\n",
       "      <td>1</td>\n",
       "      <td>45098</td>\n",
       "      <td>39.97</td>\n",
       "    </tr>\n",
       "    <tr>\n",
       "      <th>4</th>\n",
       "      <td>Краснодарский край</td>\n",
       "      <td>Краснодар</td>\n",
       "      <td>Apple</td>\n",
       "      <td>iPhone 7</td>\n",
       "      <td>googleads.g.doubleclick.net</td>\n",
       "      <td>smartphone</td>\n",
       "      <td>iOS</td>\n",
       "      <td>20368.0</td>\n",
       "      <td>2022-05-30</td>\n",
       "      <td>day</td>\n",
       "      <td>1</td>\n",
       "      <td>45098</td>\n",
       "      <td>39.97</td>\n",
       "    </tr>\n",
       "    <tr>\n",
       "      <th>...</th>\n",
       "      <td>...</td>\n",
       "      <td>...</td>\n",
       "      <td>...</td>\n",
       "      <td>...</td>\n",
       "      <td>...</td>\n",
       "      <td>...</td>\n",
       "      <td>...</td>\n",
       "      <td>...</td>\n",
       "      <td>...</td>\n",
       "      <td>...</td>\n",
       "      <td>...</td>\n",
       "      <td>...</td>\n",
       "      <td>...</td>\n",
       "    </tr>\n",
       "    <tr>\n",
       "      <th>27052088</th>\n",
       "      <td>Магаданская область</td>\n",
       "      <td>Магадан</td>\n",
       "      <td>Apple</td>\n",
       "      <td>iPhone 7</td>\n",
       "      <td>online.sberbank.ru</td>\n",
       "      <td>smartphone</td>\n",
       "      <td>iOS</td>\n",
       "      <td>26425.0</td>\n",
       "      <td>2021-06-30</td>\n",
       "      <td>morning</td>\n",
       "      <td>1</td>\n",
       "      <td>334544</td>\n",
       "      <td>38.26</td>\n",
       "    </tr>\n",
       "    <tr>\n",
       "      <th>27052089</th>\n",
       "      <td>Магаданская область</td>\n",
       "      <td>Магадан</td>\n",
       "      <td>Apple</td>\n",
       "      <td>iPhone 7</td>\n",
       "      <td>t.me</td>\n",
       "      <td>smartphone</td>\n",
       "      <td>iOS</td>\n",
       "      <td>26425.0</td>\n",
       "      <td>2021-06-22</td>\n",
       "      <td>evening</td>\n",
       "      <td>1</td>\n",
       "      <td>334544</td>\n",
       "      <td>38.26</td>\n",
       "    </tr>\n",
       "    <tr>\n",
       "      <th>27052090</th>\n",
       "      <td>Магаданская область</td>\n",
       "      <td>Магадан</td>\n",
       "      <td>Apple</td>\n",
       "      <td>iPhone 7</td>\n",
       "      <td>apple.com</td>\n",
       "      <td>smartphone</td>\n",
       "      <td>iOS</td>\n",
       "      <td>26425.0</td>\n",
       "      <td>2021-07-07</td>\n",
       "      <td>day</td>\n",
       "      <td>1</td>\n",
       "      <td>334544</td>\n",
       "      <td>38.26</td>\n",
       "    </tr>\n",
       "    <tr>\n",
       "      <th>27052091</th>\n",
       "      <td>Магаданская область</td>\n",
       "      <td>Магадан</td>\n",
       "      <td>Apple</td>\n",
       "      <td>iPhone 7</td>\n",
       "      <td>apple.com</td>\n",
       "      <td>smartphone</td>\n",
       "      <td>iOS</td>\n",
       "      <td>26425.0</td>\n",
       "      <td>2021-06-16</td>\n",
       "      <td>morning</td>\n",
       "      <td>2</td>\n",
       "      <td>334544</td>\n",
       "      <td>38.26</td>\n",
       "    </tr>\n",
       "    <tr>\n",
       "      <th>27052092</th>\n",
       "      <td>Магаданская область</td>\n",
       "      <td>Магадан</td>\n",
       "      <td>Apple</td>\n",
       "      <td>iPhone 7</td>\n",
       "      <td>instagram.com</td>\n",
       "      <td>smartphone</td>\n",
       "      <td>iOS</td>\n",
       "      <td>26425.0</td>\n",
       "      <td>2021-06-24</td>\n",
       "      <td>evening</td>\n",
       "      <td>2</td>\n",
       "      <td>334544</td>\n",
       "      <td>38.26</td>\n",
       "    </tr>\n",
       "  </tbody>\n",
       "</table>\n",
       "<p>27052093 rows × 13 columns</p>\n",
       "</div>"
      ],
      "text/plain": [
       "                  region_name  city_name cpe_manufacturer_name cpe_model_name  \\\n",
       "0          Краснодарский край  Краснодар                 Apple       iPhone 7   \n",
       "1          Краснодарский край  Краснодар                 Apple       iPhone 7   \n",
       "2          Краснодарский край  Краснодар                 Apple       iPhone 7   \n",
       "3          Краснодарский край  Краснодар                 Apple       iPhone 7   \n",
       "4          Краснодарский край  Краснодар                 Apple       iPhone 7   \n",
       "...                       ...        ...                   ...            ...   \n",
       "27052088  Магаданская область    Магадан                 Apple       iPhone 7   \n",
       "27052089  Магаданская область    Магадан                 Apple       iPhone 7   \n",
       "27052090  Магаданская область    Магадан                 Apple       iPhone 7   \n",
       "27052091  Магаданская область    Магадан                 Apple       iPhone 7   \n",
       "27052092  Магаданская область    Магадан                 Apple       iPhone 7   \n",
       "\n",
       "                             url_host cpe_type_cd cpe_model_os_type    price  \\\n",
       "0                       ad.adriver.ru  smartphone               iOS  20368.0   \n",
       "1                           apple.com  smartphone               iOS  20368.0   \n",
       "2              avatars.mds.yandex.net  smartphone               iOS  20368.0   \n",
       "3         googleads.g.doubleclick.net  smartphone               iOS  20368.0   \n",
       "4         googleads.g.doubleclick.net  smartphone               iOS  20368.0   \n",
       "...                               ...         ...               ...      ...   \n",
       "27052088           online.sberbank.ru  smartphone               iOS  26425.0   \n",
       "27052089                         t.me  smartphone               iOS  26425.0   \n",
       "27052090                    apple.com  smartphone               iOS  26425.0   \n",
       "27052091                    apple.com  smartphone               iOS  26425.0   \n",
       "27052092                instagram.com  smartphone               iOS  26425.0   \n",
       "\n",
       "                date part_of_day  request_cnt  user_id  mean_age  \n",
       "0         2022-06-15     morning            1    45098     39.97  \n",
       "1         2022-06-19     morning            1    45098     39.97  \n",
       "2         2022-06-12         day            1    45098     39.97  \n",
       "3         2022-05-16         day            1    45098     39.97  \n",
       "4         2022-05-30         day            1    45098     39.97  \n",
       "...              ...         ...          ...      ...       ...  \n",
       "27052088  2021-06-30     morning            1   334544     38.26  \n",
       "27052089  2021-06-22     evening            1   334544     38.26  \n",
       "27052090  2021-07-07         day            1   334544     38.26  \n",
       "27052091  2021-06-16     morning            2   334544     38.26  \n",
       "27052092  2021-06-24     evening            2   334544     38.26  \n",
       "\n",
       "[27052093 rows x 13 columns]"
      ]
     },
     "execution_count": 124,
     "metadata": {},
     "output_type": "execute_result"
    }
   ],
   "source": [
<<<<<<< Updated upstream
    "x.merge(pd.read_csv('E:/mts/Средний_возраст.csv', header=None, names=['region_name', 'mean_age']), how='inner', on='region_name')"
=======
    "df_crop.merge(region_statistic, how='inner', on='region_name')"
   ]
  },
  {
   "cell_type": "code",
   "execution_count": 52,
   "id": "2811cff3",
   "metadata": {},
   "outputs": [],
   "source": [
    "x = pd.read_parquet('E:/mts/competition_data_final_pqt/part-00000-aba60f69-2b63-4cc1-95ca-542598094698-c000.snappy.parquet')"
>>>>>>> Stashed changes
   ]
  },
  {
   "cell_type": "code",
   "execution_count": 97,
<<<<<<< Updated upstream
   "id": "072bd4b7",
=======
   "id": "f777c355",
>>>>>>> Stashed changes
   "metadata": {},
   "outputs": [],
   "source": [
    "def round_by_5000(num):\n",
    "    base = 5000\n",
    "    temp = num // base * base\n",
    "    return temp + base"
   ]
  },
  {
   "cell_type": "code",
   "execution_count": 84,
   "id": "1c675e43",
   "metadata": {},
   "outputs": [
    {
     "data": {
      "text/plain": [
       "40000"
      ]
     },
     "execution_count": 84,
     "metadata": {},
     "output_type": "execute_result"
    }
   ],
   "source": [
    "round_by_5000(42300)"
   ]
  },
  {
   "cell_type": "code",
   "execution_count": 76,
   "id": "fc3502c3",
   "metadata": {},
   "outputs": [
    {
     "data": {
      "text/plain": [
       "40000"
      ]
     },
     "execution_count": 76,
     "metadata": {},
     "output_type": "execute_result"
    }
   ],
   "source": [
    "43000 //  5000 * 5000"
   ]
  },
  {
   "cell_type": "code",
   "execution_count": 54,
<<<<<<< Updated upstream
   "id": "95a8aaca",
=======
   "id": "53f5ba8a",
>>>>>>> Stashed changes
   "metadata": {},
   "outputs": [],
   "source": [
    "z = df_crop.price"
   ]
  },
  {
   "cell_type": "code",
   "execution_count": 87,
<<<<<<< Updated upstream
   "id": "f4c6e3ec",
=======
   "id": "cc9d134d",
>>>>>>> Stashed changes
   "metadata": {},
   "outputs": [
    {
     "data": {
      "image/png": "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\n",
      "text/plain": [
       "<Figure size 2000x1000 with 1 Axes>"
      ]
     },
     "metadata": {},
     "output_type": "display_data"
    }
   ],
   "source": [
    "plt.figure(figsize=(20, 10))\n",
    "sns.histplot(z.map(round_by_5000));"
   ]
  },
  {
   "cell_type": "code",
   "execution_count": null,
   "id": "6ef7c5b1",
   "metadata": {},
   "outputs": [],
   "source": []
  },
  {
   "cell_type": "code",
   "execution_count": 92,
<<<<<<< Updated upstream
   "id": "e8b0750b",
=======
   "id": "7329c1ce",
>>>>>>> Stashed changes
   "metadata": {},
   "outputs": [],
   "source": [
    "# plt.figure(figsize=(20, 10))\n",
    "# sns.histplot(z[z<10000]);"
   ]
  },
  {
   "cell_type": "code",
   "execution_count": 93,
<<<<<<< Updated upstream
   "id": "05e46825",
=======
   "id": "cef5fb15",
>>>>>>> Stashed changes
   "metadata": {},
   "outputs": [],
   "source": [
    "# sns.boxplot(z[z<10000]);"
   ]
  },
  {
   "cell_type": "code",
   "execution_count": 94,
<<<<<<< Updated upstream
   "id": "3baa47dd",
=======
   "id": "7893b196",
>>>>>>> Stashed changes
   "metadata": {},
   "outputs": [],
   "source": [
    "# sns.boxplot(z);"
   ]
  },
  {
   "cell_type": "code",
<<<<<<< Updated upstream
   "execution_count": 100,
   "id": "7969f474",
=======
   "execution_count": 284,
   "id": "1f953370",
>>>>>>> Stashed changes
   "metadata": {},
   "outputs": [
    {
     "data": {
      "text/plain": [
       "<AxesSubplot: >"
      ]
     },
     "execution_count": 100,
     "metadata": {},
     "output_type": "execute_result"
    },
    {
     "data": {
      "image/png": "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\n",
      "text/plain": [
       "<Figure size 640x480 with 1 Axes>"
      ]
     },
     "metadata": {},
     "output_type": "display_data"
    }
   ],
   "source": [
    "np.log(z).hist()"
   ]
  },
  {
   "cell_type": "code",
   "execution_count": 106,
   "id": "c0e4e2df",
   "metadata": {},
   "outputs": [
    {
     "data": {
      "text/plain": [
       "<AxesSubplot: >"
      ]
     },
     "execution_count": 106,
     "metadata": {},
     "output_type": "execute_result"
    },
    {
     "data": {
      "image/png": "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\n",
      "text/plain": [
       "<Figure size 640x480 with 1 Axes>"
      ]
     },
     "metadata": {},
     "output_type": "display_data"
    }
   ],
   "source": [
    "np.log(z.map(round_by_5000)).hist()"
   ]
  },
  {
   "cell_type": "code",
   "execution_count": 110,
   "id": "23b96b3c",
   "metadata": {},
   "outputs": [
    {
     "data": {
      "text/plain": [
       "False"
      ]
     },
     "execution_count": 110,
     "metadata": {},
     "output_type": "execute_result"
    }
   ],
   "source": [
    "df_crop.date.map(pd.Timestamp).is_monotonic_decreasing"
   ]
  },
  {
   "cell_type": "code",
   "execution_count": 107,
<<<<<<< Updated upstream
   "id": "f2374cab",
=======
   "id": "8764c737",
>>>>>>> Stashed changes
   "metadata": {},
   "outputs": [],
   "source": [
    "def get_prepared_data(df):\n",
    "    \n",
    "    # Date\n",
    "    df['date'] = df['date'].map(pd.Timestamp)\n",
    "    df['day'] = df['date'].apply(lambda x: x.day)\n",
    "    df['is_month_end'] = df['date'].apply(lambda x: x.is_month_end)\n",
    "    df['week'] = df['date'].apply(lambda x: x.week)\n",
    "    df['day_of_week'] = df['date'].apply(lambda x: x.day_of_week)\n",
    "    df['month'] = df['date'].apply(lambda x: x.month)\n",
    "    df['is_year_end'] = df['date'].apply(lambda x: x.is_year_end)\n",
    "    df['is_year_start'] = df['date'].apply(lambda x: x.is_year_start)\n",
    "    \n",
    "    \n",
    "    #Price\n",
    "    \n",
    "    df['is_expesive_device'] =  df['price'].apply(lambda x: 1 if x >= 100000 else 0)\n",
    "    df['is_meduim_device'] =  df['price'].apply(lambda x: 1 if 50000 <= x < 100000 else 0)\n",
    "    df['is_common_device'] =  df['price'].apply(lambda x: 1 if 25000 <= x < 50000 else 0)\n",
    "    df['is_cheap_device'] =  df['price'].apply(lambda x: 1 if 10000 <= x < 25000 else 0)\n",
    "    df['is_extra_cheap_device'] =  df['price'].apply(lambda x: 1 if 5000 <= x < 10000 else 0)\n",
    "    df['is_strange_device'] =  df['price'].apply(lambda x: 1 if x < 5000 else 0)\n",
    "    df['price'] = np.log(df['price'].map(round_by_5000))\n",
    "    \n",
    "    \n",
    "    \n",
    "    X = df[~df['age'].isna()].drop(['user_id', 'age', 'is_male', 'date'], axis=1)\n",
    "    y = df[~df['age'].isna()]['is_male']\n",
    "    \n",
    "    return X, y"
   ]
  },
  {
   "cell_type": "markdown",
   "id": "6224acf4",
   "metadata": {},
   "source": [
    "# Sex"
   ]
  },
  {
   "cell_type": "code",
   "execution_count": 108,
   "id": "4bced544",
   "metadata": {},
   "outputs": [],
   "source": [
    "X, y = get_prepared_data(df_crop)\n",
    "x_train, x_test, y_train, y_test = train_test_split(X, y, test_size = 0.33, random_state = SPLIT_SEED)\n"
   ]
  },
  {
   "cell_type": "code",
   "execution_count": 109,
<<<<<<< Updated upstream
   "id": "7229549d",
=======
   "id": "91614b58",
>>>>>>> Stashed changes
   "metadata": {},
   "outputs": [
    {
     "data": {
      "text/html": [
       "<div>\n",
       "<style scoped>\n",
       "    .dataframe tbody tr th:only-of-type {\n",
       "        vertical-align: middle;\n",
       "    }\n",
       "\n",
       "    .dataframe tbody tr th {\n",
       "        vertical-align: top;\n",
       "    }\n",
       "\n",
       "    .dataframe thead th {\n",
       "        text-align: right;\n",
       "    }\n",
       "</style>\n",
       "<table border=\"1\" class=\"dataframe\">\n",
       "  <thead>\n",
       "    <tr style=\"text-align: right;\">\n",
       "      <th></th>\n",
       "      <th>region_name</th>\n",
       "      <th>city_name</th>\n",
       "      <th>cpe_manufacturer_name</th>\n",
       "      <th>cpe_model_name</th>\n",
       "      <th>url_host</th>\n",
       "      <th>cpe_type_cd</th>\n",
       "      <th>cpe_model_os_type</th>\n",
       "      <th>part_of_day</th>\n",
       "      <th>price</th>\n",
       "      <th>request_cnt</th>\n",
       "      <th>...</th>\n",
       "      <th>day_of_week</th>\n",
       "      <th>month</th>\n",
       "      <th>is_year_end</th>\n",
       "      <th>is_year_start</th>\n",
       "      <th>is_expesive_device</th>\n",
       "      <th>is_meduim_device</th>\n",
       "      <th>is_common_device</th>\n",
       "      <th>is_cheap_device</th>\n",
       "      <th>is_extra_cheap_device</th>\n",
       "      <th>is_strange_device</th>\n",
       "    </tr>\n",
       "  </thead>\n",
       "  <tbody>\n",
       "    <tr>\n",
       "      <th>0</th>\n",
       "      <td>22</td>\n",
       "      <td>600</td>\n",
       "      <td>19</td>\n",
       "      <td>18</td>\n",
       "      <td>197241</td>\n",
       "      <td>1</td>\n",
       "      <td>2</td>\n",
       "      <td>0</td>\n",
       "      <td>9.210340</td>\n",
       "      <td>1</td>\n",
       "      <td>...</td>\n",
       "      <td>0</td>\n",
       "      <td>8</td>\n",
       "      <td>False</td>\n",
       "      <td>False</td>\n",
       "      <td>0</td>\n",
       "      <td>0</td>\n",
       "      <td>0</td>\n",
       "      <td>0</td>\n",
       "      <td>1</td>\n",
       "      <td>0</td>\n",
       "    </tr>\n",
       "    <tr>\n",
       "      <th>1</th>\n",
       "      <td>29</td>\n",
       "      <td>917</td>\n",
       "      <td>17</td>\n",
       "      <td>68</td>\n",
       "      <td>57361</td>\n",
       "      <td>1</td>\n",
       "      <td>0</td>\n",
       "      <td>3</td>\n",
       "      <td>10.308953</td>\n",
       "      <td>1</td>\n",
       "      <td>...</td>\n",
       "      <td>3</td>\n",
       "      <td>7</td>\n",
       "      <td>False</td>\n",
       "      <td>False</td>\n",
       "      <td>0</td>\n",
       "      <td>0</td>\n",
       "      <td>1</td>\n",
       "      <td>0</td>\n",
       "      <td>0</td>\n",
       "      <td>0</td>\n",
       "    </tr>\n",
       "    <tr>\n",
       "      <th>2</th>\n",
       "      <td>75</td>\n",
       "      <td>855</td>\n",
       "      <td>5</td>\n",
       "      <td>201</td>\n",
       "      <td>113871</td>\n",
       "      <td>1</td>\n",
       "      <td>0</td>\n",
       "      <td>3</td>\n",
       "      <td>9.615805</td>\n",
       "      <td>1</td>\n",
       "      <td>...</td>\n",
       "      <td>1</td>\n",
       "      <td>4</td>\n",
       "      <td>False</td>\n",
       "      <td>False</td>\n",
       "      <td>0</td>\n",
       "      <td>0</td>\n",
       "      <td>0</td>\n",
       "      <td>1</td>\n",
       "      <td>0</td>\n",
       "      <td>0</td>\n",
       "    </tr>\n",
       "    <tr>\n",
       "      <th>3</th>\n",
       "      <td>45</td>\n",
       "      <td>587</td>\n",
       "      <td>5</td>\n",
       "      <td>538</td>\n",
       "      <td>74185</td>\n",
       "      <td>1</td>\n",
       "      <td>0</td>\n",
       "      <td>1</td>\n",
       "      <td>10.126631</td>\n",
       "      <td>1</td>\n",
       "      <td>...</td>\n",
       "      <td>1</td>\n",
       "      <td>6</td>\n",
       "      <td>False</td>\n",
       "      <td>False</td>\n",
       "      <td>0</td>\n",
       "      <td>0</td>\n",
       "      <td>0</td>\n",
       "      <td>1</td>\n",
       "      <td>0</td>\n",
       "      <td>0</td>\n",
       "    </tr>\n",
       "    <tr>\n",
       "      <th>4</th>\n",
       "      <td>11</td>\n",
       "      <td>416</td>\n",
       "      <td>17</td>\n",
       "      <td>442</td>\n",
       "      <td>7253</td>\n",
       "      <td>1</td>\n",
       "      <td>0</td>\n",
       "      <td>3</td>\n",
       "      <td>9.615805</td>\n",
       "      <td>2</td>\n",
       "      <td>...</td>\n",
       "      <td>5</td>\n",
       "      <td>7</td>\n",
       "      <td>False</td>\n",
       "      <td>False</td>\n",
       "      <td>0</td>\n",
       "      <td>0</td>\n",
       "      <td>0</td>\n",
       "      <td>1</td>\n",
       "      <td>0</td>\n",
       "      <td>0</td>\n",
       "    </tr>\n",
       "    <tr>\n",
       "      <th>...</th>\n",
       "      <td>...</td>\n",
       "      <td>...</td>\n",
       "      <td>...</td>\n",
       "      <td>...</td>\n",
       "      <td>...</td>\n",
       "      <td>...</td>\n",
       "      <td>...</td>\n",
       "      <td>...</td>\n",
       "      <td>...</td>\n",
       "      <td>...</td>\n",
       "      <td>...</td>\n",
       "      <td>...</td>\n",
       "      <td>...</td>\n",
       "      <td>...</td>\n",
       "      <td>...</td>\n",
       "      <td>...</td>\n",
       "      <td>...</td>\n",
       "      <td>...</td>\n",
       "      <td>...</td>\n",
       "      <td>...</td>\n",
       "      <td>...</td>\n",
       "    </tr>\n",
       "    <tr>\n",
       "      <th>10523204</th>\n",
       "      <td>41</td>\n",
       "      <td>132</td>\n",
       "      <td>19</td>\n",
       "      <td>432</td>\n",
       "      <td>178373</td>\n",
       "      <td>1</td>\n",
       "      <td>2</td>\n",
       "      <td>2</td>\n",
       "      <td>10.819778</td>\n",
       "      <td>5</td>\n",
       "      <td>...</td>\n",
       "      <td>4</td>\n",
       "      <td>5</td>\n",
       "      <td>False</td>\n",
       "      <td>False</td>\n",
       "      <td>0</td>\n",
       "      <td>0</td>\n",
       "      <td>1</td>\n",
       "      <td>0</td>\n",
       "      <td>0</td>\n",
       "      <td>0</td>\n",
       "    </tr>\n",
       "    <tr>\n",
       "      <th>10523205</th>\n",
       "      <td>61</td>\n",
       "      <td>171</td>\n",
       "      <td>19</td>\n",
       "      <td>294</td>\n",
       "      <td>172007</td>\n",
       "      <td>1</td>\n",
       "      <td>2</td>\n",
       "      <td>1</td>\n",
       "      <td>10.308953</td>\n",
       "      <td>1</td>\n",
       "      <td>...</td>\n",
       "      <td>0</td>\n",
       "      <td>6</td>\n",
       "      <td>False</td>\n",
       "      <td>False</td>\n",
       "      <td>0</td>\n",
       "      <td>0</td>\n",
       "      <td>1</td>\n",
       "      <td>0</td>\n",
       "      <td>0</td>\n",
       "      <td>0</td>\n",
       "    </tr>\n",
       "    <tr>\n",
       "      <th>10523206</th>\n",
       "      <td>17</td>\n",
       "      <td>397</td>\n",
       "      <td>20</td>\n",
       "      <td>509</td>\n",
       "      <td>43400</td>\n",
       "      <td>1</td>\n",
       "      <td>0</td>\n",
       "      <td>3</td>\n",
       "      <td>10.714418</td>\n",
       "      <td>1</td>\n",
       "      <td>...</td>\n",
       "      <td>4</td>\n",
       "      <td>8</td>\n",
       "      <td>False</td>\n",
       "      <td>False</td>\n",
       "      <td>0</td>\n",
       "      <td>0</td>\n",
       "      <td>1</td>\n",
       "      <td>0</td>\n",
       "      <td>0</td>\n",
       "      <td>0</td>\n",
       "    </tr>\n",
       "    <tr>\n",
       "      <th>10523207</th>\n",
       "      <td>5</td>\n",
       "      <td>401</td>\n",
       "      <td>20</td>\n",
       "      <td>96</td>\n",
       "      <td>189671</td>\n",
       "      <td>1</td>\n",
       "      <td>0</td>\n",
       "      <td>3</td>\n",
       "      <td>9.903488</td>\n",
       "      <td>2</td>\n",
       "      <td>...</td>\n",
       "      <td>0</td>\n",
       "      <td>6</td>\n",
       "      <td>False</td>\n",
       "      <td>False</td>\n",
       "      <td>0</td>\n",
       "      <td>0</td>\n",
       "      <td>0</td>\n",
       "      <td>1</td>\n",
       "      <td>0</td>\n",
       "      <td>0</td>\n",
       "    </tr>\n",
       "    <tr>\n",
       "      <th>10523208</th>\n",
       "      <td>20</td>\n",
       "      <td>821</td>\n",
       "      <td>20</td>\n",
       "      <td>386</td>\n",
       "      <td>37191</td>\n",
       "      <td>1</td>\n",
       "      <td>0</td>\n",
       "      <td>3</td>\n",
       "      <td>9.615805</td>\n",
       "      <td>1</td>\n",
       "      <td>...</td>\n",
       "      <td>0</td>\n",
       "      <td>5</td>\n",
       "      <td>False</td>\n",
       "      <td>False</td>\n",
       "      <td>0</td>\n",
       "      <td>0</td>\n",
       "      <td>0</td>\n",
       "      <td>1</td>\n",
       "      <td>0</td>\n",
       "      <td>0</td>\n",
       "    </tr>\n",
       "  </tbody>\n",
       "</table>\n",
       "<p>10523209 rows × 23 columns</p>\n",
       "</div>"
      ],
      "text/plain": [
       "          region_name  city_name  cpe_manufacturer_name  cpe_model_name  \\\n",
       "0                  22        600                     19              18   \n",
       "1                  29        917                     17              68   \n",
       "2                  75        855                      5             201   \n",
       "3                  45        587                      5             538   \n",
       "4                  11        416                     17             442   \n",
       "...               ...        ...                    ...             ...   \n",
       "10523204           41        132                     19             432   \n",
       "10523205           61        171                     19             294   \n",
       "10523206           17        397                     20             509   \n",
       "10523207            5        401                     20              96   \n",
       "10523208           20        821                     20             386   \n",
       "\n",
       "          url_host  cpe_type_cd  cpe_model_os_type  part_of_day      price  \\\n",
       "0           197241            1                  2            0   9.210340   \n",
       "1            57361            1                  0            3  10.308953   \n",
       "2           113871            1                  0            3   9.615805   \n",
       "3            74185            1                  0            1  10.126631   \n",
       "4             7253            1                  0            3   9.615805   \n",
       "...            ...          ...                ...          ...        ...   \n",
       "10523204    178373            1                  2            2  10.819778   \n",
       "10523205    172007            1                  2            1  10.308953   \n",
       "10523206     43400            1                  0            3  10.714418   \n",
       "10523207    189671            1                  0            3   9.903488   \n",
       "10523208     37191            1                  0            3   9.615805   \n",
       "\n",
       "          request_cnt  ...  day_of_week  month  is_year_end  is_year_start  \\\n",
       "0                   1  ...            0      8        False          False   \n",
       "1                   1  ...            3      7        False          False   \n",
       "2                   1  ...            1      4        False          False   \n",
       "3                   1  ...            1      6        False          False   \n",
       "4                   2  ...            5      7        False          False   \n",
       "...               ...  ...          ...    ...          ...            ...   \n",
       "10523204            5  ...            4      5        False          False   \n",
       "10523205            1  ...            0      6        False          False   \n",
       "10523206            1  ...            4      8        False          False   \n",
       "10523207            2  ...            0      6        False          False   \n",
       "10523208            1  ...            0      5        False          False   \n",
       "\n",
       "          is_expesive_device  is_meduim_device  is_common_device  \\\n",
       "0                          0                 0                 0   \n",
       "1                          0                 0                 1   \n",
       "2                          0                 0                 0   \n",
       "3                          0                 0                 0   \n",
       "4                          0                 0                 0   \n",
       "...                      ...               ...               ...   \n",
       "10523204                   0                 0                 1   \n",
       "10523205                   0                 0                 1   \n",
       "10523206                   0                 0                 1   \n",
       "10523207                   0                 0                 0   \n",
       "10523208                   0                 0                 0   \n",
       "\n",
       "          is_cheap_device  is_extra_cheap_device  is_strange_device  \n",
       "0                       0                      1                  0  \n",
       "1                       0                      0                  0  \n",
       "2                       1                      0                  0  \n",
       "3                       1                      0                  0  \n",
       "4                       1                      0                  0  \n",
       "...                   ...                    ...                ...  \n",
       "10523204                0                      0                  0  \n",
       "10523205                0                      0                  0  \n",
       "10523206                0                      0                  0  \n",
       "10523207                1                      0                  0  \n",
       "10523208                1                      0                  0  \n",
       "\n",
       "[10523209 rows x 23 columns]"
      ]
     },
     "execution_count": 109,
     "metadata": {},
     "output_type": "execute_result"
    }
   ],
   "source": [
    "X"
   ]
  },
  {
   "cell_type": "code",
   "execution_count": 28,
   "id": "6ca7c39b",
   "metadata": {},
   "outputs": [],
   "source": [
    "clf = CatBoostClassifier(custom_loss=['AUC', 'Accuracy'])\n",
    "clf.fit(\n",
    "    x_train, \n",
    "    y_train,\n",
    "    cat_features= OBJ_COLS,\n",
    "    verbose = False,\n",
    "    plot=True,\n",
    "    eval_set=(x_test, y_test),\n",
    "       )\n"
   ]
  },
  {
   "cell_type": "code",
   "execution_count": null,
   "id": "281bcfb7",
   "metadata": {},
   "outputs": [],
   "source": [
    "print(f'GINI по полу {2 * m.roc_auc_score(y_test, clf.predict_proba(x_test), multi_class=\"ovo\") - 1:2.3f}')"
   ]
  },
  {
   "cell_type": "markdown",
   "id": "643c4709",
   "metadata": {},
   "source": [
    "# Age"
   ]
  },
  {
   "cell_type": "code",
   "execution_count": null,
   "id": "29e5f6f3",
   "metadata": {},
   "outputs": [],
   "source": [
    "X = df_crop[~df_crop['age'].isna()].drop(['user_id', 'age', 'is_male', 'date'], axis=1)\n",
    "y = df_crop[~df_crop['age'].isna()]['age'].map(age_bucket)\n",
    "x_train, x_test, y_train, y_test = train_test_split(X, y, test_size = 0.33, random_state = SPLIT_SEED)"
   ]
  },
  {
   "cell_type": "code",
   "execution_count": null,
   "id": "161d4656",
   "metadata": {},
   "outputs": [],
   "source": [
    "df_crop[~df_crop['age'].isna()]['age'].hist()"
   ]
  },
  {
   "cell_type": "code",
   "execution_count": null,
   "id": "a74079e3",
   "metadata": {},
   "outputs": [],
   "source": [
    "df_crop[~df_crop['age'].isna()]['age']"
   ]
  },
  {
   "cell_type": "code",
   "execution_count": null,
   "id": "c58fb985",
   "metadata": {},
   "outputs": [],
   "source": [
    "id_to_submit"
   ]
  },
  {
   "cell_type": "code",
   "execution_count": null,
   "id": "aedaa03d",
   "metadata": {},
   "outputs": [],
   "source": []
  }
 ],
 "metadata": {
  "kernelspec": {
   "display_name": "Python 3 (ipykernel)",
   "language": "python",
   "name": "python3"
  },
  "language_info": {
   "codemirror_mode": {
    "name": "ipython",
    "version": 3
   },
   "file_extension": ".py",
   "mimetype": "text/x-python",
   "name": "python",
   "nbconvert_exporter": "python",
   "pygments_lexer": "ipython3",
   "version": "3.9.7"
  }
 },
 "nbformat": 4,
 "nbformat_minor": 5
}
