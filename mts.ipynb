{
 "cells": [
  {
   "cell_type": "code",
   "execution_count": 1,
   "id": "a5fb3b50",
   "metadata": {},
   "outputs": [
    {
     "data": {
      "application/javascript": [
       "// Шоткат для перемещения к исполняемой\n",
       "Jupyter.keyboard_manager.command_shortcuts.add_shortcut('Alt-I', {\n",
       "    help : 'Go to Running cell',\n",
       "    help_index : 'zz',\n",
       "    handler : function (event) {\n",
       "        setTimeout(function() {\n",
       "            // Find running cell and click the first one\n",
       "            if ($('.running').length > 0) {\n",
       "                //alert(\"found running cell\");\n",
       "                $('.running')[0].scrollIntoView();\n",
       "            }}, 250);\n",
       "        return false;\n",
       "    }\n",
       "});\n"
      ],
      "text/plain": [
       "<IPython.core.display.Javascript object>"
      ]
     },
     "metadata": {},
     "output_type": "display_data"
    }
   ],
   "source": [
    "%%javascript\n",
    "// Шоткат для перемещения к исполняемой\n",
    "Jupyter.keyboard_manager.command_shortcuts.add_shortcut('Alt-I', {\n",
    "    help : 'Go to Running cell',\n",
    "    help_index : 'zz',\n",
    "    handler : function (event) {\n",
    "        setTimeout(function() {\n",
    "            // Find running cell and click the first one\n",
    "            if ($('.running').length > 0) {\n",
    "                //alert(\"found running cell\");\n",
    "                $('.running')[0].scrollIntoView();\n",
    "            }}, 250);\n",
    "        return false;\n",
    "    }\n",
    "});"
   ]
  },
  {
   "cell_type": "code",
   "execution_count": 2,
   "id": "99c97533",
   "metadata": {},
   "outputs": [],
   "source": [
    "import sys\n",
    "import os\n",
    "import warnings\n",
    "os.environ['OPENBLAS_NUM_THREADS'] = '1'\n",
    "warnings.filterwarnings('ignore')"
   ]
  },
  {
   "cell_type": "code",
   "execution_count": 3,
   "id": "30741d36",
   "metadata": {},
   "outputs": [],
   "source": [
    "import tqdm\n",
    "import pickle \n",
    "import random\n",
    "import seaborn as sns\n",
    "import matplotlib.pyplot as plt\n",
    "from fuzzywuzzy import fuzz"
   ]
  },
  {
   "cell_type": "code",
   "execution_count": 4,
   "id": "0b88991a",
   "metadata": {},
   "outputs": [],
   "source": [
    "import pandas as pd\n",
    "import numpy as np\n",
    "import time\n",
    "import pyarrow.parquet as pq\n",
    "import pyarrow as pa\n",
    "import scipy\n",
    "import implicit\n",
    "import bisect\n",
    "import sklearn.metrics as m\n",
    "from catboost import CatBoostClassifier, CatBoostRegressor, Pool\n",
    "from sklearn.model_selection import train_test_split\n",
    "from sklearn.calibration import calibration_curve, CalibratedClassifierCV\n",
    "from sklearn.preprocessing import LabelEncoder"
   ]
  },
  {
   "cell_type": "code",
   "execution_count": 5,
   "id": "c2475cb7",
   "metadata": {},
   "outputs": [],
   "source": [
    "SPLIT_SEED = 666\n",
    "LOCAL_DATA_PATH = 'E:/mts'\n",
    "DATA_FILE = 'competition_data_final_pqt'\n",
    "TARGET_FILE = 'public_train.pqt'\n",
    "SUBMISSION_FILE = 'submit_2.pqt'"
   ]
  },
  {
   "cell_type": "code",
   "execution_count": 6,
   "id": "9315c5a2",
   "metadata": {},
   "outputs": [
    {
     "data": {
      "text/html": [
       "<div>\n",
       "<style scoped>\n",
       "    .dataframe tbody tr th:only-of-type {\n",
       "        vertical-align: middle;\n",
       "    }\n",
       "\n",
       "    .dataframe tbody tr th {\n",
       "        vertical-align: top;\n",
       "    }\n",
       "\n",
       "    .dataframe thead th {\n",
       "        text-align: right;\n",
       "    }\n",
       "</style>\n",
       "<table border=\"1\" class=\"dataframe\">\n",
       "  <thead>\n",
       "    <tr style=\"text-align: right;\">\n",
       "      <th></th>\n",
       "      <th>user_id</th>\n",
       "    </tr>\n",
       "  </thead>\n",
       "  <tbody>\n",
       "    <tr>\n",
       "      <th>221301</th>\n",
       "      <td>221301</td>\n",
       "    </tr>\n",
       "    <tr>\n",
       "      <th>31271</th>\n",
       "      <td>31271</td>\n",
       "    </tr>\n",
       "    <tr>\n",
       "      <th>211594</th>\n",
       "      <td>211594</td>\n",
       "    </tr>\n",
       "    <tr>\n",
       "      <th>253119</th>\n",
       "      <td>253119</td>\n",
       "    </tr>\n",
       "    <tr>\n",
       "      <th>192578</th>\n",
       "      <td>192578</td>\n",
       "    </tr>\n",
       "    <tr>\n",
       "      <th>...</th>\n",
       "      <td>...</td>\n",
       "    </tr>\n",
       "    <tr>\n",
       "      <th>145307</th>\n",
       "      <td>415284</td>\n",
       "    </tr>\n",
       "    <tr>\n",
       "      <th>145308</th>\n",
       "      <td>415285</td>\n",
       "    </tr>\n",
       "    <tr>\n",
       "      <th>145309</th>\n",
       "      <td>415286</td>\n",
       "    </tr>\n",
       "    <tr>\n",
       "      <th>145312</th>\n",
       "      <td>415306</td>\n",
       "    </tr>\n",
       "    <tr>\n",
       "      <th>145315</th>\n",
       "      <td>415315</td>\n",
       "    </tr>\n",
       "  </tbody>\n",
       "</table>\n",
       "<p>144724 rows × 1 columns</p>\n",
       "</div>"
      ],
      "text/plain": [
       "        user_id\n",
       "221301   221301\n",
       "31271     31271\n",
       "211594   211594\n",
       "253119   253119\n",
       "192578   192578\n",
       "...         ...\n",
       "145307   415284\n",
       "145308   415285\n",
       "145309   415286\n",
       "145312   415306\n",
       "145315   415315\n",
       "\n",
       "[144724 rows x 1 columns]"
      ]
     },
     "execution_count": 6,
     "metadata": {},
     "output_type": "execute_result"
    }
   ],
   "source": [
    "id_to_submit = pq.read_table(f'{LOCAL_DATA_PATH}/{SUBMISSION_FILE}').to_pandas()\n",
    "id_to_submit"
   ]
  },
  {
   "cell_type": "code",
   "execution_count": 7,
   "id": "39bccb3f",
   "metadata": {},
   "outputs": [
    {
     "data": {
      "text/html": [
       "<div>\n",
       "<style scoped>\n",
       "    .dataframe tbody tr th:only-of-type {\n",
       "        vertical-align: middle;\n",
       "    }\n",
       "\n",
       "    .dataframe tbody tr th {\n",
       "        vertical-align: top;\n",
       "    }\n",
       "\n",
       "    .dataframe thead tr th {\n",
       "        text-align: left;\n",
       "    }\n",
       "</style>\n",
       "<table border=\"1\" class=\"dataframe\">\n",
       "  <thead>\n",
       "    <tr>\n",
       "      <th></th>\n",
       "      <th>field</th>\n",
       "      <th>type</th>\n",
       "    </tr>\n",
       "  </thead>\n",
       "  <tbody>\n",
       "    <tr>\n",
       "      <th>0</th>\n",
       "      <td>region_name</td>\n",
       "      <td>string</td>\n",
       "    </tr>\n",
       "    <tr>\n",
       "      <th>1</th>\n",
       "      <td>city_name</td>\n",
       "      <td>string</td>\n",
       "    </tr>\n",
       "    <tr>\n",
       "      <th>2</th>\n",
       "      <td>cpe_manufacturer_name</td>\n",
       "      <td>string</td>\n",
       "    </tr>\n",
       "    <tr>\n",
       "      <th>3</th>\n",
       "      <td>cpe_model_name</td>\n",
       "      <td>string</td>\n",
       "    </tr>\n",
       "    <tr>\n",
       "      <th>4</th>\n",
       "      <td>url_host</td>\n",
       "      <td>string</td>\n",
       "    </tr>\n",
       "    <tr>\n",
       "      <th>5</th>\n",
       "      <td>cpe_type_cd</td>\n",
       "      <td>string</td>\n",
       "    </tr>\n",
       "    <tr>\n",
       "      <th>6</th>\n",
       "      <td>cpe_model_os_type</td>\n",
       "      <td>string</td>\n",
       "    </tr>\n",
       "    <tr>\n",
       "      <th>7</th>\n",
       "      <td>price</td>\n",
       "      <td>double</td>\n",
       "    </tr>\n",
       "    <tr>\n",
       "      <th>8</th>\n",
       "      <td>date</td>\n",
       "      <td>date32[day]</td>\n",
       "    </tr>\n",
       "    <tr>\n",
       "      <th>9</th>\n",
       "      <td>part_of_day</td>\n",
       "      <td>string</td>\n",
       "    </tr>\n",
       "    <tr>\n",
       "      <th>10</th>\n",
       "      <td>request_cnt</td>\n",
       "      <td>int64</td>\n",
       "    </tr>\n",
       "    <tr>\n",
       "      <th>11</th>\n",
       "      <td>user_id</td>\n",
       "      <td>int64</td>\n",
       "    </tr>\n",
       "  </tbody>\n",
       "</table>\n",
       "</div>"
      ],
      "text/plain": [
       "                    field         type\n",
       "0             region_name       string\n",
       "1               city_name       string\n",
       "2   cpe_manufacturer_name       string\n",
       "3          cpe_model_name       string\n",
       "4                url_host       string\n",
       "5             cpe_type_cd       string\n",
       "6       cpe_model_os_type       string\n",
       "7                   price       double\n",
       "8                    date  date32[day]\n",
       "9             part_of_day       string\n",
       "10            request_cnt        int64\n",
       "11                user_id        int64"
      ]
     },
     "execution_count": 7,
     "metadata": {},
     "output_type": "execute_result"
    }
   ],
   "source": [
    "data = pq.read_table(f'{LOCAL_DATA_PATH}/{DATA_FILE}')\n",
    "pd.DataFrame([(z.name, z.type) for z in data.schema], columns = [['field', 'type']])"
   ]
  },
  {
   "cell_type": "code",
   "execution_count": 8,
   "id": "6c188b78",
   "metadata": {},
   "outputs": [
    {
     "data": {
      "text/html": [
       "<div>\n",
       "<style scoped>\n",
       "    .dataframe tbody tr th:only-of-type {\n",
       "        vertical-align: middle;\n",
       "    }\n",
       "\n",
       "    .dataframe tbody tr th {\n",
       "        vertical-align: top;\n",
       "    }\n",
       "\n",
       "    .dataframe thead tr th {\n",
       "        text-align: left;\n",
       "    }\n",
       "</style>\n",
       "<table border=\"1\" class=\"dataframe\">\n",
       "  <thead>\n",
       "    <tr>\n",
       "      <th></th>\n",
       "      <th>field</th>\n",
       "      <th>type</th>\n",
       "    </tr>\n",
       "  </thead>\n",
       "  <tbody>\n",
       "    <tr>\n",
       "      <th>0</th>\n",
       "      <td>age</td>\n",
       "      <td>double</td>\n",
       "    </tr>\n",
       "    <tr>\n",
       "      <th>1</th>\n",
       "      <td>is_male</td>\n",
       "      <td>string</td>\n",
       "    </tr>\n",
       "    <tr>\n",
       "      <th>2</th>\n",
       "      <td>user_id</td>\n",
       "      <td>int64</td>\n",
       "    </tr>\n",
       "    <tr>\n",
       "      <th>3</th>\n",
       "      <td>__index_level_0__</td>\n",
       "      <td>int64</td>\n",
       "    </tr>\n",
       "  </tbody>\n",
       "</table>\n",
       "</div>"
      ],
      "text/plain": [
       "               field    type\n",
       "0                age  double\n",
       "1            is_male  string\n",
       "2            user_id   int64\n",
       "3  __index_level_0__   int64"
      ]
     },
     "execution_count": 8,
     "metadata": {},
     "output_type": "execute_result"
    }
   ],
   "source": [
    "targets = pq.read_table(f'{LOCAL_DATA_PATH}/{TARGET_FILE}')\n",
    "pd.DataFrame([(z.name, z.type) for z in targets.schema], columns = [['field', 'type']])"
   ]
  },
  {
   "cell_type": "code",
   "execution_count": 9,
   "id": "7d23b37e",
   "metadata": {},
   "outputs": [],
   "source": [
    "OBJ_COLS = [\n",
    "            'region_name', \n",
    "            'city_name', \n",
    "            'cpe_manufacturer_name',\n",
    "            'cpe_model_name',\n",
    "            'url_host',\n",
    "            'cpe_type_cd',\n",
    "            'cpe_model_os_type', \n",
    "#             'price', \n",
    "#             'date',\n",
    "            'part_of_day', \n",
    "#             'request_cnt',\n",
    "#             'user_id'\n",
    "           ]\n",
    "\n",
    "DIGIT_COLS = [\n",
    "            'price', \n",
    "#             'date',\n",
    "            'request_cnt',\n",
    "#             'user_id'\n",
    "            ]"
   ]
  },
  {
   "cell_type": "code",
   "execution_count": 10,
   "id": "9d9762bb",
   "metadata": {},
   "outputs": [
    {
     "name": "stdout",
     "output_type": "stream",
     "text": [
      "199683 urls\n"
     ]
    }
   ],
   "source": [
    "url_set = set(data.select(['url_host']).to_pandas()['url_host'])\n",
    "print(f'{len(url_set)} urls')\n",
    "url_dict = {url: idurl for url, idurl in zip(url_set, range(len(url_set)))}"
   ]
  },
  {
   "cell_type": "code",
   "execution_count": 11,
   "id": "80eeb78c",
   "metadata": {},
   "outputs": [
    {
     "name": "stdout",
     "output_type": "stream",
     "text": [
      "415317 users\n"
     ]
    }
   ],
   "source": [
    "usr_set = set(data.select(['user_id']).to_pandas()['user_id'])\n",
    "print(f'{len(usr_set)} users')\n",
    "usr_dict = {usr: user_id for usr, user_id in zip(usr_set, range(len(usr_set)))}"
   ]
  },
  {
   "cell_type": "code",
   "execution_count": 17,
   "id": "dcc4d2b4",
   "metadata": {},
   "outputs": [
    {
     "ename": "KeyError",
     "evalue": "'Field \"request_cnt_sum\" does not exist in table schema'",
     "output_type": "error",
     "traceback": [
      "\u001b[1;31m---------------------------------------------------------------------------\u001b[0m",
      "\u001b[1;31mKeyError\u001b[0m                                  Traceback (most recent call last)",
      "Cell \u001b[1;32mIn[17], line 1\u001b[0m\n\u001b[1;32m----> 1\u001b[0m values \u001b[38;5;241m=\u001b[39m np\u001b[38;5;241m.\u001b[39marray(\u001b[43mdata\u001b[49m\u001b[38;5;241;43m.\u001b[39;49m\u001b[43mselect\u001b[49m\u001b[43m(\u001b[49m\u001b[43m[\u001b[49m\u001b[38;5;124;43m'\u001b[39;49m\u001b[38;5;124;43mrequest_cnt_sum\u001b[39;49m\u001b[38;5;124;43m'\u001b[39;49m\u001b[43m]\u001b[49m\u001b[43m)\u001b[49m\u001b[38;5;241m.\u001b[39mto_pandas()[\u001b[38;5;124m'\u001b[39m\u001b[38;5;124mrequest_cnt_sum\u001b[39m\u001b[38;5;124m'\u001b[39m])\n",
      "File \u001b[1;32mC:\\ProgramData\\Anaconda3\\lib\\site-packages\\pyarrow\\table.pxi:3040\u001b[0m, in \u001b[0;36mpyarrow.lib.Table.select\u001b[1;34m()\u001b[0m\n",
      "File \u001b[1;32mC:\\ProgramData\\Anaconda3\\lib\\site-packages\\pyarrow\\table.pxi:4008\u001b[0m, in \u001b[0;36mpyarrow.lib.Table._ensure_integer_index\u001b[1;34m()\u001b[0m\n",
      "\u001b[1;31mKeyError\u001b[0m: 'Field \"request_cnt_sum\" does not exist in table schema'"
     ]
    }
   ],
   "source": [
    "values = np.array(data.select(['request_cnt_sum']).to_pandas()['request_cnt_sum'])"
   ]
  },
  {
   "cell_type": "code",
   "execution_count": null,
   "id": "51965a4f",
   "metadata": {},
   "outputs": [],
   "source": [
    "data[:4].to_pandas()"
   ]
  },
  {
   "cell_type": "code",
   "execution_count": null,
   "id": "f74c54ab",
   "metadata": {},
   "outputs": [],
   "source": [
    "unique_obj_dict = {}\n",
    "for col in OBJ_COLS:\n",
    "    unique_obj_dict[col] = dict(zip(set(data.to_pandas()[col]), range(len(set(data.to_pandas()[col])))))"
   ]
  },
  {
   "cell_type": "code",
   "execution_count": null,
   "id": "7361fd5f",
   "metadata": {},
   "outputs": [],
   "source": [
    "unique_obj_dict = {}\n",
    "for col in OBJ_COLS:\n",
    "    unique_obj_dict[col] = set(data)\n",
    "    if col not in unique_obj_dict:\n",
    "        unique_obj_dict[col] = set(chunk[col])\n",
    "    else:\n",
    "        unique_obj_dict[col] = unique_obj_dict[col].union(set(chunk[col]))"
   ]
  },
  {
   "cell_type": "code",
   "execution_count": null,
   "id": "772508a2",
   "metadata": {},
   "outputs": [],
   "source": [
    "# %%script false\n",
    "### Сбор уникальных значений столбцов в словарь для преобразования датасета ###\n",
    "\n",
    "# Wall time: 8min 34s\n",
    "\n",
    "# %%time\n",
    "unique_obj_dict = {}\n",
    "i = 0\n",
    "for chunk in pd.read_parquet(f'{LOCAL_DATA_PATH}/{DATA_FILE}'):\n",
    "        i += 1\n",
    "        print(f'chunk_{i}')\n",
    "        for col in OBJ_COLS:\n",
    "            print(f'col_{col}')\n",
    "            if col not in unique_obj_dict:\n",
    "                unique_obj_dict[col] = set(chunk[col])\n",
    "            else:\n",
    "                unique_obj_dict[col] = unique_obj_dict[col].union(set(chunk[col]))"
   ]
  },
  {
   "cell_type": "code",
   "execution_count": null,
   "id": "7297f123",
   "metadata": {},
   "outputs": [],
   "source": []
  },
  {
   "cell_type": "code",
   "execution_count": null,
   "id": "9a4396d4",
   "metadata": {},
   "outputs": [],
   "source": [
    "data[:4].to_pandas()"
   ]
  },
  {
   "cell_type": "code",
   "execution_count": null,
   "id": "ba0c3cff",
   "metadata": {},
   "outputs": [],
   "source": []
  }
 ],
 "metadata": {
  "kernelspec": {
   "display_name": "Python 3 (ipykernel)",
   "language": "python",
   "name": "python3"
  },
  "language_info": {
   "codemirror_mode": {
    "name": "ipython",
    "version": 3
   },
   "file_extension": ".py",
   "mimetype": "text/x-python",
   "name": "python",
   "nbconvert_exporter": "python",
   "pygments_lexer": "ipython3",
   "version": "3.9.13"
  }
 },
 "nbformat": 4,
 "nbformat_minor": 5
}
